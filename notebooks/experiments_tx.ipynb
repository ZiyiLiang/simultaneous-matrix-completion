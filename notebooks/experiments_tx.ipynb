{
 "cells": [
  {
   "cell_type": "markdown",
   "id": "9b3ca348",
   "metadata": {},
   "source": [
    "# Some Synthetic Experiments\n",
    "This notebook implement the uncertainty quantification method from the paper \"Inference and uncertainty quantification for noisy matrix completion\" https://arxiv.org/abs/2107.12365\n"
   ]
  },
  {
   "cell_type": "code",
   "execution_count": 1,
   "id": "9543aaaa",
   "metadata": {},
   "outputs": [],
   "source": [
    "%matplotlib inline\n",
    "%load_ext autoreload\n",
    "%autoreload 2\n",
    "\n",
    "import sys, os\n",
    "sys.path.append('../cmc')"
   ]
  },
  {
   "cell_type": "code",
   "execution_count": 2,
   "id": "79eb5372",
   "metadata": {},
   "outputs": [],
   "source": [
    "import numpy as np   \n",
    "import pandas as pd\n",
    "import pdb\n",
    "import matplotlib.pyplot as plt\n",
    "import seaborn as sns\n",
    "from tqdm import tqdm\n",
    "\n",
    "import logging"
   ]
  },
  {
   "cell_type": "markdown",
   "id": "f15b14e5",
   "metadata": {},
   "source": [
    "#### The functions created for our project"
   ]
  },
  {
   "cell_type": "code",
   "execution_count": 3,
   "id": "afb9e4f1",
   "metadata": {},
   "outputs": [],
   "source": [
    "from utils import *     # contains some useful helper functions \n",
    "from models import *    # toy models\n",
    "from solvers import *   # matrix completion solvers\n",
    "from inference_function import *   # constructing the confidence intervals using the algorithm from the paper\n",
    "from conformalize_chen import *"
   ]
  },
  {
   "cell_type": "markdown",
   "id": "d469f2ca",
   "metadata": {},
   "source": [
    "## Data generation in original paper"
   ]
  },
  {
   "cell_type": "code",
   "execution_count": 4,
   "id": "cabe7d38",
   "metadata": {},
   "outputs": [],
   "source": [
    "# Data generating functions\n",
    "def generate_fixed_matrix(n1, n2, r, kappa=1):\n",
    "    U_truth = orth(np.random.randn(n1, r))\n",
    "    V_truth = orth(np.random.randn(n2, r))\n",
    "    S_truth = np.diag(np.linspace(1, kappa, r))\n",
    "    M = U_truth @ S_truth @ V_truth.T\n",
    "    M = M / np.std(M)\n",
    "    return M\n",
    "\n",
    "def generate_noise(n1, n2, sigma, df=\"inf\"):\n",
    "    if df==\"inf\":\n",
    "        E = np.random.normal(0, sigma, (n1, n2))\n",
    "    else:\n",
    "        E = sigma * np.random.standard_t(df, (n1, n2))\n",
    "    return E\n",
    "\n",
    "# Data generation\n",
    "n1 = 100\n",
    "n2 = 100\n",
    "r = 5\n",
    "p = 0.4\n",
    "sigma = 1\n",
    "kappa = 1\n",
    "np.random.seed(1)\n",
    "\n",
    "\n",
    "\n",
    "M = generate_fixed_matrix(n1, n2, r, kappa=kappa)  # M is rescaled with std(M)=1\n",
    "E = generate_noise(n1, n2, sigma)\n",
    "\n",
    "A = (np.random.rand(n1, n2) < p).astype(int)\n",
    "M_obs = (M + E) * A"
   ]
  },
  {
   "cell_type": "markdown",
   "id": "dac1aca0",
   "metadata": {},
   "source": [
    "## Run the confidence interval constructed by the inference paper (Chen et al.)"
   ]
  },
  {
   "cell_type": "code",
   "execution_count": 5,
   "id": "760fe699",
   "metadata": {},
   "outputs": [],
   "source": [
    "alpha = 0.1"
   ]
  },
  {
   "cell_type": "markdown",
   "id": "ffd11371",
   "metadata": {},
   "source": [
    "### Nonconvex method"
   ]
  },
  {
   "cell_type": "code",
   "execution_count": 6,
   "id": "b94be8f3",
   "metadata": {
    "scrolled": true
   },
   "outputs": [
    {
     "name": "stdout",
     "output_type": "stream",
     "text": [
      "0.834\n",
      "Average CI Length: 1.6821981694125852\n"
     ]
    }
   ],
   "source": [
    "CI_left, CI_right = CI_method(M_obs, A, r, alpha, method='ncvx')\n",
    "\n",
    "# check\n",
    "inside_CI = (M < CI_right) & (M > CI_left)\n",
    "print(np.mean(inside_CI))  # if around (1-alpha), then good\n",
    "\n",
    "#compute CI length\n",
    "CI_length = CI_right - CI_left\n",
    "print(\"Average CI Length:\", CI_length.mean())"
   ]
  },
  {
   "cell_type": "markdown",
   "id": "4fe1b8e2",
   "metadata": {},
   "source": [
    "### Convex Method"
   ]
  },
  {
   "cell_type": "code",
   "execution_count": 7,
   "id": "ae3d1cd4",
   "metadata": {},
   "outputs": [
    {
     "name": "stdout",
     "output_type": "stream",
     "text": [
      "0.8305\n",
      "Average CI Length: 1.680930255017741\n"
     ]
    }
   ],
   "source": [
    "CI_left, CI_right = CI_method(M_obs, A, r, alpha, method='cvx')\n",
    "\n",
    "# check\n",
    "inside_CI = (M < CI_right) & (M > CI_left)\n",
    "print(np.mean(inside_CI))  # if around (1-alpha), then good\n",
    "\n",
    "#compute CI length\n",
    "CI_length = CI_right - CI_left\n",
    "print(\"Average CI Length:\", CI_length.mean())"
   ]
  },
  {
   "cell_type": "markdown",
   "id": "4fe39a8a",
   "metadata": {},
   "source": [
    "# Plot the average coverage"
   ]
  },
  {
   "cell_type": "markdown",
   "id": "f6b23b33",
   "metadata": {},
   "source": [
    "## Experiment with fixed ground matrix and resampled masks\n",
    "The ground truth noisy matrix is kept same for all repetition and the mask matrix is resampled at each iteration."
   ]
  },
  {
   "cell_type": "markdown",
   "id": "b584efa0",
   "metadata": {},
   "source": [
    "### Nonconvex method"
   ]
  },
  {
   "cell_type": "code",
   "execution_count": 8,
   "id": "e7dfaad5",
   "metadata": {},
   "outputs": [],
   "source": [
    "# Data generation\n",
    "n1 = 100\n",
    "n2 = 100\n",
    "r = 5\n",
    "p = 0.4 #proportion of observed\n",
    "sigma = 1  # noise level can be changed (orignally 1e-3)\n",
    "kappa = 1\n",
    "np.random.seed(1)\n",
    "\n",
    "M = generate_fixed_matrix(n1, n2, r, kappa=kappa)\n",
    "E = generate_noise(n1, n2, sigma)\n",
    "M_true = M + E"
   ]
  },
  {
   "cell_type": "code",
   "execution_count": 9,
   "id": "c90153d4",
   "metadata": {},
   "outputs": [
    {
     "name": "stderr",
     "output_type": "stream",
     "text": [
      "100%|██████████| 10/10 [00:00<00:00, 17.49it/s]\n"
     ]
    }
   ],
   "source": [
    "repetition = 10\n",
    "alpha = 0.1\n",
    "random_state = 1\n",
    "\n",
    "results = []\n",
    "\n",
    "for i in tqdm(range(repetition)):\n",
    "    mask = (np.random.rand(n1, n2) < p).astype(int)\n",
    "    CI_left, CI_right = run_single_experiment_paper(matrix_noisy_unmasked = M_true, mask=mask, r=r, alpha=alpha, \n",
    "                                                    method='ncvx')\n",
    "    inside_CI = (M < CI_right) & (M > CI_left)\n",
    "    result_coverage = np.mean(inside_CI)\n",
    "    \n",
    "    CI_length = CI_right - CI_left\n",
    "    result_length = CI_length.mean()\n",
    "    \n",
    "    results.append({\"Coverage\": result_coverage, \"Size\": result_length})\n",
    "    \n",
    "results_df = pd.DataFrame(results)"
   ]
  },
  {
   "cell_type": "markdown",
   "id": "e86f89b1",
   "metadata": {},
   "source": [
    "#### Plot the average coverage and the length of confidence intervals"
   ]
  },
  {
   "cell_type": "code",
   "execution_count": 10,
   "id": "7b1fc24d",
   "metadata": {},
   "outputs": [
    {
     "data": {
      "image/png": "[encoded data removed]",
      "text/plain": [
       "<Figure size 1000x400 with 2 Axes>"
      ]
     },
     "metadata": {},
     "output_type": "display_data"
    }
   ],
   "source": [
    "fig, (ax1, ax2) = plt.subplots(1, 2, figsize=(10, 4))\n",
    "sns.boxplot(y=\"Coverage\", data=results_df, ax=ax1)\n",
    "ax1.set(ylabel='Coverage')\n",
    "ax1.axhline(1 - alpha, ls='--', color=\"red\")\n",
    "\n",
    "sns.boxplot(y=\"Size\", data=results_df, ax=ax2)\n",
    "ax2.set(ylabel='Size')\n",
    "plt.show()"
   ]
  },
  {
   "cell_type": "markdown",
   "id": "4288871f",
   "metadata": {},
   "source": [
    "## Experiments with everything resampled every iteration"
   ]
  },
  {
   "cell_type": "markdown",
   "id": "0bb4975d",
   "metadata": {},
   "source": [
    "### Use a different rank for matrix completion (nonconvex)"
   ]
  },
  {
   "cell_type": "code",
   "execution_count": 11,
   "id": "5a176d3b",
   "metadata": {},
   "outputs": [],
   "source": [
    "# Data generation\n",
    "n1 = 100\n",
    "n2 = 100\n",
    "r_true = 5\n",
    "r_guess = 4\n",
    "p = 0.4 #proportion of observed\n",
    "sigma = 0.001\n",
    "kappa = 1"
   ]
  },
  {
   "cell_type": "code",
   "execution_count": 12,
   "id": "c713aa39",
   "metadata": {},
   "outputs": [
    {
     "name": "stderr",
     "output_type": "stream",
     "text": [
      "100%|██████████| 100/100 [00:07<00:00, 13.13it/s]\n"
     ]
    }
   ],
   "source": [
    "#nonconvex method\n",
    "repetition = 100\n",
    "alpha = 0.1\n",
    "random_state = 42\n",
    "\n",
    "results = []\n",
    "\n",
    "for i in tqdm(range(repetition)):\n",
    "    #regenerate the underlying matrix\n",
    "    M = generate_fixed_matrix(n1, n2, r_true, kappa=kappa)\n",
    "    #regenerate the noise matrix\n",
    "    E = generate_noise(n1, n2, sigma)\n",
    "    # regenerate mask\n",
    "    A = (np.random.rand(n1, n2) < p).astype(int)\n",
    "    \n",
    "    M_true = M + E\n",
    "    \n",
    "    # run the inference algorithm\n",
    "    CI_left, CI_right = run_single_experiment_paper(matrix_noisy_unmasked = M_true, mask=A, r=r_guess, alpha=alpha, method='ncvx')\n",
    "    inside_CI = (M < CI_right) & (M > CI_left)\n",
    "    result_coverage = np.mean(inside_CI)\n",
    "    \n",
    "    CI_length = CI_right - CI_left\n",
    "    result_length = CI_length.mean()\n",
    "    \n",
    "    results.append({\"Coverage\": result_coverage, \"Size\": result_length})\n",
    "    \n",
    "results_df = pd.DataFrame(results)"
   ]
  },
  {
   "cell_type": "code",
   "execution_count": 13,
   "id": "208828e8",
   "metadata": {},
   "outputs": [
    {
     "name": "stderr",
     "output_type": "stream",
     "text": [
      "100%|██████████| 100/100 [00:32<00:00,  3.11it/s]\n"
     ]
    }
   ],
   "source": [
    "# Convex method\n",
    "results = []\n",
    "\n",
    "for i in tqdm(range(repetition)):\n",
    "    #regenerate the underlying matrix\n",
    "    M = generate_fixed_matrix(n1, n2, r_true, kappa=kappa)\n",
    "    #regenerate the noise matrix\n",
    "    E = generate_noise(n1, n2, sigma)\n",
    "    # regenerate mask\n",
    "    A = (np.random.rand(n1, n2) < p).astype(int)\n",
    "    \n",
    "    M_true = M + E\n",
    "    \n",
    "    # run the inference algorithm\n",
    "    CI_left, CI_right = run_single_experiment_paper(matrix_noisy_unmasked = M_true, mask=A, r=r_guess, alpha=alpha, method='cvx')\n",
    "    inside_CI = (M < CI_right) & (M > CI_left)\n",
    "    result_coverage = np.mean(inside_CI)\n",
    "    \n",
    "    CI_length = CI_right - CI_left\n",
    "    result_length = CI_length.mean()\n",
    "    \n",
    "    results.append({\"Coverage\": result_coverage, \"Size\": result_length})\n",
    "    \n",
    "results_df_cvx = pd.DataFrame(results)"
   ]
  },
  {
   "cell_type": "code",
   "execution_count": 14,
   "id": "70c8c8a8",
   "metadata": {},
   "outputs": [
    {
     "name": "stdout",
     "output_type": "stream",
     "text": [
      "Nonconvex\n"
     ]
    },
    {
     "data": {
      "image/png": "[encoded data removed]",
      "text/plain": [
       "<Figure size 1000x400 with 2 Axes>"
      ]
     },
     "metadata": {},
     "output_type": "display_data"
    },
    {
     "name": "stdout",
     "output_type": "stream",
     "text": [
      "\n",
      "======================================================================\n",
      "\n",
      "Convex\n"
     ]
    },
    {
     "data": {
      "image/png": "[encoded data removed]",
      "text/plain": [
       "<Figure size 1000x400 with 2 Axes>"
      ]
     },
     "metadata": {},
     "output_type": "display_data"
    }
   ],
   "source": [
    "print('Nonconvex')\n",
    "fig, (ax1, ax2) = plt.subplots(1, 2, figsize=(10, 4))\n",
    "sns.boxplot(y=\"Coverage\", data=results_df, ax=ax1)\n",
    "ax1.set(ylabel='Coverage')\n",
    "ax1.axhline(1 - alpha, ls='--', color=\"red\")\n",
    "\n",
    "sns.boxplot(y=\"Size\", data=results_df, ax=ax2)\n",
    "ax2.set(ylabel='Size')\n",
    "plt.show()\n",
    "\n",
    "print('\\n'+'='*70+'\\n')\n",
    "print('Convex')\n",
    "fig, (ax1, ax2) = plt.subplots(1, 2, figsize=(10, 4))\n",
    "sns.boxplot(y=\"Coverage\", data=results_df_cvx, ax=ax1)\n",
    "ax1.set(ylabel='Coverage')\n",
    "ax1.axhline(1 - alpha, ls='--', color=\"red\")\n",
    "\n",
    "sns.boxplot(y=\"Size\", data=results_df_cvx, ax=ax2)\n",
    "ax2.set(ylabel='Size')\n",
    "plt.show()"
   ]
  },
  {
   "cell_type": "markdown",
   "id": "4d10fe93",
   "metadata": {},
   "source": [
    "# Experiments with varying matrix sizes"
   ]
  },
  {
   "cell_type": "code",
   "execution_count": 15,
   "id": "7db92354",
   "metadata": {},
   "outputs": [
    {
     "name": "stderr",
     "output_type": "stream",
     "text": [
      "100%|██████████| 10/10 [00:01<00:00,  6.06it/s]\n"
     ]
    }
   ],
   "source": [
    "# Fixed parameters\n",
    "r_true = 5\n",
    "r_guess = 5\n",
    "p = 0.5        #proportion of observed\n",
    "sigma = 1\n",
    "kappa = 1\n",
    "alpha = 0.1\n",
    "\n",
    "# Varying parameters\n",
    "n_list = [100,200,300]\n",
    "\n",
    "def run_experiment(n, seed, method = 'ncvx'):\n",
    "    # default method is nonconvex\n",
    "    # Parameters for this experiment\n",
    "    n1 = n\n",
    "    n2 = n\n",
    "    \n",
    "    #regenerate the underlying matrix\n",
    "    M = generate_fixed_matrix(n1, n2, r_true, kappa=kappa)\n",
    "    #regenerate the noise matrix\n",
    "    E = generate_noise(n1, n2, sigma)\n",
    "    M_true = M + E\n",
    "\n",
    "    # regenerate mask\n",
    "    A = (np.random.rand(n1, n2) < p).astype(int)    \n",
    "    \n",
    "    # run the inference algorithm\n",
    "    CI_left, CI_right = run_single_experiment_paper(matrix_noisy_unmasked = M_true, mask=A, r=r_guess, alpha=alpha, \n",
    "                                                    method=method)\n",
    "    inside_CI = (M < CI_right) & (M > CI_left)\n",
    "    result_coverage = np.mean(inside_CI)\n",
    "    \n",
    "    CI_length = CI_right - CI_left\n",
    "    result_length = CI_length.mean()\n",
    "    \n",
    "    res = pd.DataFrame({\"n\":[n], \"Seed\":[seed], \"Coverage\": [result_coverage], \"Size\": [result_length]})\n",
    "    return res\n",
    "\n",
    "repetition = 10\n",
    "results = pd.DataFrame({})\n",
    "for seed in tqdm(range(repetition)):\n",
    "    for n in n_list:\n",
    "        res_new = run_experiment(n, seed, method = 'cvx')\n",
    "        results = pd.concat([results, res_new])"
   ]
  },
  {
   "cell_type": "code",
   "execution_count": 16,
   "id": "acea4dd9",
   "metadata": {},
   "outputs": [
    {
     "data": {
      "text/html": [
       "<div>\n",
       "<style scoped>\n",
       "    .dataframe tbody tr th:only-of-type {\n",
       "        vertical-align: middle;\n",
       "    }\n",
       "\n",
       "    .dataframe tbody tr th {\n",
       "        vertical-align: top;\n",
       "    }\n",
       "\n",
       "    .dataframe thead tr th {\n",
       "        text-align: left;\n",
       "    }\n",
       "</style>\n",
       "<table border=\"1\" class=\"dataframe\">\n",
       "  <thead>\n",
       "    <tr>\n",
       "      <th></th>\n",
       "      <th>n</th>\n",
       "      <th>Seed</th>\n",
       "      <th colspan=\"2\" halign=\"left\">Coverage</th>\n",
       "      <th colspan=\"2\" halign=\"left\">Size</th>\n",
       "    </tr>\n",
       "    <tr>\n",
       "      <th></th>\n",
       "      <th></th>\n",
       "      <th>count</th>\n",
       "      <th>mean</th>\n",
       "      <th>std</th>\n",
       "      <th>mean</th>\n",
       "      <th>std</th>\n",
       "    </tr>\n",
       "  </thead>\n",
       "  <tbody>\n",
       "    <tr>\n",
       "      <th>0</th>\n",
       "      <td>100</td>\n",
       "      <td>10</td>\n",
       "      <td>0.848060</td>\n",
       "      <td>0.009652</td>\n",
       "      <td>1.442049</td>\n",
       "      <td>0.022408</td>\n",
       "    </tr>\n",
       "    <tr>\n",
       "      <th>1</th>\n",
       "      <td>200</td>\n",
       "      <td>10</td>\n",
       "      <td>0.867465</td>\n",
       "      <td>0.004357</td>\n",
       "      <td>1.003189</td>\n",
       "      <td>0.005365</td>\n",
       "    </tr>\n",
       "    <tr>\n",
       "      <th>2</th>\n",
       "      <td>300</td>\n",
       "      <td>10</td>\n",
       "      <td>0.877639</td>\n",
       "      <td>0.005707</td>\n",
       "      <td>0.823680</td>\n",
       "      <td>0.001902</td>\n",
       "    </tr>\n",
       "  </tbody>\n",
       "</table>\n",
       "</div>"
      ],
      "text/plain": [
       "     n  Seed  Coverage                Size          \n",
       "       count      mean       std      mean       std\n",
       "0  100    10  0.848060  0.009652  1.442049  0.022408\n",
       "1  200    10  0.867465  0.004357  1.003189  0.005365\n",
       "2  300    10  0.877639  0.005707  0.823680  0.001902"
      ]
     },
     "execution_count": 16,
     "metadata": {},
     "output_type": "execute_result"
    }
   ],
   "source": [
    "summary = results.groupby(['n']).agg({'Seed':['count'],'Coverage':[np.mean,np.std], 'Size':[np.mean,np.std]}).reset_index()\n",
    "summary"
   ]
  },
  {
   "cell_type": "code",
   "execution_count": 17,
   "id": "2850ba8a",
   "metadata": {},
   "outputs": [
    {
     "data": {
      "image/png": "[encoded data removed]",
      "text/plain": [
       "<Figure size 1000x300 with 2 Axes>"
      ]
     },
     "metadata": {},
     "output_type": "display_data"
    }
   ],
   "source": [
    "plt.rcParams[\"figure.figsize\"] = (10,3)\n",
    "\n",
    "plt.subplot(1, 2, 1)\n",
    "plt.scatter(summary[\"n\"], summary[\"Coverage\"][\"mean\"])\n",
    "plt.errorbar(summary[\"n\"], summary[\"Coverage\"][\"mean\"], 2*summary[\"Coverage\"][\"std\"]/np.sqrt(summary[\"Seed\"][\"count\"]))\n",
    "plt.axhline(y=1-alpha, color='r', linestyle='--')\n",
    "plt.xlabel(\"Matrix size\")\n",
    "plt.ylabel(\"Coverage\")\n",
    "\n",
    "plt.subplot(1, 2, 2)\n",
    "plt.scatter(summary[\"n\"], summary[\"Size\"][\"mean\"])\n",
    "plt.errorbar(summary[\"n\"], summary[\"Size\"][\"mean\"], 2*summary[\"Size\"][\"std\"]/np.sqrt(summary[\"Seed\"][\"count\"]))\n",
    "plt.xlabel(\"Matrix size\")\n",
    "plt.ylabel(\"Width\")\n",
    "\n",
    "plt.show()"
   ]
  },
  {
   "cell_type": "markdown",
   "id": "69bdd207",
   "metadata": {},
   "source": [
    "# Experiments with non-Gaussian noise (heavy tail)"
   ]
  },
  {
   "cell_type": "code",
   "execution_count": 18,
   "id": "b23e611b",
   "metadata": {},
   "outputs": [
    {
     "name": "stderr",
     "output_type": "stream",
     "text": [
      "100%|██████████| 100/100 [00:47<00:00,  2.08it/s]\n"
     ]
    }
   ],
   "source": [
    "# Fixed parameters\n",
    "r_true = 5\n",
    "r_guess = 5\n",
    "p = 0.5        #proportion of observed\n",
    "sigma = 1\n",
    "kappa = 1\n",
    "alpha = 0.1\n",
    "\n",
    "# Varying parameters\n",
    "n_list = [100]\n",
    "df_list = [2,3,4,5,10]\n",
    "\n",
    "def run_experiment(n, df, seed, method = 'ncvx'):\n",
    "    # Parameters for this experiment\n",
    "    n1 = n\n",
    "    n2 = n\n",
    "    \n",
    "    #regenerate the underlying matrix\n",
    "    M = generate_fixed_matrix(n1, n2, r_true, kappa=kappa)\n",
    "    #regenerate the noise matrix\n",
    "    E = generate_noise(n1, n2, sigma, df=df)\n",
    "    M_true = M + E\n",
    "\n",
    "    # regenerate mask\n",
    "    A = (np.random.rand(n1, n2) < p).astype(int)    \n",
    "    \n",
    "    # run the inference algorithm\n",
    "    CI_left, CI_right = run_single_experiment_paper(matrix_noisy_unmasked = M_true, mask=A, r=r_guess, alpha=alpha, \n",
    "                                                    method = method)\n",
    "    inside_CI = (M < CI_right) & (M > CI_left)\n",
    "    result_coverage = np.mean(inside_CI)\n",
    "    \n",
    "    CI_length = CI_right - CI_left\n",
    "    result_length = CI_length.mean()\n",
    "    \n",
    "    res = pd.DataFrame({\"n\":[n], \"df\":[df], \"Seed\":[seed], \"Coverage\": [result_coverage], \"Size\": [result_length]})\n",
    "    return res\n",
    "\n",
    "repetition = 100\n",
    "results = pd.DataFrame({})\n",
    "for seed in tqdm(range(repetition)):\n",
    "    for n in n_list:\n",
    "        for df in df_list:\n",
    "            res_new = run_experiment(n, df, seed, method = 'cvx')\n",
    "            results = pd.concat([results, res_new])"
   ]
  },
  {
   "cell_type": "code",
   "execution_count": 19,
   "id": "74e8c424",
   "metadata": {},
   "outputs": [
    {
     "data": {
      "text/html": [
       "<div>\n",
       "<style scoped>\n",
       "    .dataframe tbody tr th:only-of-type {\n",
       "        vertical-align: middle;\n",
       "    }\n",
       "\n",
       "    .dataframe tbody tr th {\n",
       "        vertical-align: top;\n",
       "    }\n",
       "\n",
       "    .dataframe thead tr th {\n",
       "        text-align: left;\n",
       "    }\n",
       "</style>\n",
       "<table border=\"1\" class=\"dataframe\">\n",
       "  <thead>\n",
       "    <tr>\n",
       "      <th></th>\n",
       "      <th>n</th>\n",
       "      <th>df</th>\n",
       "      <th>Seed</th>\n",
       "      <th colspan=\"2\" halign=\"left\">Coverage</th>\n",
       "      <th colspan=\"2\" halign=\"left\">Size</th>\n",
       "    </tr>\n",
       "    <tr>\n",
       "      <th></th>\n",
       "      <th></th>\n",
       "      <th></th>\n",
       "      <th>count</th>\n",
       "      <th>mean</th>\n",
       "      <th>std</th>\n",
       "      <th>mean</th>\n",
       "      <th>std</th>\n",
       "    </tr>\n",
       "  </thead>\n",
       "  <tbody>\n",
       "    <tr>\n",
       "      <th>0</th>\n",
       "      <td>100</td>\n",
       "      <td>2</td>\n",
       "      <td>100</td>\n",
       "      <td>0.699165</td>\n",
       "      <td>0.078828</td>\n",
       "      <td>3.893615</td>\n",
       "      <td>2.398838</td>\n",
       "    </tr>\n",
       "    <tr>\n",
       "      <th>1</th>\n",
       "      <td>100</td>\n",
       "      <td>3</td>\n",
       "      <td>100</td>\n",
       "      <td>0.781854</td>\n",
       "      <td>0.033883</td>\n",
       "      <td>2.319869</td>\n",
       "      <td>0.140055</td>\n",
       "    </tr>\n",
       "    <tr>\n",
       "      <th>2</th>\n",
       "      <td>100</td>\n",
       "      <td>4</td>\n",
       "      <td>100</td>\n",
       "      <td>0.812844</td>\n",
       "      <td>0.012544</td>\n",
       "      <td>1.949884</td>\n",
       "      <td>0.089043</td>\n",
       "    </tr>\n",
       "    <tr>\n",
       "      <th>3</th>\n",
       "      <td>100</td>\n",
       "      <td>5</td>\n",
       "      <td>100</td>\n",
       "      <td>0.821602</td>\n",
       "      <td>0.013016</td>\n",
       "      <td>1.782323</td>\n",
       "      <td>0.040008</td>\n",
       "    </tr>\n",
       "    <tr>\n",
       "      <th>4</th>\n",
       "      <td>100</td>\n",
       "      <td>10</td>\n",
       "      <td>100</td>\n",
       "      <td>0.835917</td>\n",
       "      <td>0.010110</td>\n",
       "      <td>1.575884</td>\n",
       "      <td>0.020125</td>\n",
       "    </tr>\n",
       "  </tbody>\n",
       "</table>\n",
       "</div>"
      ],
      "text/plain": [
       "     n  df  Seed  Coverage                Size          \n",
       "           count      mean       std      mean       std\n",
       "0  100   2   100  0.699165  0.078828  3.893615  2.398838\n",
       "1  100   3   100  0.781854  0.033883  2.319869  0.140055\n",
       "2  100   4   100  0.812844  0.012544  1.949884  0.089043\n",
       "3  100   5   100  0.821602  0.013016  1.782323  0.040008\n",
       "4  100  10   100  0.835917  0.010110  1.575884  0.020125"
      ]
     },
     "execution_count": 19,
     "metadata": {},
     "output_type": "execute_result"
    }
   ],
   "source": [
    "summary = results.groupby(['n','df']).agg({'Seed':['count'],'Coverage':[np.mean,np.std], 'Size':[np.mean,np.std]}).reset_index()\n",
    "summary"
   ]
  },
  {
   "cell_type": "code",
   "execution_count": 20,
   "id": "b3de6bf6",
   "metadata": {},
   "outputs": [
    {
     "data": {
      "image/png": "[encoded data removed]",
      "text/plain": [
       "<Figure size 1000x300 with 2 Axes>"
      ]
     },
     "metadata": {},
     "output_type": "display_data"
    }
   ],
   "source": [
    "summary = summary[summary['n'] == 100] \n",
    "\n",
    "plt.rcParams[\"figure.figsize\"] = (10,3)\n",
    "\n",
    "plt.subplot(1, 2, 1)\n",
    "plt.scatter(summary[\"df\"], summary[\"Coverage\"][\"mean\"])\n",
    "plt.errorbar(summary[\"df\"], summary[\"Coverage\"][\"mean\"], 2*summary[\"Coverage\"][\"std\"]/np.sqrt(summary[\"Seed\"][\"count\"]))\n",
    "plt.axhline(y=1-alpha, color='r', linestyle='--')\n",
    "plt.xlabel(\"Degrees of freedom\")\n",
    "plt.ylabel(\"Coverage\")\n",
    "\n",
    "plt.subplot(1, 2, 2)\n",
    "plt.scatter(summary[\"df\"], summary[\"Size\"][\"mean\"])\n",
    "plt.errorbar(summary[\"df\"], summary[\"Size\"][\"mean\"], 2*summary[\"Size\"][\"std\"]/np.sqrt(summary[\"Seed\"][\"count\"]))\n",
    "plt.xlabel(\"Degrees of freedom\")\n",
    "plt.ylabel(\"Width\")\n",
    "\n",
    "plt.show()"
   ]
  },
  {
   "cell_type": "markdown",
   "id": "b8fe017d",
   "metadata": {},
   "source": [
    "## Implementing with our data generating functions"
   ]
  },
  {
   "cell_type": "code",
   "execution_count": 21,
   "id": "124a47b9",
   "metadata": {
    "scrolled": true
   },
   "outputs": [
    {
     "name": "stdout",
     "output_type": "stream",
     "text": [
      "Sampling from the noisy random orthogonal model... \n",
      "\n"
     ]
    },
    {
     "data": {
      "image/png": "[encoded data removed]",
      "text/plain": [
       "<Figure size 1200x500 with 4 Axes>"
      ]
     },
     "metadata": {},
     "output_type": "display_data"
    }
   ],
   "source": [
    "# Define experiment parameters\n",
    "m, n, r = 100,100, 5\n",
    "prob_obs = 0.5\n",
    "random_state = 1\n",
    "sigma = 1  #noise level\n",
    "\n",
    "# Generate missing samples\n",
    "sampler = RandomSampling(m, n)\n",
    "mask = sampler.sample_observed(prop = prob_obs, fix_size = False, random_state=random_state)\n",
    "\n",
    "# print('Sampling from the noiseless random factorization model... \\n')\n",
    "# RFM = RandomFactorizationModel(m ,n, r)\n",
    "# _, _ ,M_rfm = RFM.sample_noiseless(random_state)\n",
    "\n",
    "# masked_M_rfm = mask * M_rfm\n",
    "# vmin, vmax = np.min(M_rfm), np.max(M_rfm)\n",
    "# plot_before_after_mask(M_rfm, mask, vmin, vmax)\n",
    "\n",
    "# print('\\n'+'='*70+'\\n')\n",
    "\n",
    "# print('Sampling from the noiseless random orthogonal model... \\n')\n",
    "# ROM = RandomOrthogonalModel(m ,n, r)\n",
    "# _,_,M_rom = ROM.sample_noiseless(random_state)\n",
    "\n",
    "# masked_M_rom = mask * M_rom\n",
    "# vmin, vmax = np.min(M_rom), np.max(M_rom)\n",
    "# plot_before_after_mask(M_rom, mask, vmin, vmax)\n",
    "\n",
    "# print('\\n'+'='*70+'\\n')\n",
    "\n",
    "print('Sampling from the noisy random orthogonal model... \\n')\n",
    "ROM = RandomOrthogonalModel(m ,n, r)\n",
    "_,_,_,M, M_rom_noisy = ROM.sample_noisy(random_state= random_state, sigma=sigma)\n",
    "\n",
    "masked_M_rom = mask * M_rom_noisy\n",
    "vmin, vmax = np.min(M_rom_noisy), np.max(M_rom_noisy)\n",
    "plot_before_after_mask(M_rom_noisy, mask, vmin, vmax)"
   ]
  },
  {
   "cell_type": "code",
   "execution_count": 22,
   "id": "d381e319",
   "metadata": {},
   "outputs": [
    {
     "name": "stdout",
     "output_type": "stream",
     "text": [
      "0.9452\n",
      "Average CI Length: 1.9704269742409106\n"
     ]
    }
   ],
   "source": [
    "alpha = 0.1\n",
    "\n",
    "# The data generating function goes back to the top\n",
    "CI_left, CI_right = CI_method(M_obs = masked_M_rom, A = mask, r = r, alpha = alpha, method = 'ncvx')\n",
    "\n",
    "# check\n",
    "inside_CI = (M < CI_right) & (M > CI_left)\n",
    "print(np.mean(inside_CI))  # if around (1-alpha), then good\n",
    "\n",
    "#compute CI length\n",
    "CI_length = CI_right - CI_left\n",
    "print(\"Average CI Length:\", CI_length.mean())"
   ]
  },
  {
   "cell_type": "code",
   "execution_count": 23,
   "id": "9e67243a",
   "metadata": {},
   "outputs": [
    {
     "name": "stderr",
     "output_type": "stream",
     "text": [
      "100%|██████████| 10/10 [00:00<00:00, 19.41it/s]\n"
     ]
    }
   ],
   "source": [
    "#NOTICE that here M is the matrix without noise\n",
    "\n",
    "repetition = 10\n",
    "alpha = 0.1\n",
    "random_state = 1\n",
    "\n",
    "results = []\n",
    "\n",
    "for i in tqdm(range(repetition)):\n",
    "    mask = (np.random.rand(n1, n2) < p).astype(int)\n",
    "    CI_left, CI_right = run_single_experiment_paper(matrix_noisy_unmasked = M_rom_noisy, mask=mask, r=r, alpha=alpha, \n",
    "                                                    method='cvx')\n",
    "    inside_CI = (M < CI_right) & (M > CI_left)\n",
    "    result_coverage = np.mean(inside_CI)\n",
    "    \n",
    "    CI_length = CI_right - CI_left\n",
    "    result_length = CI_length.mean()\n",
    "    \n",
    "    results.append({\"Coverage\": result_coverage, \"Size\": result_length})\n",
    "    \n",
    "results_df = pd.DataFrame(results)"
   ]
  },
  {
   "cell_type": "code",
   "execution_count": 24,
   "id": "8db62e2d",
   "metadata": {},
   "outputs": [
    {
     "data": {
      "image/png": "[encoded data removed]",
      "text/plain": [
       "<Figure size 1000x400 with 2 Axes>"
      ]
     },
     "metadata": {},
     "output_type": "display_data"
    }
   ],
   "source": [
    "fig, (ax1, ax2) = plt.subplots(1, 2, figsize=(10, 4))\n",
    "sns.boxplot(y=\"Coverage\", data=results_df, ax=ax1)\n",
    "ax1.set(ylabel='Coverage')\n",
    "ax1.axhline(1 - alpha, ls='--', color=\"red\")\n",
    "\n",
    "sns.boxplot(y=\"Size\", data=results_df, ax=ax2)\n",
    "ax2.set(ylabel='Size')\n",
    "plt.show()"
   ]
  },
  {
   "cell_type": "markdown",
   "id": "171a8af5",
   "metadata": {},
   "source": [
    "## Comformal inference based on this inference method"
   ]
  },
  {
   "cell_type": "markdown",
   "id": "2dfb2233",
   "metadata": {},
   "source": [
    "### Fixed matrices and resampled masks (this part has been changed)"
   ]
  },
  {
   "cell_type": "code",
   "execution_count": 25,
   "id": "4a61af8f",
   "metadata": {},
   "outputs": [],
   "source": [
    "# Data generation\n",
    "n1 = 100\n",
    "n2 = 100\n",
    "r = 5\n",
    "p = 0.4 #proportion of observed\n",
    "sigma = 1  # noise level can be changed (orignally 1e-3)\n",
    "kappa = 1\n",
    "np.random.seed(1)\n",
    "\n",
    "M = generate_fixed_matrix(n1, n2, r, kappa=kappa)\n",
    "E = generate_noise(n1, n2, sigma)\n",
    "M_true = M + E"
   ]
  },
  {
   "cell_type": "code",
   "execution_count": 26,
   "id": "26a2b9e8",
   "metadata": {},
   "outputs": [],
   "source": [
    "from conformalize_chen import *"
   ]
  },
  {
   "cell_type": "code",
   "execution_count": 27,
   "id": "ef6c1d7b",
   "metadata": {},
   "outputs": [
    {
     "name": "stderr",
     "output_type": "stream",
     "text": [
      "100%|██████████| 10/10 [00:00<00:00, 10.49it/s]\n"
     ]
    }
   ],
   "source": [
    "repetition = 10\n",
    "alpha = 0.1\n",
    "random_state = 1\n",
    "\n",
    "results = []\n",
    "\n",
    "for i in tqdm(range(repetition)):\n",
    "    sampler = RandomSampling(n1, n2)\n",
    "    mask = sampler.sample_observed(prop = p, random_state=i)\n",
    "    test_mask = np.ones_like(mask) - mask\n",
    "    \n",
    "    #because the code of the class has been changed.\n",
    "    #now we have to specify the exact size of the calibration set first\n",
    "    calib_size = mask.sum()/2\n",
    "    train_mask,calib_mask = sampler.sample_train_calib(mask=mask, \n",
    "                                                      calib_size=calib_size)\n",
    "    \n",
    "    res = run_single_experiment_conformalized_paper(matrix_noisy_unmasked=M_true,\n",
    "                                                    M_noiseless= M,\n",
    "                                                   train_mask=train_mask,\n",
    "                                                   test_mask=test_mask,\n",
    "                                                   calib_mask=calib_mask,\n",
    "                                                   alpha=alpha,\n",
    "                                                   r_guess = r)\n",
    "    \n",
    "    results.append({\"Quantile\": res})\n",
    "\n",
    "result_df_ = pd.DataFrame(results)\n",
    "\n"
   ]
  },
  {
   "cell_type": "code",
   "execution_count": 28,
   "id": "a8142b65",
   "metadata": {},
   "outputs": [
    {
     "name": "stdout",
     "output_type": "stream",
     "text": [
      "                                            Quantile\n",
      "0     Coverage      Size  Quantile  Conformity_sc...\n",
      "1     Coverage      Size  Quantile  Conformity_sc...\n",
      "2     Coverage      Size  Quantile  Conformity_sc...\n",
      "3     Coverage      Size  Quantile  Conformity_sc...\n",
      "4     Coverage      Size  Quantile  Conformity_sc...\n",
      "5     Coverage      Size  Quantile  Conformity_sc...\n",
      "6     Coverage      Size  Quantile  Conformity_sc...\n",
      "7     Coverage      Size  Quantile  Conformity_sc...\n",
      "8     Coverage      Size  Quantile  Conformity_sc...\n",
      "9     Coverage      Size  Quantile  Conformity_sc...\n"
     ]
    }
   ],
   "source": [
    "print(result_df_)"
   ]
  },
  {
   "cell_type": "code",
   "execution_count": 29,
   "id": "01cd9d96",
   "metadata": {},
   "outputs": [
    {
     "ename": "TypeError",
     "evalue": "Vertical orientation requires numeric `y` variable.",
     "output_type": "error",
     "traceback": [
      "\u001b[1;31m---------------------------------------------------------------------------\u001b[0m",
      "\u001b[1;31mTypeError\u001b[0m                                 Traceback (most recent call last)",
      "Cell \u001b[1;32mIn[29], line 2\u001b[0m\n\u001b[0;32m      1\u001b[0m fig, (ax1) \u001b[38;5;241m=\u001b[39m plt\u001b[38;5;241m.\u001b[39msubplots(\u001b[38;5;241m1\u001b[39m, \u001b[38;5;241m1\u001b[39m, figsize\u001b[38;5;241m=\u001b[39m(\u001b[38;5;241m5\u001b[39m, \u001b[38;5;241m4\u001b[39m))\n\u001b[1;32m----> 2\u001b[0m \u001b[43msns\u001b[49m\u001b[38;5;241;43m.\u001b[39;49m\u001b[43mboxplot\u001b[49m\u001b[43m(\u001b[49m\u001b[43my\u001b[49m\u001b[38;5;241;43m=\u001b[39;49m\u001b[38;5;124;43m\"\u001b[39;49m\u001b[38;5;124;43mQuantile\u001b[39;49m\u001b[38;5;124;43m\"\u001b[39;49m\u001b[43m,\u001b[49m\u001b[43m \u001b[49m\u001b[43mdata\u001b[49m\u001b[38;5;241;43m=\u001b[39;49m\u001b[43mresult_df_\u001b[49m\u001b[43m,\u001b[49m\u001b[43m \u001b[49m\u001b[43max\u001b[49m\u001b[38;5;241;43m=\u001b[39;49m\u001b[43max1\u001b[49m\u001b[43m)\u001b[49m\n\u001b[0;32m      3\u001b[0m ax1\u001b[38;5;241m.\u001b[39mset(ylabel\u001b[38;5;241m=\u001b[39m\u001b[38;5;124m'\u001b[39m\u001b[38;5;124mConformity Score\u001b[39m\u001b[38;5;124m'\u001b[39m)\n\u001b[0;32m      4\u001b[0m ax1\u001b[38;5;241m.\u001b[39maxhline(norm\u001b[38;5;241m.\u001b[39mppf(\u001b[38;5;241m1\u001b[39m \u001b[38;5;241m-\u001b[39m alpha\u001b[38;5;241m/\u001b[39m\u001b[38;5;241m2\u001b[39m), ls\u001b[38;5;241m=\u001b[39m\u001b[38;5;124m'\u001b[39m\u001b[38;5;124m--\u001b[39m\u001b[38;5;124m'\u001b[39m, color\u001b[38;5;241m=\u001b[39m\u001b[38;5;124m\"\u001b[39m\u001b[38;5;124mred\u001b[39m\u001b[38;5;124m\"\u001b[39m)\n",
      "File \u001b[1;32mC:\\anaconda3\\lib\\site-packages\\seaborn\\categorical.py:2231\u001b[0m, in \u001b[0;36mboxplot\u001b[1;34m(data, x, y, hue, order, hue_order, orient, color, palette, saturation, width, dodge, fliersize, linewidth, whis, ax, **kwargs)\u001b[0m\n\u001b[0;32m   2224\u001b[0m \u001b[38;5;28;01mdef\u001b[39;00m \u001b[38;5;21mboxplot\u001b[39m(\n\u001b[0;32m   2225\u001b[0m     data\u001b[38;5;241m=\u001b[39m\u001b[38;5;28;01mNone\u001b[39;00m, \u001b[38;5;241m*\u001b[39m, x\u001b[38;5;241m=\u001b[39m\u001b[38;5;28;01mNone\u001b[39;00m, y\u001b[38;5;241m=\u001b[39m\u001b[38;5;28;01mNone\u001b[39;00m, hue\u001b[38;5;241m=\u001b[39m\u001b[38;5;28;01mNone\u001b[39;00m, order\u001b[38;5;241m=\u001b[39m\u001b[38;5;28;01mNone\u001b[39;00m, hue_order\u001b[38;5;241m=\u001b[39m\u001b[38;5;28;01mNone\u001b[39;00m,\n\u001b[0;32m   2226\u001b[0m     orient\u001b[38;5;241m=\u001b[39m\u001b[38;5;28;01mNone\u001b[39;00m, color\u001b[38;5;241m=\u001b[39m\u001b[38;5;28;01mNone\u001b[39;00m, palette\u001b[38;5;241m=\u001b[39m\u001b[38;5;28;01mNone\u001b[39;00m, saturation\u001b[38;5;241m=\u001b[39m\u001b[38;5;241m.75\u001b[39m, width\u001b[38;5;241m=\u001b[39m\u001b[38;5;241m.8\u001b[39m,\n\u001b[0;32m   2227\u001b[0m     dodge\u001b[38;5;241m=\u001b[39m\u001b[38;5;28;01mTrue\u001b[39;00m, fliersize\u001b[38;5;241m=\u001b[39m\u001b[38;5;241m5\u001b[39m, linewidth\u001b[38;5;241m=\u001b[39m\u001b[38;5;28;01mNone\u001b[39;00m, whis\u001b[38;5;241m=\u001b[39m\u001b[38;5;241m1.5\u001b[39m, ax\u001b[38;5;241m=\u001b[39m\u001b[38;5;28;01mNone\u001b[39;00m,\n\u001b[0;32m   2228\u001b[0m     \u001b[38;5;241m*\u001b[39m\u001b[38;5;241m*\u001b[39mkwargs\n\u001b[0;32m   2229\u001b[0m ):\n\u001b[1;32m-> 2231\u001b[0m     plotter \u001b[38;5;241m=\u001b[39m \u001b[43m_BoxPlotter\u001b[49m\u001b[43m(\u001b[49m\u001b[43mx\u001b[49m\u001b[43m,\u001b[49m\u001b[43m \u001b[49m\u001b[43my\u001b[49m\u001b[43m,\u001b[49m\u001b[43m \u001b[49m\u001b[43mhue\u001b[49m\u001b[43m,\u001b[49m\u001b[43m \u001b[49m\u001b[43mdata\u001b[49m\u001b[43m,\u001b[49m\u001b[43m \u001b[49m\u001b[43morder\u001b[49m\u001b[43m,\u001b[49m\u001b[43m \u001b[49m\u001b[43mhue_order\u001b[49m\u001b[43m,\u001b[49m\n\u001b[0;32m   2232\u001b[0m \u001b[43m                          \u001b[49m\u001b[43morient\u001b[49m\u001b[43m,\u001b[49m\u001b[43m \u001b[49m\u001b[43mcolor\u001b[49m\u001b[43m,\u001b[49m\u001b[43m \u001b[49m\u001b[43mpalette\u001b[49m\u001b[43m,\u001b[49m\u001b[43m \u001b[49m\u001b[43msaturation\u001b[49m\u001b[43m,\u001b[49m\n\u001b[0;32m   2233\u001b[0m \u001b[43m                          \u001b[49m\u001b[43mwidth\u001b[49m\u001b[43m,\u001b[49m\u001b[43m \u001b[49m\u001b[43mdodge\u001b[49m\u001b[43m,\u001b[49m\u001b[43m \u001b[49m\u001b[43mfliersize\u001b[49m\u001b[43m,\u001b[49m\u001b[43m \u001b[49m\u001b[43mlinewidth\u001b[49m\u001b[43m)\u001b[49m\n\u001b[0;32m   2235\u001b[0m     \u001b[38;5;28;01mif\u001b[39;00m ax \u001b[38;5;129;01mis\u001b[39;00m \u001b[38;5;28;01mNone\u001b[39;00m:\n\u001b[0;32m   2236\u001b[0m         ax \u001b[38;5;241m=\u001b[39m plt\u001b[38;5;241m.\u001b[39mgca()\n",
      "File \u001b[1;32mC:\\anaconda3\\lib\\site-packages\\seaborn\\categorical.py:785\u001b[0m, in \u001b[0;36m_BoxPlotter.__init__\u001b[1;34m(self, x, y, hue, data, order, hue_order, orient, color, palette, saturation, width, dodge, fliersize, linewidth)\u001b[0m\n\u001b[0;32m    781\u001b[0m \u001b[38;5;28;01mdef\u001b[39;00m \u001b[38;5;21m__init__\u001b[39m(\u001b[38;5;28mself\u001b[39m, x, y, hue, data, order, hue_order,\n\u001b[0;32m    782\u001b[0m              orient, color, palette, saturation,\n\u001b[0;32m    783\u001b[0m              width, dodge, fliersize, linewidth):\n\u001b[1;32m--> 785\u001b[0m     \u001b[38;5;28;43mself\u001b[39;49m\u001b[38;5;241;43m.\u001b[39;49m\u001b[43mestablish_variables\u001b[49m\u001b[43m(\u001b[49m\u001b[43mx\u001b[49m\u001b[43m,\u001b[49m\u001b[43m \u001b[49m\u001b[43my\u001b[49m\u001b[43m,\u001b[49m\u001b[43m \u001b[49m\u001b[43mhue\u001b[49m\u001b[43m,\u001b[49m\u001b[43m \u001b[49m\u001b[43mdata\u001b[49m\u001b[43m,\u001b[49m\u001b[43m \u001b[49m\u001b[43morient\u001b[49m\u001b[43m,\u001b[49m\u001b[43m \u001b[49m\u001b[43morder\u001b[49m\u001b[43m,\u001b[49m\u001b[43m \u001b[49m\u001b[43mhue_order\u001b[49m\u001b[43m)\u001b[49m\n\u001b[0;32m    786\u001b[0m     \u001b[38;5;28mself\u001b[39m\u001b[38;5;241m.\u001b[39mestablish_colors(color, palette, saturation)\n\u001b[0;32m    788\u001b[0m     \u001b[38;5;28mself\u001b[39m\u001b[38;5;241m.\u001b[39mdodge \u001b[38;5;241m=\u001b[39m dodge\n",
      "File \u001b[1;32mC:\\anaconda3\\lib\\site-packages\\seaborn\\categorical.py:544\u001b[0m, in \u001b[0;36m_CategoricalPlotter.establish_variables\u001b[1;34m(self, x, y, hue, data, orient, order, hue_order, units)\u001b[0m\n\u001b[0;32m    541\u001b[0m         \u001b[38;5;28;01mraise\u001b[39;00m \u001b[38;5;167;01mValueError\u001b[39;00m(err)\n\u001b[0;32m    543\u001b[0m \u001b[38;5;66;03m# Figure out the plotting orientation\u001b[39;00m\n\u001b[1;32m--> 544\u001b[0m orient \u001b[38;5;241m=\u001b[39m \u001b[43minfer_orient\u001b[49m\u001b[43m(\u001b[49m\n\u001b[0;32m    545\u001b[0m \u001b[43m    \u001b[49m\u001b[43mx\u001b[49m\u001b[43m,\u001b[49m\u001b[43m \u001b[49m\u001b[43my\u001b[49m\u001b[43m,\u001b[49m\u001b[43m \u001b[49m\u001b[43morient\u001b[49m\u001b[43m,\u001b[49m\u001b[43m \u001b[49m\u001b[43mrequire_numeric\u001b[49m\u001b[38;5;241;43m=\u001b[39;49m\u001b[38;5;28;43mself\u001b[39;49m\u001b[38;5;241;43m.\u001b[39;49m\u001b[43mrequire_numeric\u001b[49m\n\u001b[0;32m    546\u001b[0m \u001b[43m\u001b[49m\u001b[43m)\u001b[49m\n\u001b[0;32m    548\u001b[0m \u001b[38;5;66;03m# Option 2a:\u001b[39;00m\n\u001b[0;32m    549\u001b[0m \u001b[38;5;66;03m# We are plotting a single set of data\u001b[39;00m\n\u001b[0;32m    550\u001b[0m \u001b[38;5;66;03m# ------------------------------------\u001b[39;00m\n\u001b[0;32m    551\u001b[0m \u001b[38;5;28;01mif\u001b[39;00m x \u001b[38;5;129;01mis\u001b[39;00m \u001b[38;5;28;01mNone\u001b[39;00m \u001b[38;5;129;01mor\u001b[39;00m y \u001b[38;5;129;01mis\u001b[39;00m \u001b[38;5;28;01mNone\u001b[39;00m:\n\u001b[0;32m    552\u001b[0m \n\u001b[0;32m    553\u001b[0m     \u001b[38;5;66;03m# Determine where the data are\u001b[39;00m\n",
      "File \u001b[1;32mC:\\anaconda3\\lib\\site-packages\\seaborn\\_oldcore.py:1594\u001b[0m, in \u001b[0;36minfer_orient\u001b[1;34m(x, y, orient, require_numeric)\u001b[0m\n\u001b[0;32m   1592\u001b[0m         warnings\u001b[38;5;241m.\u001b[39mwarn(single_var_warning\u001b[38;5;241m.\u001b[39mformat(\u001b[38;5;124m\"\u001b[39m\u001b[38;5;124mHorizontal\u001b[39m\u001b[38;5;124m\"\u001b[39m, \u001b[38;5;124m\"\u001b[39m\u001b[38;5;124my\u001b[39m\u001b[38;5;124m\"\u001b[39m))\n\u001b[0;32m   1593\u001b[0m     \u001b[38;5;28;01mif\u001b[39;00m require_numeric \u001b[38;5;129;01mand\u001b[39;00m y_type \u001b[38;5;241m!=\u001b[39m \u001b[38;5;124m\"\u001b[39m\u001b[38;5;124mnumeric\u001b[39m\u001b[38;5;124m\"\u001b[39m:\n\u001b[1;32m-> 1594\u001b[0m         \u001b[38;5;28;01mraise\u001b[39;00m \u001b[38;5;167;01mTypeError\u001b[39;00m(nonnumeric_dv_error\u001b[38;5;241m.\u001b[39mformat(\u001b[38;5;124m\"\u001b[39m\u001b[38;5;124mVertical\u001b[39m\u001b[38;5;124m\"\u001b[39m, \u001b[38;5;124m\"\u001b[39m\u001b[38;5;124my\u001b[39m\u001b[38;5;124m\"\u001b[39m))\n\u001b[0;32m   1595\u001b[0m     \u001b[38;5;28;01mreturn\u001b[39;00m \u001b[38;5;124m\"\u001b[39m\u001b[38;5;124mv\u001b[39m\u001b[38;5;124m\"\u001b[39m\n\u001b[0;32m   1597\u001b[0m \u001b[38;5;28;01melif\u001b[39;00m y \u001b[38;5;129;01mis\u001b[39;00m \u001b[38;5;28;01mNone\u001b[39;00m:\n",
      "\u001b[1;31mTypeError\u001b[0m: Vertical orientation requires numeric `y` variable."
     ]
    },
    {
     "data": {
      "image/png": "[encoded data removed]",
      "text/plain": [
       "<Figure size 500x400 with 1 Axes>"
      ]
     },
     "metadata": {},
     "output_type": "display_data"
    }
   ],
   "source": [
    "fig, (ax1) = plt.subplots(1, 1, figsize=(5, 4))\n",
    "sns.boxplot(y=\"Quantile\", data=result_df_, ax=ax1)\n",
    "ax1.set(ylabel='Conformity Score')\n",
    "ax1.axhline(norm.ppf(1 - alpha/2), ls='--', color=\"red\")\n",
    "\n",
    "\n",
    "plt.show()"
   ]
  },
  {
   "cell_type": "code",
   "execution_count": null,
   "id": "339a4d26",
   "metadata": {},
   "outputs": [],
   "source": []
  },
  {
   "cell_type": "markdown",
   "id": "7ff08200",
   "metadata": {},
   "source": [
    "### Changing Marix Size"
   ]
  },
  {
   "cell_type": "code",
   "execution_count": null,
   "id": "db73675e",
   "metadata": {},
   "outputs": [],
   "source": [
    "r = 5\n",
    "p = 0.4 #proportion of observed\n",
    "sigma = 1  # noise level can be changed (orignally 1e-3)\n",
    "kappa = 1\n",
    "alpha = 0.1\n",
    "\n",
    "\n",
    "n_list = [10, 20, 30, 40, 50, 60, 70, 80, 90, 100]\n",
    "\n",
    "results_n = pd.DataFrame({})\n",
    "\n",
    "for n in n_list:\n",
    "    n1 = n\n",
    "    n2 = n\n",
    "    np.random.seed(n)\n",
    "    \n",
    "    M = generate_fixed_matrix(n1, n2, r, kappa=kappa)\n",
    "    E = generate_noise(n1, n2, sigma)\n",
    "    M_true = M + E\n",
    "    repetition = 10\n",
    "    \n",
    "    results = []\n",
    "    \n",
    "    for i in tqdm(range(repetition)):\n",
    "        sampler = RandomSampling(n1, n2)\n",
    "        mask = sampler.sample_observed(prop = p, random_state=i)\n",
    "        test_mask = np.ones_like(mask) - mask\n",
    "\n",
    "        #because the code of the class has been changed.\n",
    "        #now we have to specify the exact size of the calibration set first\n",
    "        calib_size = mask.sum()/2\n",
    "        train_mask,calib_mask = sampler.sample_train_calib(mask=mask, \n",
    "                                                          calib_size=calib_size)\n",
    "\n",
    "        res = run_single_experiment_conformalized_paper(matrix_noisy_unmasked=M_true,\n",
    "                                                        M_noiseless= M,\n",
    "                                                       train_mask=train_mask,\n",
    "                                                       test_mask=test_mask,\n",
    "                                                       calib_mask=calib_mask,\n",
    "                                                       alpha=alpha,\n",
    "                                                       r_guess = r)\n",
    "\n",
    "        results.append({\"Quantile\": res, \"n\": n})\n",
    "    result_df_ = pd.DataFrame(results)\n",
    "    results_n = pd.concat([results_n, result_df_]) \n",
    "    \n",
    "    \n",
    "    "
   ]
  },
  {
   "cell_type": "code",
   "execution_count": null,
   "id": "79f3e801",
   "metadata": {},
   "outputs": [],
   "source": [
    "results_n"
   ]
  },
  {
   "cell_type": "code",
   "execution_count": null,
   "id": "c13282d9",
   "metadata": {},
   "outputs": [],
   "source": [
    "summary = results_n.groupby(['n']).agg({'Quantile':[np.mean,np.std]}).reset_index()\n",
    "summary"
   ]
  },
  {
   "cell_type": "code",
   "execution_count": null,
   "id": "204828d9",
   "metadata": {},
   "outputs": [],
   "source": [
    "plt.rcParams[\"figure.figsize\"] = (5,3)\n",
    "\n",
    "plt.subplot(1, 1, 1)\n",
    "plt.scatter(summary[\"n\"], summary[\"Quantile\"][\"mean\"])\n",
    "plt.axhline(y=norm.ppf(1 - alpha/2), color='r', linestyle='--')\n",
    "plt.xlabel(\"Matrix size\")\n",
    "plt.ylabel(\"Conformity score\")\n",
    "\n",
    "plt.show()"
   ]
  },
  {
   "cell_type": "markdown",
   "id": "0160bf7e",
   "metadata": {},
   "source": [
    "# This part of code above is not able to re-run because the function has been modified (corrected with flattened matrices)"
   ]
  },
  {
   "cell_type": "markdown",
   "id": "fee4c9e9",
   "metadata": {},
   "source": [
    "#### Modified Version and reproduce the plots above"
   ]
  },
  {
   "cell_type": "code",
   "execution_count": 30,
   "id": "5818ea08",
   "metadata": {},
   "outputs": [],
   "source": [
    "# Data generation\n",
    "n1 = 100\n",
    "n2 = 100\n",
    "r = 5\n",
    "p = 0.4 #proportion of observed\n",
    "sigma = 1  # noise level can be changed (orignally 1e-3)\n",
    "kappa = 1\n",
    "np.random.seed(1)\n",
    "\n",
    "M = generate_fixed_matrix(n1, n2, r, kappa=kappa)\n",
    "E = generate_noise(n1, n2, sigma)\n",
    "M_true = M + E"
   ]
  },
  {
   "cell_type": "code",
   "execution_count": 31,
   "id": "0296b61b",
   "metadata": {
    "scrolled": false
   },
   "outputs": [
    {
     "name": "stderr",
     "output_type": "stream",
     "text": [
      "100%|██████████| 10/10 [00:00<00:00, 11.47it/s]\n"
     ]
    }
   ],
   "source": [
    "repetition = 10\n",
    "alpha = 0.1\n",
    "random_state = 1\n",
    "\n",
    "results = pd.DataFrame({})\n",
    "\n",
    "for i in tqdm(range(repetition)):\n",
    "    sampler = RandomSampling(n1, n2)\n",
    "    mask = sampler.sample_observed(prop = p, random_state=i)\n",
    "    test_mask = np.ones_like(mask) - mask\n",
    "    \n",
    "    #because the code of the class has been changed.\n",
    "    #now we have to specify the exact size of the calibration set first\n",
    "    \n",
    "    # calibration size\n",
    "    calib_size = 500\n",
    "    \n",
    "    \n",
    "    train_mask,calib_mask = sampler.sample_train_calib(mask=mask, \n",
    "                                                      calib_size=calib_size)\n",
    "    \n",
    "    res = run_single_experiment_conformalized_paper(matrix_noisy_unmasked=M_true,\n",
    "                                                    M_noiseless= M,\n",
    "                                                   train_mask=train_mask,\n",
    "                                                   test_mask=test_mask,\n",
    "                                                   calib_mask=calib_mask,\n",
    "                                                   alpha=alpha,\n",
    "                                                   r_guess = r)\n",
    "    \n",
    "    results = pd.concat([results, res])\n",
    "\n"
   ]
  },
  {
   "cell_type": "code",
   "execution_count": 32,
   "id": "2a960260",
   "metadata": {
    "scrolled": false
   },
   "outputs": [
    {
     "data": {
      "text/html": [
       "<div>\n",
       "<style scoped>\n",
       "    .dataframe tbody tr th:only-of-type {\n",
       "        vertical-align: middle;\n",
       "    }\n",
       "\n",
       "    .dataframe tbody tr th {\n",
       "        vertical-align: top;\n",
       "    }\n",
       "\n",
       "    .dataframe thead th {\n",
       "        text-align: right;\n",
       "    }\n",
       "</style>\n",
       "<table border=\"1\" class=\"dataframe\">\n",
       "  <thead>\n",
       "    <tr style=\"text-align: right;\">\n",
       "      <th></th>\n",
       "      <th>Coverage</th>\n",
       "      <th>Size</th>\n",
       "      <th>Quantile</th>\n",
       "      <th>Conformity_score</th>\n",
       "      <th>Alpha</th>\n",
       "      <th>Seed</th>\n",
       "      <th>Calib_size</th>\n",
       "      <th>Train_size</th>\n",
       "    </tr>\n",
       "  </thead>\n",
       "  <tbody>\n",
       "    <tr>\n",
       "      <th>0</th>\n",
       "      <td>0.915167</td>\n",
       "      <td>2.555633</td>\n",
       "      <td>0.965709</td>\n",
       "      <td>2.116632</td>\n",
       "      <td>0.1</td>\n",
       "      <td>0</td>\n",
       "      <td>500</td>\n",
       "      <td>3500</td>\n",
       "    </tr>\n",
       "    <tr>\n",
       "      <th>0</th>\n",
       "      <td>0.896167</td>\n",
       "      <td>2.215627</td>\n",
       "      <td>0.942210</td>\n",
       "      <td>1.897289</td>\n",
       "      <td>0.1</td>\n",
       "      <td>0</td>\n",
       "      <td>500</td>\n",
       "      <td>3500</td>\n",
       "    </tr>\n",
       "    <tr>\n",
       "      <th>0</th>\n",
       "      <td>0.891333</td>\n",
       "      <td>2.377027</td>\n",
       "      <td>0.961300</td>\n",
       "      <td>2.067364</td>\n",
       "      <td>0.1</td>\n",
       "      <td>0</td>\n",
       "      <td>500</td>\n",
       "      <td>3500</td>\n",
       "    </tr>\n",
       "    <tr>\n",
       "      <th>0</th>\n",
       "      <td>0.902000</td>\n",
       "      <td>2.614897</td>\n",
       "      <td>0.974464</td>\n",
       "      <td>2.233199</td>\n",
       "      <td>0.1</td>\n",
       "      <td>0</td>\n",
       "      <td>500</td>\n",
       "      <td>3500</td>\n",
       "    </tr>\n",
       "    <tr>\n",
       "      <th>0</th>\n",
       "      <td>0.906000</td>\n",
       "      <td>2.391665</td>\n",
       "      <td>0.958384</td>\n",
       "      <td>2.037344</td>\n",
       "      <td>0.1</td>\n",
       "      <td>0</td>\n",
       "      <td>500</td>\n",
       "      <td>3500</td>\n",
       "    </tr>\n",
       "    <tr>\n",
       "      <th>0</th>\n",
       "      <td>0.891833</td>\n",
       "      <td>2.314829</td>\n",
       "      <td>0.948542</td>\n",
       "      <td>1.947642</td>\n",
       "      <td>0.1</td>\n",
       "      <td>0</td>\n",
       "      <td>500</td>\n",
       "      <td>3500</td>\n",
       "    </tr>\n",
       "    <tr>\n",
       "      <th>0</th>\n",
       "      <td>0.891833</td>\n",
       "      <td>2.332717</td>\n",
       "      <td>0.935278</td>\n",
       "      <td>1.847174</td>\n",
       "      <td>0.1</td>\n",
       "      <td>0</td>\n",
       "      <td>500</td>\n",
       "      <td>3500</td>\n",
       "    </tr>\n",
       "    <tr>\n",
       "      <th>0</th>\n",
       "      <td>0.894833</td>\n",
       "      <td>2.262279</td>\n",
       "      <td>0.929161</td>\n",
       "      <td>1.806505</td>\n",
       "      <td>0.1</td>\n",
       "      <td>0</td>\n",
       "      <td>500</td>\n",
       "      <td>3500</td>\n",
       "    </tr>\n",
       "    <tr>\n",
       "      <th>0</th>\n",
       "      <td>0.908667</td>\n",
       "      <td>2.375507</td>\n",
       "      <td>0.936836</td>\n",
       "      <td>1.858034</td>\n",
       "      <td>0.1</td>\n",
       "      <td>0</td>\n",
       "      <td>500</td>\n",
       "      <td>3500</td>\n",
       "    </tr>\n",
       "    <tr>\n",
       "      <th>0</th>\n",
       "      <td>0.907167</td>\n",
       "      <td>2.415538</td>\n",
       "      <td>0.957054</td>\n",
       "      <td>2.024236</td>\n",
       "      <td>0.1</td>\n",
       "      <td>0</td>\n",
       "      <td>500</td>\n",
       "      <td>3500</td>\n",
       "    </tr>\n",
       "  </tbody>\n",
       "</table>\n",
       "</div>"
      ],
      "text/plain": [
       "   Coverage      Size  Quantile  Conformity_score  Alpha  Seed  Calib_size  \\\n",
       "0  0.915167  2.555633  0.965709          2.116632    0.1     0         500   \n",
       "0  0.896167  2.215627  0.942210          1.897289    0.1     0         500   \n",
       "0  0.891333  2.377027  0.961300          2.067364    0.1     0         500   \n",
       "0  0.902000  2.614897  0.974464          2.233199    0.1     0         500   \n",
       "0  0.906000  2.391665  0.958384          2.037344    0.1     0         500   \n",
       "0  0.891833  2.314829  0.948542          1.947642    0.1     0         500   \n",
       "0  0.891833  2.332717  0.935278          1.847174    0.1     0         500   \n",
       "0  0.894833  2.262279  0.929161          1.806505    0.1     0         500   \n",
       "0  0.908667  2.375507  0.936836          1.858034    0.1     0         500   \n",
       "0  0.907167  2.415538  0.957054          2.024236    0.1     0         500   \n",
       "\n",
       "   Train_size  \n",
       "0        3500  \n",
       "0        3500  \n",
       "0        3500  \n",
       "0        3500  \n",
       "0        3500  \n",
       "0        3500  \n",
       "0        3500  \n",
       "0        3500  \n",
       "0        3500  \n",
       "0        3500  "
      ]
     },
     "execution_count": 32,
     "metadata": {},
     "output_type": "execute_result"
    }
   ],
   "source": [
    "results"
   ]
  },
  {
   "cell_type": "code",
   "execution_count": 33,
   "id": "9df6cfd3",
   "metadata": {
    "scrolled": false
   },
   "outputs": [
    {
     "data": {
      "image/png": "[encoded data removed]",
      "text/plain": [
       "<Figure size 1000x400 with 2 Axes>"
      ]
     },
     "metadata": {},
     "output_type": "display_data"
    }
   ],
   "source": [
    "fig, (ax1, ax2) = plt.subplots(1, 2, figsize=(10, 4))\n",
    "sns.boxplot(y=\"Coverage\", data=results, ax=ax1)\n",
    "ax1.set(ylabel='Coverage')\n",
    "ax1.axhline(1 - alpha, ls='--', color=\"red\")\n",
    "\n",
    "sns.boxplot(y=\"Size\", data=results, ax=ax2)\n",
    "ax2.set(ylabel='Size')\n",
    "plt.show()"
   ]
  },
  {
   "cell_type": "code",
   "execution_count": 34,
   "id": "1a908d0d",
   "metadata": {},
   "outputs": [
    {
     "data": {
      "image/png": "[encoded data removed]",
      "text/plain": [
       "<Figure size 500x400 with 1 Axes>"
      ]
     },
     "metadata": {},
     "output_type": "display_data"
    }
   ],
   "source": [
    "fig, (ax1) = plt.subplots(1, 1, figsize=(5, 4))\n",
    "sns.boxplot(y=\"Conformity_score\", data=results, ax=ax1)\n",
    "ax1.set(ylabel='Conformity Score')\n",
    "ax1.axhline(norm.ppf(1 - alpha/2), ls='--', color=\"red\")\n",
    "\n",
    "\n",
    "plt.show()"
   ]
  },
  {
   "cell_type": "markdown",
   "id": "32f01119",
   "metadata": {},
   "source": [
    "## Now run with different matrix size (200x200) (the above is 100x100)"
   ]
  },
  {
   "cell_type": "code",
   "execution_count": 35,
   "id": "f0a5c1aa",
   "metadata": {},
   "outputs": [],
   "source": [
    "# Data generation\n",
    "n1 = 200\n",
    "n2 = 200\n",
    "r = 5\n",
    "p = 0.4 #proportion of observed\n",
    "sigma = 1  # noise level can be changed (orignally 1e-3)\n",
    "kappa = 1\n",
    "np.random.seed(1)\n",
    "\n",
    "M = generate_fixed_matrix(n1, n2, r, kappa=kappa)\n",
    "E = generate_noise(n1, n2, sigma)\n",
    "M_true = M + E"
   ]
  },
  {
   "cell_type": "code",
   "execution_count": 36,
   "id": "759a78e7",
   "metadata": {},
   "outputs": [
    {
     "name": "stderr",
     "output_type": "stream",
     "text": [
      "100%|██████████| 10/10 [00:02<00:00,  3.66it/s]\n"
     ]
    }
   ],
   "source": [
    "repetition = 10\n",
    "alpha = 0.1\n",
    "random_state = 1\n",
    "\n",
    "results = pd.DataFrame({})\n",
    "\n",
    "for i in tqdm(range(repetition)):\n",
    "    sampler = RandomSampling(n1, n2)\n",
    "    mask = sampler.sample_observed(prop = p, random_state=i)\n",
    "    test_mask = np.ones_like(mask) - mask\n",
    "    \n",
    "    #because the code of the class has been changed.\n",
    "    #now we have to specify the exact size of the calibration set first\n",
    "    calib_size = mask.sum()/2\n",
    "    train_mask,calib_mask = sampler.sample_train_calib(mask=mask, \n",
    "                                                      calib_size=calib_size)\n",
    "    \n",
    "    res = run_single_experiment_conformalized_paper(matrix_noisy_unmasked=M_true,\n",
    "                                                    M_noiseless= M,\n",
    "                                                   train_mask=train_mask,\n",
    "                                                   test_mask=test_mask,\n",
    "                                                   calib_mask=calib_mask,\n",
    "                                                   alpha=alpha,\n",
    "                                                   r_guess = r)\n",
    "    \n",
    "    results = pd.concat([results, res])\n",
    "\n"
   ]
  },
  {
   "cell_type": "code",
   "execution_count": 37,
   "id": "f7fe8366",
   "metadata": {
    "scrolled": true
   },
   "outputs": [
    {
     "data": {
      "image/png": "[encoded data removed]",
      "text/plain": [
       "<Figure size 1000x400 with 2 Axes>"
      ]
     },
     "metadata": {},
     "output_type": "display_data"
    }
   ],
   "source": [
    "fig, (ax1, ax2) = plt.subplots(1, 2, figsize=(10, 4))\n",
    "sns.boxplot(y=\"Coverage\", data=results, ax=ax1)\n",
    "ax1.set(ylabel='Coverage')\n",
    "ax1.axhline(1 - alpha, ls='--', color=\"red\")\n",
    "\n",
    "sns.boxplot(y=\"Size\", data=results, ax=ax2)\n",
    "ax2.set(ylabel='Size')\n",
    "plt.show()"
   ]
  },
  {
   "cell_type": "markdown",
   "id": "94a60c6b",
   "metadata": {},
   "source": [
    "## More repetition?"
   ]
  },
  {
   "cell_type": "code",
   "execution_count": 38,
   "id": "4ebed5f6",
   "metadata": {},
   "outputs": [],
   "source": [
    "# Data generation\n",
    "n1 = 100\n",
    "n2 = 100\n",
    "r = 5\n",
    "p = 0.4 #proportion of observed\n",
    "sigma = 1  # noise level can be changed (orignally 1e-3)\n",
    "kappa = 1\n",
    "np.random.seed(1)\n",
    "\n",
    "M = generate_fixed_matrix(n1, n2, r, kappa=kappa)\n",
    "E = generate_noise(n1, n2, sigma)\n",
    "M_true = M + E"
   ]
  },
  {
   "cell_type": "code",
   "execution_count": 39,
   "id": "0a011cd6",
   "metadata": {},
   "outputs": [
    {
     "name": "stderr",
     "output_type": "stream",
     "text": [
      "100%|██████████| 1000/1000 [01:42<00:00,  9.72it/s]\n"
     ]
    }
   ],
   "source": [
    "repetition = 1000\n",
    "alpha = 0.1\n",
    "random_state = 1\n",
    "\n",
    "results = pd.DataFrame({})\n",
    "\n",
    "for i in tqdm(range(repetition)):\n",
    "    sampler = RandomSampling(n1, n2)\n",
    "    mask = sampler.sample_observed(prop = p, random_state=i)\n",
    "    test_mask = np.ones_like(mask) - mask\n",
    "    \n",
    "    #because the code of the class has been changed.\n",
    "    #now we have to specify the exact size of the calibration set first\n",
    "    calib_size = mask.sum()/2\n",
    "    train_mask,calib_mask = sampler.sample_train_calib(mask=mask, \n",
    "                                                      calib_size=calib_size)\n",
    "    \n",
    "    res = run_single_experiment_conformalized_paper(matrix_noisy_unmasked=M_true,\n",
    "                                                    M_noiseless= M,\n",
    "                                                   train_mask=train_mask,\n",
    "                                                   test_mask=test_mask,\n",
    "                                                   calib_mask=calib_mask,\n",
    "                                                   alpha=alpha,\n",
    "                                                   r_guess = r)\n",
    "    \n",
    "    results = pd.concat([results, res])\n",
    "\n"
   ]
  },
  {
   "cell_type": "code",
   "execution_count": 40,
   "id": "c5cbda5c",
   "metadata": {
    "scrolled": true
   },
   "outputs": [
    {
     "data": {
      "image/png": "[encoded data removed]",
      "text/plain": [
       "<Figure size 1000x400 with 2 Axes>"
      ]
     },
     "metadata": {},
     "output_type": "display_data"
    }
   ],
   "source": [
    "fig, (ax1, ax2) = plt.subplots(1, 2, figsize=(10, 4))\n",
    "sns.boxplot(y=\"Coverage\", data=results, ax=ax1)\n",
    "ax1.set(ylabel='Coverage')\n",
    "ax1.axhline(1 - alpha, ls='--', color=\"red\")\n",
    "\n",
    "sns.boxplot(y=\"Size\", data=results, ax=ax2)\n",
    "ax2.set(ylabel='Size')\n",
    "plt.show()"
   ]
  },
  {
   "cell_type": "markdown",
   "id": "1c25d2c3",
   "metadata": {},
   "source": [
    "### Changing Matrix Size"
   ]
  },
  {
   "cell_type": "code",
   "execution_count": 42,
   "id": "a4632a6a",
   "metadata": {},
   "outputs": [
    {
     "name": "stderr",
     "output_type": "stream",
     "text": [
      "100%|██████████| 10/10 [00:00<00:00, 31.55it/s]\n",
      "100%|██████████| 10/10 [00:00<00:00, 22.93it/s]\n",
      "100%|██████████| 10/10 [00:00<00:00, 24.01it/s]\n",
      "100%|██████████| 10/10 [00:00<00:00, 17.73it/s]\n",
      "100%|██████████| 10/10 [00:00<00:00, 15.58it/s]\n",
      "100%|██████████| 10/10 [00:00<00:00, 14.30it/s]\n",
      "100%|██████████| 10/10 [00:00<00:00, 13.77it/s]\n",
      "100%|██████████| 10/10 [00:00<00:00, 10.98it/s]\n",
      "100%|██████████| 10/10 [00:00<00:00, 11.04it/s]\n"
     ]
    }
   ],
   "source": [
    "r = 5\n",
    "p = 0.4 #proportion of observed\n",
    "sigma = 1  # noise level can be changed (orignally 1e-3)\n",
    "kappa = 1\n",
    "alpha = 0.1\n",
    "\n",
    "\n",
    "n_list = [20, 30, 40, 50, 60, 70, 80, 90, 100]\n",
    "# n_list = [100, 200, 500]\n",
    "repetition = 10\n",
    "\n",
    "\n",
    "results = pd.DataFrame({})\n",
    "\n",
    "for n in n_list:\n",
    "    n1 = n\n",
    "    n2 = n\n",
    "    np.random.seed(n)\n",
    "    \n",
    "    M = generate_fixed_matrix(n1, n2, r, kappa=kappa)\n",
    "    E = generate_noise(n1, n2, sigma)\n",
    "    M_true = M + E\n",
    "\n",
    "    \n",
    "    for i in tqdm(range(repetition)):\n",
    "        sampler = RandomSampling(n1, n2)\n",
    "        mask = sampler.sample_observed(prop = p, random_state=i)\n",
    "        test_mask = np.ones_like(mask) - mask\n",
    "\n",
    "        #because the code of the class has been changed.\n",
    "        #now we have to specify the exact size of the calibration set first\n",
    "        calib_size = mask.sum()/2\n",
    "        train_mask,calib_mask = sampler.sample_train_calib(mask=mask, \n",
    "                                                          calib_size=calib_size)\n",
    "\n",
    "        res = run_single_experiment_conformalized_paper(matrix_noisy_unmasked=M_true,\n",
    "                                                        M_noiseless= M,\n",
    "                                                       train_mask=train_mask,\n",
    "                                                       test_mask=test_mask,\n",
    "                                                       calib_mask=calib_mask,\n",
    "                                                       alpha=alpha,\n",
    "                                                       r_guess = r)\n",
    "\n",
    "        res['n']=[n]\n",
    "        results = pd.concat([results, res])"
   ]
  },
  {
   "cell_type": "code",
   "execution_count": 43,
   "id": "23c8588b",
   "metadata": {
    "scrolled": true
   },
   "outputs": [
    {
     "data": {
      "text/html": [
       "<div>\n",
       "<style scoped>\n",
       "    .dataframe tbody tr th:only-of-type {\n",
       "        vertical-align: middle;\n",
       "    }\n",
       "\n",
       "    .dataframe tbody tr th {\n",
       "        vertical-align: top;\n",
       "    }\n",
       "\n",
       "    .dataframe thead th {\n",
       "        text-align: right;\n",
       "    }\n",
       "</style>\n",
       "<table border=\"1\" class=\"dataframe\">\n",
       "  <thead>\n",
       "    <tr style=\"text-align: right;\">\n",
       "      <th></th>\n",
       "      <th>Coverage</th>\n",
       "      <th>Size</th>\n",
       "      <th>Quantile</th>\n",
       "      <th>Conformity_score</th>\n",
       "      <th>Alpha</th>\n",
       "      <th>Seed</th>\n",
       "      <th>Calib_size</th>\n",
       "      <th>Train_size</th>\n",
       "      <th>n</th>\n",
       "    </tr>\n",
       "  </thead>\n",
       "  <tbody>\n",
       "    <tr>\n",
       "      <th>0</th>\n",
       "      <td>0.929167</td>\n",
       "      <td>4.554628</td>\n",
       "      <td>0.312890</td>\n",
       "      <td>0.402780</td>\n",
       "      <td>0.1</td>\n",
       "      <td>0</td>\n",
       "      <td>80</td>\n",
       "      <td>80</td>\n",
       "      <td>20</td>\n",
       "    </tr>\n",
       "    <tr>\n",
       "      <th>0</th>\n",
       "      <td>0.954167</td>\n",
       "      <td>4.992756</td>\n",
       "      <td>0.280782</td>\n",
       "      <td>0.359504</td>\n",
       "      <td>0.1</td>\n",
       "      <td>0</td>\n",
       "      <td>80</td>\n",
       "      <td>80</td>\n",
       "      <td>20</td>\n",
       "    </tr>\n",
       "    <tr>\n",
       "      <th>0</th>\n",
       "      <td>0.925000</td>\n",
       "      <td>4.845577</td>\n",
       "      <td>0.284390</td>\n",
       "      <td>0.364332</td>\n",
       "      <td>0.1</td>\n",
       "      <td>0</td>\n",
       "      <td>80</td>\n",
       "      <td>80</td>\n",
       "      <td>20</td>\n",
       "    </tr>\n",
       "    <tr>\n",
       "      <th>0</th>\n",
       "      <td>0.941667</td>\n",
       "      <td>4.447139</td>\n",
       "      <td>0.247767</td>\n",
       "      <td>0.315696</td>\n",
       "      <td>0.1</td>\n",
       "      <td>0</td>\n",
       "      <td>80</td>\n",
       "      <td>80</td>\n",
       "      <td>20</td>\n",
       "    </tr>\n",
       "    <tr>\n",
       "      <th>0</th>\n",
       "      <td>0.866667</td>\n",
       "      <td>3.672319</td>\n",
       "      <td>0.249725</td>\n",
       "      <td>0.318276</td>\n",
       "      <td>0.1</td>\n",
       "      <td>0</td>\n",
       "      <td>80</td>\n",
       "      <td>80</td>\n",
       "      <td>20</td>\n",
       "    </tr>\n",
       "    <tr>\n",
       "      <th>...</th>\n",
       "      <td>...</td>\n",
       "      <td>...</td>\n",
       "      <td>...</td>\n",
       "      <td>...</td>\n",
       "      <td>...</td>\n",
       "      <td>...</td>\n",
       "      <td>...</td>\n",
       "      <td>...</td>\n",
       "      <td>...</td>\n",
       "    </tr>\n",
       "    <tr>\n",
       "      <th>0</th>\n",
       "      <td>0.892500</td>\n",
       "      <td>4.241650</td>\n",
       "      <td>0.888941</td>\n",
       "      <td>1.593453</td>\n",
       "      <td>0.1</td>\n",
       "      <td>0</td>\n",
       "      <td>2000</td>\n",
       "      <td>2000</td>\n",
       "      <td>100</td>\n",
       "    </tr>\n",
       "    <tr>\n",
       "      <th>0</th>\n",
       "      <td>0.910667</td>\n",
       "      <td>4.555053</td>\n",
       "      <td>0.893695</td>\n",
       "      <td>1.615026</td>\n",
       "      <td>0.1</td>\n",
       "      <td>0</td>\n",
       "      <td>2000</td>\n",
       "      <td>2000</td>\n",
       "      <td>100</td>\n",
       "    </tr>\n",
       "    <tr>\n",
       "      <th>0</th>\n",
       "      <td>0.891833</td>\n",
       "      <td>4.037531</td>\n",
       "      <td>0.869399</td>\n",
       "      <td>1.511736</td>\n",
       "      <td>0.1</td>\n",
       "      <td>0</td>\n",
       "      <td>2000</td>\n",
       "      <td>2000</td>\n",
       "      <td>100</td>\n",
       "    </tr>\n",
       "    <tr>\n",
       "      <th>0</th>\n",
       "      <td>0.906833</td>\n",
       "      <td>4.164705</td>\n",
       "      <td>0.859770</td>\n",
       "      <td>1.474934</td>\n",
       "      <td>0.1</td>\n",
       "      <td>0</td>\n",
       "      <td>2000</td>\n",
       "      <td>2000</td>\n",
       "      <td>100</td>\n",
       "    </tr>\n",
       "    <tr>\n",
       "      <th>0</th>\n",
       "      <td>0.910667</td>\n",
       "      <td>4.270593</td>\n",
       "      <td>0.909060</td>\n",
       "      <td>1.690460</td>\n",
       "      <td>0.1</td>\n",
       "      <td>0</td>\n",
       "      <td>2000</td>\n",
       "      <td>2000</td>\n",
       "      <td>100</td>\n",
       "    </tr>\n",
       "  </tbody>\n",
       "</table>\n",
       "<p>90 rows × 9 columns</p>\n",
       "</div>"
      ],
      "text/plain": [
       "    Coverage      Size  Quantile  Conformity_score  Alpha  Seed  Calib_size  \\\n",
       "0   0.929167  4.554628  0.312890          0.402780    0.1     0          80   \n",
       "0   0.954167  4.992756  0.280782          0.359504    0.1     0          80   \n",
       "0   0.925000  4.845577  0.284390          0.364332    0.1     0          80   \n",
       "0   0.941667  4.447139  0.247767          0.315696    0.1     0          80   \n",
       "0   0.866667  3.672319  0.249725          0.318276    0.1     0          80   \n",
       "..       ...       ...       ...               ...    ...   ...         ...   \n",
       "0   0.892500  4.241650  0.888941          1.593453    0.1     0        2000   \n",
       "0   0.910667  4.555053  0.893695          1.615026    0.1     0        2000   \n",
       "0   0.891833  4.037531  0.869399          1.511736    0.1     0        2000   \n",
       "0   0.906833  4.164705  0.859770          1.474934    0.1     0        2000   \n",
       "0   0.910667  4.270593  0.909060          1.690460    0.1     0        2000   \n",
       "\n",
       "    Train_size    n  \n",
       "0           80   20  \n",
       "0           80   20  \n",
       "0           80   20  \n",
       "0           80   20  \n",
       "0           80   20  \n",
       "..         ...  ...  \n",
       "0         2000  100  \n",
       "0         2000  100  \n",
       "0         2000  100  \n",
       "0         2000  100  \n",
       "0         2000  100  \n",
       "\n",
       "[90 rows x 9 columns]"
      ]
     },
     "execution_count": 43,
     "metadata": {},
     "output_type": "execute_result"
    }
   ],
   "source": [
    "results"
   ]
  },
  {
   "cell_type": "code",
   "execution_count": 44,
   "id": "e710c5eb",
   "metadata": {},
   "outputs": [
    {
     "data": {
      "text/html": [
       "<div>\n",
       "<style scoped>\n",
       "    .dataframe tbody tr th:only-of-type {\n",
       "        vertical-align: middle;\n",
       "    }\n",
       "\n",
       "    .dataframe tbody tr th {\n",
       "        vertical-align: top;\n",
       "    }\n",
       "\n",
       "    .dataframe thead tr th {\n",
       "        text-align: left;\n",
       "    }\n",
       "</style>\n",
       "<table border=\"1\" class=\"dataframe\">\n",
       "  <thead>\n",
       "    <tr>\n",
       "      <th></th>\n",
       "      <th>n</th>\n",
       "      <th colspan=\"2\" halign=\"left\">Conformity_score</th>\n",
       "    </tr>\n",
       "    <tr>\n",
       "      <th></th>\n",
       "      <th></th>\n",
       "      <th>mean</th>\n",
       "      <th>std</th>\n",
       "    </tr>\n",
       "  </thead>\n",
       "  <tbody>\n",
       "    <tr>\n",
       "      <th>0</th>\n",
       "      <td>20</td>\n",
       "      <td>0.340058</td>\n",
       "      <td>0.030665</td>\n",
       "    </tr>\n",
       "    <tr>\n",
       "      <th>1</th>\n",
       "      <td>30</td>\n",
       "      <td>0.563104</td>\n",
       "      <td>0.058970</td>\n",
       "    </tr>\n",
       "    <tr>\n",
       "      <th>2</th>\n",
       "      <td>40</td>\n",
       "      <td>0.769311</td>\n",
       "      <td>0.105948</td>\n",
       "    </tr>\n",
       "    <tr>\n",
       "      <th>3</th>\n",
       "      <td>50</td>\n",
       "      <td>1.066369</td>\n",
       "      <td>0.086600</td>\n",
       "    </tr>\n",
       "    <tr>\n",
       "      <th>4</th>\n",
       "      <td>60</td>\n",
       "      <td>1.247925</td>\n",
       "      <td>0.077262</td>\n",
       "    </tr>\n",
       "    <tr>\n",
       "      <th>5</th>\n",
       "      <td>70</td>\n",
       "      <td>1.425648</td>\n",
       "      <td>0.134511</td>\n",
       "    </tr>\n",
       "    <tr>\n",
       "      <th>6</th>\n",
       "      <td>80</td>\n",
       "      <td>1.592209</td>\n",
       "      <td>0.171714</td>\n",
       "    </tr>\n",
       "    <tr>\n",
       "      <th>7</th>\n",
       "      <td>90</td>\n",
       "      <td>1.709971</td>\n",
       "      <td>0.166935</td>\n",
       "    </tr>\n",
       "    <tr>\n",
       "      <th>8</th>\n",
       "      <td>100</td>\n",
       "      <td>1.629153</td>\n",
       "      <td>0.131856</td>\n",
       "    </tr>\n",
       "  </tbody>\n",
       "</table>\n",
       "</div>"
      ],
      "text/plain": [
       "     n Conformity_score          \n",
       "                   mean       std\n",
       "0   20         0.340058  0.030665\n",
       "1   30         0.563104  0.058970\n",
       "2   40         0.769311  0.105948\n",
       "3   50         1.066369  0.086600\n",
       "4   60         1.247925  0.077262\n",
       "5   70         1.425648  0.134511\n",
       "6   80         1.592209  0.171714\n",
       "7   90         1.709971  0.166935\n",
       "8  100         1.629153  0.131856"
      ]
     },
     "execution_count": 44,
     "metadata": {},
     "output_type": "execute_result"
    }
   ],
   "source": [
    "summary_flat = results.groupby(['n']).agg({'Conformity_score':[np.mean,np.std]}).reset_index()\n",
    "summary_flat"
   ]
  },
  {
   "cell_type": "code",
   "execution_count": 45,
   "id": "37474df6",
   "metadata": {},
   "outputs": [
    {
     "data": {
      "image/png": "[encoded data removed]",
      "text/plain": [
       "<Figure size 500x300 with 1 Axes>"
      ]
     },
     "metadata": {},
     "output_type": "display_data"
    }
   ],
   "source": [
    "plt.rcParams[\"figure.figsize\"] = (5,3)\n",
    "\n",
    "plt.subplot(1, 1, 1)\n",
    "plt.scatter(summary_flat[\"n\"], summary_flat[\"Conformity_score\"][\"mean\"])\n",
    "plt.axhline(y=norm.ppf(1 - alpha/2), color='r', linestyle='--')\n",
    "plt.xlabel(\"Matrix size\")\n",
    "plt.ylabel(\"Conformity score\")\n",
    "\n",
    "plt.show()"
   ]
  },
  {
   "cell_type": "code",
   "execution_count": null,
   "id": "b8945bfc",
   "metadata": {},
   "outputs": [],
   "source": []
  }
 ],
 "metadata": {
  "kernelspec": {
   "display_name": "Python 3 (ipykernel)",
   "language": "python",
   "name": "python3"
  },
  "language_info": {
   "codemirror_mode": {
    "name": "ipython",
    "version": 3
   },
   "file_extension": ".py",
   "mimetype": "text/x-python",
   "name": "python",
   "nbconvert_exporter": "python",
   "pygments_lexer": "ipython3",
   "version": "3.9.16"
  }
 },
 "nbformat": 4,
 "nbformat_minor": 5
}
