{
 "cells": [
  {
   "cell_type": "markdown",
   "id": "d78d1f35",
   "metadata": {},
   "source": [
    "# Upper bound of the coverage\n",
    "## Under the homogeneous pairs model"
   ]
  },
  {
   "cell_type": "code",
   "execution_count": 1,
   "id": "15298ea6",
   "metadata": {},
   "outputs": [],
   "source": [
    "%matplotlib inline\n",
    "%load_ext autoreload\n",
    "%autoreload 2\n",
    "\n",
    "import sys, os\n",
    "sys.path.append('../pairedRS')"
   ]
  },
  {
   "cell_type": "code",
   "execution_count": 2,
   "id": "cb4f0dae",
   "metadata": {},
   "outputs": [],
   "source": [
    "import numpy as np   \n",
    "import pandas as pd\n",
    "import pdb\n",
    "import matplotlib.pyplot as plt\n",
    "import scipy.stats as stats\n",
    "import seaborn as sns\n",
    "from tqdm import tqdm\n",
    "import sys"
   ]
  },
  {
   "cell_type": "code",
   "execution_count": 51,
   "id": "ce6f0871",
   "metadata": {},
   "outputs": [],
   "source": [
    "from utils import *     # contains some useful helper functions \n",
    "from models import *    # toy models\n",
    "from solvers import *   # matrix completion solvers\n",
    "from methods import *"
   ]
  },
  {
   "cell_type": "code",
   "execution_count": 52,
   "id": "5c02a339",
   "metadata": {},
   "outputs": [],
   "source": [
    "from upper_bound_numerical import *\n",
    "from upper_bound_class import *"
   ]
  },
  {
   "cell_type": "code",
   "execution_count": 53,
   "id": "58aec951",
   "metadata": {},
   "outputs": [],
   "source": [
    "n1 = 100\n",
    "n2 = 100\n",
    "r_true = 3\n",
    "r_guess = 3\n",
    "prob_obs = 0.3\n",
    "gamma_n = 0.5\n",
    "gamma_m = 0.9\n",
    "noise_model = 'step'\n",
    "a = 1\n",
    "b = 1\n",
    "mu = 10\n",
    "seed = 1\n",
    "\n",
    "max_test_pairs = 1000            # Maximum number of test pairs\n",
    "matrix_generation_seed = 2023    # Data matrix is fixed\n",
    "repetition = 100                 # Number of repetitions\n",
    "verbose = True\n",
    "\n",
    "methods = [\"conformal\",\n",
    "           \"naive\",\n",
    "           \"bonferroni\",\n",
    "           \"uncorrected\"]\n",
    "model = \"RFM\"\n",
    "solver = \"pmf\"\n",
    "\n",
    "# Other parameters\n",
    "size_obs = int(n1 * n2 * prob_obs)\n",
    "n_calib_pairs = int(size_obs//4)\n",
    "\n",
    "allow_inf = False\n",
    "alpha = 0.1\n",
    "\n",
    "mm = RandomFactorizationModel(n1 ,n2, r_true)\n",
    "U, V, M_true = mm.sample_noiseless(matrix_generation_seed)"
   ]
  },
  {
   "cell_type": "code",
   "execution_count": 54,
   "id": "576a4235",
   "metadata": {
    "scrolled": false
   },
   "outputs": [
    {
     "name": "stderr",
     "output_type": "stream",
     "text": [
      "Repetitions: 100%|██████████| 100/100 [00:03<00:00, 28.32it/s]\n"
     ]
    }
   ],
   "source": [
    "results = pd.DataFrame({})\n",
    "for i in tqdm(range(repetition), desc=\"Repetitions\", leave=True, position=0):\n",
    "    random_state = repetition * seed + i\n",
    "\n",
    "    res = run_single_experiment_max_weight(M_true, alpha, size_obs, n_calib_pairs, max_test_pairs, \n",
    "                          r_true, r_guess, gamma_n=gamma_n, gamma_m=gamma_m, noise_model=noise_model, a=a, b=b, mu=mu,\n",
    "                          random_state=random_state)\n",
    "    \n",
    "    results = pd.concat([results, res])"
   ]
  },
  {
   "cell_type": "code",
   "execution_count": 56,
   "id": "8a9ada0d",
   "metadata": {},
   "outputs": [
    {
     "data": {
      "text/plain": [
       "max_weight    0.002175\n",
       "dtype: float64"
      ]
     },
     "execution_count": 56,
     "metadata": {},
     "output_type": "execute_result"
    }
   ],
   "source": [
    "results.mean()"
   ]
  },
  {
   "cell_type": "code",
   "execution_count": 24,
   "id": "6a71a904",
   "metadata": {},
   "outputs": [
    {
     "data": {
      "text/html": [
       "<div>\n",
       "<style scoped>\n",
       "    .dataframe tbody tr th:only-of-type {\n",
       "        vertical-align: middle;\n",
       "    }\n",
       "\n",
       "    .dataframe tbody tr th {\n",
       "        vertical-align: top;\n",
       "    }\n",
       "\n",
       "    .dataframe thead th {\n",
       "        text-align: right;\n",
       "    }\n",
       "</style>\n",
       "<table border=\"1\" class=\"dataframe\">\n",
       "  <thead>\n",
       "    <tr style=\"text-align: right;\">\n",
       "      <th></th>\n",
       "      <th>max_weight</th>\n",
       "    </tr>\n",
       "  </thead>\n",
       "  <tbody>\n",
       "    <tr>\n",
       "      <th>0</th>\n",
       "      <td>0.002172</td>\n",
       "    </tr>\n",
       "    <tr>\n",
       "      <th>0</th>\n",
       "      <td>0.001995</td>\n",
       "    </tr>\n",
       "    <tr>\n",
       "      <th>0</th>\n",
       "      <td>0.002140</td>\n",
       "    </tr>\n",
       "    <tr>\n",
       "      <th>0</th>\n",
       "      <td>0.002374</td>\n",
       "    </tr>\n",
       "    <tr>\n",
       "      <th>0</th>\n",
       "      <td>0.002016</td>\n",
       "    </tr>\n",
       "    <tr>\n",
       "      <th>...</th>\n",
       "      <td>...</td>\n",
       "    </tr>\n",
       "    <tr>\n",
       "      <th>0</th>\n",
       "      <td>0.002365</td>\n",
       "    </tr>\n",
       "    <tr>\n",
       "      <th>0</th>\n",
       "      <td>0.001934</td>\n",
       "    </tr>\n",
       "    <tr>\n",
       "      <th>0</th>\n",
       "      <td>0.002187</td>\n",
       "    </tr>\n",
       "    <tr>\n",
       "      <th>0</th>\n",
       "      <td>0.002188</td>\n",
       "    </tr>\n",
       "    <tr>\n",
       "      <th>0</th>\n",
       "      <td>0.002287</td>\n",
       "    </tr>\n",
       "  </tbody>\n",
       "</table>\n",
       "<p>100 rows × 1 columns</p>\n",
       "</div>"
      ],
      "text/plain": [
       "    max_weight\n",
       "0     0.002172\n",
       "0     0.001995\n",
       "0     0.002140\n",
       "0     0.002374\n",
       "0     0.002016\n",
       "..         ...\n",
       "0     0.002365\n",
       "0     0.001934\n",
       "0     0.002187\n",
       "0     0.002188\n",
       "0     0.002287\n",
       "\n",
       "[100 rows x 1 columns]"
      ]
     },
     "execution_count": 24,
     "metadata": {},
     "output_type": "execute_result"
    }
   ],
   "source": [
    "results"
   ]
  },
  {
   "cell_type": "code",
   "execution_count": 25,
   "id": "791fef76",
   "metadata": {},
   "outputs": [
    {
     "data": {
      "text/plain": [
       "max_weight    0.002175\n",
       "dtype: float64"
      ]
     },
     "execution_count": 25,
     "metadata": {},
     "output_type": "execute_result"
    }
   ],
   "source": [
    "results.mean()"
   ]
  },
  {
   "cell_type": "markdown",
   "id": "60bd577b",
   "metadata": {},
   "source": [
    "Therefore, we can see that under the homogeneous pairs model, $\\mathbb{E}{\\max_{1,\\ldots,n+1} p^w_i({X}_{1}, \\dots, {X}_{n+1})}$ is very small."
   ]
  },
  {
   "cell_type": "markdown",
   "id": "dfdc0a1a",
   "metadata": {},
   "source": [
    "## How does it change with parameters?"
   ]
  },
  {
   "cell_type": "markdown",
   "id": "ba6dcc7d",
   "metadata": {},
   "source": [
    "### Different number of calibration pairs"
   ]
  },
  {
   "cell_type": "code",
   "execution_count": 57,
   "id": "9be55d57",
   "metadata": {},
   "outputs": [],
   "source": [
    "n1 = 100\n",
    "n2 = 100\n",
    "r_true = 3\n",
    "r_guess = 3\n",
    "prob_obs = 0.3\n",
    "gamma_n = 0.5\n",
    "gamma_m = 0.9\n",
    "noise_model = 'step'\n",
    "a = 1\n",
    "b = 1\n",
    "mu = 10\n",
    "seed = 1\n",
    "\n",
    "max_test_pairs = 1000            # Maximum number of test pairs\n",
    "matrix_generation_seed = 2023    # Data matrix is fixed\n",
    "repetition = 100                 # Number of repetitions\n",
    "verbose = True\n",
    "\n",
    "methods = [\"conformal\",\n",
    "           \"naive\",\n",
    "           \"bonferroni\",\n",
    "           \"uncorrected\"]\n",
    "model = \"RFM\"\n",
    "solver = \"pmf\"\n",
    "\n",
    "# Other parameters\n",
    "size_obs = int(n1 * n2 * prob_obs)\n",
    "\n",
    "allow_inf = False\n",
    "alpha = 0.1\n",
    "\n",
    "mm = RandomFactorizationModel(n1 ,n2, r_true)\n",
    "U, V, M_true = mm.sample_noiseless(matrix_generation_seed)"
   ]
  },
  {
   "cell_type": "code",
   "execution_count": 71,
   "id": "bfc8e392",
   "metadata": {},
   "outputs": [
    {
     "name": "stderr",
     "output_type": "stream",
     "text": [
      "Repetitions: 100%|██████████| 100/100 [00:01<00:00, 95.20it/s]\n",
      "Repetitions: 100%|██████████| 100/100 [00:01<00:00, 60.86it/s]\n",
      "Repetitions: 100%|██████████| 100/100 [00:02<00:00, 35.83it/s]\n",
      "Repetitions: 100%|██████████| 100/100 [00:04<00:00, 21.58it/s]\n",
      "Repetitions: 100%|██████████| 100/100 [00:07<00:00, 14.17it/s]\n"
     ]
    }
   ],
   "source": [
    "n_calib_pairs_list = [int(size_obs*0.05), int(size_obs*0.10), int(size_obs*0.15),int(size_obs*0.20), int(size_obs*0.25)]\n",
    "\n",
    "experiment_results = pd.DataFrame({})\n",
    "for n_calib_pairs in n_calib_pairs_list:\n",
    "    experiment_res = pd.DataFrame({})\n",
    "    results = pd.DataFrame({})\n",
    "    \n",
    "    for i in tqdm(range(repetition), desc=\"Repetitions\", leave=True, position=0):\n",
    "        random_state = repetition * seed + i\n",
    "\n",
    "        res = run_single_experiment_max_weight(M_true, alpha, size_obs, n_calib_pairs, max_test_pairs, \n",
    "                              r_true, r_guess, gamma_n=gamma_n, gamma_m=gamma_m, noise_model=noise_model, a=a, b=b, mu=mu,\n",
    "                              random_state=random_state)\n",
    "        \n",
    "        results = pd.concat([results, res])\n",
    "        \n",
    "    avg_max_weight = results['max_weight'].mean()\n",
    "    temp_df = pd.DataFrame({'n_calib_pairs': [n_calib_pairs], 'avg_max_weight': [avg_max_weight]})\n",
    "    experiment_results = pd.concat([experiment_results, temp_df], ignore_index=True)"
   ]
  },
  {
   "cell_type": "code",
   "execution_count": 72,
   "id": "604e98c8",
   "metadata": {},
   "outputs": [
    {
     "data": {
      "text/html": [
       "<div>\n",
       "<style scoped>\n",
       "    .dataframe tbody tr th:only-of-type {\n",
       "        vertical-align: middle;\n",
       "    }\n",
       "\n",
       "    .dataframe tbody tr th {\n",
       "        vertical-align: top;\n",
       "    }\n",
       "\n",
       "    .dataframe thead th {\n",
       "        text-align: right;\n",
       "    }\n",
       "</style>\n",
       "<table border=\"1\" class=\"dataframe\">\n",
       "  <thead>\n",
       "    <tr style=\"text-align: right;\">\n",
       "      <th></th>\n",
       "      <th>n_calib_pairs</th>\n",
       "      <th>avg_max_weight</th>\n",
       "    </tr>\n",
       "  </thead>\n",
       "  <tbody>\n",
       "    <tr>\n",
       "      <th>0</th>\n",
       "      <td>150</td>\n",
       "      <td>0.010745</td>\n",
       "    </tr>\n",
       "    <tr>\n",
       "      <th>1</th>\n",
       "      <td>300</td>\n",
       "      <td>0.005415</td>\n",
       "    </tr>\n",
       "    <tr>\n",
       "      <th>2</th>\n",
       "      <td>450</td>\n",
       "      <td>0.003621</td>\n",
       "    </tr>\n",
       "    <tr>\n",
       "      <th>3</th>\n",
       "      <td>600</td>\n",
       "      <td>0.002717</td>\n",
       "    </tr>\n",
       "    <tr>\n",
       "      <th>4</th>\n",
       "      <td>750</td>\n",
       "      <td>0.002175</td>\n",
       "    </tr>\n",
       "  </tbody>\n",
       "</table>\n",
       "</div>"
      ],
      "text/plain": [
       "   n_calib_pairs  avg_max_weight\n",
       "0            150        0.010745\n",
       "1            300        0.005415\n",
       "2            450        0.003621\n",
       "3            600        0.002717\n",
       "4            750        0.002175"
      ]
     },
     "execution_count": 72,
     "metadata": {},
     "output_type": "execute_result"
    }
   ],
   "source": [
    "experiment_results"
   ]
  },
  {
   "cell_type": "code",
   "execution_count": 82,
   "id": "b66c3872",
   "metadata": {
    "scrolled": false
   },
   "outputs": [
    {
     "data": {
      "image/png": "[encoded data removed]",
      "text/plain": [
       "<Figure size 1000x600 with 1 Axes>"
      ]
     },
     "metadata": {},
     "output_type": "display_data"
    }
   ],
   "source": [
    "plt.rcParams[\"figure.figsize\"] = (10,6)\n",
    "\n",
    "plt.scatter(experiment_results[\"n_calib_pairs\"], experiment_results[\"avg_max_weight\"])\n",
    "plt.plot(experiment_results[\"n_calib_pairs\"], experiment_results[\"avg_max_weight\"], label='Line Connect', linestyle='-', color='orange')\n",
    "plt.xlabel(\"Number of calibration pairs\")\n",
    "plt.ylabel(\"Upper bound inflation\")\n",
    "\n",
    "plt.show()"
   ]
  },
  {
   "cell_type": "markdown",
   "id": "bb46b3e0",
   "metadata": {},
   "source": [
    "### Different size of the matrix"
   ]
  },
  {
   "cell_type": "code",
   "execution_count": 83,
   "id": "ced01751",
   "metadata": {},
   "outputs": [],
   "source": [
    "r_true = 3\n",
    "r_guess = 3\n",
    "prob_obs = 0.3\n",
    "gamma_n = 0.5\n",
    "gamma_m = 0.9\n",
    "noise_model = 'step'\n",
    "a = 1\n",
    "b = 1\n",
    "mu = 10\n",
    "seed = 1\n",
    "\n",
    "max_test_pairs = 1000            # Maximum number of test pairs\n",
    "matrix_generation_seed = 2023    # Data matrix is fixed\n",
    "repetition = 100                 # Number of repetitions\n",
    "verbose = True\n",
    "\n",
    "methods = [\"conformal\",\n",
    "           \"naive\",\n",
    "           \"bonferroni\",\n",
    "           \"uncorrected\"]\n",
    "model = \"RFM\"\n",
    "solver = \"pmf\""
   ]
  },
  {
   "cell_type": "code",
   "execution_count": 85,
   "id": "2cea440c",
   "metadata": {},
   "outputs": [
    {
     "name": "stderr",
     "output_type": "stream",
     "text": [
      "Repetitions: 100%|██████████| 100/100 [00:03<00:00, 28.24it/s]\n",
      "Repetitions: 100%|██████████| 100/100 [00:12<00:00,  8.06it/s]\n",
      "Repetitions: 100%|██████████| 100/100 [00:24<00:00,  4.08it/s]\n"
     ]
    }
   ],
   "source": [
    "n_list = [100, 150, 200]\n",
    "experiment_results = pd.DataFrame({})\n",
    "\n",
    "for matrix_size in n_list:\n",
    "    n1 = matrix_size\n",
    "    n2 = matrix_size\n",
    "    size_obs = int(n1 * n2 * prob_obs)\n",
    "    n_calib_pairs = int(size_obs//4)\n",
    "\n",
    "    allow_inf = False\n",
    "    alpha = 0.1\n",
    "\n",
    "    mm = RandomFactorizationModel(n1 ,n2, r_true)\n",
    "    U, V, M_true = mm.sample_noiseless(matrix_generation_seed)\n",
    "    \n",
    "    experiment_res = pd.DataFrame({})\n",
    "    results = pd.DataFrame({})\n",
    "    \n",
    "    for i in tqdm(range(repetition), desc=\"Repetitions\", leave=True, position=0):\n",
    "        random_state = repetition * seed + i\n",
    "\n",
    "        res = run_single_experiment_max_weight(M_true, alpha, size_obs, n_calib_pairs, max_test_pairs, \n",
    "                              r_true, r_guess, gamma_n=gamma_n, gamma_m=gamma_m, noise_model=noise_model, a=a, b=b, mu=mu,\n",
    "                              random_state=random_state)\n",
    "        \n",
    "        results = pd.concat([results, res])\n",
    "        \n",
    "    avg_max_weight = results['max_weight'].mean()\n",
    "    temp_df = pd.DataFrame({'matrix_size': [matrix_size], 'avg_max_weight': [avg_max_weight]})\n",
    "    experiment_results = pd.concat([experiment_results, temp_df], ignore_index=True)"
   ]
  },
  {
   "cell_type": "code",
   "execution_count": 86,
   "id": "9ecae1d0",
   "metadata": {},
   "outputs": [
    {
     "data": {
      "text/html": [
       "<div>\n",
       "<style scoped>\n",
       "    .dataframe tbody tr th:only-of-type {\n",
       "        vertical-align: middle;\n",
       "    }\n",
       "\n",
       "    .dataframe tbody tr th {\n",
       "        vertical-align: top;\n",
       "    }\n",
       "\n",
       "    .dataframe thead th {\n",
       "        text-align: right;\n",
       "    }\n",
       "</style>\n",
       "<table border=\"1\" class=\"dataframe\">\n",
       "  <thead>\n",
       "    <tr style=\"text-align: right;\">\n",
       "      <th></th>\n",
       "      <th>matrix_size</th>\n",
       "      <th>avg_max_weight</th>\n",
       "    </tr>\n",
       "  </thead>\n",
       "  <tbody>\n",
       "    <tr>\n",
       "      <th>0</th>\n",
       "      <td>100</td>\n",
       "      <td>0.002175</td>\n",
       "    </tr>\n",
       "    <tr>\n",
       "      <th>1</th>\n",
       "      <td>150</td>\n",
       "      <td>0.000908</td>\n",
       "    </tr>\n",
       "    <tr>\n",
       "      <th>2</th>\n",
       "      <td>200</td>\n",
       "      <td>0.000489</td>\n",
       "    </tr>\n",
       "  </tbody>\n",
       "</table>\n",
       "</div>"
      ],
      "text/plain": [
       "   matrix_size  avg_max_weight\n",
       "0          100        0.002175\n",
       "1          150        0.000908\n",
       "2          200        0.000489"
      ]
     },
     "execution_count": 86,
     "metadata": {},
     "output_type": "execute_result"
    }
   ],
   "source": [
    "experiment_results"
   ]
  },
  {
   "cell_type": "code",
   "execution_count": 87,
   "id": "cf1284df",
   "metadata": {},
   "outputs": [
    {
     "data": {
      "image/png": "[encoded data removed]",
      "text/plain": [
       "<Figure size 1000x600 with 1 Axes>"
      ]
     },
     "metadata": {},
     "output_type": "display_data"
    }
   ],
   "source": [
    "plt.rcParams[\"figure.figsize\"] = (10,6)\n",
    "\n",
    "plt.scatter(experiment_results[\"matrix_size\"], experiment_results[\"avg_max_weight\"])\n",
    "plt.plot(experiment_results[\"matrix_size\"], experiment_results[\"avg_max_weight\"], label='Line Connect', linestyle='-', color='orange')\n",
    "plt.xlabel(\"Matrix size\")\n",
    "plt.ylabel(\"Upper bound inflation\")\n",
    "\n",
    "plt.show()"
   ]
  }
 ],
 "metadata": {
  "kernelspec": {
   "display_name": "Python 3 (ipykernel)",
   "language": "python",
   "name": "python3"
  },
  "language_info": {
   "codemirror_mode": {
    "name": "ipython",
    "version": 3
   },
   "file_extension": ".py",
   "mimetype": "text/x-python",
   "name": "python",
   "nbconvert_exporter": "python",
   "pygments_lexer": "ipython3",
   "version": "3.9.16"
  }
 },
 "nbformat": 4,
 "nbformat_minor": 5
}
