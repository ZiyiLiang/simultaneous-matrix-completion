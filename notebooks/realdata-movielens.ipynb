{
 "cells": [
  {
   "cell_type": "code",
   "execution_count": 128,
   "id": "3ad3440f",
   "metadata": {},
   "outputs": [
    {
     "name": "stdout",
     "output_type": "stream",
     "text": [
      "The autoreload extension is already loaded. To reload it, use:\n",
      "  %reload_ext autoreload\n"
     ]
    }
   ],
   "source": [
    "%matplotlib inline\n",
    "%load_ext autoreload\n",
    "%autoreload 2\n",
    "\n",
    "import sys, os\n",
    "sys.path.append('../smc')\n",
    "sys.path.append('../third_party')"
   ]
  },
  {
   "cell_type": "code",
   "execution_count": 129,
   "id": "386217a7",
   "metadata": {
    "scrolled": true
   },
   "outputs": [],
   "source": [
    "import numpy as np   \n",
    "import pandas as pd\n",
    "import pdb\n",
    "import matplotlib.pyplot as plt\n",
    "import scipy.stats as stats\n",
    "import seaborn as sns\n",
    "from tqdm import tqdm\n",
    "import sys\n",
    "\n",
    "from utils import *     # contains some useful helper functions \n",
    "from utils_data import *\n",
    "from models import *    # toy models\n",
    "from solvers import *   # matrix completion solvers\n",
    "from methods import *\n",
    "from wsc import *\n",
    "from missingness_estimation import *"
   ]
  },
  {
   "cell_type": "code",
   "execution_count": 132,
   "id": "2fc2a103",
   "metadata": {},
   "outputs": [],
   "source": [
    "M, mask_avail, mask_miss = load_data(\"../data/\", \"movielens\", replace_nan=-1, random_state=0)"
   ]
  },
  {
   "cell_type": "code",
   "execution_count": 133,
   "id": "0d3b2346",
   "metadata": {},
   "outputs": [
    {
     "data": {
      "text/plain": [
       "100000"
      ]
     },
     "execution_count": 133,
     "metadata": {},
     "output_type": "execute_result"
    }
   ],
   "source": [
    "np.sum(mask_avail)"
   ]
  },
  {
   "cell_type": "code",
   "execution_count": 135,
   "id": "c68fd9b4",
   "metadata": {
    "scrolled": false
   },
   "outputs": [
    {
     "data": {
      "text/plain": [
       "(1682, 943)"
      ]
     },
     "execution_count": 135,
     "metadata": {},
     "output_type": "execute_result"
    }
   ],
   "source": [
    "M.shape"
   ]
  },
  {
   "cell_type": "code",
   "execution_count": 136,
   "id": "6e891e0f",
   "metadata": {},
   "outputs": [],
   "source": [
    "del M, mask_avail"
   ]
  },
  {
   "cell_type": "code",
   "execution_count": 57,
   "id": "ad93ecea",
   "metadata": {},
   "outputs": [],
   "source": [
    "# Matrix shape and rank\n",
    "n1, n2 = M.shape\n",
    "k = 3\n",
    "r = 10\n",
    "prop_train = 0.75\n",
    "allow_inf = False\n",
    "alpha = 0.1"
   ]
  },
  {
   "cell_type": "code",
   "execution_count": 58,
   "id": "b03fc2ee",
   "metadata": {},
   "outputs": [],
   "source": [
    "max_test_queries = 100\n",
    "sampler = QuerySampling(n1,n2)\n",
    "\n",
    "# Randomly split the observed set into test set and training set\n",
    "mask_obs, mask_test = sampler.sample_submask(mask=mask_avail, sub_size=prop_train, random_state=random_state)\n",
    "\n",
    "# Sample test queries\n",
    "n_test_queries = min(np.sum(np.sum(mask_test, axis=1) // k), max_test_queries)\n",
    "_, idxs_test, _ = sampler.sample_train_calib(mask_test, k, calib_size=n_test_queries, random_state=random_state)"
   ]
  },
  {
   "cell_type": "code",
   "execution_count": 59,
   "id": "8d8313b5",
   "metadata": {},
   "outputs": [
    {
     "name": "stdout",
     "output_type": "stream",
     "text": [
      "Observation size: 187500, training size: 184500,  calib queries: 1000, test queries: 100\n"
     ]
    }
   ],
   "source": [
    "max_calib_queries = 1000\n",
    "n_calib_queries = min(int(0.5 * np.sum(np.sum(mask_obs, axis=1) // k)), max_calib_queries)\n",
    "mask_train, idxs_calib, mask_calib = sampler.sample_train_calib(mask_obs, k, \n",
    "                                        calib_size=n_calib_queries, random_state=random_state)\n",
    "\n",
    "print(\"Observation size: {}, training size: {},  calib queries: {}, test queries: {}\"\n",
    "      .format(np.sum(mask_obs), np.sum(mask_train), int(np.sum(mask_calib)//k), len(idxs_test[0])//k))"
   ]
  },
  {
   "cell_type": "code",
   "execution_count": 60,
   "id": "dfa943fb",
   "metadata": {
    "scrolled": false
   },
   "outputs": [
    {
     "name": "stdout",
     "output_type": "stream",
     "text": [
      "Iteration: 1; Mean diff: 0.0063\n",
      "Iteration: 2; Mean diff: 0.0007\n",
      "Iteration: 3; Mean diff: 0.0003\n",
      "Iteration: 4; Mean diff: 0.0002\n",
      "Iteration: 5; Mean diff: 0.0001\n",
      "Iteration: 6; Mean diff: 0.0001\n",
      "Iteration: 7; Mean diff: 0.0001\n",
      "Iteration: 8; Mean diff: 0.0000\n",
      "Iteration: 9; Mean diff: 0.0000\n",
      "Iteration: 10; Mean diff: 0.0000\n",
      "Iteration: 11; Mean diff: 0.0000\n",
      "Iteration: 12; Mean diff: 0.0000\n",
      "Iteration: 13; Mean diff: 0.0000\n",
      "Iteration: 14; Mean diff: 0.0000\n",
      "Iteration: 15; Mean diff: 0.0000\n",
      "Iteration: 16; Mean diff: 0.0000\n",
      "Iteration: 17; Mean diff: 0.0000\n",
      "Iteration: 18; Mean diff: 0.0000\n",
      "Iteration: 19; Mean diff: 0.0000\n",
      "Iteration: 20; Mean diff: 0.0000\n",
      "Iteration: 21; Mean diff: 0.0000\n",
      "Iteration: 22; Mean diff: 0.0000\n",
      "Iteration: 23; Mean diff: 0.0000\n",
      "Iteration: 24; Mean diff: 0.0000\n",
      "Iteration: 25; Mean diff: 0.0000\n",
      "Iteration: 26; Mean diff: 0.0000\n",
      "Iteration: 27; Mean diff: 0.0000\n",
      "Iteration: 28; Mean diff: 0.0000\n",
      "Iteration: 29; Mean diff: 0.0000\n",
      "Iteration: 30; Mean diff: 0.0000\n"
     ]
    }
   ],
   "source": [
    "# Train matrix completion model\n",
    "Mhat, _, _ = pmf_solve(M, mask_train, k=r, max_iteration=30, random_state=random_state)"
   ]
  },
  {
   "cell_type": "code",
   "execution_count": 55,
   "id": "5c580699",
   "metadata": {
    "scrolled": true
   },
   "outputs": [
    {
     "name": "stdout",
     "output_type": "stream",
     "text": [
      "iter: 1\n",
      "iter: 2\n",
      "iter: 3\n",
      "iter: 4\n",
      "iter: 5\n",
      "iter: 6\n",
      "iter: 7\n",
      "iter: 8\n",
      "iter: 9\n",
      "iter: 10\n",
      "iter: 11\n",
      "iter: 12\n",
      "Function value changing by less than progTol\n"
     ]
    }
   ],
   "source": [
    "w_obs=estimate_P(mask_train, prop_train, r=5)"
   ]
  },
  {
   "cell_type": "code",
   "execution_count": 61,
   "id": "a839b7e5",
   "metadata": {},
   "outputs": [
    {
     "name": "stdout",
     "output_type": "stream",
     "text": [
      "Computing conformal prediction intervals for 100 test queries...\n"
     ]
    },
    {
     "name": "stderr",
     "output_type": "stream",
     "text": [
      "CI: 100%|████████████████████████████████████████████████████████████████████████████| 100/100 [00:03<00:00, 31.88it/s]"
     ]
    },
    {
     "name": "stdout",
     "output_type": "stream",
     "text": [
      "Done!\n"
     ]
    },
    {
     "name": "stderr",
     "output_type": "stream",
     "text": [
      "\n"
     ]
    }
   ],
   "source": [
    "ci_method = SimulCI(M, Mhat, mask_obs, idxs_calib, k, w_obs=w_obs)\n",
    "df = ci_method.get_CI(idxs_test, alpha, allow_inf=allow_inf)\n",
    "lower, upper, is_inf= df.loc[0].lower, df.loc[0].upper, df.loc[0].is_inf\n",
    "lower[lower <= 0] = 0\n",
    "upper[upper >= 5] = 5\n",
    "res = evaluate_SCI(lower, upper, k, M, idxs_test, is_inf=is_inf, method=\"SMC\")"
   ]
  },
  {
   "cell_type": "code",
   "execution_count": 62,
   "id": "0cbd7c8d",
   "metadata": {},
   "outputs": [
    {
     "name": "stdout",
     "output_type": "stream",
     "text": [
      "Observation size: 187500, training size: 184500, calib size: 3000, test queries: 100\n"
     ]
    }
   ],
   "source": [
    "mask_train, idxs_calib, mask_calib = sampler.sample_train_calib(mask_obs, 1, \n",
    "                                        calib_size=n_calib_queries*k, random_state=random_state)\n",
    "\n",
    "print(\"Observation size: {}, training size: {}, calib size: {}, test queries: {}\"\n",
    "      .format(np.sum(mask_obs), np.sum(mask_train), np.sum(mask_calib), len(idxs_test[0])//k))"
   ]
  },
  {
   "cell_type": "code",
   "execution_count": 63,
   "id": "e4379f70",
   "metadata": {
    "scrolled": true
   },
   "outputs": [
    {
     "name": "stdout",
     "output_type": "stream",
     "text": [
      "Iteration: 1; Mean diff: 0.0063\n",
      "Iteration: 2; Mean diff: 0.0007\n",
      "Iteration: 3; Mean diff: 0.0003\n",
      "Iteration: 4; Mean diff: 0.0002\n",
      "Iteration: 5; Mean diff: 0.0001\n",
      "Iteration: 6; Mean diff: 0.0001\n",
      "Iteration: 7; Mean diff: 0.0001\n",
      "Iteration: 8; Mean diff: 0.0000\n",
      "Iteration: 9; Mean diff: 0.0000\n",
      "Iteration: 10; Mean diff: 0.0000\n",
      "Iteration: 11; Mean diff: 0.0000\n",
      "Iteration: 12; Mean diff: 0.0000\n",
      "Iteration: 13; Mean diff: 0.0000\n",
      "Iteration: 14; Mean diff: 0.0000\n",
      "Iteration: 15; Mean diff: 0.0000\n",
      "Iteration: 16; Mean diff: 0.0000\n",
      "Iteration: 17; Mean diff: 0.0000\n",
      "Iteration: 18; Mean diff: 0.0000\n",
      "Iteration: 19; Mean diff: 0.0000\n",
      "Iteration: 20; Mean diff: 0.0000\n",
      "Iteration: 21; Mean diff: 0.0000\n",
      "Iteration: 22; Mean diff: 0.0000\n",
      "Iteration: 23; Mean diff: 0.0000\n",
      "Iteration: 24; Mean diff: 0.0000\n",
      "Iteration: 25; Mean diff: 0.0000\n",
      "Iteration: 26; Mean diff: 0.0000\n",
      "Iteration: 27; Mean diff: 0.0000\n",
      "Iteration: 28; Mean diff: 0.0000\n",
      "Iteration: 29; Mean diff: 0.0000\n",
      "Iteration: 30; Mean diff: 0.0000\n"
     ]
    }
   ],
   "source": [
    "# Train matrix completion model\n",
    "Mhat, _, _ = pmf_solve(M, mask_train, k=r, max_iteration=30, random_state=random_state)"
   ]
  },
  {
   "cell_type": "code",
   "execution_count": 64,
   "id": "d0093582",
   "metadata": {},
   "outputs": [
    {
     "name": "stdout",
     "output_type": "stream",
     "text": [
      "Computing Bonferroni-style intervals for 100 test queries...\n"
     ]
    },
    {
     "name": "stderr",
     "output_type": "stream",
     "text": [
      "CI: 100%|████████████████████████████████████████████████████████████████████████████| 300/300 [00:21<00:00, 14.13it/s]"
     ]
    },
    {
     "name": "stdout",
     "output_type": "stream",
     "text": [
      "Done!\n"
     ]
    },
    {
     "name": "stderr",
     "output_type": "stream",
     "text": [
      "\n"
     ]
    }
   ],
   "source": [
    "a_list = [alpha, alpha * k]\n",
    "ci_method = Bonf_benchmark(M, Mhat, mask_obs, idxs_calib, k, w_obs=w_obs)\n",
    "df = ci_method.get_CI(idxs_test, a_list, allow_inf=allow_inf)\n",
    "for i, m in enumerate([\"Bonferroni\", \"Uncorrected\"]):\n",
    "    lower, upper, is_inf= df.loc[i].lower, df.loc[i].upper, df.loc[i].is_inf\n",
    "    lower[lower <= 0] = 0\n",
    "    upper[upper >= 5] = 5\n",
    "    res = pd.concat([res, evaluate_SCI(lower, upper, k, M, idxs_test, is_inf=is_inf, method=m)])"
   ]
  },
  {
   "cell_type": "code",
   "execution_count": 65,
   "id": "00904814",
   "metadata": {},
   "outputs": [
    {
     "data": {
      "text/html": [
       "<div>\n",
       "<style scoped>\n",
       "    .dataframe tbody tr th:only-of-type {\n",
       "        vertical-align: middle;\n",
       "    }\n",
       "\n",
       "    .dataframe tbody tr th {\n",
       "        vertical-align: top;\n",
       "    }\n",
       "\n",
       "    .dataframe thead th {\n",
       "        text-align: right;\n",
       "    }\n",
       "</style>\n",
       "<table border=\"1\" class=\"dataframe\">\n",
       "  <thead>\n",
       "    <tr style=\"text-align: right;\">\n",
       "      <th></th>\n",
       "      <th>Query_coverage</th>\n",
       "      <th>Coverage</th>\n",
       "      <th>Size</th>\n",
       "      <th>Inf_prop</th>\n",
       "      <th>Method</th>\n",
       "    </tr>\n",
       "  </thead>\n",
       "  <tbody>\n",
       "    <tr>\n",
       "      <th>0</th>\n",
       "      <td>0.88</td>\n",
       "      <td>0.956667</td>\n",
       "      <td>2.213244</td>\n",
       "      <td>0.0</td>\n",
       "      <td>SMC</td>\n",
       "    </tr>\n",
       "    <tr>\n",
       "      <th>0</th>\n",
       "      <td>0.89</td>\n",
       "      <td>0.960000</td>\n",
       "      <td>2.397347</td>\n",
       "      <td>0.0</td>\n",
       "      <td>Bonferroni</td>\n",
       "    </tr>\n",
       "    <tr>\n",
       "      <th>0</th>\n",
       "      <td>0.68</td>\n",
       "      <td>0.866667</td>\n",
       "      <td>0.995073</td>\n",
       "      <td>0.0</td>\n",
       "      <td>Uncorrected</td>\n",
       "    </tr>\n",
       "  </tbody>\n",
       "</table>\n",
       "</div>"
      ],
      "text/plain": [
       "   Query_coverage  Coverage      Size  Inf_prop       Method\n",
       "0            0.88  0.956667  2.213244       0.0          SMC\n",
       "0            0.89  0.960000  2.397347       0.0   Bonferroni\n",
       "0            0.68  0.866667  0.995073       0.0  Uncorrected"
      ]
     },
     "execution_count": 65,
     "metadata": {},
     "output_type": "execute_result"
    }
   ],
   "source": [
    "res"
   ]
  },
  {
   "cell_type": "code",
   "execution_count": null,
   "id": "5be0b6c0",
   "metadata": {},
   "outputs": [],
   "source": []
  }
 ],
 "metadata": {
  "kernelspec": {
   "display_name": "Python 3 (ipykernel)",
   "language": "python",
   "name": "python3"
  },
  "language_info": {
   "codemirror_mode": {
    "name": "ipython",
    "version": 3
   },
   "file_extension": ".py",
   "mimetype": "text/x-python",
   "name": "python",
   "nbconvert_exporter": "python",
   "pygments_lexer": "ipython3",
   "version": "3.10.9"
  }
 },
 "nbformat": 4,
 "nbformat_minor": 5
}
