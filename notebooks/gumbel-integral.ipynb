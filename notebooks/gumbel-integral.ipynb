{
 "cells": [
  {
   "cell_type": "markdown",
   "id": "1263a1db",
   "metadata": {},
   "source": [
    "# Gumbel integral \n",
    "In this notebook we present an efficient way of evaluating the gumbel integral using results from Fog https://www.tandfonline.com/doi/abs/10.1080/03610910701790236\n"
   ]
  },
  {
   "cell_type": "code",
   "execution_count": 142,
   "id": "c4583f68",
   "metadata": {},
   "outputs": [],
   "source": [
    "import numpy as np\n",
    "import random\n",
    "import matplotlib.pyplot as plt\n",
    "\n",
    "from scipy.integrate import quad\n",
    "from scipy.optimize import fsolve\n",
    "from math import sqrt, pi\n"
   ]
  },
  {
   "cell_type": "code",
   "execution_count": 68,
   "id": "a08095ab",
   "metadata": {},
   "outputs": [
    {
     "name": "stdout",
     "output_type": "stream",
     "text": [
      "Population size is 100, sample size is 10, sample weight sum is 0.1891.\n"
     ]
    }
   ],
   "source": [
    "# Toy example\n",
    "seed = 0\n",
    "N = 100       # population size\n",
    "n = 10        # sample size\n",
    "random.seed(seed)\n",
    "\n",
    "w = np.arange(1,N+1)    # weights \n",
    "w = w/sum(w)\n",
    "#s = random.sample(list(np.arange(N)),n)   # sample indexed  \n",
    "s = np.arange(N)[-n:]\n",
    "sc = list(set(np.arange(N))-set(s))       # remaining indexes\n",
    "d = sum(w[sc])    # weight sum of S complement\n",
    "\n",
    "print('Population size is {}, sample size is {}, sample weight sum is {:.4f}.'.format(N,n,1-d))"
   ]
  },
  {
   "cell_type": "code",
   "execution_count": 78,
   "id": "8a2758ae",
   "metadata": {},
   "outputs": [
    {
     "name": "stdout",
     "output_type": "stream",
     "text": [
      "The numerical result is 9.333333 (+-1.03621e-13)\n",
      "Nested numerical result is 20.000000 (+-2.27595e-13)\n"
     ]
    }
   ],
   "source": [
    "from math import cos, exp, pi\n",
    "\n",
    "\n",
    "# function we want to integrate\n",
    "def f(x):\n",
    "    return x**2 + 2*x+1\n",
    "\n",
    "def nf(x,p):\n",
    "    integrand = 1\n",
    "    for i in range(p):\n",
    "        integrand *= x+1\n",
    "    return integrand\n",
    "\n",
    "# call quad to integrate f from -2 to 2\n",
    "res, err = quad(f, -2, 2)\n",
    "nres, nerr = quad(nf, -2, 2, args=(3))\n",
    "\n",
    "print(\"The numerical result is {:f} (+-{:g})\"\n",
    "    .format(res, err))\n",
    "print(\"Nested numerical result is {:f} (+-{:g})\"\n",
    "    .format(nres, nerr))"
   ]
  },
  {
   "cell_type": "code",
   "execution_count": 146,
   "id": "7488f6a1",
   "metadata": {},
   "outputs": [],
   "source": [
    "def integrand(x,w,s,d):\n",
    "    T = 1\n",
    "    for i in s:\n",
    "        T *= (1 - x ** (w[i] / d))\n",
    "    return T\n",
    "\n",
    "def trans_integrand(x,w,s,d,r):\n",
    "    T = 1\n",
    "    for i in s:\n",
    "        T *= (1 - x ** (w[i] * r))\n",
    "    return r*d * x**(r*d - 1) * T\n",
    "\n",
    "def z(r,w,s,d):\n",
    "    res = d - 1/r\n",
    "    for i in s:\n",
    "        res -= w[i] / (2**(r*w[i]) - 1)\n",
    "    return res\n",
    "\n",
    "# Laplace's method (Second order approximation)\n",
    "def laplace_approx(t,w,s,d,r):\n",
    "    res = (1-r*d)/t**2\n",
    "    for i in s:\n",
    "        rw = r * w[i]\n",
    "        res -= ((1-t**(rw)) * rw * (rw - 1) * t**(rw-2) + (rw)**2 * t**(2*rw-2))/(1-t**(rw))**2\n",
    "    return trans_integrand(t,w,s,d,r) * sqrt(-2*pi / (res))\n",
    "\n",
    "# check if the transformed integrand is suitable for Laplace's method by \n",
    "# examining the shape of the integrand and the normalized d\n",
    "def check_shape(w,s,d,r, bin=1000):\n",
    "    x = np.linspace(0, 1, bin, endpoint=True)\n",
    "    y = trans_integrand(x,w,s,d,r)\n",
    "    plt.plot(x, y)\n",
    "    plt.ylabel('transformed integrand')\n",
    "    plt.show()\n",
    "    E = 1/d\n",
    "    print('The reciprocal of d is {}, note if the value is too large, Laplace method is generally not recommended.'.format(1/d))"
   ]
  },
  {
   "cell_type": "code",
   "execution_count": 127,
   "id": "51539117",
   "metadata": {},
   "outputs": [
    {
     "name": "stdout",
     "output_type": "stream",
     "text": [
      "Direct integration\n",
      "-------------------------\n",
      "Result: 1.6753994001578263e-11 \n",
      "Error: 3.1512149218908557e-11 \n",
      "Relative error: 1.8808738510912708\n"
     ]
    }
   ],
   "source": [
    "res, err = quad(integrand, 0, 1, args=(w,s,d))\n",
    "print(\"Direct integration\"+\"\\n\"+\"-\"*25+\"\\nResult: {} \\nError: {} \\nRelative error: {}\".format(res, err, err/res))"
   ]
  },
  {
   "cell_type": "code",
   "execution_count": 140,
   "id": "c0fe9a7f",
   "metadata": {},
   "outputs": [
    {
     "name": "stdout",
     "output_type": "stream",
     "text": [
      "Transformed integration\n",
      "-------------------------\n",
      "Result: 5.234360238656979e-11 \n",
      "Error: 2.1641618085938836e-15 \n",
      "Relative error: 0.00012917288906693023\n"
     ]
    }
   ],
   "source": [
    "r = fsolve(z, 1/d, (w,s,d))[0]\n",
    "tres, terr = quad(trans_integrand, 0, 1, args=(w,s,d,r))\n",
    "print(\"Transformed integration\"+\"\\n\"+\"-\"*25+\"\\nResult: {} \\nError: {} \\nRelative error: {}\".format(tres, terr, terr/res))"
   ]
  },
  {
   "cell_type": "code",
   "execution_count": 141,
   "id": "fc738774",
   "metadata": {},
   "outputs": [
    {
     "name": "stdout",
     "output_type": "stream",
     "text": [
      "Laplace's method\n",
      "-------------------------\n",
      "Result: 5.4250491277283665e-11\n"
     ]
    }
   ],
   "source": [
    "lres = laplace_approx(0.5,w,s,d,r)\n",
    "print(\"Laplace's method\"+\"\\n\"+\"-\"*25+\"\\nResult: {}\".format(lres))"
   ]
  },
  {
   "cell_type": "code",
   "execution_count": 138,
   "id": "d3207f6a",
   "metadata": {},
   "outputs": [
    {
     "data": {
      "text/plain": [
       "array([1.97064403e-10])"
      ]
     },
     "execution_count": 138,
     "metadata": {},
     "output_type": "execute_result"
    }
   ],
   "source": [
    "trans_integrand(0.5,w,s,d,r)"
   ]
  },
  {
   "cell_type": "code",
   "execution_count": 147,
   "id": "91cc4d73",
   "metadata": {},
   "outputs": [
    {
     "data": {
      "image/png": "[encoded data removed]",
      "text/plain": [
       "<Figure size 640x480 with 1 Axes>"
      ]
     },
     "metadata": {},
     "output_type": "display_data"
    },
    {
     "name": "stdout",
     "output_type": "stream",
     "text": [
      "The reciprocal of d is 1.2332112332112324, note if the value is too large, Laplace method is generally not recommended.\n"
     ]
    }
   ],
   "source": [
    "check_shape(w,s,d,r)"
   ]
  },
  {
   "cell_type": "code",
   "execution_count": null,
   "id": "20ee8e2a",
   "metadata": {},
   "outputs": [],
   "source": []
  }
 ],
 "metadata": {
  "kernelspec": {
   "display_name": "Python 3 (ipykernel)",
   "language": "python",
   "name": "python3"
  },
  "language_info": {
   "codemirror_mode": {
    "name": "ipython",
    "version": 3
   },
   "file_extension": ".py",
   "mimetype": "text/x-python",
   "name": "python",
   "nbconvert_exporter": "python",
   "pygments_lexer": "ipython3",
   "version": "3.10.9"
  }
 },
 "nbformat": 4,
 "nbformat_minor": 5
}
