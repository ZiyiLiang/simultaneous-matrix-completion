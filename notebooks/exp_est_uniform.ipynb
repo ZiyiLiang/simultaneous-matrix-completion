{
 "cells": [
  {
   "cell_type": "code",
   "execution_count": 1,
   "id": "30320a16-e700-4f9e-a27e-efe00921f1bf",
   "metadata": {},
   "outputs": [],
   "source": [
    "%matplotlib inline\n",
    "%load_ext autoreload\n",
    "%autoreload 2\n",
    "\n",
    "import sys, os\n",
    "sys.path.append('../smc')"
   ]
  },
  {
   "cell_type": "code",
   "execution_count": 2,
   "id": "3b51d281-663f-4476-afc2-bf1f3edcdffe",
   "metadata": {},
   "outputs": [],
   "source": [
    "import numpy as np   \n",
    "import pandas as pd\n",
    "from tqdm import tqdm\n",
    "from time import time\n",
    "import sys\n",
    "\n",
    "\n",
    "from utils import *     # contains some useful helper functions \n",
    "from models import *    # toy models\n",
    "from solvers import *   # matrix completion solvers\n",
    "from methods import *"
   ]
  },
  {
   "cell_type": "code",
   "execution_count": null,
   "id": "cb14887a-b24e-4a77-a18f-d756193d9418",
   "metadata": {},
   "outputs": [],
   "source": []
  }
 ],
 "metadata": {
  "kernelspec": {
   "display_name": "Python 3 (ipykernel)",
   "language": "python",
   "name": "python3"
  },
  "language_info": {
   "codemirror_mode": {
    "name": "ipython",
    "version": 3
   },
   "file_extension": ".py",
   "mimetype": "text/x-python",
   "name": "python",
   "nbconvert_exporter": "python",
   "pygments_lexer": "ipython3",
   "version": "3.10.15"
  }
 },
 "nbformat": 4,
 "nbformat_minor": 5
}
