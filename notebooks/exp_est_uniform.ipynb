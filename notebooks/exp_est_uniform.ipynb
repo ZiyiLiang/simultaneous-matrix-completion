{
 "cells": [
  {
   "cell_type": "code",
   "execution_count": 3,
   "id": "30320a16-e700-4f9e-a27e-efe00921f1bf",
   "metadata": {},
   "outputs": [
    {
     "name": "stdout",
     "output_type": "stream",
     "text": [
      "The autoreload extension is already loaded. To reload it, use:\n",
      "  %reload_ext autoreload\n"
     ]
    }
   ],
   "source": [
    "%matplotlib inline\n",
    "%load_ext autoreload\n",
    "%autoreload 2\n",
    "\n",
    "import sys, os\n",
    "sys.path.append('../smc')"
   ]
  },
  {
   "cell_type": "code",
   "execution_count": 4,
   "id": "3b51d281-663f-4476-afc2-bf1f3edcdffe",
   "metadata": {},
   "outputs": [],
   "source": [
    "sys.path.append('../third_party')\n",
    "\n",
    "import numpy as np   \n",
    "import pandas as pd\n",
    "import scipy.stats as stats\n",
    "\n",
    "from tqdm import tqdm\n",
    "from utils import *     # contains some useful helper functions \n",
    "from utils_data import *\n",
    "from models import *    # toy models\n",
    "from solvers import *   # matrix completion solvers\n",
    "from methods import *\n",
    "from wsc import *\n",
    "from missingness_estimation import *"
   ]
  },
  {
   "cell_type": "code",
   "execution_count": 6,
   "id": "cb14887a-b24e-4a77-a18f-d756193d9418",
   "metadata": {},
   "outputs": [],
   "source": [
    "data_name = \"movielens\"\n",
    "est = True\n",
    "full_miss = True\n",
    "\n",
    "# Fixed data parameters\n",
    "max_calib_queries = 2000\n",
    "# If seed is None, choose the rows and cols to minimize missingness\n",
    "matrix_generation_seed = 2024\n",
    "max_iterations = 50\n",
    "\n",
    "methods = [\"conformal\", \n",
    "           \"benchmark\"]\n",
    "r=None\n",
    "\n",
    "# Other parameters\n",
    "verbose = True\n",
    "allow_inf = False\n",
    "alpha = 0.1\n",
    "repetition = 1\n",
    "w = None"
   ]
  },
  {
   "cell_type": "code",
   "execution_count": 7,
   "id": "9cb59e52-48c1-4186-a16c-4b1c6b861cfe",
   "metadata": {},
   "outputs": [],
   "source": [
    "###############\n",
    "#  Load data  #\n",
    "###############\n",
    "base_path = \"../data/\"\n",
    "\n",
    "if data_name == \"movielens\":\n",
    "    num_columns, num_rows = 800, 1000\n",
    "    prop_train = 0.8\n",
    "    max_test_queries = 100            \n",
    "    ll, uu = 1, 5\n",
    "    k_list = np.arange(2,3)\n",
    "\n",
    "elif data_name == \"books\":\n",
    "    num_columns, num_rows = None, 2500\n",
    "    prop_train = 0.8\n",
    "    max_test_queries = 100\n",
    "    ll, uu = 1, 5      \n",
    "    k_list = np.arange(2,5)      \n",
    "\n",
    "\n",
    "\n",
    "M, mask_avail, _ = load_data(base_path, data_name, replace_nan=-1, \n",
    "                             num_rows=num_rows, num_columns=num_columns, random_state=matrix_generation_seed)\n",
    "n1,n2 = M.shape\n",
    "\n",
    "if est:\n",
    "    parent_mask = None\n",
    "else:\n",
    "    parent_mask = mask_avail"
   ]
  },
  {
   "cell_type": "code",
   "execution_count": null,
   "id": "c01dab40-64fb-4b30-982d-b16a6d454405",
   "metadata": {},
   "outputs": [],
   "source": []
  }
 ],
 "metadata": {
  "kernelspec": {
   "display_name": "Python 3 (ipykernel)",
   "language": "python",
   "name": "python3"
  },
  "language_info": {
   "codemirror_mode": {
    "name": "ipython",
    "version": 3
   },
   "file_extension": ".py",
   "mimetype": "text/x-python",
   "name": "python",
   "nbconvert_exporter": "python",
   "pygments_lexer": "ipython3",
   "version": "3.10.15"
  }
 },
 "nbformat": 4,
 "nbformat_minor": 5
}
