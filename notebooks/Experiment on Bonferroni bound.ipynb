{
 "cells": [
  {
   "cell_type": "code",
   "execution_count": 1,
   "id": "19516065",
   "metadata": {},
   "outputs": [],
   "source": [
    "%matplotlib inline\n",
    "%load_ext autoreload\n",
    "%autoreload 2\n",
    "\n",
    "import sys, os\n",
    "sys.path.append('../pairedRS')"
   ]
  },
  {
   "cell_type": "code",
   "execution_count": 2,
   "id": "ae7165cb",
   "metadata": {},
   "outputs": [],
   "source": [
    "import numpy as np   \n",
    "import pandas as pd\n",
    "import pdb\n",
    "import matplotlib.pyplot as plt\n",
    "import scipy.stats as stats\n",
    "import seaborn as sns\n",
    "from tqdm import tqdm\n",
    "import sys"
   ]
  },
  {
   "cell_type": "code",
   "execution_count": 3,
   "id": "1fe844c1",
   "metadata": {},
   "outputs": [
    {
     "name": "stdout",
     "output_type": "stream",
     "text": [
      "(CVXPY) Oct 19 11:35:53 AM: Encountered unexpected exception importing solver OSQP:\n",
      "ImportError('DLL load failed while importing qdldl: The specified module could not be found.')\n"
     ]
    }
   ],
   "source": [
    "from utils import *     # contains some useful helper functions \n",
    "from models import *    # toy models\n",
    "from solvers import *   # matrix completion solvers\n",
    "from methods import *"
   ]
  },
  {
   "cell_type": "code",
   "execution_count": 4,
   "id": "64a0e781",
   "metadata": {},
   "outputs": [],
   "source": [
    "# Some useful functions\n",
    "\n",
    "def get_scores(n, a=1, b=1, random_state=0):  \n",
    "    rng = np.random.default_rng(random_state)\n",
    "    scores = rng.beta(a, b, n)\n",
    "    return scores\n",
    "\n",
    "\n",
    "# Bonferroni\n",
    "def get_bon_qnt(scores, alpha):\n",
    "    st_scores = np.sort(scores)\n",
    "    alpha_corrected = alpha / 2\n",
    "    bon_qnt = np.quantile(st_scores, 1 - alpha_corrected, method=\"lower\")\n",
    "    return bon_qnt, st_scores\n",
    "\n",
    "\n",
    "def get_conformal_qnt(scores, alpha, pair_method):\n",
    "    if pair_method == \"indep\":\n",
    "        # pairs are picked at random\n",
    "        pairs = [[scores[2*i], scores[2*i+1]] for i in range(n//2)]\n",
    "        pair_scores = [np.max(p) for p in pairs]\n",
    "        \n",
    "    elif pair_method == \"pos_cor\":\n",
    "        # similar scores are grouped\n",
    "        st_scores = np.sort(scores)\n",
    "        pairs = [[st_scores[2*i], st_scores[2*i+1]] for i in range(n//2)]\n",
    "        pair_scores = [np.max(p) for p in pairs]\n",
    "    \n",
    "    elif pair_method == \"neg_cor\":\n",
    "        st_scores = np.sort(scores)\n",
    "        pairs = [[st_scores[i], st_scores[-(i+1)]] for i in range(n//2)]\n",
    "        pair_scores = [np.max(p) for p in pairs]\n",
    "        \n",
    "    st_pair_scores = np.sort(pair_scores)\n",
    "    conformal_qnt = np.quantile(st_pair_scores, 1 - alpha, method=\"lower\")\n",
    "    return st_pair_scores, conformal_qnt\n",
    "\n",
    "\n",
    "def plot_st(st_pair_scores, st_scores, conformal_qnt, bon_qnt, n, alpha):\n",
    "    fig, ax = plt.subplots(1, 2, figsize=(10, 4))\n",
    "    px = np.arange(1, n//2 + 1) / (n//2)\n",
    "    h_spacing = bon_qnt/50\n",
    "    v_spacing = alpha/5\n",
    "    \n",
    "    ax[0].plot(st_pair_scores, px)\n",
    "    ax[0].axhline(y=1-alpha, color='red', linestyle='--')\n",
    "    ax[0].axvline(x=conformal_qnt, color='blue', linestyle='--')\n",
    "    ax[0].set_title(\"Paired scores cdf\")\n",
    "    ax[0].set_xlabel(\"Paired scores\")\n",
    "    ax[0].set_ylabel(\"Quantiles\")\n",
    "    ax[0].plot(conformal_qnt, 1-alpha, 'ro')\n",
    "    ax[0].annotate(f'threshold:{conformal_qnt:.4f}', (conformal_qnt-h_spacing, 0.01), fontsize=10, color='blue', ha='right')\n",
    "    ax[0].annotate(f'quantile:{1-alpha:.2f}', (conformal_qnt-h_spacing, 1-alpha+v_spacing), fontsize=10, color='red', ha='right')\n",
    "    \n",
    "    x = np.arange(1, n + 1) / n\n",
    "    ax[1].plot(st_scores, x)\n",
    "    ax[1].axhline(y=1-alpha/2, color='red', linestyle='--', label='Vertical Line')\n",
    "    ax[1].axvline(x=bon_qnt, color='blue', linestyle='--')\n",
    "    ax[1].set_title(\"Scores cdf\")\n",
    "    ax[1].set_xlabel(\"Scores\")\n",
    "    ax[1].set_ylabel(\"Quantiles\")\n",
    "    ax[1].plot(bon_qnt, 1-alpha/2, 'ro')\n",
    "    ax[1].annotate(f'threshold:{bon_qnt:.4f}', (bon_qnt-h_spacing, 0.01), fontsize=10, color='blue', ha='right')\n",
    "    ax[1].annotate(f'quantile:{1-alpha/2:.2f}', (bon_qnt-h_spacing, 1-alpha/2+v_spacing), fontsize=10, color='red', ha='right')\n",
    "    \n",
    "    print(\"Paired quantile is {}, Bonferroni quantile is {}\".format(conformal_qnt, bon_qnt))\n",
    "    print(\"Interval size ratio (Bonferroni/conformal) is {}\".format(bon_qnt/conformal_qnt))"
   ]
  },
  {
   "cell_type": "markdown",
   "id": "ec9dc12d",
   "metadata": {},
   "source": [
    "# Warm up experiments\n",
    "\n",
    "#### Consider the general setting where we have:\n",
    "- n conformity-scores generated from a specific distribution.\n",
    "- Method of picking the score pairs.\n",
    "- Conformity-scores of the pairs by taking the maximum over the score tuples.\n",
    "\n",
    "#### Then the confidence interval half-width are computed as following:\n",
    "- Conformal method: take the 1-alpha quantile of the scores for pairs.\n",
    "- Bonferroni: take the 1-alpha/2 quantile of the original scores.\n",
    "\n",
    "#### Metric\n",
    "Power gain over the Bonferroni correction is measure by the width ratio:\n",
    "- Bonferroni size / conformal size \n",
    "Larger ratio corresponds to higher power gain.\n",
    "\n",
    "#### Priliminary conclusion\n",
    "Ratio is affected by two factors:\n",
    "- Grouping method: if the two scores in the same pair shows high positive correlation, the power gain is more evident.\n",
    "- Score distribution: if the score cdf is concave, power gain is likely to be higher; and vice versa for covex cdfs.\n"
   ]
  },
  {
   "cell_type": "code",
   "execution_count": 164,
   "id": "90378eea",
   "metadata": {},
   "outputs": [],
   "source": [
    "n = 1000\n",
    "alpha = 0.1\n",
    "\n",
    "# Three toy grouping method:\n",
    "# \"pos_cor\" shows positive correlation, i.e, similar scores are grouped together\n",
    "# \"neg_cor\" shows negative correlation, i.e, small scores are grouped with large scores.\n",
    "# \"indep\" groups scores uniformly at random.\n",
    "pair_method = \"pos_cor\"\n",
    "\n",
    "# Here we generate the score cdf with beta(a,b) which controls the convexity.\n",
    "a,b = 0.1,100 \n",
    "seed = 1\n",
    "\n",
    "scores =  get_scores(n, a, b, random_state=seed)\n",
    "st_pair_scores, conformal_st = get_conformal_st(scores, alpha, pair_method)\n",
    "bon_st, st_scores = get_bon_st(scores, alpha)"
   ]
  },
  {
   "cell_type": "code",
   "execution_count": 163,
   "id": "f9ddb045",
   "metadata": {},
   "outputs": [
    {
     "name": "stdout",
     "output_type": "stream",
     "text": [
      "Paired quantile is 0.008779745193658444, Bonferroni quantile is 0.013453528664129582\n",
      "Interval size ratio (Bonferroni/conformal) is 1.5323370288521567\n"
     ]
    },
    {
     "data": {
      "image/png": "[encoded data removed]",
      "text/plain": [
       "<Figure size 1000x400 with 2 Axes>"
      ]
     },
     "metadata": {},
     "output_type": "display_data"
    }
   ],
   "source": [
    "plot_st(st_pair_scores, st_scores, conformal_st, bon_st, n, alpha)"
   ]
  },
  {
   "cell_type": "markdown",
   "id": "0470bfcf",
   "metadata": {},
   "source": [
    "# Experiment with the homogeneous-pairs model\n",
    "\n",
    "We artifically create matrix completion errors and check the tightness of the Bonferroni correction."
   ]
  },
  {
   "cell_type": "code",
   "execution_count": 7,
   "id": "df9129ed",
   "metadata": {},
   "outputs": [],
   "source": [
    "# Matrix shape and rank\n",
    "n1, n2 = 100,100\n",
    "r = 8\n",
    "prob_obs = 0.5\n",
    "random_state = 0\n",
    "allow_inf = False"
   ]
  },
  {
   "cell_type": "code",
   "execution_count": 8,
   "id": "402c43e9",
   "metadata": {},
   "outputs": [],
   "source": [
    "sampler = PairSampling(n1,n2)\n",
    "size_obs = n1 * n2 * prob_obs\n",
    "n_calib_pairs = int(size_obs//4)\n",
    "\n",
    "# Sample observation mask\n",
    "mask_obs = sampler.sample_submask(size_obs, random_state=random_state)\n",
    "mask_test = np.ones_like(mask_obs) - mask_obs\n",
    "\n",
    "# Sample calibration pairs following hpm\n",
    "mask_train, idxs_calib, mask_calib, mask_drop = sampler.sample_train_calib(mask_obs, n_calib_pairs, random_state)\n",
    "\n",
    "# Sample test pairs\n",
    "n_test_pairs = min(int((np.sum(mask_test)-n1)//2), 1000)\n",
    "_, idxs_test, _, _ = sampler.sample_train_calib(mask_test, n_test_pairs, random_state=random_state)"
   ]
  },
  {
   "cell_type": "code",
   "execution_count": 9,
   "id": "09e43d61",
   "metadata": {},
   "outputs": [],
   "source": [
    "# Generate a random true matrix \n",
    "RFM = RandomFactorizationModel(n1 ,n2, r)\n",
    "U, V, M = RFM.sample_noiseless(random_state)"
   ]
  },
  {
   "cell_type": "code",
   "execution_count": 10,
   "id": "2ccf8516",
   "metadata": {},
   "outputs": [
    {
     "data": {
      "image/png": "[encoded data removed]",
      "text/plain": [
       "<Figure size 1200x500 with 4 Axes>"
      ]
     },
     "metadata": {},
     "output_type": "display_data"
    },
    {
     "name": "stdout",
     "output_type": "stream",
     "text": [
      "Missing entries are masked in dark color.\n",
      "Observation size: 5000.0, training size: 2500.0, calib size: 2500.0, calib pairs: 1250\n"
     ]
    }
   ],
   "source": [
    "assert np.all(mask_train+mask_calib==mask_obs),'Sampling error!'\n",
    "vmin, vmax = np.min(M)-100, np.max(M)\n",
    "plot_before_after_mask(M, mask_obs, vmin, vmax)\n",
    "print(\"Missing entries are masked in dark color.\")\n",
    "print(\"Observation size: {}, training size: {}, calib size: {}, calib pairs: {}\"\n",
    "      .format(np.sum(mask_obs), np.sum(mask_train), np.sum(mask_calib), n_calib_pairs))"
   ]
  },
  {
   "cell_type": "code",
   "execution_count": 11,
   "id": "aa4a531c",
   "metadata": {},
   "outputs": [],
   "source": [
    "def noisy_oracle(M, a=1, b=1, gamma=0.9, random_state=0):\n",
    "    rng = np.random.default_rng(random_state)\n",
    "    \n",
    "    n1, n2 = M.shape\n",
    "    \n",
    "    # Generate noise with beta distribution, each row has the same residual \n",
    "    row_residual = rng.beta(a,b,n1)\n",
    "    residual = np.transpose(np.tile(row_residual, (n2,1)))\n",
    "    residual /= np.max(residual)     # normalize\n",
    "     \n",
    "    # Generate gaussian noise independent at each entry\n",
    "    noise = rng.normal(0,1,M.shape)\n",
    "    noise /= np.max(np.abs(noise))   # normalize\n",
    "    \n",
    "    # add a tunning parameter to control the correlation within entries in each row\n",
    "    Mhat = M + gamma*residual + (1-gamma)*noise\n",
    "    \n",
    "    return Mhat"
   ]
  },
  {
   "cell_type": "code",
   "execution_count": 12,
   "id": "639eb4f5",
   "metadata": {},
   "outputs": [],
   "source": [
    "# Toggle gamma to see the row wise correlation\n",
    "Mhat =  noisy_oracle(M, a=0.1, b=100, gamma=0.99, random_state=0)"
   ]
  },
  {
   "cell_type": "code",
   "execution_count": 13,
   "id": "0e938969",
   "metadata": {
    "scrolled": false
   },
   "outputs": [
    {
     "data": {
      "image/png": "[encoded data removed]",
      "text/plain": [
       "<Figure size 600x400 with 2 Axes>"
      ]
     },
     "metadata": {},
     "output_type": "display_data"
    }
   ],
   "source": [
    "# some rows have larger residuals\n",
    "error_heatmap(M, Mhat, mask_calib)"
   ]
  },
  {
   "cell_type": "code",
   "execution_count": 14,
   "id": "a2dd1b30",
   "metadata": {},
   "outputs": [],
   "source": [
    "methods = [\n",
    "    \"conformal\",      \n",
    "    \"naive\",          # Naive conformal assuming all pairs are exchangeable \n",
    "    \"bonferroni\",     \n",
    "    \"uncorrected\" \n",
    "]"
   ]
  },
  {
   "cell_type": "code",
   "execution_count": 15,
   "id": "1c6f5ee0",
   "metadata": {
    "scrolled": true
   },
   "outputs": [
    {
     "name": "stdout",
     "output_type": "stream",
     "text": [
      "Computing conformal prediction intervals for 1000 test pairs...\n"
     ]
    },
    {
     "name": "stderr",
     "output_type": "stream",
     "text": [
      "CI: 100%|█████████████████████████████████████████████████████████████████████████| 1000/1000 [00:04<00:00, 217.83it/s]"
     ]
    },
    {
     "name": "stdout",
     "output_type": "stream",
     "text": [
      "Done!\n",
      "Computing naive prediction intervals for 1000 test pairs...\n",
      "Done!\n",
      "Computing prediction intervals with Bonferroni correction with alpha 0.1 for 1000 test pairs...\n",
      "Done!\n",
      "Computing prediction intervals with Bonferroni correction with alpha 0.2 for 1000 test pairs...\n",
      "Done!\n"
     ]
    },
    {
     "name": "stderr",
     "output_type": "stream",
     "text": [
      "\n"
     ]
    }
   ],
   "source": [
    "res = pd.DataFrame({})\n",
    "\n",
    "for method in methods:\n",
    "    is_inf = np.zeros(n_test_pairs)\n",
    "    if method == \"conformal\":\n",
    "        ci_method = PairedCI_hpm(M, Mhat, mask_obs, idxs_calib)\n",
    "        lower, upper, is_inf, _ = ci_method.get_CI(idxs_test, alpha, allow_inf)\n",
    "    elif method == \"naive\":\n",
    "        ci_method = PairedCI_hpm(M, Mhat, mask_obs, idxs_calib)\n",
    "        lower, upper = ci_method.naive_CI(idxs_test, alpha)       \n",
    "    elif method == \"bonferroni\":\n",
    "        lower, upper = benchmark_CI(M, Mhat, idxs_calib, idxs_test, alpha)\n",
    "    else:\n",
    "        lower, upper = benchmark_CI(M, Mhat, idxs_calib, idxs_test, 2 * alpha)\n",
    "\n",
    "    res = pd.concat([res, evaluate_pairedCI(lower, upper, M, idxs_test, is_inf=is_inf, method=method)])\n",
    "    \n",
    "res['Calib_size'] = n_calib_pairs\n",
    "res['Train_size'] = np.sum(mask_train)\n",
    "res['Test_size'] = n_test_pairs"
   ]
  },
  {
   "cell_type": "code",
   "execution_count": 16,
   "id": "f30aade5",
   "metadata": {
    "scrolled": true
   },
   "outputs": [
    {
     "data": {
      "text/html": [
       "<div>\n",
       "<style scoped>\n",
       "    .dataframe tbody tr th:only-of-type {\n",
       "        vertical-align: middle;\n",
       "    }\n",
       "\n",
       "    .dataframe tbody tr th {\n",
       "        vertical-align: top;\n",
       "    }\n",
       "\n",
       "    .dataframe thead th {\n",
       "        text-align: right;\n",
       "    }\n",
       "</style>\n",
       "<table border=\"1\" class=\"dataframe\">\n",
       "  <thead>\n",
       "    <tr style=\"text-align: right;\">\n",
       "      <th></th>\n",
       "      <th>Pair_coverage</th>\n",
       "      <th>Coverage</th>\n",
       "      <th>Size</th>\n",
       "      <th>Inf_prop</th>\n",
       "      <th>Method</th>\n",
       "      <th>Calib_size</th>\n",
       "      <th>Train_size</th>\n",
       "      <th>Test_size</th>\n",
       "    </tr>\n",
       "  </thead>\n",
       "  <tbody>\n",
       "    <tr>\n",
       "      <th>0</th>\n",
       "      <td>0.897</td>\n",
       "      <td>0.900</td>\n",
       "      <td>0.310964</td>\n",
       "      <td>0.0</td>\n",
       "      <td>conformal</td>\n",
       "      <td>1250</td>\n",
       "      <td>2500.0</td>\n",
       "      <td>1000</td>\n",
       "    </tr>\n",
       "    <tr>\n",
       "      <th>0</th>\n",
       "      <td>0.897</td>\n",
       "      <td>0.900</td>\n",
       "      <td>0.310920</td>\n",
       "      <td>0.0</td>\n",
       "      <td>naive</td>\n",
       "      <td>1250</td>\n",
       "      <td>2500.0</td>\n",
       "      <td>1000</td>\n",
       "    </tr>\n",
       "    <tr>\n",
       "      <th>0</th>\n",
       "      <td>0.946</td>\n",
       "      <td>0.949</td>\n",
       "      <td>0.465283</td>\n",
       "      <td>0.0</td>\n",
       "      <td>bonferroni</td>\n",
       "      <td>1250</td>\n",
       "      <td>2500.0</td>\n",
       "      <td>1000</td>\n",
       "    </tr>\n",
       "    <tr>\n",
       "      <th>0</th>\n",
       "      <td>0.897</td>\n",
       "      <td>0.898</td>\n",
       "      <td>0.308447</td>\n",
       "      <td>0.0</td>\n",
       "      <td>uncorrected</td>\n",
       "      <td>1250</td>\n",
       "      <td>2500.0</td>\n",
       "      <td>1000</td>\n",
       "    </tr>\n",
       "  </tbody>\n",
       "</table>\n",
       "</div>"
      ],
      "text/plain": [
       "   Pair_coverage  Coverage      Size  Inf_prop       Method  Calib_size  \\\n",
       "0          0.897     0.900  0.310964       0.0    conformal        1250   \n",
       "0          0.897     0.900  0.310920       0.0        naive        1250   \n",
       "0          0.946     0.949  0.465283       0.0   bonferroni        1250   \n",
       "0          0.897     0.898  0.308447       0.0  uncorrected        1250   \n",
       "\n",
       "   Train_size  Test_size  \n",
       "0      2500.0       1000  \n",
       "0      2500.0       1000  \n",
       "0      2500.0       1000  \n",
       "0      2500.0       1000  "
      ]
     },
     "execution_count": 16,
     "metadata": {},
     "output_type": "execute_result"
    }
   ],
   "source": [
    "res"
   ]
  },
  {
   "cell_type": "code",
   "execution_count": 17,
   "id": "e60527c5",
   "metadata": {},
   "outputs": [],
   "source": [
    "st_pair_scores = ci_method.st_calib_scores\n",
    "conformal_st = np.quantile(st_pair_scores, 1 - alpha, method=\"lower\")\n",
    "\n",
    "scores = np.abs((M-Mhat)[np.where(mask_calib==1)])\n",
    "bon_st, st_scores = get_bon_st(scores, alpha)"
   ]
  },
  {
   "cell_type": "code",
   "execution_count": 18,
   "id": "55bfc26a",
   "metadata": {
    "scrolled": false
   },
   "outputs": [
    {
     "name": "stdout",
     "output_type": "stream",
     "text": [
      "Paired quantile is 0.15546024085552068, Bonferroni quantile is 0.23264139202606593\n",
      "Interval size ratio (Bonferroni/conformal) is 1.4964687481879995\n"
     ]
    },
    {
     "data": {
      "image/png": "[encoded data removed]",
      "text/plain": [
       "<Figure size 1000x400 with 2 Axes>"
      ]
     },
     "metadata": {},
     "output_type": "display_data"
    }
   ],
   "source": [
    "plot_st(st_pair_scores, st_scores, conformal_st, bon_st, len(st_scores), alpha)"
   ]
  },
  {
   "cell_type": "markdown",
   "id": "d4e888f4",
   "metadata": {},
   "source": [
    "## Repeated experiments\n",
    "\n",
    "We now examine the tightness of Bonferroni benchmark by changing:\n",
    "- Beta(a,b) which is the cdf of the residuals\n",
    "- gamma which controls the pair-wise correlation\n",
    "\n",
    "##### Note that the true matrix is fixed as the residual is artifically generated and does not depend on the true data matrix. "
   ]
  },
  {
   "cell_type": "code",
   "execution_count": 19,
   "id": "8265485e",
   "metadata": {},
   "outputs": [],
   "source": [
    "def run_experiment(M, a, b, gamma, random_state=0):\n",
    "    #------------------#\n",
    "    # Fixed parameters #\n",
    "    #------------------#\n",
    "    n1, n2 = M.shape\n",
    "    prob_obs = 0.5\n",
    "    allow_inf = False\n",
    "    \n",
    "    methods = [\n",
    "    \"conformal\",      \n",
    "    \"naive\",          # Naive conformal assuming all pairs are exchangeable \n",
    "    \"bonferroni\",     \n",
    "    \"uncorrected\" \n",
    "    ]\n",
    "    \n",
    "    #---------------------------------#\n",
    "    # Sample masks, calib, test pairs #\n",
    "    #---------------------------------#\n",
    "    sampler = PairSampling(n1,n2)\n",
    "    size_obs = n1 * n2 * prob_obs\n",
    "    n_calib_pairs = int(size_obs//4)\n",
    "\n",
    "    # Sample observation mask\n",
    "    mask_obs = sampler.sample_submask(size_obs, random_state=random_state)\n",
    "    mask_test = np.ones_like(mask_obs) - mask_obs\n",
    "\n",
    "    # Sample calibration pairs following hpm\n",
    "    mask_train, idxs_calib, mask_calib, mask_drop = sampler.sample_train_calib(mask_obs, n_calib_pairs, random_state)\n",
    "    \n",
    "    # Sample test pairs\n",
    "    n_test_pairs = min(int((np.sum(mask_test)-n1)//2), 1000)\n",
    "    _, idxs_test, _, _ = sampler.sample_train_calib(mask_test, n_test_pairs, random_state=random_state)\n",
    "    \n",
    "    \n",
    "    #---------------------#\n",
    "    # Generate estimation #\n",
    "    #---------------------#\n",
    "    Mhat =  noisy_oracle(M, a, b, gamma, random_state=0)\n",
    "    \n",
    "    \n",
    "    #------------------#\n",
    "    # Apply CI methods #\n",
    "    #------------------#\n",
    "    res = pd.DataFrame({})\n",
    "    \n",
    "    for method in methods:\n",
    "        is_inf = np.zeros(n_test_pairs)\n",
    "        if method == \"conformal\":\n",
    "            ci_method = PairedCI_hpm(M, Mhat, mask_obs, idxs_calib)\n",
    "            lower, upper, is_inf, _ = ci_method.get_CI(idxs_test, alpha, allow_inf) \n",
    "        elif method == \"naive\":\n",
    "            ci_method = PairedCI_hpm(M, Mhat, mask_obs, idxs_calib)\n",
    "            lower, upper = ci_method.naive_CI(idxs_test, alpha)       \n",
    "        elif method == \"bonferroni\":\n",
    "            lower, upper = benchmark_CI(M, Mhat, idxs_calib, idxs_test, alpha)\n",
    "        else:\n",
    "            lower, upper = benchmark_CI(M, Mhat, idxs_calib, idxs_test, 2 * alpha)\n",
    "\n",
    "        res = pd.concat([res, evaluate_pairedCI(lower, upper, M, idxs_test, is_inf=is_inf, method=method)])\n",
    "\n",
    "    \n",
    "    res['Calib_size'] = n_calib_pairs\n",
    "    res['Train_size'] = np.sum(mask_train)\n",
    "    res['Test_size'] = n_test_pairs\n",
    "    res['a'] = a\n",
    "    res['b'] = b\n",
    "    res['gamma'] = gamma\n",
    "    res['random_state'] = random_state\n",
    "    \n",
    "    return res"
   ]
  },
  {
   "cell_type": "markdown",
   "id": "18c7bf62",
   "metadata": {},
   "source": [
    "# Experiment 1\n",
    "Change a, fix b and gamma"
   ]
  },
  {
   "cell_type": "code",
   "execution_count": 20,
   "id": "e1e5530f",
   "metadata": {},
   "outputs": [],
   "source": [
    "# Experiment parameters\n",
    "a_list = [0.1, 0.3, 0.5, 0.7, 1, 10, 30]\n",
    "b=100\n",
    "gamma=0.99\n",
    "repetition=10"
   ]
  },
  {
   "cell_type": "code",
   "execution_count": 21,
   "id": "b6bd5bb5",
   "metadata": {
    "scrolled": true
   },
   "outputs": [
    {
     "name": "stdout",
     "output_type": "stream",
     "text": [
      "Computing conformal prediction intervals for 1000 test pairs...\n"
     ]
    },
    {
     "name": "stderr",
     "output_type": "stream",
     "text": [
      "CI: 100%|█████████████████████████████████████████████████████████████████████████| 1000/1000 [00:04<00:00, 206.79it/s]"
     ]
    },
    {
     "name": "stdout",
     "output_type": "stream",
     "text": [
      "Done!\n",
      "Computing naive prediction intervals for 1000 test pairs...\n",
      "Done!\n",
      "Computing prediction intervals with Bonferroni correction with alpha 0.1 for 1000 test pairs...\n",
      "Done!\n",
      "Computing prediction intervals with Bonferroni correction with alpha 0.2 for 1000 test pairs...\n",
      "Done!\n"
     ]
    },
    {
     "name": "stderr",
     "output_type": "stream",
     "text": [
      "\n"
     ]
    },
    {
     "name": "stdout",
     "output_type": "stream",
     "text": [
      "Computing conformal prediction intervals for 1000 test pairs...\n"
     ]
    },
    {
     "name": "stderr",
     "output_type": "stream",
     "text": [
      "CI: 100%|█████████████████████████████████████████████████████████████████████████| 1000/1000 [00:05<00:00, 198.37it/s]"
     ]
    },
    {
     "name": "stdout",
     "output_type": "stream",
     "text": [
      "Done!\n",
      "Computing naive prediction intervals for 1000 test pairs...\n",
      "Done!\n",
      "Computing prediction intervals with Bonferroni correction with alpha 0.1 for 1000 test pairs...\n",
      "Done!\n",
      "Computing prediction intervals with Bonferroni correction with alpha 0.2 for 1000 test pairs...\n",
      "Done!\n"
     ]
    },
    {
     "name": "stderr",
     "output_type": "stream",
     "text": [
      "\n"
     ]
    },
    {
     "name": "stdout",
     "output_type": "stream",
     "text": [
      "Computing conformal prediction intervals for 1000 test pairs...\n"
     ]
    },
    {
     "name": "stderr",
     "output_type": "stream",
     "text": [
      "CI: 100%|█████████████████████████████████████████████████████████████████████████| 1000/1000 [00:05<00:00, 177.79it/s]"
     ]
    },
    {
     "name": "stdout",
     "output_type": "stream",
     "text": [
      "Done!\n",
      "Computing naive prediction intervals for 1000 test pairs...\n"
     ]
    },
    {
     "name": "stderr",
     "output_type": "stream",
     "text": [
      "\n"
     ]
    },
    {
     "name": "stdout",
     "output_type": "stream",
     "text": [
      "Done!\n",
      "Computing prediction intervals with Bonferroni correction with alpha 0.1 for 1000 test pairs...\n",
      "Done!\n",
      "Computing prediction intervals with Bonferroni correction with alpha 0.2 for 1000 test pairs...\n",
      "Done!\n",
      "Computing conformal prediction intervals for 1000 test pairs...\n"
     ]
    },
    {
     "name": "stderr",
     "output_type": "stream",
     "text": [
      "CI: 100%|█████████████████████████████████████████████████████████████████████████| 1000/1000 [00:03<00:00, 260.22it/s]"
     ]
    },
    {
     "name": "stdout",
     "output_type": "stream",
     "text": [
      "Done!\n",
      "Computing naive prediction intervals for 1000 test pairs...\n",
      "Done!\n",
      "Computing prediction intervals with Bonferroni correction with alpha 0.1 for 1000 test pairs...\n",
      "Done!\n",
      "Computing prediction intervals with Bonferroni correction with alpha 0.2 for 1000 test pairs...\n",
      "Done!\n"
     ]
    },
    {
     "name": "stderr",
     "output_type": "stream",
     "text": [
      "\n"
     ]
    },
    {
     "name": "stdout",
     "output_type": "stream",
     "text": [
      "Computing conformal prediction intervals for 1000 test pairs...\n"
     ]
    },
    {
     "name": "stderr",
     "output_type": "stream",
     "text": [
      "CI: 100%|█████████████████████████████████████████████████████████████████████████| 1000/1000 [00:04<00:00, 249.62it/s]"
     ]
    },
    {
     "name": "stdout",
     "output_type": "stream",
     "text": [
      "Done!\n"
     ]
    },
    {
     "name": "stderr",
     "output_type": "stream",
     "text": [
      "\n"
     ]
    },
    {
     "name": "stdout",
     "output_type": "stream",
     "text": [
      "Computing naive prediction intervals for 1000 test pairs...\n",
      "Done!\n",
      "Computing prediction intervals with Bonferroni correction with alpha 0.1 for 1000 test pairs...\n",
      "Done!\n",
      "Computing prediction intervals with Bonferroni correction with alpha 0.2 for 1000 test pairs...\n",
      "Done!\n",
      "Computing conformal prediction intervals for 1000 test pairs...\n"
     ]
    },
    {
     "name": "stderr",
     "output_type": "stream",
     "text": [
      "CI: 100%|█████████████████████████████████████████████████████████████████████████| 1000/1000 [00:03<00:00, 256.53it/s]"
     ]
    },
    {
     "name": "stdout",
     "output_type": "stream",
     "text": [
      "Done!\n",
      "Computing naive prediction intervals for 1000 test pairs...\n",
      "Done!\n",
      "Computing prediction intervals with Bonferroni correction with alpha 0.1 for 1000 test pairs...\n",
      "Done!\n",
      "Computing prediction intervals with Bonferroni correction with alpha 0.2 for 1000 test pairs...\n",
      "Done!\n",
      "Computing conformal prediction intervals for 1000 test pairs...\n"
     ]
    },
    {
     "name": "stderr",
     "output_type": "stream",
     "text": [
      "\n",
      "CI: 100%|█████████████████████████████████████████████████████████████████████████| 1000/1000 [00:04<00:00, 207.13it/s]"
     ]
    },
    {
     "name": "stdout",
     "output_type": "stream",
     "text": [
      "Done!\n",
      "Computing naive prediction intervals for 1000 test pairs...\n",
      "Done!\n",
      "Computing prediction intervals with Bonferroni correction with alpha 0.1 for 1000 test pairs...\n",
      "Done!\n",
      "Computing prediction intervals with Bonferroni correction with alpha 0.2 for 1000 test pairs...\n",
      "Done!\n"
     ]
    },
    {
     "name": "stderr",
     "output_type": "stream",
     "text": [
      "\n"
     ]
    },
    {
     "name": "stdout",
     "output_type": "stream",
     "text": [
      "Computing conformal prediction intervals for 1000 test pairs...\n"
     ]
    },
    {
     "name": "stderr",
     "output_type": "stream",
     "text": [
      "CI: 100%|█████████████████████████████████████████████████████████████████████████| 1000/1000 [00:05<00:00, 194.90it/s]"
     ]
    },
    {
     "name": "stdout",
     "output_type": "stream",
     "text": [
      "Done!\n",
      "Computing naive prediction intervals for 1000 test pairs...\n",
      "Done!\n",
      "Computing prediction intervals with Bonferroni correction with alpha 0.1 for 1000 test pairs...\n",
      "Done!\n",
      "Computing prediction intervals with Bonferroni correction with alpha 0.2 for 1000 test pairs...\n",
      "Done!\n"
     ]
    },
    {
     "name": "stderr",
     "output_type": "stream",
     "text": [
      "\n"
     ]
    },
    {
     "name": "stdout",
     "output_type": "stream",
     "text": [
      "Computing conformal prediction intervals for 1000 test pairs...\n"
     ]
    },
    {
     "name": "stderr",
     "output_type": "stream",
     "text": [
      "CI: 100%|█████████████████████████████████████████████████████████████████████████| 1000/1000 [00:04<00:00, 221.78it/s]"
     ]
    },
    {
     "name": "stdout",
     "output_type": "stream",
     "text": [
      "Done!\n",
      "Computing naive prediction intervals for 1000 test pairs...\n",
      "Done!\n",
      "Computing prediction intervals with Bonferroni correction with alpha 0.1 for 1000 test pairs...\n",
      "Done!\n",
      "Computing prediction intervals with Bonferroni correction with alpha 0.2 for 1000 test pairs...\n",
      "Done!\n"
     ]
    },
    {
     "name": "stderr",
     "output_type": "stream",
     "text": [
      "\n"
     ]
    },
    {
     "name": "stdout",
     "output_type": "stream",
     "text": [
      "Computing conformal prediction intervals for 1000 test pairs...\n"
     ]
    },
    {
     "name": "stderr",
     "output_type": "stream",
     "text": [
      "CI: 100%|█████████████████████████████████████████████████████████████████████████| 1000/1000 [00:03<00:00, 255.09it/s]"
     ]
    },
    {
     "name": "stdout",
     "output_type": "stream",
     "text": [
      "Done!\n",
      "Computing naive prediction intervals for 1000 test pairs...\n",
      "Done!\n",
      "Computing prediction intervals with Bonferroni correction with alpha 0.1 for 1000 test pairs...\n",
      "Done!\n",
      "Computing prediction intervals with Bonferroni correction with alpha 0.2 for 1000 test pairs...\n",
      "Done!\n"
     ]
    },
    {
     "name": "stderr",
     "output_type": "stream",
     "text": [
      "\n"
     ]
    },
    {
     "name": "stdout",
     "output_type": "stream",
     "text": [
      "Computing conformal prediction intervals for 1000 test pairs...\n"
     ]
    },
    {
     "name": "stderr",
     "output_type": "stream",
     "text": [
      "CI: 100%|█████████████████████████████████████████████████████████████████████████| 1000/1000 [00:04<00:00, 237.61it/s]"
     ]
    },
    {
     "name": "stdout",
     "output_type": "stream",
     "text": [
      "Done!\n",
      "Computing naive prediction intervals for 1000 test pairs...\n",
      "Done!\n",
      "Computing prediction intervals with Bonferroni correction with alpha 0.1 for 1000 test pairs...\n"
     ]
    },
    {
     "name": "stderr",
     "output_type": "stream",
     "text": [
      "\n"
     ]
    },
    {
     "name": "stdout",
     "output_type": "stream",
     "text": [
      "Done!\n",
      "Computing prediction intervals with Bonferroni correction with alpha 0.2 for 1000 test pairs...\n",
      "Done!\n",
      "Computing conformal prediction intervals for 1000 test pairs...\n"
     ]
    },
    {
     "name": "stderr",
     "output_type": "stream",
     "text": [
      "CI: 100%|█████████████████████████████████████████████████████████████████████████| 1000/1000 [00:03<00:00, 270.46it/s]"
     ]
    },
    {
     "name": "stdout",
     "output_type": "stream",
     "text": [
      "Done!\n",
      "Computing naive prediction intervals for 1000 test pairs...\n",
      "Done!\n",
      "Computing prediction intervals with Bonferroni correction with alpha 0.1 for 1000 test pairs...\n",
      "Done!\n",
      "Computing prediction intervals with Bonferroni correction with alpha 0.2 for 1000 test pairs...\n",
      "Done!\n"
     ]
    },
    {
     "name": "stderr",
     "output_type": "stream",
     "text": [
      "\n"
     ]
    },
    {
     "name": "stdout",
     "output_type": "stream",
     "text": [
      "Computing conformal prediction intervals for 1000 test pairs...\n"
     ]
    },
    {
     "name": "stderr",
     "output_type": "stream",
     "text": [
      "CI: 100%|█████████████████████████████████████████████████████████████████████████| 1000/1000 [00:03<00:00, 270.11it/s]"
     ]
    },
    {
     "name": "stdout",
     "output_type": "stream",
     "text": [
      "Done!\n",
      "Computing naive prediction intervals for 1000 test pairs...\n",
      "Done!\n",
      "Computing prediction intervals with Bonferroni correction with alpha 0.1 for 1000 test pairs...\n",
      "Done!\n",
      "Computing prediction intervals with Bonferroni correction with alpha 0.2 for 1000 test pairs...\n",
      "Done!\n",
      "Computing conformal prediction intervals for 1000 test pairs...\n"
     ]
    },
    {
     "name": "stderr",
     "output_type": "stream",
     "text": [
      "\n",
      "CI: 100%|█████████████████████████████████████████████████████████████████████████| 1000/1000 [00:03<00:00, 267.52it/s]"
     ]
    },
    {
     "name": "stdout",
     "output_type": "stream",
     "text": [
      "Done!\n",
      "Computing naive prediction intervals for 1000 test pairs...\n",
      "Done!\n",
      "Computing prediction intervals with Bonferroni correction with alpha 0.1 for 1000 test pairs...\n",
      "Done!\n",
      "Computing prediction intervals with Bonferroni correction with alpha 0.2 for 1000 test pairs...\n",
      "Done!\n"
     ]
    },
    {
     "name": "stderr",
     "output_type": "stream",
     "text": [
      "\n"
     ]
    },
    {
     "name": "stdout",
     "output_type": "stream",
     "text": [
      "Computing conformal prediction intervals for 1000 test pairs...\n"
     ]
    },
    {
     "name": "stderr",
     "output_type": "stream",
     "text": [
      "CI: 100%|█████████████████████████████████████████████████████████████████████████| 1000/1000 [00:03<00:00, 252.71it/s]"
     ]
    },
    {
     "name": "stdout",
     "output_type": "stream",
     "text": [
      "Done!\n",
      "Computing naive prediction intervals for 1000 test pairs...\n",
      "Done!\n",
      "Computing prediction intervals with Bonferroni correction with alpha 0.1 for 1000 test pairs...\n",
      "Done!\n",
      "Computing prediction intervals with Bonferroni correction with alpha 0.2 for 1000 test pairs...\n"
     ]
    },
    {
     "name": "stderr",
     "output_type": "stream",
     "text": [
      "\n"
     ]
    },
    {
     "name": "stdout",
     "output_type": "stream",
     "text": [
      "Done!\n",
      "Computing conformal prediction intervals for 1000 test pairs...\n"
     ]
    },
    {
     "name": "stderr",
     "output_type": "stream",
     "text": [
      "CI: 100%|█████████████████████████████████████████████████████████████████████████| 1000/1000 [00:03<00:00, 269.12it/s]"
     ]
    },
    {
     "name": "stdout",
     "output_type": "stream",
     "text": [
      "Done!\n",
      "Computing naive prediction intervals for 1000 test pairs...\n",
      "Done!\n",
      "Computing prediction intervals with Bonferroni correction with alpha 0.1 for 1000 test pairs...\n",
      "Done!\n",
      "Computing prediction intervals with Bonferroni correction with alpha 0.2 for 1000 test pairs...\n",
      "Done!\n"
     ]
    },
    {
     "name": "stderr",
     "output_type": "stream",
     "text": [
      "\n"
     ]
    },
    {
     "name": "stdout",
     "output_type": "stream",
     "text": [
      "Computing conformal prediction intervals for 1000 test pairs...\n"
     ]
    },
    {
     "name": "stderr",
     "output_type": "stream",
     "text": [
      "CI: 100%|█████████████████████████████████████████████████████████████████████████| 1000/1000 [00:03<00:00, 267.78it/s]"
     ]
    },
    {
     "name": "stdout",
     "output_type": "stream",
     "text": [
      "Done!\n",
      "Computing naive prediction intervals for 1000 test pairs...\n",
      "Done!\n",
      "Computing prediction intervals with Bonferroni correction with alpha 0.1 for 1000 test pairs...\n",
      "Done!\n",
      "Computing prediction intervals with Bonferroni correction with alpha 0.2 for 1000 test pairs...\n",
      "Done!\n",
      "Computing conformal prediction intervals for 1000 test pairs...\n"
     ]
    },
    {
     "name": "stderr",
     "output_type": "stream",
     "text": [
      "\n",
      "CI: 100%|█████████████████████████████████████████████████████████████████████████| 1000/1000 [00:03<00:00, 269.35it/s]"
     ]
    },
    {
     "name": "stdout",
     "output_type": "stream",
     "text": [
      "Done!\n",
      "Computing naive prediction intervals for 1000 test pairs...\n",
      "Done!\n",
      "Computing prediction intervals with Bonferroni correction with alpha 0.1 for 1000 test pairs...\n",
      "Done!\n",
      "Computing prediction intervals with Bonferroni correction with alpha 0.2 for 1000 test pairs...\n",
      "Done!\n"
     ]
    },
    {
     "name": "stderr",
     "output_type": "stream",
     "text": [
      "\n"
     ]
    },
    {
     "name": "stdout",
     "output_type": "stream",
     "text": [
      "Computing conformal prediction intervals for 1000 test pairs...\n"
     ]
    },
    {
     "name": "stderr",
     "output_type": "stream",
     "text": [
      "CI: 100%|█████████████████████████████████████████████████████████████████████████| 1000/1000 [00:03<00:00, 269.53it/s]"
     ]
    },
    {
     "name": "stdout",
     "output_type": "stream",
     "text": [
      "Done!\n",
      "Computing naive prediction intervals for 1000 test pairs...\n",
      "Done!\n",
      "Computing prediction intervals with Bonferroni correction with alpha 0.1 for 1000 test pairs...\n"
     ]
    },
    {
     "name": "stderr",
     "output_type": "stream",
     "text": [
      "\n"
     ]
    },
    {
     "name": "stdout",
     "output_type": "stream",
     "text": [
      "Done!\n",
      "Computing prediction intervals with Bonferroni correction with alpha 0.2 for 1000 test pairs...\n",
      "Done!\n",
      "Computing conformal prediction intervals for 1000 test pairs...\n"
     ]
    },
    {
     "name": "stderr",
     "output_type": "stream",
     "text": [
      "CI: 100%|█████████████████████████████████████████████████████████████████████████| 1000/1000 [00:03<00:00, 252.44it/s]"
     ]
    },
    {
     "name": "stdout",
     "output_type": "stream",
     "text": [
      "Done!\n",
      "Computing naive prediction intervals for 1000 test pairs...\n",
      "Done!\n",
      "Computing prediction intervals with Bonferroni correction with alpha 0.1 for 1000 test pairs...\n",
      "Done!\n",
      "Computing prediction intervals with Bonferroni correction with alpha 0.2 for 1000 test pairs...\n",
      "Done!\n"
     ]
    },
    {
     "name": "stderr",
     "output_type": "stream",
     "text": [
      "\n"
     ]
    },
    {
     "name": "stdout",
     "output_type": "stream",
     "text": [
      "Computing conformal prediction intervals for 1000 test pairs...\n"
     ]
    },
    {
     "name": "stderr",
     "output_type": "stream",
     "text": [
      "CI: 100%|█████████████████████████████████████████████████████████████████████████| 1000/1000 [00:03<00:00, 268.64it/s]"
     ]
    },
    {
     "name": "stdout",
     "output_type": "stream",
     "text": [
      "Done!\n",
      "Computing naive prediction intervals for 1000 test pairs...\n",
      "Done!\n",
      "Computing prediction intervals with Bonferroni correction with alpha 0.1 for 1000 test pairs...\n"
     ]
    },
    {
     "name": "stderr",
     "output_type": "stream",
     "text": [
      "\n"
     ]
    },
    {
     "name": "stdout",
     "output_type": "stream",
     "text": [
      "Done!\n",
      "Computing prediction intervals with Bonferroni correction with alpha 0.2 for 1000 test pairs...\n",
      "Done!\n",
      "Computing conformal prediction intervals for 1000 test pairs...\n"
     ]
    },
    {
     "name": "stderr",
     "output_type": "stream",
     "text": [
      "CI: 100%|█████████████████████████████████████████████████████████████████████████| 1000/1000 [00:03<00:00, 269.42it/s]"
     ]
    },
    {
     "name": "stdout",
     "output_type": "stream",
     "text": [
      "Done!\n",
      "Computing naive prediction intervals for 1000 test pairs...\n",
      "Done!\n",
      "Computing prediction intervals with Bonferroni correction with alpha 0.1 for 1000 test pairs...\n"
     ]
    },
    {
     "name": "stderr",
     "output_type": "stream",
     "text": [
      "\n"
     ]
    },
    {
     "name": "stdout",
     "output_type": "stream",
     "text": [
      "Done!\n",
      "Computing prediction intervals with Bonferroni correction with alpha 0.2 for 1000 test pairs...\n",
      "Done!\n",
      "Computing conformal prediction intervals for 1000 test pairs...\n"
     ]
    },
    {
     "name": "stderr",
     "output_type": "stream",
     "text": [
      "CI: 100%|█████████████████████████████████████████████████████████████████████████| 1000/1000 [00:03<00:00, 261.27it/s]"
     ]
    },
    {
     "name": "stdout",
     "output_type": "stream",
     "text": [
      "Done!\n",
      "Computing naive prediction intervals for 1000 test pairs...\n"
     ]
    },
    {
     "name": "stderr",
     "output_type": "stream",
     "text": [
      "\n"
     ]
    },
    {
     "name": "stdout",
     "output_type": "stream",
     "text": [
      "Done!\n",
      "Computing prediction intervals with Bonferroni correction with alpha 0.1 for 1000 test pairs...\n",
      "Done!\n",
      "Computing prediction intervals with Bonferroni correction with alpha 0.2 for 1000 test pairs...\n",
      "Done!\n",
      "Computing conformal prediction intervals for 1000 test pairs...\n"
     ]
    },
    {
     "name": "stderr",
     "output_type": "stream",
     "text": [
      "CI: 100%|█████████████████████████████████████████████████████████████████████████| 1000/1000 [00:04<00:00, 218.71it/s]"
     ]
    },
    {
     "name": "stdout",
     "output_type": "stream",
     "text": [
      "Done!\n",
      "Computing naive prediction intervals for 1000 test pairs...\n",
      "Done!\n",
      "Computing prediction intervals with Bonferroni correction with alpha 0.1 for 1000 test pairs...\n",
      "Done!\n",
      "Computing prediction intervals with Bonferroni correction with alpha 0.2 for 1000 test pairs...\n",
      "Done!\n",
      "Computing conformal prediction intervals for 1000 test pairs...\n"
     ]
    },
    {
     "name": "stderr",
     "output_type": "stream",
     "text": [
      "\n",
      "CI: 100%|█████████████████████████████████████████████████████████████████████████| 1000/1000 [00:03<00:00, 259.85it/s]"
     ]
    },
    {
     "name": "stdout",
     "output_type": "stream",
     "text": [
      "Done!\n",
      "Computing naive prediction intervals for 1000 test pairs...\n",
      "Done!\n",
      "Computing prediction intervals with Bonferroni correction with alpha 0.1 for 1000 test pairs...\n",
      "Done!\n",
      "Computing prediction intervals with Bonferroni correction with alpha 0.2 for 1000 test pairs...\n",
      "Done!\n"
     ]
    },
    {
     "name": "stderr",
     "output_type": "stream",
     "text": [
      "\n"
     ]
    },
    {
     "name": "stdout",
     "output_type": "stream",
     "text": [
      "Computing conformal prediction intervals for 1000 test pairs...\n"
     ]
    },
    {
     "name": "stderr",
     "output_type": "stream",
     "text": [
      "CI: 100%|█████████████████████████████████████████████████████████████████████████| 1000/1000 [00:03<00:00, 264.49it/s]"
     ]
    },
    {
     "name": "stdout",
     "output_type": "stream",
     "text": [
      "Done!\n",
      "Computing naive prediction intervals for 1000 test pairs...\n",
      "Done!\n",
      "Computing prediction intervals with Bonferroni correction with alpha 0.1 for 1000 test pairs...\n",
      "Done!\n",
      "Computing prediction intervals with Bonferroni correction with alpha 0.2 for 1000 test pairs...\n",
      "Done!\n",
      "Computing conformal prediction intervals for 1000 test pairs...\n"
     ]
    },
    {
     "name": "stderr",
     "output_type": "stream",
     "text": [
      "\n",
      "CI: 100%|█████████████████████████████████████████████████████████████████████████| 1000/1000 [00:03<00:00, 258.73it/s]"
     ]
    },
    {
     "name": "stdout",
     "output_type": "stream",
     "text": [
      "Done!\n",
      "Computing naive prediction intervals for 1000 test pairs...\n",
      "Done!\n",
      "Computing prediction intervals with Bonferroni correction with alpha 0.1 for 1000 test pairs...\n",
      "Done!\n",
      "Computing prediction intervals with Bonferroni correction with alpha 0.2 for 1000 test pairs...\n",
      "Done!\n"
     ]
    },
    {
     "name": "stderr",
     "output_type": "stream",
     "text": [
      "\n"
     ]
    },
    {
     "name": "stdout",
     "output_type": "stream",
     "text": [
      "Computing conformal prediction intervals for 1000 test pairs...\n"
     ]
    },
    {
     "name": "stderr",
     "output_type": "stream",
     "text": [
      "CI: 100%|█████████████████████████████████████████████████████████████████████████| 1000/1000 [00:03<00:00, 264.66it/s]"
     ]
    },
    {
     "name": "stdout",
     "output_type": "stream",
     "text": [
      "Done!\n",
      "Computing naive prediction intervals for 1000 test pairs...\n",
      "Done!\n",
      "Computing prediction intervals with Bonferroni correction with alpha 0.1 for 1000 test pairs...\n",
      "Done!\n",
      "Computing prediction intervals with Bonferroni correction with alpha 0.2 for 1000 test pairs...\n",
      "Done!\n"
     ]
    },
    {
     "name": "stderr",
     "output_type": "stream",
     "text": [
      "\n"
     ]
    },
    {
     "name": "stdout",
     "output_type": "stream",
     "text": [
      "Computing conformal prediction intervals for 1000 test pairs...\n"
     ]
    },
    {
     "name": "stderr",
     "output_type": "stream",
     "text": [
      "CI: 100%|█████████████████████████████████████████████████████████████████████████| 1000/1000 [00:04<00:00, 238.16it/s]"
     ]
    },
    {
     "name": "stdout",
     "output_type": "stream",
     "text": [
      "Done!\n",
      "Computing naive prediction intervals for 1000 test pairs...\n",
      "Done!\n",
      "Computing prediction intervals with Bonferroni correction with alpha 0.1 for 1000 test pairs...\n",
      "Done!\n",
      "Computing prediction intervals with Bonferroni correction with alpha 0.2 for 1000 test pairs...\n",
      "Done!\n",
      "Computing conformal prediction intervals for 1000 test pairs...\n"
     ]
    },
    {
     "name": "stderr",
     "output_type": "stream",
     "text": [
      "\n",
      "CI: 100%|█████████████████████████████████████████████████████████████████████████| 1000/1000 [00:04<00:00, 228.73it/s]"
     ]
    },
    {
     "name": "stdout",
     "output_type": "stream",
     "text": [
      "Done!\n",
      "Computing naive prediction intervals for 1000 test pairs...\n",
      "Done!\n",
      "Computing prediction intervals with Bonferroni correction with alpha 0.1 for 1000 test pairs...\n",
      "Done!\n",
      "Computing prediction intervals with Bonferroni correction with alpha 0.2 for 1000 test pairs...\n",
      "Done!\n",
      "Computing conformal prediction intervals for 1000 test pairs...\n"
     ]
    },
    {
     "name": "stderr",
     "output_type": "stream",
     "text": [
      "\n",
      "CI: 100%|█████████████████████████████████████████████████████████████████████████| 1000/1000 [00:04<00:00, 244.09it/s]"
     ]
    },
    {
     "name": "stdout",
     "output_type": "stream",
     "text": [
      "Done!\n",
      "Computing naive prediction intervals for 1000 test pairs...\n",
      "Done!\n",
      "Computing prediction intervals with Bonferroni correction with alpha 0.1 for 1000 test pairs...\n",
      "Done!\n",
      "Computing prediction intervals with Bonferroni correction with alpha 0.2 for 1000 test pairs...\n",
      "Done!\n",
      "Computing conformal prediction intervals for 1000 test pairs...\n"
     ]
    },
    {
     "name": "stderr",
     "output_type": "stream",
     "text": [
      "\n",
      "CI: 100%|█████████████████████████████████████████████████████████████████████████| 1000/1000 [00:04<00:00, 231.94it/s]"
     ]
    },
    {
     "name": "stdout",
     "output_type": "stream",
     "text": [
      "Done!\n",
      "Computing naive prediction intervals for 1000 test pairs...\n",
      "Done!\n",
      "Computing prediction intervals with Bonferroni correction with alpha 0.1 for 1000 test pairs...\n",
      "Done!\n",
      "Computing prediction intervals with Bonferroni correction with alpha 0.2 for 1000 test pairs...\n",
      "Done!\n"
     ]
    },
    {
     "name": "stderr",
     "output_type": "stream",
     "text": [
      "\n"
     ]
    },
    {
     "name": "stdout",
     "output_type": "stream",
     "text": [
      "Computing conformal prediction intervals for 1000 test pairs...\n"
     ]
    },
    {
     "name": "stderr",
     "output_type": "stream",
     "text": [
      "CI: 100%|█████████████████████████████████████████████████████████████████████████| 1000/1000 [00:04<00:00, 225.43it/s]"
     ]
    },
    {
     "name": "stdout",
     "output_type": "stream",
     "text": [
      "Done!\n",
      "Computing naive prediction intervals for 1000 test pairs...\n",
      "Done!\n",
      "Computing prediction intervals with Bonferroni correction with alpha 0.1 for 1000 test pairs...\n",
      "Done!\n",
      "Computing prediction intervals with Bonferroni correction with alpha 0.2 for 1000 test pairs...\n",
      "Done!\n",
      "Computing conformal prediction intervals for 1000 test pairs...\n"
     ]
    },
    {
     "name": "stderr",
     "output_type": "stream",
     "text": [
      "\n",
      "CI: 100%|█████████████████████████████████████████████████████████████████████████| 1000/1000 [00:03<00:00, 257.58it/s]"
     ]
    },
    {
     "name": "stdout",
     "output_type": "stream",
     "text": [
      "Done!\n",
      "Computing naive prediction intervals for 1000 test pairs...\n",
      "Done!\n",
      "Computing prediction intervals with Bonferroni correction with alpha 0.1 for 1000 test pairs...\n",
      "Done!\n",
      "Computing prediction intervals with Bonferroni correction with alpha 0.2 for 1000 test pairs...\n",
      "Done!\n"
     ]
    },
    {
     "name": "stderr",
     "output_type": "stream",
     "text": [
      "\n"
     ]
    },
    {
     "name": "stdout",
     "output_type": "stream",
     "text": [
      "Computing conformal prediction intervals for 1000 test pairs...\n"
     ]
    },
    {
     "name": "stderr",
     "output_type": "stream",
     "text": [
      "CI: 100%|█████████████████████████████████████████████████████████████████████████| 1000/1000 [00:04<00:00, 204.26it/s]"
     ]
    },
    {
     "name": "stdout",
     "output_type": "stream",
     "text": [
      "Done!\n",
      "Computing naive prediction intervals for 1000 test pairs...\n",
      "Done!\n",
      "Computing prediction intervals with Bonferroni correction with alpha 0.1 for 1000 test pairs...\n",
      "Done!\n",
      "Computing prediction intervals with Bonferroni correction with alpha 0.2 for 1000 test pairs...\n",
      "Done!\n"
     ]
    },
    {
     "name": "stderr",
     "output_type": "stream",
     "text": [
      "\n"
     ]
    },
    {
     "name": "stdout",
     "output_type": "stream",
     "text": [
      "Computing conformal prediction intervals for 1000 test pairs...\n"
     ]
    },
    {
     "name": "stderr",
     "output_type": "stream",
     "text": [
      "CI: 100%|█████████████████████████████████████████████████████████████████████████| 1000/1000 [00:03<00:00, 267.35it/s]"
     ]
    },
    {
     "name": "stdout",
     "output_type": "stream",
     "text": [
      "Done!\n",
      "Computing naive prediction intervals for 1000 test pairs...\n",
      "Done!\n",
      "Computing prediction intervals with Bonferroni correction with alpha 0.1 for 1000 test pairs...\n",
      "Done!\n",
      "Computing prediction intervals with Bonferroni correction with alpha 0.2 for 1000 test pairs...\n",
      "Done!\n"
     ]
    },
    {
     "name": "stderr",
     "output_type": "stream",
     "text": [
      "\n"
     ]
    },
    {
     "name": "stdout",
     "output_type": "stream",
     "text": [
      "Computing conformal prediction intervals for 1000 test pairs...\n"
     ]
    },
    {
     "name": "stderr",
     "output_type": "stream",
     "text": [
      "CI: 100%|█████████████████████████████████████████████████████████████████████████| 1000/1000 [00:04<00:00, 245.85it/s]"
     ]
    },
    {
     "name": "stdout",
     "output_type": "stream",
     "text": [
      "Done!\n",
      "Computing naive prediction intervals for 1000 test pairs...\n",
      "Done!\n",
      "Computing prediction intervals with Bonferroni correction with alpha 0.1 for 1000 test pairs...\n",
      "Done!\n",
      "Computing prediction intervals with Bonferroni correction with alpha 0.2 for 1000 test pairs...\n",
      "Done!\n"
     ]
    },
    {
     "name": "stderr",
     "output_type": "stream",
     "text": [
      "\n"
     ]
    },
    {
     "name": "stdout",
     "output_type": "stream",
     "text": [
      "Computing conformal prediction intervals for 1000 test pairs...\n"
     ]
    },
    {
     "name": "stderr",
     "output_type": "stream",
     "text": [
      "CI: 100%|█████████████████████████████████████████████████████████████████████████| 1000/1000 [00:03<00:00, 261.02it/s]"
     ]
    },
    {
     "name": "stdout",
     "output_type": "stream",
     "text": [
      "Done!\n"
     ]
    },
    {
     "name": "stderr",
     "output_type": "stream",
     "text": [
      "\n"
     ]
    },
    {
     "name": "stdout",
     "output_type": "stream",
     "text": [
      "Computing naive prediction intervals for 1000 test pairs...\n",
      "Done!\n",
      "Computing prediction intervals with Bonferroni correction with alpha 0.1 for 1000 test pairs...\n",
      "Done!\n",
      "Computing prediction intervals with Bonferroni correction with alpha 0.2 for 1000 test pairs...\n",
      "Done!\n",
      "Computing conformal prediction intervals for 1000 test pairs...\n"
     ]
    },
    {
     "name": "stderr",
     "output_type": "stream",
     "text": [
      "CI: 100%|█████████████████████████████████████████████████████████████████████████| 1000/1000 [00:03<00:00, 273.19it/s]"
     ]
    },
    {
     "name": "stdout",
     "output_type": "stream",
     "text": [
      "Done!\n",
      "Computing naive prediction intervals for 1000 test pairs...\n",
      "Done!\n",
      "Computing prediction intervals with Bonferroni correction with alpha 0.1 for 1000 test pairs...\n",
      "Done!\n",
      "Computing prediction intervals with Bonferroni correction with alpha 0.2 for 1000 test pairs...\n",
      "Done!\n",
      "Computing conformal prediction intervals for 1000 test pairs...\n"
     ]
    },
    {
     "name": "stderr",
     "output_type": "stream",
     "text": [
      "\n",
      "CI: 100%|█████████████████████████████████████████████████████████████████████████| 1000/1000 [00:04<00:00, 229.47it/s]"
     ]
    },
    {
     "name": "stdout",
     "output_type": "stream",
     "text": [
      "Done!\n",
      "Computing naive prediction intervals for 1000 test pairs...\n",
      "Done!\n",
      "Computing prediction intervals with Bonferroni correction with alpha 0.1 for 1000 test pairs...\n",
      "Done!\n",
      "Computing prediction intervals with Bonferroni correction with alpha 0.2 for 1000 test pairs...\n",
      "Done!\n"
     ]
    },
    {
     "name": "stderr",
     "output_type": "stream",
     "text": [
      "\n"
     ]
    },
    {
     "name": "stdout",
     "output_type": "stream",
     "text": [
      "Computing conformal prediction intervals for 1000 test pairs...\n"
     ]
    },
    {
     "name": "stderr",
     "output_type": "stream",
     "text": [
      "CI: 100%|█████████████████████████████████████████████████████████████████████████| 1000/1000 [00:03<00:00, 270.47it/s]"
     ]
    },
    {
     "name": "stdout",
     "output_type": "stream",
     "text": [
      "Done!\n",
      "Computing naive prediction intervals for 1000 test pairs...\n",
      "Done!\n",
      "Computing prediction intervals with Bonferroni correction with alpha 0.1 for 1000 test pairs...\n",
      "Done!\n",
      "Computing prediction intervals with Bonferroni correction with alpha 0.2 for 1000 test pairs...\n"
     ]
    },
    {
     "name": "stderr",
     "output_type": "stream",
     "text": [
      "\n"
     ]
    },
    {
     "name": "stdout",
     "output_type": "stream",
     "text": [
      "Done!\n",
      "Computing conformal prediction intervals for 1000 test pairs...\n"
     ]
    },
    {
     "name": "stderr",
     "output_type": "stream",
     "text": [
      "CI: 100%|█████████████████████████████████████████████████████████████████████████| 1000/1000 [00:03<00:00, 265.14it/s]"
     ]
    },
    {
     "name": "stdout",
     "output_type": "stream",
     "text": [
      "Done!\n",
      "Computing naive prediction intervals for 1000 test pairs...\n",
      "Done!\n",
      "Computing prediction intervals with Bonferroni correction with alpha 0.1 for 1000 test pairs...\n",
      "Done!\n",
      "Computing prediction intervals with Bonferroni correction with alpha 0.2 for 1000 test pairs...\n",
      "Done!\n"
     ]
    },
    {
     "name": "stderr",
     "output_type": "stream",
     "text": [
      "\n"
     ]
    },
    {
     "name": "stdout",
     "output_type": "stream",
     "text": [
      "Computing conformal prediction intervals for 1000 test pairs...\n"
     ]
    },
    {
     "name": "stderr",
     "output_type": "stream",
     "text": [
      "CI: 100%|█████████████████████████████████████████████████████████████████████████| 1000/1000 [00:03<00:00, 251.12it/s]"
     ]
    },
    {
     "name": "stdout",
     "output_type": "stream",
     "text": [
      "Done!\n",
      "Computing naive prediction intervals for 1000 test pairs...\n",
      "Done!\n",
      "Computing prediction intervals with Bonferroni correction with alpha 0.1 for 1000 test pairs...\n",
      "Done!\n",
      "Computing prediction intervals with Bonferroni correction with alpha 0.2 for 1000 test pairs...\n",
      "Done!\n",
      "Computing conformal prediction intervals for 1000 test pairs...\n"
     ]
    },
    {
     "name": "stderr",
     "output_type": "stream",
     "text": [
      "\n",
      "CI: 100%|█████████████████████████████████████████████████████████████████████████| 1000/1000 [00:05<00:00, 198.31it/s]"
     ]
    },
    {
     "name": "stdout",
     "output_type": "stream",
     "text": [
      "Done!\n",
      "Computing naive prediction intervals for 1000 test pairs...\n",
      "Done!\n",
      "Computing prediction intervals with Bonferroni correction with alpha 0.1 for 1000 test pairs...\n",
      "Done!\n",
      "Computing prediction intervals with Bonferroni correction with alpha 0.2 for 1000 test pairs...\n",
      "Done!\n"
     ]
    },
    {
     "name": "stderr",
     "output_type": "stream",
     "text": [
      "\n"
     ]
    },
    {
     "name": "stdout",
     "output_type": "stream",
     "text": [
      "Computing conformal prediction intervals for 1000 test pairs...\n"
     ]
    },
    {
     "name": "stderr",
     "output_type": "stream",
     "text": [
      "CI: 100%|█████████████████████████████████████████████████████████████████████████| 1000/1000 [00:04<00:00, 208.72it/s]"
     ]
    },
    {
     "name": "stdout",
     "output_type": "stream",
     "text": [
      "Done!\n",
      "Computing naive prediction intervals for 1000 test pairs...\n",
      "Done!\n",
      "Computing prediction intervals with Bonferroni correction with alpha 0.1 for 1000 test pairs...\n",
      "Done!\n",
      "Computing prediction intervals with Bonferroni correction with alpha 0.2 for 1000 test pairs...\n",
      "Done!\n"
     ]
    },
    {
     "name": "stderr",
     "output_type": "stream",
     "text": [
      "\n"
     ]
    },
    {
     "name": "stdout",
     "output_type": "stream",
     "text": [
      "Computing conformal prediction intervals for 1000 test pairs...\n"
     ]
    },
    {
     "name": "stderr",
     "output_type": "stream",
     "text": [
      "CI: 100%|█████████████████████████████████████████████████████████████████████████| 1000/1000 [00:04<00:00, 240.59it/s]"
     ]
    },
    {
     "name": "stdout",
     "output_type": "stream",
     "text": [
      "Done!\n",
      "Computing naive prediction intervals for 1000 test pairs...\n",
      "Done!\n",
      "Computing prediction intervals with Bonferroni correction with alpha 0.1 for 1000 test pairs...\n",
      "Done!\n",
      "Computing prediction intervals with Bonferroni correction with alpha 0.2 for 1000 test pairs...\n",
      "Done!\n",
      "Computing conformal prediction intervals for 1000 test pairs...\n"
     ]
    },
    {
     "name": "stderr",
     "output_type": "stream",
     "text": [
      "\n",
      "CI: 100%|█████████████████████████████████████████████████████████████████████████| 1000/1000 [00:04<00:00, 215.24it/s]"
     ]
    },
    {
     "name": "stdout",
     "output_type": "stream",
     "text": [
      "Done!\n",
      "Computing naive prediction intervals for 1000 test pairs...\n",
      "Done!\n",
      "Computing prediction intervals with Bonferroni correction with alpha 0.1 for 1000 test pairs...\n",
      "Done!\n",
      "Computing prediction intervals with Bonferroni correction with alpha 0.2 for 1000 test pairs...\n",
      "Done!\n"
     ]
    },
    {
     "name": "stderr",
     "output_type": "stream",
     "text": [
      "\n"
     ]
    },
    {
     "name": "stdout",
     "output_type": "stream",
     "text": [
      "Computing conformal prediction intervals for 1000 test pairs...\n"
     ]
    },
    {
     "name": "stderr",
     "output_type": "stream",
     "text": [
      "CI: 100%|█████████████████████████████████████████████████████████████████████████| 1000/1000 [00:04<00:00, 246.16it/s]"
     ]
    },
    {
     "name": "stdout",
     "output_type": "stream",
     "text": [
      "Done!\n",
      "Computing naive prediction intervals for 1000 test pairs...\n",
      "Done!\n",
      "Computing prediction intervals with Bonferroni correction with alpha 0.1 for 1000 test pairs...\n",
      "Done!\n",
      "Computing prediction intervals with Bonferroni correction with alpha 0.2 for 1000 test pairs...\n",
      "Done!\n",
      "Computing conformal prediction intervals for 1000 test pairs...\n"
     ]
    },
    {
     "name": "stderr",
     "output_type": "stream",
     "text": [
      "\n",
      "CI: 100%|█████████████████████████████████████████████████████████████████████████| 1000/1000 [00:03<00:00, 257.03it/s]"
     ]
    },
    {
     "name": "stdout",
     "output_type": "stream",
     "text": [
      "Done!\n",
      "Computing naive prediction intervals for 1000 test pairs...\n",
      "Done!\n",
      "Computing prediction intervals with Bonferroni correction with alpha 0.1 for 1000 test pairs...\n"
     ]
    },
    {
     "name": "stderr",
     "output_type": "stream",
     "text": [
      "\n"
     ]
    },
    {
     "name": "stdout",
     "output_type": "stream",
     "text": [
      "Done!\n",
      "Computing prediction intervals with Bonferroni correction with alpha 0.2 for 1000 test pairs...\n",
      "Done!\n",
      "Computing conformal prediction intervals for 1000 test pairs...\n"
     ]
    },
    {
     "name": "stderr",
     "output_type": "stream",
     "text": [
      "CI: 100%|█████████████████████████████████████████████████████████████████████████| 1000/1000 [00:03<00:00, 261.69it/s]"
     ]
    },
    {
     "name": "stdout",
     "output_type": "stream",
     "text": [
      "Done!\n",
      "Computing naive prediction intervals for 1000 test pairs...\n",
      "Done!\n",
      "Computing prediction intervals with Bonferroni correction with alpha 0.1 for 1000 test pairs...\n",
      "Done!\n",
      "Computing prediction intervals with Bonferroni correction with alpha 0.2 for 1000 test pairs...\n",
      "Done!\n",
      "Computing conformal prediction intervals for 1000 test pairs...\n"
     ]
    },
    {
     "name": "stderr",
     "output_type": "stream",
     "text": [
      "\n",
      "CI: 100%|█████████████████████████████████████████████████████████████████████████| 1000/1000 [00:04<00:00, 220.11it/s]"
     ]
    },
    {
     "name": "stdout",
     "output_type": "stream",
     "text": [
      "Done!\n",
      "Computing naive prediction intervals for 1000 test pairs...\n",
      "Done!\n",
      "Computing prediction intervals with Bonferroni correction with alpha 0.1 for 1000 test pairs...\n",
      "Done!\n",
      "Computing prediction intervals with Bonferroni correction with alpha 0.2 for 1000 test pairs...\n",
      "Done!\n",
      "Computing conformal prediction intervals for 1000 test pairs...\n"
     ]
    },
    {
     "name": "stderr",
     "output_type": "stream",
     "text": [
      "\n",
      "CI: 100%|█████████████████████████████████████████████████████████████████████████| 1000/1000 [00:04<00:00, 224.56it/s]"
     ]
    },
    {
     "name": "stdout",
     "output_type": "stream",
     "text": [
      "Done!\n",
      "Computing naive prediction intervals for 1000 test pairs...\n",
      "Done!\n",
      "Computing prediction intervals with Bonferroni correction with alpha 0.1 for 1000 test pairs...\n",
      "Done!\n",
      "Computing prediction intervals with Bonferroni correction with alpha 0.2 for 1000 test pairs...\n",
      "Done!\n",
      "Computing conformal prediction intervals for 1000 test pairs...\n"
     ]
    },
    {
     "name": "stderr",
     "output_type": "stream",
     "text": [
      "\n",
      "CI: 100%|█████████████████████████████████████████████████████████████████████████| 1000/1000 [00:04<00:00, 239.77it/s]"
     ]
    },
    {
     "name": "stdout",
     "output_type": "stream",
     "text": [
      "Done!\n",
      "Computing naive prediction intervals for 1000 test pairs...\n",
      "Done!\n",
      "Computing prediction intervals with Bonferroni correction with alpha 0.1 for 1000 test pairs...\n",
      "Done!\n",
      "Computing prediction intervals with Bonferroni correction with alpha 0.2 for 1000 test pairs...\n",
      "Done!\n",
      "Computing conformal prediction intervals for 1000 test pairs...\n"
     ]
    },
    {
     "name": "stderr",
     "output_type": "stream",
     "text": [
      "\n",
      "CI: 100%|█████████████████████████████████████████████████████████████████████████| 1000/1000 [00:03<00:00, 267.04it/s]"
     ]
    },
    {
     "name": "stdout",
     "output_type": "stream",
     "text": [
      "Done!\n",
      "Computing naive prediction intervals for 1000 test pairs...\n",
      "Done!\n",
      "Computing prediction intervals with Bonferroni correction with alpha 0.1 for 1000 test pairs...\n",
      "Done!\n",
      "Computing prediction intervals with Bonferroni correction with alpha 0.2 for 1000 test pairs...\n",
      "Done!\n"
     ]
    },
    {
     "name": "stderr",
     "output_type": "stream",
     "text": [
      "\n"
     ]
    },
    {
     "name": "stdout",
     "output_type": "stream",
     "text": [
      "Computing conformal prediction intervals for 1000 test pairs...\n"
     ]
    },
    {
     "name": "stderr",
     "output_type": "stream",
     "text": [
      "CI: 100%|█████████████████████████████████████████████████████████████████████████| 1000/1000 [00:03<00:00, 265.71it/s]"
     ]
    },
    {
     "name": "stdout",
     "output_type": "stream",
     "text": [
      "Done!\n",
      "Computing naive prediction intervals for 1000 test pairs...\n"
     ]
    },
    {
     "name": "stderr",
     "output_type": "stream",
     "text": [
      "\n"
     ]
    },
    {
     "name": "stdout",
     "output_type": "stream",
     "text": [
      "Done!\n",
      "Computing prediction intervals with Bonferroni correction with alpha 0.1 for 1000 test pairs...\n",
      "Done!\n",
      "Computing prediction intervals with Bonferroni correction with alpha 0.2 for 1000 test pairs...\n",
      "Done!\n",
      "Computing conformal prediction intervals for 1000 test pairs...\n"
     ]
    },
    {
     "name": "stderr",
     "output_type": "stream",
     "text": [
      "CI: 100%|█████████████████████████████████████████████████████████████████████████| 1000/1000 [00:03<00:00, 264.07it/s]"
     ]
    },
    {
     "name": "stdout",
     "output_type": "stream",
     "text": [
      "Done!\n",
      "Computing naive prediction intervals for 1000 test pairs...\n",
      "Done!\n",
      "Computing prediction intervals with Bonferroni correction with alpha 0.1 for 1000 test pairs...\n",
      "Done!\n",
      "Computing prediction intervals with Bonferroni correction with alpha 0.2 for 1000 test pairs...\n",
      "Done!\n",
      "Computing conformal prediction intervals for 1000 test pairs...\n"
     ]
    },
    {
     "name": "stderr",
     "output_type": "stream",
     "text": [
      "\n",
      "CI: 100%|█████████████████████████████████████████████████████████████████████████| 1000/1000 [00:04<00:00, 212.78it/s]"
     ]
    },
    {
     "name": "stdout",
     "output_type": "stream",
     "text": [
      "Done!\n",
      "Computing naive prediction intervals for 1000 test pairs...\n",
      "Done!\n",
      "Computing prediction intervals with Bonferroni correction with alpha 0.1 for 1000 test pairs...\n",
      "Done!\n",
      "Computing prediction intervals with Bonferroni correction with alpha 0.2 for 1000 test pairs...\n",
      "Done!\n",
      "Computing conformal prediction intervals for 1000 test pairs...\n"
     ]
    },
    {
     "name": "stderr",
     "output_type": "stream",
     "text": [
      "\n",
      "CI: 100%|█████████████████████████████████████████████████████████████████████████| 1000/1000 [00:04<00:00, 221.19it/s]"
     ]
    },
    {
     "name": "stdout",
     "output_type": "stream",
     "text": [
      "Done!\n",
      "Computing naive prediction intervals for 1000 test pairs...\n",
      "Done!\n",
      "Computing prediction intervals with Bonferroni correction with alpha 0.1 for 1000 test pairs...\n"
     ]
    },
    {
     "name": "stderr",
     "output_type": "stream",
     "text": [
      "\n"
     ]
    },
    {
     "name": "stdout",
     "output_type": "stream",
     "text": [
      "Done!\n",
      "Computing prediction intervals with Bonferroni correction with alpha 0.2 for 1000 test pairs...\n",
      "Done!\n",
      "Computing conformal prediction intervals for 1000 test pairs...\n"
     ]
    },
    {
     "name": "stderr",
     "output_type": "stream",
     "text": [
      "CI: 100%|█████████████████████████████████████████████████████████████████████████| 1000/1000 [00:03<00:00, 264.35it/s]"
     ]
    },
    {
     "name": "stdout",
     "output_type": "stream",
     "text": [
      "Done!\n",
      "Computing naive prediction intervals for 1000 test pairs...\n",
      "Done!\n",
      "Computing prediction intervals with Bonferroni correction with alpha 0.1 for 1000 test pairs...\n",
      "Done!\n",
      "Computing prediction intervals with Bonferroni correction with alpha 0.2 for 1000 test pairs...\n",
      "Done!\n",
      "Computing conformal prediction intervals for 1000 test pairs...\n"
     ]
    },
    {
     "name": "stderr",
     "output_type": "stream",
     "text": [
      "\n",
      "CI: 100%|█████████████████████████████████████████████████████████████████████████| 1000/1000 [00:03<00:00, 255.41it/s]"
     ]
    },
    {
     "name": "stdout",
     "output_type": "stream",
     "text": [
      "Done!\n",
      "Computing naive prediction intervals for 1000 test pairs...\n",
      "Done!\n",
      "Computing prediction intervals with Bonferroni correction with alpha 0.1 for 1000 test pairs...\n",
      "Done!\n",
      "Computing prediction intervals with Bonferroni correction with alpha 0.2 for 1000 test pairs...\n",
      "Done!\n",
      "Computing conformal prediction intervals for 1000 test pairs...\n"
     ]
    },
    {
     "name": "stderr",
     "output_type": "stream",
     "text": [
      "\n",
      "CI: 100%|█████████████████████████████████████████████████████████████████████████| 1000/1000 [00:04<00:00, 239.07it/s]"
     ]
    },
    {
     "name": "stdout",
     "output_type": "stream",
     "text": [
      "Done!\n",
      "Computing naive prediction intervals for 1000 test pairs...\n",
      "Done!\n",
      "Computing prediction intervals with Bonferroni correction with alpha 0.1 for 1000 test pairs...\n",
      "Done!\n",
      "Computing prediction intervals with Bonferroni correction with alpha 0.2 for 1000 test pairs...\n",
      "Done!\n"
     ]
    },
    {
     "name": "stderr",
     "output_type": "stream",
     "text": [
      "\n"
     ]
    },
    {
     "name": "stdout",
     "output_type": "stream",
     "text": [
      "Computing conformal prediction intervals for 1000 test pairs...\n"
     ]
    },
    {
     "name": "stderr",
     "output_type": "stream",
     "text": [
      "CI: 100%|█████████████████████████████████████████████████████████████████████████| 1000/1000 [00:04<00:00, 233.65it/s]"
     ]
    },
    {
     "name": "stdout",
     "output_type": "stream",
     "text": [
      "Done!\n"
     ]
    },
    {
     "name": "stderr",
     "output_type": "stream",
     "text": [
      "\n"
     ]
    },
    {
     "name": "stdout",
     "output_type": "stream",
     "text": [
      "Computing naive prediction intervals for 1000 test pairs...\n",
      "Done!\n",
      "Computing prediction intervals with Bonferroni correction with alpha 0.1 for 1000 test pairs...\n",
      "Done!\n",
      "Computing prediction intervals with Bonferroni correction with alpha 0.2 for 1000 test pairs...\n",
      "Done!\n",
      "Computing conformal prediction intervals for 1000 test pairs...\n"
     ]
    },
    {
     "name": "stderr",
     "output_type": "stream",
     "text": [
      "CI: 100%|█████████████████████████████████████████████████████████████████████████| 1000/1000 [00:05<00:00, 189.62it/s]"
     ]
    },
    {
     "name": "stdout",
     "output_type": "stream",
     "text": [
      "Done!\n",
      "Computing naive prediction intervals for 1000 test pairs...\n",
      "Done!\n",
      "Computing prediction intervals with Bonferroni correction with alpha 0.1 for 1000 test pairs...\n",
      "Done!\n",
      "Computing prediction intervals with Bonferroni correction with alpha 0.2 for 1000 test pairs...\n",
      "Done!\n"
     ]
    },
    {
     "name": "stderr",
     "output_type": "stream",
     "text": [
      "\n"
     ]
    },
    {
     "name": "stdout",
     "output_type": "stream",
     "text": [
      "Computing conformal prediction intervals for 1000 test pairs...\n"
     ]
    },
    {
     "name": "stderr",
     "output_type": "stream",
     "text": [
      "CI: 100%|█████████████████████████████████████████████████████████████████████████| 1000/1000 [00:04<00:00, 234.42it/s]"
     ]
    },
    {
     "name": "stdout",
     "output_type": "stream",
     "text": [
      "Done!\n",
      "Computing naive prediction intervals for 1000 test pairs...\n",
      "Done!\n",
      "Computing prediction intervals with Bonferroni correction with alpha 0.1 for 1000 test pairs...\n",
      "Done!\n",
      "Computing prediction intervals with Bonferroni correction with alpha 0.2 for 1000 test pairs...\n",
      "Done!\n"
     ]
    },
    {
     "name": "stderr",
     "output_type": "stream",
     "text": [
      "\n"
     ]
    },
    {
     "name": "stdout",
     "output_type": "stream",
     "text": [
      "Computing conformal prediction intervals for 1000 test pairs...\n"
     ]
    },
    {
     "name": "stderr",
     "output_type": "stream",
     "text": [
      "CI: 100%|█████████████████████████████████████████████████████████████████████████| 1000/1000 [00:03<00:00, 252.02it/s]"
     ]
    },
    {
     "name": "stdout",
     "output_type": "stream",
     "text": [
      "Done!\n",
      "Computing naive prediction intervals for 1000 test pairs...\n",
      "Done!\n",
      "Computing prediction intervals with Bonferroni correction with alpha 0.1 for 1000 test pairs...\n"
     ]
    },
    {
     "name": "stderr",
     "output_type": "stream",
     "text": [
      "\n"
     ]
    },
    {
     "name": "stdout",
     "output_type": "stream",
     "text": [
      "Done!\n",
      "Computing prediction intervals with Bonferroni correction with alpha 0.2 for 1000 test pairs...\n",
      "Done!\n",
      "Computing conformal prediction intervals for 1000 test pairs...\n"
     ]
    },
    {
     "name": "stderr",
     "output_type": "stream",
     "text": [
      "CI: 100%|█████████████████████████████████████████████████████████████████████████| 1000/1000 [00:03<00:00, 271.09it/s]"
     ]
    },
    {
     "name": "stdout",
     "output_type": "stream",
     "text": [
      "Done!\n",
      "Computing naive prediction intervals for 1000 test pairs...\n",
      "Done!\n",
      "Computing prediction intervals with Bonferroni correction with alpha 0.1 for 1000 test pairs...\n",
      "Done!\n",
      "Computing prediction intervals with Bonferroni correction with alpha 0.2 for 1000 test pairs...\n",
      "Done!\n",
      "Computing conformal prediction intervals for 1000 test pairs...\n"
     ]
    },
    {
     "name": "stderr",
     "output_type": "stream",
     "text": [
      "\n",
      "CI: 100%|█████████████████████████████████████████████████████████████████████████| 1000/1000 [00:03<00:00, 258.26it/s]"
     ]
    },
    {
     "name": "stdout",
     "output_type": "stream",
     "text": [
      "Done!\n",
      "Computing naive prediction intervals for 1000 test pairs...\n",
      "Done!\n",
      "Computing prediction intervals with Bonferroni correction with alpha 0.1 for 1000 test pairs...\n",
      "Done!\n",
      "Computing prediction intervals with Bonferroni correction with alpha 0.2 for 1000 test pairs...\n",
      "Done!\n"
     ]
    },
    {
     "name": "stderr",
     "output_type": "stream",
     "text": [
      "\n"
     ]
    },
    {
     "name": "stdout",
     "output_type": "stream",
     "text": [
      "Computing conformal prediction intervals for 1000 test pairs...\n"
     ]
    },
    {
     "name": "stderr",
     "output_type": "stream",
     "text": [
      "CI: 100%|█████████████████████████████████████████████████████████████████████████| 1000/1000 [00:03<00:00, 263.80it/s]"
     ]
    },
    {
     "name": "stdout",
     "output_type": "stream",
     "text": [
      "Done!\n",
      "Computing naive prediction intervals for 1000 test pairs...\n",
      "Done!\n",
      "Computing prediction intervals with Bonferroni correction with alpha 0.1 for 1000 test pairs...\n",
      "Done!\n",
      "Computing prediction intervals with Bonferroni correction with alpha 0.2 for 1000 test pairs...\n",
      "Done!\n",
      "Computing conformal prediction intervals for 1000 test pairs...\n"
     ]
    },
    {
     "name": "stderr",
     "output_type": "stream",
     "text": [
      "\n",
      "CI: 100%|█████████████████████████████████████████████████████████████████████████| 1000/1000 [00:03<00:00, 269.76it/s]"
     ]
    },
    {
     "name": "stdout",
     "output_type": "stream",
     "text": [
      "Done!\n",
      "Computing naive prediction intervals for 1000 test pairs...\n",
      "Done!\n",
      "Computing prediction intervals with Bonferroni correction with alpha 0.1 for 1000 test pairs...\n",
      "Done!\n",
      "Computing prediction intervals with Bonferroni correction with alpha 0.2 for 1000 test pairs...\n",
      "Done!\n",
      "Computing conformal prediction intervals for 1000 test pairs...\n"
     ]
    },
    {
     "name": "stderr",
     "output_type": "stream",
     "text": [
      "\n",
      "CI: 100%|█████████████████████████████████████████████████████████████████████████| 1000/1000 [00:03<00:00, 257.46it/s]"
     ]
    },
    {
     "name": "stdout",
     "output_type": "stream",
     "text": [
      "Done!\n",
      "Computing naive prediction intervals for 1000 test pairs...\n",
      "Done!\n",
      "Computing prediction intervals with Bonferroni correction with alpha 0.1 for 1000 test pairs...\n",
      "Done!\n",
      "Computing prediction intervals with Bonferroni correction with alpha 0.2 for 1000 test pairs...\n",
      "Done!\n"
     ]
    },
    {
     "name": "stderr",
     "output_type": "stream",
     "text": [
      "\n"
     ]
    }
   ],
   "source": [
    "result = pd.DataFrame({})\n",
    "for a in a_list:\n",
    "    for i in range(repetition):\n",
    "        res = run_experiment(M, a, b, gamma, random_state=i)\n",
    "        result = pd.concat([result, res])"
   ]
  },
  {
   "cell_type": "code",
   "execution_count": 190,
   "id": "80e05ed0",
   "metadata": {},
   "outputs": [],
   "source": [
    "result_filtered = result[(result.Method=='bonferroni')|(result.Method=='conformal')]\n",
    "bon_res = result[(result.Method=='bonferroni')].drop(columns=['Method'])\n",
    "conformal_res = result[(result.Method=='conformal')].drop(columns=['Method'])\n",
    "\n",
    "bon_res = bon_res.rename(columns = {\"Pair_coverage\": \"Bonferroni_Pair_coverage\", \n",
    "                          \"Coverage\":\"Bonferroni_Coverage\",\n",
    "                          \"Size\": \"Bonferroni_Size\",\n",
    "                          \"Inf_prop\": \"Bonferroni_Inf_prop\"}).reset_index(drop=True)\n",
    "conformal_res = conformal_res.rename(columns = {\"Pair_coverage\": \"Conformal_Pair_coverage\", \n",
    "                          \"Coverage\":\"Conformal_Coverage\",\n",
    "                          \"Size\": \"Conformal_Size\",\n",
    "                          \"Inf_prop\": \"Conformal_Inf_prop\"}).reset_index(drop=True)\n",
    "\n",
    "res=bon_res.merge(conformal_res, on=['Calib_size', 'Train_size', 'Test_size', 'a', 'b',  'gamma', 'random_state'])\n",
    "res['Ratio'] = res['Bonferroni_Size'] / res['Conformal_Size']"
   ]
  },
  {
   "cell_type": "code",
   "execution_count": 191,
   "id": "2e9c8d7d",
   "metadata": {},
   "outputs": [
    {
     "data": {
      "image/png": "[encoded data removed]",
      "text/plain": [
       "<Figure size 1400x400 with 3 Axes>"
      ]
     },
     "metadata": {},
     "output_type": "display_data"
    }
   ],
   "source": [
    "# Make plot\n",
    "fig, ax = plt.subplots(1, 3, figsize=(14, 4))\n",
    "\n",
    "sns.pointplot(data=res, x=\"a\", y=\"Ratio\", color=\"#009933\", errorbar='sd', hue=None, scale=0.6, ax=ax[0])\n",
    "\n",
    "sns.pointplot(data=result_filtered, x=\"a\", y=\"Size\", hue='Method', errorbar='sd', scale=0.6, ax=ax[1])\n",
    "sns.pointplot(data=result_filtered, x=\"a\", y=\"Pair_coverage\", hue='Method', errorbar='sd', ax=ax[2], scale=0.6)\n",
    "\n",
    "plt.show()"
   ]
  },
  {
   "cell_type": "markdown",
   "id": "73c75d17",
   "metadata": {},
   "source": [
    "# Experiment 2\n",
    "Change gamma, fix a, b"
   ]
  },
  {
   "cell_type": "code",
   "execution_count": 243,
   "id": "4fbeae19",
   "metadata": {},
   "outputs": [],
   "source": [
    "# Experiment parameters\n",
    "gamma_list = np.linspace(0,1,6)\n",
    "gamma_list = [ round(gamma, 1) for gamma in gamma_list ]  # avoid floating point issues\n",
    "a=0.1\n",
    "b=100\n",
    "repetition=10"
   ]
  },
  {
   "cell_type": "code",
   "execution_count": 244,
   "id": "f3614568",
   "metadata": {
    "scrolled": true
   },
   "outputs": [
    {
     "name": "stdout",
     "output_type": "stream",
     "text": [
      "Computing conformal prediction intervals for 1000 test pairs...\n"
     ]
    },
    {
     "name": "stderr",
     "output_type": "stream",
     "text": [
      "CI: 100%|█████████████████████████████████████████████████████████████████████████| 1000/1000 [00:04<00:00, 231.93it/s]"
     ]
    },
    {
     "name": "stdout",
     "output_type": "stream",
     "text": [
      "Done!\n",
      "Computing naive prediction intervals for 1000 test pairs...\n",
      "Done!\n",
      "Computing prediction intervals with Bonferroni correction with alpha 0.1 for 1000 test pairs...\n",
      "Done!\n",
      "Computing prediction intervals with Bonferroni correction with alpha 0.2 for 1000 test pairs...\n",
      "Done!\n"
     ]
    },
    {
     "name": "stderr",
     "output_type": "stream",
     "text": [
      "\n"
     ]
    },
    {
     "name": "stdout",
     "output_type": "stream",
     "text": [
      "Computing conformal prediction intervals for 1000 test pairs...\n"
     ]
    },
    {
     "name": "stderr",
     "output_type": "stream",
     "text": [
      "CI: 100%|█████████████████████████████████████████████████████████████████████████| 1000/1000 [00:05<00:00, 170.76it/s]"
     ]
    },
    {
     "name": "stdout",
     "output_type": "stream",
     "text": [
      "Done!\n",
      "Computing naive prediction intervals for 1000 test pairs...\n",
      "Done!\n",
      "Computing prediction intervals with Bonferroni correction with alpha 0.1 for 1000 test pairs...\n",
      "Done!\n",
      "Computing prediction intervals with Bonferroni correction with alpha 0.2 for 1000 test pairs...\n",
      "Done!\n",
      "Computing conformal prediction intervals for 1000 test pairs...\n"
     ]
    },
    {
     "name": "stderr",
     "output_type": "stream",
     "text": [
      "\n",
      "CI: 100%|█████████████████████████████████████████████████████████████████████████| 1000/1000 [00:04<00:00, 221.26it/s]"
     ]
    },
    {
     "name": "stdout",
     "output_type": "stream",
     "text": [
      "Done!\n",
      "Computing naive prediction intervals for 1000 test pairs...\n",
      "Done!\n",
      "Computing prediction intervals with Bonferroni correction with alpha 0.1 for 1000 test pairs...\n",
      "Done!\n",
      "Computing prediction intervals with Bonferroni correction with alpha 0.2 for 1000 test pairs...\n",
      "Done!\n"
     ]
    },
    {
     "name": "stderr",
     "output_type": "stream",
     "text": [
      "\n"
     ]
    },
    {
     "name": "stdout",
     "output_type": "stream",
     "text": [
      "Computing conformal prediction intervals for 1000 test pairs...\n"
     ]
    },
    {
     "name": "stderr",
     "output_type": "stream",
     "text": [
      "CI: 100%|█████████████████████████████████████████████████████████████████████████| 1000/1000 [00:04<00:00, 246.32it/s]"
     ]
    },
    {
     "name": "stdout",
     "output_type": "stream",
     "text": [
      "Done!\n",
      "Computing naive prediction intervals for 1000 test pairs...\n",
      "Done!\n",
      "Computing prediction intervals with Bonferroni correction with alpha 0.1 for 1000 test pairs...\n",
      "Done!\n",
      "Computing prediction intervals with Bonferroni correction with alpha 0.2 for 1000 test pairs...\n"
     ]
    },
    {
     "name": "stderr",
     "output_type": "stream",
     "text": [
      "\n"
     ]
    },
    {
     "name": "stdout",
     "output_type": "stream",
     "text": [
      "Done!\n",
      "Computing conformal prediction intervals for 1000 test pairs...\n"
     ]
    },
    {
     "name": "stderr",
     "output_type": "stream",
     "text": [
      "CI: 100%|█████████████████████████████████████████████████████████████████████████| 1000/1000 [00:05<00:00, 198.38it/s]"
     ]
    },
    {
     "name": "stdout",
     "output_type": "stream",
     "text": [
      "Done!\n",
      "Computing naive prediction intervals for 1000 test pairs...\n",
      "Done!\n",
      "Computing prediction intervals with Bonferroni correction with alpha 0.1 for 1000 test pairs...\n",
      "Done!\n",
      "Computing prediction intervals with Bonferroni correction with alpha 0.2 for 1000 test pairs...\n",
      "Done!\n",
      "Computing conformal prediction intervals for 1000 test pairs...\n"
     ]
    },
    {
     "name": "stderr",
     "output_type": "stream",
     "text": [
      "\n",
      "CI: 100%|█████████████████████████████████████████████████████████████████████████| 1000/1000 [00:04<00:00, 237.95it/s]"
     ]
    },
    {
     "name": "stdout",
     "output_type": "stream",
     "text": [
      "Done!\n",
      "Computing naive prediction intervals for 1000 test pairs...\n"
     ]
    },
    {
     "name": "stderr",
     "output_type": "stream",
     "text": [
      "\n"
     ]
    },
    {
     "name": "stdout",
     "output_type": "stream",
     "text": [
      "Done!\n",
      "Computing prediction intervals with Bonferroni correction with alpha 0.1 for 1000 test pairs...\n",
      "Done!\n",
      "Computing prediction intervals with Bonferroni correction with alpha 0.2 for 1000 test pairs...\n",
      "Done!\n",
      "Computing conformal prediction intervals for 1000 test pairs...\n"
     ]
    },
    {
     "name": "stderr",
     "output_type": "stream",
     "text": [
      "CI: 100%|█████████████████████████████████████████████████████████████████████████| 1000/1000 [00:04<00:00, 216.77it/s]"
     ]
    },
    {
     "name": "stdout",
     "output_type": "stream",
     "text": [
      "Done!\n",
      "Computing naive prediction intervals for 1000 test pairs...\n",
      "Done!\n",
      "Computing prediction intervals with Bonferroni correction with alpha 0.1 for 1000 test pairs...\n",
      "Done!\n",
      "Computing prediction intervals with Bonferroni correction with alpha 0.2 for 1000 test pairs...\n",
      "Done!\n"
     ]
    },
    {
     "name": "stderr",
     "output_type": "stream",
     "text": [
      "\n"
     ]
    },
    {
     "name": "stdout",
     "output_type": "stream",
     "text": [
      "Computing conformal prediction intervals for 1000 test pairs...\n"
     ]
    },
    {
     "name": "stderr",
     "output_type": "stream",
     "text": [
      "CI: 100%|█████████████████████████████████████████████████████████████████████████| 1000/1000 [00:04<00:00, 237.31it/s]"
     ]
    },
    {
     "name": "stdout",
     "output_type": "stream",
     "text": [
      "Done!\n",
      "Computing naive prediction intervals for 1000 test pairs...\n",
      "Done!\n",
      "Computing prediction intervals with Bonferroni correction with alpha 0.1 for 1000 test pairs...\n",
      "Done!\n",
      "Computing prediction intervals with Bonferroni correction with alpha 0.2 for 1000 test pairs...\n",
      "Done!\n"
     ]
    },
    {
     "name": "stderr",
     "output_type": "stream",
     "text": [
      "\n"
     ]
    },
    {
     "name": "stdout",
     "output_type": "stream",
     "text": [
      "Computing conformal prediction intervals for 1000 test pairs...\n"
     ]
    },
    {
     "name": "stderr",
     "output_type": "stream",
     "text": [
      "CI: 100%|█████████████████████████████████████████████████████████████████████████| 1000/1000 [00:04<00:00, 236.47it/s]"
     ]
    },
    {
     "name": "stdout",
     "output_type": "stream",
     "text": [
      "Done!\n",
      "Computing naive prediction intervals for 1000 test pairs...\n",
      "Done!\n",
      "Computing prediction intervals with Bonferroni correction with alpha 0.1 for 1000 test pairs...\n",
      "Done!\n",
      "Computing prediction intervals with Bonferroni correction with alpha 0.2 for 1000 test pairs...\n",
      "Done!\n",
      "Computing conformal prediction intervals for 1000 test pairs...\n"
     ]
    },
    {
     "name": "stderr",
     "output_type": "stream",
     "text": [
      "\n",
      "CI: 100%|█████████████████████████████████████████████████████████████████████████| 1000/1000 [00:05<00:00, 183.97it/s]"
     ]
    },
    {
     "name": "stdout",
     "output_type": "stream",
     "text": [
      "Done!\n",
      "Computing naive prediction intervals for 1000 test pairs...\n",
      "Done!\n",
      "Computing prediction intervals with Bonferroni correction with alpha 0.1 for 1000 test pairs...\n",
      "Done!\n",
      "Computing prediction intervals with Bonferroni correction with alpha 0.2 for 1000 test pairs...\n",
      "Done!\n",
      "Computing conformal prediction intervals for 1000 test pairs...\n"
     ]
    },
    {
     "name": "stderr",
     "output_type": "stream",
     "text": [
      "\n",
      "CI: 100%|█████████████████████████████████████████████████████████████████████████| 1000/1000 [00:04<00:00, 234.23it/s]"
     ]
    },
    {
     "name": "stdout",
     "output_type": "stream",
     "text": [
      "Done!\n",
      "Computing naive prediction intervals for 1000 test pairs...\n",
      "Done!\n",
      "Computing prediction intervals with Bonferroni correction with alpha 0.1 for 1000 test pairs...\n",
      "Done!\n",
      "Computing prediction intervals with Bonferroni correction with alpha 0.2 for 1000 test pairs...\n"
     ]
    },
    {
     "name": "stderr",
     "output_type": "stream",
     "text": [
      "\n"
     ]
    },
    {
     "name": "stdout",
     "output_type": "stream",
     "text": [
      "Done!\n",
      "Computing conformal prediction intervals for 1000 test pairs...\n"
     ]
    },
    {
     "name": "stderr",
     "output_type": "stream",
     "text": [
      "CI: 100%|█████████████████████████████████████████████████████████████████████████| 1000/1000 [00:05<00:00, 168.50it/s]"
     ]
    },
    {
     "name": "stdout",
     "output_type": "stream",
     "text": [
      "Done!\n",
      "Computing naive prediction intervals for 1000 test pairs...\n"
     ]
    },
    {
     "name": "stderr",
     "output_type": "stream",
     "text": [
      "\n"
     ]
    },
    {
     "name": "stdout",
     "output_type": "stream",
     "text": [
      "Done!\n",
      "Computing prediction intervals with Bonferroni correction with alpha 0.1 for 1000 test pairs...\n",
      "Done!\n",
      "Computing prediction intervals with Bonferroni correction with alpha 0.2 for 1000 test pairs...\n",
      "Done!\n",
      "Computing conformal prediction intervals for 1000 test pairs...\n"
     ]
    },
    {
     "name": "stderr",
     "output_type": "stream",
     "text": [
      "CI: 100%|█████████████████████████████████████████████████████████████████████████| 1000/1000 [00:05<00:00, 191.42it/s]"
     ]
    },
    {
     "name": "stdout",
     "output_type": "stream",
     "text": [
      "Done!\n",
      "Computing naive prediction intervals for 1000 test pairs...\n",
      "Done!\n",
      "Computing prediction intervals with Bonferroni correction with alpha 0.1 for 1000 test pairs...\n",
      "Done!\n",
      "Computing prediction intervals with Bonferroni correction with alpha 0.2 for 1000 test pairs...\n",
      "Done!\n"
     ]
    },
    {
     "name": "stderr",
     "output_type": "stream",
     "text": [
      "\n"
     ]
    },
    {
     "name": "stdout",
     "output_type": "stream",
     "text": [
      "Computing conformal prediction intervals for 1000 test pairs...\n"
     ]
    },
    {
     "name": "stderr",
     "output_type": "stream",
     "text": [
      "CI: 100%|█████████████████████████████████████████████████████████████████████████| 1000/1000 [00:04<00:00, 212.68it/s]"
     ]
    },
    {
     "name": "stdout",
     "output_type": "stream",
     "text": [
      "Done!\n",
      "Computing naive prediction intervals for 1000 test pairs...\n",
      "Done!\n",
      "Computing prediction intervals with Bonferroni correction with alpha 0.1 for 1000 test pairs...\n",
      "Done!\n",
      "Computing prediction intervals with Bonferroni correction with alpha 0.2 for 1000 test pairs...\n",
      "Done!\n"
     ]
    },
    {
     "name": "stderr",
     "output_type": "stream",
     "text": [
      "\n"
     ]
    },
    {
     "name": "stdout",
     "output_type": "stream",
     "text": [
      "Computing conformal prediction intervals for 1000 test pairs...\n"
     ]
    },
    {
     "name": "stderr",
     "output_type": "stream",
     "text": [
      "CI: 100%|█████████████████████████████████████████████████████████████████████████| 1000/1000 [00:04<00:00, 206.18it/s]"
     ]
    },
    {
     "name": "stdout",
     "output_type": "stream",
     "text": [
      "Done!\n",
      "Computing naive prediction intervals for 1000 test pairs...\n",
      "Done!\n",
      "Computing prediction intervals with Bonferroni correction with alpha 0.1 for 1000 test pairs...\n",
      "Done!\n",
      "Computing prediction intervals with Bonferroni correction with alpha 0.2 for 1000 test pairs...\n",
      "Done!\n"
     ]
    },
    {
     "name": "stderr",
     "output_type": "stream",
     "text": [
      "\n"
     ]
    },
    {
     "name": "stdout",
     "output_type": "stream",
     "text": [
      "Computing conformal prediction intervals for 1000 test pairs...\n"
     ]
    },
    {
     "name": "stderr",
     "output_type": "stream",
     "text": [
      "CI: 100%|█████████████████████████████████████████████████████████████████████████| 1000/1000 [00:03<00:00, 263.77it/s]"
     ]
    },
    {
     "name": "stdout",
     "output_type": "stream",
     "text": [
      "Done!\n",
      "Computing naive prediction intervals for 1000 test pairs...\n",
      "Done!\n",
      "Computing prediction intervals with Bonferroni correction with alpha 0.1 for 1000 test pairs...\n",
      "Done!\n",
      "Computing prediction intervals with Bonferroni correction with alpha 0.2 for 1000 test pairs...\n",
      "Done!\n",
      "Computing conformal prediction intervals for 1000 test pairs...\n"
     ]
    },
    {
     "name": "stderr",
     "output_type": "stream",
     "text": [
      "\n",
      "CI: 100%|█████████████████████████████████████████████████████████████████████████| 1000/1000 [00:04<00:00, 228.11it/s]"
     ]
    },
    {
     "name": "stdout",
     "output_type": "stream",
     "text": [
      "Done!\n",
      "Computing naive prediction intervals for 1000 test pairs...\n",
      "Done!\n",
      "Computing prediction intervals with Bonferroni correction with alpha 0.1 for 1000 test pairs...\n",
      "Done!\n"
     ]
    },
    {
     "name": "stderr",
     "output_type": "stream",
     "text": [
      "\n"
     ]
    },
    {
     "name": "stdout",
     "output_type": "stream",
     "text": [
      "Computing prediction intervals with Bonferroni correction with alpha 0.2 for 1000 test pairs...\n",
      "Done!\n",
      "Computing conformal prediction intervals for 1000 test pairs...\n"
     ]
    },
    {
     "name": "stderr",
     "output_type": "stream",
     "text": [
      "CI: 100%|█████████████████████████████████████████████████████████████████████████| 1000/1000 [00:04<00:00, 224.83it/s]"
     ]
    },
    {
     "name": "stdout",
     "output_type": "stream",
     "text": [
      "Done!\n",
      "Computing naive prediction intervals for 1000 test pairs...\n",
      "Done!\n",
      "Computing prediction intervals with Bonferroni correction with alpha 0.1 for 1000 test pairs...\n",
      "Done!\n",
      "Computing prediction intervals with Bonferroni correction with alpha 0.2 for 1000 test pairs...\n",
      "Done!\n"
     ]
    },
    {
     "name": "stderr",
     "output_type": "stream",
     "text": [
      "\n"
     ]
    },
    {
     "name": "stdout",
     "output_type": "stream",
     "text": [
      "Computing conformal prediction intervals for 1000 test pairs...\n"
     ]
    },
    {
     "name": "stderr",
     "output_type": "stream",
     "text": [
      "CI: 100%|█████████████████████████████████████████████████████████████████████████| 1000/1000 [00:04<00:00, 247.81it/s]"
     ]
    },
    {
     "name": "stdout",
     "output_type": "stream",
     "text": [
      "Done!\n",
      "Computing naive prediction intervals for 1000 test pairs...\n",
      "Done!\n",
      "Computing prediction intervals with Bonferroni correction with alpha 0.1 for 1000 test pairs...\n",
      "Done!\n",
      "Computing prediction intervals with Bonferroni correction with alpha 0.2 for 1000 test pairs...\n",
      "Done!\n",
      "Computing conformal prediction intervals for 1000 test pairs...\n"
     ]
    },
    {
     "name": "stderr",
     "output_type": "stream",
     "text": [
      "\n",
      "CI: 100%|█████████████████████████████████████████████████████████████████████████| 1000/1000 [00:04<00:00, 239.32it/s]"
     ]
    },
    {
     "name": "stdout",
     "output_type": "stream",
     "text": [
      "Done!\n",
      "Computing naive prediction intervals for 1000 test pairs...\n",
      "Done!\n",
      "Computing prediction intervals with Bonferroni correction with alpha 0.1 for 1000 test pairs...\n",
      "Done!\n",
      "Computing prediction intervals with Bonferroni correction with alpha 0.2 for 1000 test pairs...\n",
      "Done!\n"
     ]
    },
    {
     "name": "stderr",
     "output_type": "stream",
     "text": [
      "\n"
     ]
    },
    {
     "name": "stdout",
     "output_type": "stream",
     "text": [
      "Computing conformal prediction intervals for 1000 test pairs...\n"
     ]
    },
    {
     "name": "stderr",
     "output_type": "stream",
     "text": [
      "CI: 100%|█████████████████████████████████████████████████████████████████████████| 1000/1000 [00:04<00:00, 243.60it/s]"
     ]
    },
    {
     "name": "stdout",
     "output_type": "stream",
     "text": [
      "Done!\n",
      "Computing naive prediction intervals for 1000 test pairs...\n",
      "Done!\n",
      "Computing prediction intervals with Bonferroni correction with alpha 0.1 for 1000 test pairs...\n",
      "Done!\n",
      "Computing prediction intervals with Bonferroni correction with alpha 0.2 for 1000 test pairs...\n",
      "Done!\n",
      "Computing conformal prediction intervals for 1000 test pairs...\n"
     ]
    },
    {
     "name": "stderr",
     "output_type": "stream",
     "text": [
      "\n",
      "CI: 100%|█████████████████████████████████████████████████████████████████████████| 1000/1000 [00:04<00:00, 220.63it/s]"
     ]
    },
    {
     "name": "stdout",
     "output_type": "stream",
     "text": [
      "Done!\n"
     ]
    },
    {
     "name": "stderr",
     "output_type": "stream",
     "text": [
      "\n"
     ]
    },
    {
     "name": "stdout",
     "output_type": "stream",
     "text": [
      "Computing naive prediction intervals for 1000 test pairs...\n",
      "Done!\n",
      "Computing prediction intervals with Bonferroni correction with alpha 0.1 for 1000 test pairs...\n",
      "Done!\n",
      "Computing prediction intervals with Bonferroni correction with alpha 0.2 for 1000 test pairs...\n",
      "Done!\n",
      "Computing conformal prediction intervals for 1000 test pairs...\n"
     ]
    },
    {
     "name": "stderr",
     "output_type": "stream",
     "text": [
      "CI: 100%|█████████████████████████████████████████████████████████████████████████| 1000/1000 [00:04<00:00, 236.94it/s]"
     ]
    },
    {
     "name": "stdout",
     "output_type": "stream",
     "text": [
      "Done!\n",
      "Computing naive prediction intervals for 1000 test pairs...\n",
      "Done!\n",
      "Computing prediction intervals with Bonferroni correction with alpha 0.1 for 1000 test pairs...\n",
      "Done!\n",
      "Computing prediction intervals with Bonferroni correction with alpha 0.2 for 1000 test pairs...\n",
      "Done!\n"
     ]
    },
    {
     "name": "stderr",
     "output_type": "stream",
     "text": [
      "\n"
     ]
    },
    {
     "name": "stdout",
     "output_type": "stream",
     "text": [
      "Computing conformal prediction intervals for 1000 test pairs...\n"
     ]
    },
    {
     "name": "stderr",
     "output_type": "stream",
     "text": [
      "CI: 100%|█████████████████████████████████████████████████████████████████████████| 1000/1000 [00:04<00:00, 202.89it/s]"
     ]
    },
    {
     "name": "stdout",
     "output_type": "stream",
     "text": [
      "Done!\n",
      "Computing naive prediction intervals for 1000 test pairs...\n",
      "Done!\n",
      "Computing prediction intervals with Bonferroni correction with alpha 0.1 for 1000 test pairs...\n",
      "Done!\n",
      "Computing prediction intervals with Bonferroni correction with alpha 0.2 for 1000 test pairs...\n",
      "Done!\n"
     ]
    },
    {
     "name": "stderr",
     "output_type": "stream",
     "text": [
      "\n"
     ]
    },
    {
     "name": "stdout",
     "output_type": "stream",
     "text": [
      "Computing conformal prediction intervals for 1000 test pairs...\n"
     ]
    },
    {
     "name": "stderr",
     "output_type": "stream",
     "text": [
      "CI: 100%|█████████████████████████████████████████████████████████████████████████| 1000/1000 [00:04<00:00, 222.32it/s]"
     ]
    },
    {
     "name": "stdout",
     "output_type": "stream",
     "text": [
      "Done!\n",
      "Computing naive prediction intervals for 1000 test pairs...\n",
      "Done!\n",
      "Computing prediction intervals with Bonferroni correction with alpha 0.1 for 1000 test pairs...\n",
      "Done!\n",
      "Computing prediction intervals with Bonferroni correction with alpha 0.2 for 1000 test pairs...\n",
      "Done!\n",
      "Computing conformal prediction intervals for 1000 test pairs...\n"
     ]
    },
    {
     "name": "stderr",
     "output_type": "stream",
     "text": [
      "\n",
      "CI: 100%|█████████████████████████████████████████████████████████████████████████| 1000/1000 [00:05<00:00, 195.48it/s]"
     ]
    },
    {
     "name": "stdout",
     "output_type": "stream",
     "text": [
      "Done!\n",
      "Computing naive prediction intervals for 1000 test pairs...\n",
      "Done!\n",
      "Computing prediction intervals with Bonferroni correction with alpha 0.1 for 1000 test pairs...\n"
     ]
    },
    {
     "name": "stderr",
     "output_type": "stream",
     "text": [
      "\n"
     ]
    },
    {
     "name": "stdout",
     "output_type": "stream",
     "text": [
      "Done!\n",
      "Computing prediction intervals with Bonferroni correction with alpha 0.2 for 1000 test pairs...\n",
      "Done!\n",
      "Computing conformal prediction intervals for 1000 test pairs...\n"
     ]
    },
    {
     "name": "stderr",
     "output_type": "stream",
     "text": [
      "CI: 100%|█████████████████████████████████████████████████████████████████████████| 1000/1000 [00:05<00:00, 195.23it/s]"
     ]
    },
    {
     "name": "stdout",
     "output_type": "stream",
     "text": [
      "Done!\n",
      "Computing naive prediction intervals for 1000 test pairs...\n",
      "Done!\n",
      "Computing prediction intervals with Bonferroni correction with alpha 0.1 for 1000 test pairs...\n",
      "Done!\n",
      "Computing prediction intervals with Bonferroni correction with alpha 0.2 for 1000 test pairs...\n",
      "Done!\n"
     ]
    },
    {
     "name": "stderr",
     "output_type": "stream",
     "text": [
      "\n"
     ]
    },
    {
     "name": "stdout",
     "output_type": "stream",
     "text": [
      "Computing conformal prediction intervals for 1000 test pairs...\n"
     ]
    },
    {
     "name": "stderr",
     "output_type": "stream",
     "text": [
      "CI: 100%|█████████████████████████████████████████████████████████████████████████| 1000/1000 [00:06<00:00, 159.93it/s]"
     ]
    },
    {
     "name": "stdout",
     "output_type": "stream",
     "text": [
      "Done!\n",
      "Computing naive prediction intervals for 1000 test pairs...\n",
      "Done!\n",
      "Computing prediction intervals with Bonferroni correction with alpha 0.1 for 1000 test pairs...\n",
      "Done!\n",
      "Computing prediction intervals with Bonferroni correction with alpha 0.2 for 1000 test pairs...\n",
      "Done!\n"
     ]
    },
    {
     "name": "stderr",
     "output_type": "stream",
     "text": [
      "\n"
     ]
    },
    {
     "name": "stdout",
     "output_type": "stream",
     "text": [
      "Computing conformal prediction intervals for 1000 test pairs...\n"
     ]
    },
    {
     "name": "stderr",
     "output_type": "stream",
     "text": [
      "CI: 100%|█████████████████████████████████████████████████████████████████████████| 1000/1000 [00:06<00:00, 157.50it/s]"
     ]
    },
    {
     "name": "stdout",
     "output_type": "stream",
     "text": [
      "Done!\n",
      "Computing naive prediction intervals for 1000 test pairs...\n",
      "Done!\n",
      "Computing prediction intervals with Bonferroni correction with alpha 0.1 for 1000 test pairs...\n",
      "Done!\n",
      "Computing prediction intervals with Bonferroni correction with alpha 0.2 for 1000 test pairs...\n",
      "Done!\n"
     ]
    },
    {
     "name": "stderr",
     "output_type": "stream",
     "text": [
      "\n"
     ]
    },
    {
     "name": "stdout",
     "output_type": "stream",
     "text": [
      "Computing conformal prediction intervals for 1000 test pairs...\n"
     ]
    },
    {
     "name": "stderr",
     "output_type": "stream",
     "text": [
      "CI: 100%|█████████████████████████████████████████████████████████████████████████| 1000/1000 [00:04<00:00, 217.05it/s]"
     ]
    },
    {
     "name": "stdout",
     "output_type": "stream",
     "text": [
      "Done!\n",
      "Computing naive prediction intervals for 1000 test pairs...\n",
      "Done!\n",
      "Computing prediction intervals with Bonferroni correction with alpha 0.1 for 1000 test pairs...\n",
      "Done!\n",
      "Computing prediction intervals with Bonferroni correction with alpha 0.2 for 1000 test pairs...\n",
      "Done!\n"
     ]
    },
    {
     "name": "stderr",
     "output_type": "stream",
     "text": [
      "\n"
     ]
    },
    {
     "name": "stdout",
     "output_type": "stream",
     "text": [
      "Computing conformal prediction intervals for 1000 test pairs...\n"
     ]
    },
    {
     "name": "stderr",
     "output_type": "stream",
     "text": [
      "CI: 100%|█████████████████████████████████████████████████████████████████████████| 1000/1000 [00:06<00:00, 160.73it/s]"
     ]
    },
    {
     "name": "stdout",
     "output_type": "stream",
     "text": [
      "Done!\n",
      "Computing naive prediction intervals for 1000 test pairs...\n",
      "Done!\n",
      "Computing prediction intervals with Bonferroni correction with alpha 0.1 for 1000 test pairs...\n",
      "Done!\n",
      "Computing prediction intervals with Bonferroni correction with alpha 0.2 for 1000 test pairs...\n",
      "Done!\n"
     ]
    },
    {
     "name": "stderr",
     "output_type": "stream",
     "text": [
      "\n"
     ]
    },
    {
     "name": "stdout",
     "output_type": "stream",
     "text": [
      "Computing conformal prediction intervals for 1000 test pairs...\n"
     ]
    },
    {
     "name": "stderr",
     "output_type": "stream",
     "text": [
      "CI: 100%|██████████████████████████████████████████████████████████████████████████| 1000/1000 [00:10<00:00, 99.82it/s]"
     ]
    },
    {
     "name": "stdout",
     "output_type": "stream",
     "text": [
      "Done!\n",
      "Computing naive prediction intervals for 1000 test pairs...\n",
      "Done!\n"
     ]
    },
    {
     "name": "stderr",
     "output_type": "stream",
     "text": [
      "\n"
     ]
    },
    {
     "name": "stdout",
     "output_type": "stream",
     "text": [
      "Computing prediction intervals with Bonferroni correction with alpha 0.1 for 1000 test pairs...\n",
      "Done!\n",
      "Computing prediction intervals with Bonferroni correction with alpha 0.2 for 1000 test pairs...\n",
      "Done!\n",
      "Computing conformal prediction intervals for 1000 test pairs...\n"
     ]
    },
    {
     "name": "stderr",
     "output_type": "stream",
     "text": [
      "CI: 100%|█████████████████████████████████████████████████████████████████████████| 1000/1000 [00:06<00:00, 156.57it/s]"
     ]
    },
    {
     "name": "stdout",
     "output_type": "stream",
     "text": [
      "Done!\n",
      "Computing naive prediction intervals for 1000 test pairs...\n",
      "Done!\n",
      "Computing prediction intervals with Bonferroni correction with alpha 0.1 for 1000 test pairs...\n",
      "Done!\n",
      "Computing prediction intervals with Bonferroni correction with alpha 0.2 for 1000 test pairs...\n",
      "Done!\n",
      "Computing conformal prediction intervals for 1000 test pairs...\n"
     ]
    },
    {
     "name": "stderr",
     "output_type": "stream",
     "text": [
      "\n",
      "CI: 100%|█████████████████████████████████████████████████████████████████████████| 1000/1000 [00:07<00:00, 132.48it/s]"
     ]
    },
    {
     "name": "stdout",
     "output_type": "stream",
     "text": [
      "Done!\n",
      "Computing naive prediction intervals for 1000 test pairs...\n",
      "Done!\n",
      "Computing prediction intervals with Bonferroni correction with alpha 0.1 for 1000 test pairs...\n",
      "Done!\n",
      "Computing prediction intervals with Bonferroni correction with alpha 0.2 for 1000 test pairs...\n",
      "Done!\n"
     ]
    },
    {
     "name": "stderr",
     "output_type": "stream",
     "text": [
      "\n"
     ]
    },
    {
     "name": "stdout",
     "output_type": "stream",
     "text": [
      "Computing conformal prediction intervals for 1000 test pairs...\n"
     ]
    },
    {
     "name": "stderr",
     "output_type": "stream",
     "text": [
      "CI: 100%|█████████████████████████████████████████████████████████████████████████| 1000/1000 [00:07<00:00, 135.49it/s]"
     ]
    },
    {
     "name": "stdout",
     "output_type": "stream",
     "text": [
      "Done!\n",
      "Computing naive prediction intervals for 1000 test pairs...\n",
      "Done!\n",
      "Computing prediction intervals with Bonferroni correction with alpha 0.1 for 1000 test pairs...\n",
      "Done!\n",
      "Computing prediction intervals with Bonferroni correction with alpha 0.2 for 1000 test pairs...\n",
      "Done!\n"
     ]
    },
    {
     "name": "stderr",
     "output_type": "stream",
     "text": [
      "\n"
     ]
    },
    {
     "name": "stdout",
     "output_type": "stream",
     "text": [
      "Computing conformal prediction intervals for 1000 test pairs...\n"
     ]
    },
    {
     "name": "stderr",
     "output_type": "stream",
     "text": [
      "CI: 100%|█████████████████████████████████████████████████████████████████████████| 1000/1000 [00:07<00:00, 133.92it/s]"
     ]
    },
    {
     "name": "stdout",
     "output_type": "stream",
     "text": [
      "Done!\n",
      "Computing naive prediction intervals for 1000 test pairs...\n"
     ]
    },
    {
     "name": "stderr",
     "output_type": "stream",
     "text": [
      "\n"
     ]
    },
    {
     "name": "stdout",
     "output_type": "stream",
     "text": [
      "Done!\n",
      "Computing prediction intervals with Bonferroni correction with alpha 0.1 for 1000 test pairs...\n",
      "Done!\n",
      "Computing prediction intervals with Bonferroni correction with alpha 0.2 for 1000 test pairs...\n",
      "Done!\n",
      "Computing conformal prediction intervals for 1000 test pairs...\n"
     ]
    },
    {
     "name": "stderr",
     "output_type": "stream",
     "text": [
      "CI: 100%|█████████████████████████████████████████████████████████████████████████| 1000/1000 [00:08<00:00, 111.47it/s]\n"
     ]
    },
    {
     "name": "stdout",
     "output_type": "stream",
     "text": [
      "Done!\n",
      "Computing naive prediction intervals for 1000 test pairs...\n",
      "Done!\n",
      "Computing prediction intervals with Bonferroni correction with alpha 0.1 for 1000 test pairs...\n",
      "Done!\n",
      "Computing prediction intervals with Bonferroni correction with alpha 0.2 for 1000 test pairs...\n",
      "Done!\n",
      "Computing conformal prediction intervals for 1000 test pairs...\n"
     ]
    },
    {
     "name": "stderr",
     "output_type": "stream",
     "text": [
      "CI: 100%|█████████████████████████████████████████████████████████████████████████| 1000/1000 [00:08<00:00, 114.36it/s]"
     ]
    },
    {
     "name": "stdout",
     "output_type": "stream",
     "text": [
      "Done!\n",
      "Computing naive prediction intervals for 1000 test pairs...\n"
     ]
    },
    {
     "name": "stderr",
     "output_type": "stream",
     "text": [
      "\n"
     ]
    },
    {
     "name": "stdout",
     "output_type": "stream",
     "text": [
      "Done!\n",
      "Computing prediction intervals with Bonferroni correction with alpha 0.1 for 1000 test pairs...\n",
      "Done!\n",
      "Computing prediction intervals with Bonferroni correction with alpha 0.2 for 1000 test pairs...\n",
      "Done!\n",
      "Computing conformal prediction intervals for 1000 test pairs...\n"
     ]
    },
    {
     "name": "stderr",
     "output_type": "stream",
     "text": [
      "CI: 100%|█████████████████████████████████████████████████████████████████████████| 1000/1000 [00:08<00:00, 120.48it/s]"
     ]
    },
    {
     "name": "stdout",
     "output_type": "stream",
     "text": [
      "Done!\n",
      "Computing naive prediction intervals for 1000 test pairs...\n",
      "Done!\n",
      "Computing prediction intervals with Bonferroni correction with alpha 0.1 for 1000 test pairs...\n",
      "Done!\n",
      "Computing prediction intervals with Bonferroni correction with alpha 0.2 for 1000 test pairs...\n",
      "Done!\n"
     ]
    },
    {
     "name": "stderr",
     "output_type": "stream",
     "text": [
      "\n"
     ]
    },
    {
     "name": "stdout",
     "output_type": "stream",
     "text": [
      "Computing conformal prediction intervals for 1000 test pairs...\n"
     ]
    },
    {
     "name": "stderr",
     "output_type": "stream",
     "text": [
      "CI: 100%|█████████████████████████████████████████████████████████████████████████| 1000/1000 [00:09<00:00, 110.33it/s]"
     ]
    },
    {
     "name": "stdout",
     "output_type": "stream",
     "text": [
      "Done!\n",
      "Computing naive prediction intervals for 1000 test pairs...\n",
      "Done!\n"
     ]
    },
    {
     "name": "stderr",
     "output_type": "stream",
     "text": [
      "\n"
     ]
    },
    {
     "name": "stdout",
     "output_type": "stream",
     "text": [
      "Computing prediction intervals with Bonferroni correction with alpha 0.1 for 1000 test pairs...\n",
      "Done!\n",
      "Computing prediction intervals with Bonferroni correction with alpha 0.2 for 1000 test pairs...\n",
      "Done!\n",
      "Computing conformal prediction intervals for 1000 test pairs...\n"
     ]
    },
    {
     "name": "stderr",
     "output_type": "stream",
     "text": [
      "CI: 100%|█████████████████████████████████████████████████████████████████████████| 1000/1000 [00:06<00:00, 157.80it/s]"
     ]
    },
    {
     "name": "stdout",
     "output_type": "stream",
     "text": [
      "Done!\n",
      "Computing naive prediction intervals for 1000 test pairs...\n",
      "Done!\n",
      "Computing prediction intervals with Bonferroni correction with alpha 0.1 for 1000 test pairs...\n",
      "Done!\n",
      "Computing prediction intervals with Bonferroni correction with alpha 0.2 for 1000 test pairs...\n",
      "Done!\n"
     ]
    },
    {
     "name": "stderr",
     "output_type": "stream",
     "text": [
      "\n"
     ]
    },
    {
     "name": "stdout",
     "output_type": "stream",
     "text": [
      "Computing conformal prediction intervals for 1000 test pairs...\n"
     ]
    },
    {
     "name": "stderr",
     "output_type": "stream",
     "text": [
      "CI: 100%|█████████████████████████████████████████████████████████████████████████| 1000/1000 [00:05<00:00, 173.20it/s]"
     ]
    },
    {
     "name": "stdout",
     "output_type": "stream",
     "text": [
      "Done!\n",
      "Computing naive prediction intervals for 1000 test pairs...\n",
      "Done!\n",
      "Computing prediction intervals with Bonferroni correction with alpha 0.1 for 1000 test pairs...\n",
      "Done!\n",
      "Computing prediction intervals with Bonferroni correction with alpha 0.2 for 1000 test pairs...\n",
      "Done!\n"
     ]
    },
    {
     "name": "stderr",
     "output_type": "stream",
     "text": [
      "\n"
     ]
    },
    {
     "name": "stdout",
     "output_type": "stream",
     "text": [
      "Computing conformal prediction intervals for 1000 test pairs...\n"
     ]
    },
    {
     "name": "stderr",
     "output_type": "stream",
     "text": [
      "CI: 100%|█████████████████████████████████████████████████████████████████████████| 1000/1000 [00:05<00:00, 191.25it/s]"
     ]
    },
    {
     "name": "stdout",
     "output_type": "stream",
     "text": [
      "Done!\n",
      "Computing naive prediction intervals for 1000 test pairs...\n",
      "Done!\n",
      "Computing prediction intervals with Bonferroni correction with alpha 0.1 for 1000 test pairs...\n",
      "Done!\n",
      "Computing prediction intervals with Bonferroni correction with alpha 0.2 for 1000 test pairs...\n",
      "Done!\n"
     ]
    },
    {
     "name": "stderr",
     "output_type": "stream",
     "text": [
      "\n"
     ]
    },
    {
     "name": "stdout",
     "output_type": "stream",
     "text": [
      "Computing conformal prediction intervals for 1000 test pairs...\n"
     ]
    },
    {
     "name": "stderr",
     "output_type": "stream",
     "text": [
      "CI: 100%|█████████████████████████████████████████████████████████████████████████| 1000/1000 [00:08<00:00, 122.32it/s]"
     ]
    },
    {
     "name": "stdout",
     "output_type": "stream",
     "text": [
      "Done!\n"
     ]
    },
    {
     "name": "stderr",
     "output_type": "stream",
     "text": [
      "\n"
     ]
    },
    {
     "name": "stdout",
     "output_type": "stream",
     "text": [
      "Computing naive prediction intervals for 1000 test pairs...\n",
      "Done!\n",
      "Computing prediction intervals with Bonferroni correction with alpha 0.1 for 1000 test pairs...\n",
      "Done!\n",
      "Computing prediction intervals with Bonferroni correction with alpha 0.2 for 1000 test pairs...\n",
      "Done!\n",
      "Computing conformal prediction intervals for 1000 test pairs...\n"
     ]
    },
    {
     "name": "stderr",
     "output_type": "stream",
     "text": [
      "CI: 100%|█████████████████████████████████████████████████████████████████████████| 1000/1000 [00:04<00:00, 247.65it/s]"
     ]
    },
    {
     "name": "stdout",
     "output_type": "stream",
     "text": [
      "Done!\n"
     ]
    },
    {
     "name": "stderr",
     "output_type": "stream",
     "text": [
      "\n"
     ]
    },
    {
     "name": "stdout",
     "output_type": "stream",
     "text": [
      "Computing naive prediction intervals for 1000 test pairs...\n",
      "Done!\n",
      "Computing prediction intervals with Bonferroni correction with alpha 0.1 for 1000 test pairs...\n",
      "Done!\n",
      "Computing prediction intervals with Bonferroni correction with alpha 0.2 for 1000 test pairs...\n",
      "Done!\n",
      "Computing conformal prediction intervals for 1000 test pairs...\n"
     ]
    },
    {
     "name": "stderr",
     "output_type": "stream",
     "text": [
      "CI: 100%|█████████████████████████████████████████████████████████████████████████| 1000/1000 [00:07<00:00, 135.28it/s]"
     ]
    },
    {
     "name": "stdout",
     "output_type": "stream",
     "text": [
      "Done!\n",
      "Computing naive prediction intervals for 1000 test pairs...\n",
      "Done!\n",
      "Computing prediction intervals with Bonferroni correction with alpha 0.1 for 1000 test pairs...\n",
      "Done!\n",
      "Computing prediction intervals with Bonferroni correction with alpha 0.2 for 1000 test pairs...\n",
      "Done!\n"
     ]
    },
    {
     "name": "stderr",
     "output_type": "stream",
     "text": [
      "\n"
     ]
    },
    {
     "name": "stdout",
     "output_type": "stream",
     "text": [
      "Computing conformal prediction intervals for 1000 test pairs...\n"
     ]
    },
    {
     "name": "stderr",
     "output_type": "stream",
     "text": [
      "CI: 100%|█████████████████████████████████████████████████████████████████████████| 1000/1000 [00:07<00:00, 125.11it/s]"
     ]
    },
    {
     "name": "stdout",
     "output_type": "stream",
     "text": [
      "Done!\n",
      "Computing naive prediction intervals for 1000 test pairs...\n"
     ]
    },
    {
     "name": "stderr",
     "output_type": "stream",
     "text": [
      "\n"
     ]
    },
    {
     "name": "stdout",
     "output_type": "stream",
     "text": [
      "Done!\n",
      "Computing prediction intervals with Bonferroni correction with alpha 0.1 for 1000 test pairs...\n",
      "Done!\n",
      "Computing prediction intervals with Bonferroni correction with alpha 0.2 for 1000 test pairs...\n",
      "Done!\n",
      "Computing conformal prediction intervals for 1000 test pairs...\n"
     ]
    },
    {
     "name": "stderr",
     "output_type": "stream",
     "text": [
      "CI: 100%|█████████████████████████████████████████████████████████████████████████| 1000/1000 [00:06<00:00, 149.21it/s]"
     ]
    },
    {
     "name": "stdout",
     "output_type": "stream",
     "text": [
      "Done!\n"
     ]
    },
    {
     "name": "stderr",
     "output_type": "stream",
     "text": [
      "\n"
     ]
    },
    {
     "name": "stdout",
     "output_type": "stream",
     "text": [
      "Computing naive prediction intervals for 1000 test pairs...\n",
      "Done!\n",
      "Computing prediction intervals with Bonferroni correction with alpha 0.1 for 1000 test pairs...\n",
      "Done!\n",
      "Computing prediction intervals with Bonferroni correction with alpha 0.2 for 1000 test pairs...\n",
      "Done!\n",
      "Computing conformal prediction intervals for 1000 test pairs...\n"
     ]
    },
    {
     "name": "stderr",
     "output_type": "stream",
     "text": [
      "CI: 100%|█████████████████████████████████████████████████████████████████████████| 1000/1000 [00:07<00:00, 131.44it/s]"
     ]
    },
    {
     "name": "stdout",
     "output_type": "stream",
     "text": [
      "Done!\n"
     ]
    },
    {
     "name": "stderr",
     "output_type": "stream",
     "text": [
      "\n"
     ]
    },
    {
     "name": "stdout",
     "output_type": "stream",
     "text": [
      "Computing naive prediction intervals for 1000 test pairs...\n",
      "Done!\n",
      "Computing prediction intervals with Bonferroni correction with alpha 0.1 for 1000 test pairs...\n",
      "Done!\n",
      "Computing prediction intervals with Bonferroni correction with alpha 0.2 for 1000 test pairs...\n",
      "Done!\n",
      "Computing conformal prediction intervals for 1000 test pairs...\n"
     ]
    },
    {
     "name": "stderr",
     "output_type": "stream",
     "text": [
      "CI: 100%|█████████████████████████████████████████████████████████████████████████| 1000/1000 [00:05<00:00, 176.87it/s]"
     ]
    },
    {
     "name": "stdout",
     "output_type": "stream",
     "text": [
      "Done!\n",
      "Computing naive prediction intervals for 1000 test pairs...\n",
      "Done!\n",
      "Computing prediction intervals with Bonferroni correction with alpha 0.1 for 1000 test pairs...\n",
      "Done!\n",
      "Computing prediction intervals with Bonferroni correction with alpha 0.2 for 1000 test pairs...\n",
      "Done!\n"
     ]
    },
    {
     "name": "stderr",
     "output_type": "stream",
     "text": [
      "\n"
     ]
    },
    {
     "name": "stdout",
     "output_type": "stream",
     "text": [
      "Computing conformal prediction intervals for 1000 test pairs...\n"
     ]
    },
    {
     "name": "stderr",
     "output_type": "stream",
     "text": [
      "CI: 100%|█████████████████████████████████████████████████████████████████████████| 1000/1000 [00:07<00:00, 139.05it/s]"
     ]
    },
    {
     "name": "stdout",
     "output_type": "stream",
     "text": [
      "Done!\n",
      "Computing naive prediction intervals for 1000 test pairs...\n"
     ]
    },
    {
     "name": "stderr",
     "output_type": "stream",
     "text": [
      "\n"
     ]
    },
    {
     "name": "stdout",
     "output_type": "stream",
     "text": [
      "Done!\n",
      "Computing prediction intervals with Bonferroni correction with alpha 0.1 for 1000 test pairs...\n",
      "Done!\n",
      "Computing prediction intervals with Bonferroni correction with alpha 0.2 for 1000 test pairs...\n",
      "Done!\n",
      "Computing conformal prediction intervals for 1000 test pairs...\n"
     ]
    },
    {
     "name": "stderr",
     "output_type": "stream",
     "text": [
      "CI: 100%|█████████████████████████████████████████████████████████████████████████| 1000/1000 [00:06<00:00, 160.38it/s]"
     ]
    },
    {
     "name": "stdout",
     "output_type": "stream",
     "text": [
      "Done!\n",
      "Computing naive prediction intervals for 1000 test pairs...\n",
      "Done!\n",
      "Computing prediction intervals with Bonferroni correction with alpha 0.1 for 1000 test pairs...\n",
      "Done!\n"
     ]
    },
    {
     "name": "stderr",
     "output_type": "stream",
     "text": [
      "\n"
     ]
    },
    {
     "name": "stdout",
     "output_type": "stream",
     "text": [
      "Computing prediction intervals with Bonferroni correction with alpha 0.2 for 1000 test pairs...\n",
      "Done!\n",
      "Computing conformal prediction intervals for 1000 test pairs...\n"
     ]
    },
    {
     "name": "stderr",
     "output_type": "stream",
     "text": [
      "CI: 100%|█████████████████████████████████████████████████████████████████████████| 1000/1000 [00:07<00:00, 135.21it/s]"
     ]
    },
    {
     "name": "stdout",
     "output_type": "stream",
     "text": [
      "Done!\n",
      "Computing naive prediction intervals for 1000 test pairs...\n"
     ]
    },
    {
     "name": "stderr",
     "output_type": "stream",
     "text": [
      "\n"
     ]
    },
    {
     "name": "stdout",
     "output_type": "stream",
     "text": [
      "Done!\n",
      "Computing prediction intervals with Bonferroni correction with alpha 0.1 for 1000 test pairs...\n",
      "Done!\n",
      "Computing prediction intervals with Bonferroni correction with alpha 0.2 for 1000 test pairs...\n",
      "Done!\n",
      "Computing conformal prediction intervals for 1000 test pairs...\n"
     ]
    },
    {
     "name": "stderr",
     "output_type": "stream",
     "text": [
      "CI: 100%|█████████████████████████████████████████████████████████████████████████| 1000/1000 [00:07<00:00, 140.61it/s]"
     ]
    },
    {
     "name": "stdout",
     "output_type": "stream",
     "text": [
      "Done!\n",
      "Computing naive prediction intervals for 1000 test pairs...\n",
      "Done!\n",
      "Computing prediction intervals with Bonferroni correction with alpha 0.1 for 1000 test pairs...\n",
      "Done!\n",
      "Computing prediction intervals with Bonferroni correction with alpha 0.2 for 1000 test pairs...\n",
      "Done!\n"
     ]
    },
    {
     "name": "stderr",
     "output_type": "stream",
     "text": [
      "\n"
     ]
    },
    {
     "name": "stdout",
     "output_type": "stream",
     "text": [
      "Computing conformal prediction intervals for 1000 test pairs...\n"
     ]
    },
    {
     "name": "stderr",
     "output_type": "stream",
     "text": [
      "CI: 100%|█████████████████████████████████████████████████████████████████████████| 1000/1000 [00:04<00:00, 234.74it/s]"
     ]
    },
    {
     "name": "stdout",
     "output_type": "stream",
     "text": [
      "Done!\n",
      "Computing naive prediction intervals for 1000 test pairs...\n",
      "Done!\n",
      "Computing prediction intervals with Bonferroni correction with alpha 0.1 for 1000 test pairs...\n",
      "Done!\n",
      "Computing prediction intervals with Bonferroni correction with alpha 0.2 for 1000 test pairs...\n",
      "Done!\n",
      "Computing conformal prediction intervals for 1000 test pairs...\n"
     ]
    },
    {
     "name": "stderr",
     "output_type": "stream",
     "text": [
      "\n",
      "CI: 100%|█████████████████████████████████████████████████████████████████████████| 1000/1000 [00:06<00:00, 146.69it/s]"
     ]
    },
    {
     "name": "stdout",
     "output_type": "stream",
     "text": [
      "Done!\n",
      "Computing naive prediction intervals for 1000 test pairs...\n"
     ]
    },
    {
     "name": "stderr",
     "output_type": "stream",
     "text": [
      "\n"
     ]
    },
    {
     "name": "stdout",
     "output_type": "stream",
     "text": [
      "Done!\n",
      "Computing prediction intervals with Bonferroni correction with alpha 0.1 for 1000 test pairs...\n",
      "Done!\n",
      "Computing prediction intervals with Bonferroni correction with alpha 0.2 for 1000 test pairs...\n",
      "Done!\n",
      "Computing conformal prediction intervals for 1000 test pairs...\n"
     ]
    },
    {
     "name": "stderr",
     "output_type": "stream",
     "text": [
      "CI: 100%|█████████████████████████████████████████████████████████████████████████| 1000/1000 [00:07<00:00, 141.16it/s]"
     ]
    },
    {
     "name": "stdout",
     "output_type": "stream",
     "text": [
      "Done!\n",
      "Computing naive prediction intervals for 1000 test pairs...\n",
      "Done!\n"
     ]
    },
    {
     "name": "stderr",
     "output_type": "stream",
     "text": [
      "\n"
     ]
    },
    {
     "name": "stdout",
     "output_type": "stream",
     "text": [
      "Computing prediction intervals with Bonferroni correction with alpha 0.1 for 1000 test pairs...\n",
      "Done!\n",
      "Computing prediction intervals with Bonferroni correction with alpha 0.2 for 1000 test pairs...\n",
      "Done!\n",
      "Computing conformal prediction intervals for 1000 test pairs...\n"
     ]
    },
    {
     "name": "stderr",
     "output_type": "stream",
     "text": [
      "CI: 100%|█████████████████████████████████████████████████████████████████████████| 1000/1000 [00:07<00:00, 127.00it/s]"
     ]
    },
    {
     "name": "stdout",
     "output_type": "stream",
     "text": [
      "Done!\n",
      "Computing naive prediction intervals for 1000 test pairs...\n",
      "Done!\n",
      "Computing prediction intervals with Bonferroni correction with alpha 0.1 for 1000 test pairs...\n"
     ]
    },
    {
     "name": "stderr",
     "output_type": "stream",
     "text": [
      "\n"
     ]
    },
    {
     "name": "stdout",
     "output_type": "stream",
     "text": [
      "Done!\n",
      "Computing prediction intervals with Bonferroni correction with alpha 0.2 for 1000 test pairs...\n",
      "Done!\n",
      "Computing conformal prediction intervals for 1000 test pairs...\n"
     ]
    },
    {
     "name": "stderr",
     "output_type": "stream",
     "text": [
      "CI: 100%|█████████████████████████████████████████████████████████████████████████| 1000/1000 [00:07<00:00, 125.22it/s]"
     ]
    },
    {
     "name": "stdout",
     "output_type": "stream",
     "text": [
      "Done!\n",
      "Computing naive prediction intervals for 1000 test pairs...\n"
     ]
    },
    {
     "name": "stderr",
     "output_type": "stream",
     "text": [
      "\n"
     ]
    },
    {
     "name": "stdout",
     "output_type": "stream",
     "text": [
      "Done!\n",
      "Computing prediction intervals with Bonferroni correction with alpha 0.1 for 1000 test pairs...\n",
      "Done!\n",
      "Computing prediction intervals with Bonferroni correction with alpha 0.2 for 1000 test pairs...\n",
      "Done!\n",
      "Computing conformal prediction intervals for 1000 test pairs...\n"
     ]
    },
    {
     "name": "stderr",
     "output_type": "stream",
     "text": [
      "CI: 100%|█████████████████████████████████████████████████████████████████████████| 1000/1000 [00:07<00:00, 135.07it/s]"
     ]
    },
    {
     "name": "stdout",
     "output_type": "stream",
     "text": [
      "Done!\n"
     ]
    },
    {
     "name": "stderr",
     "output_type": "stream",
     "text": [
      "\n"
     ]
    },
    {
     "name": "stdout",
     "output_type": "stream",
     "text": [
      "Computing naive prediction intervals for 1000 test pairs...\n",
      "Done!\n",
      "Computing prediction intervals with Bonferroni correction with alpha 0.1 for 1000 test pairs...\n",
      "Done!\n",
      "Computing prediction intervals with Bonferroni correction with alpha 0.2 for 1000 test pairs...\n",
      "Done!\n"
     ]
    }
   ],
   "source": [
    "result = pd.DataFrame({})\n",
    "for gamma in gamma_list:\n",
    "    for i in range(repetition):\n",
    "        res = run_experiment(M, a, b, gamma, random_state=i)\n",
    "        result = pd.concat([result, res])"
   ]
  },
  {
   "cell_type": "code",
   "execution_count": 245,
   "id": "507f0144",
   "metadata": {},
   "outputs": [],
   "source": [
    "result_filtered = result[(result.Method=='bonferroni')|(result.Method=='conformal')]\n",
    "bon_res = result[(result.Method=='bonferroni')].drop(columns=['Method'])\n",
    "conformal_res = result[(result.Method=='conformal')].drop(columns=['Method'])\n",
    "\n",
    "bon_res = bon_res.rename(columns = {\"Pair_coverage\": \"Bonferroni_Pair_coverage\", \n",
    "                          \"Coverage\":\"Bonferroni_Coverage\",\n",
    "                          \"Size\": \"Bonferroni_Size\",\n",
    "                          \"Inf_prop\": \"Bonferroni_Inf_prop\"}).reset_index(drop=True)\n",
    "conformal_res = conformal_res.rename(columns = {\"Pair_coverage\": \"Conformal_Pair_coverage\", \n",
    "                          \"Coverage\":\"Conformal_Coverage\",\n",
    "                          \"Size\": \"Conformal_Size\",\n",
    "                          \"Inf_prop\": \"Conformal_Inf_prop\"}).reset_index(drop=True)\n",
    "\n",
    "res=bon_res.merge(conformal_res, on=['Calib_size', 'Train_size', 'Test_size', 'a', 'b',  'gamma', 'random_state'])\n",
    "res['Ratio'] = res['Bonferroni_Size'] / res['Conformal_Size']"
   ]
  },
  {
   "cell_type": "code",
   "execution_count": 246,
   "id": "6b3d6e66",
   "metadata": {},
   "outputs": [
    {
     "data": {
      "image/png": "[encoded data removed]",
      "text/plain": [
       "<Figure size 1400x400 with 3 Axes>"
      ]
     },
     "metadata": {},
     "output_type": "display_data"
    }
   ],
   "source": [
    "# Make plot\n",
    "fig, ax = plt.subplots(1, 3, figsize=(14, 4))\n",
    "\n",
    "sns.pointplot(data=res, x=\"gamma\", y=\"Ratio\", color=\"#009933\", errorbar='sd', hue=None, scale=0.6, ax=ax[0])\n",
    "\n",
    "sns.pointplot(data=result_filtered, x=\"gamma\", y=\"Size\", hue='Method', errorbar='sd', scale=0.6, ax=ax[1])\n",
    "sns.pointplot(data=result_filtered, x=\"gamma\", y=\"Pair_coverage\", hue='Method', errorbar='sd', ax=ax[2], scale=0.6)\n",
    "\n",
    "plt.show()"
   ]
  },
  {
   "cell_type": "code",
   "execution_count": null,
   "id": "67efd7b0",
   "metadata": {},
   "outputs": [],
   "source": []
  }
 ],
 "metadata": {
  "kernelspec": {
   "display_name": "Python 3 (ipykernel)",
   "language": "python",
   "name": "python3"
  },
  "language_info": {
   "codemirror_mode": {
    "name": "ipython",
    "version": 3
   },
   "file_extension": ".py",
   "mimetype": "text/x-python",
   "name": "python",
   "nbconvert_exporter": "python",
   "pygments_lexer": "ipython3",
   "version": "3.10.9"
  }
 },
 "nbformat": 4,
 "nbformat_minor": 5
}
