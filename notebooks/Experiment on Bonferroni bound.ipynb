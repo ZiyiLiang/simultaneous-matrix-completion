{
 "cells": [
  {
   "cell_type": "code",
   "execution_count": 2,
   "id": "19516065",
   "metadata": {},
   "outputs": [],
   "source": [
    "%matplotlib inline\n",
    "%load_ext autoreload\n",
    "%autoreload 2\n",
    "\n",
    "import sys, os\n",
    "sys.path.append('../pairedRS')"
   ]
  },
  {
   "cell_type": "code",
   "execution_count": 3,
   "id": "ae7165cb",
   "metadata": {},
   "outputs": [],
   "source": [
    "import numpy as np   \n",
    "import pandas as pd\n",
    "import pdb\n",
    "import matplotlib.pyplot as plt\n",
    "import scipy.stats as stats\n",
    "import seaborn as sns\n",
    "from tqdm import tqdm\n",
    "import sys"
   ]
  },
  {
   "cell_type": "code",
   "execution_count": null,
   "id": "1fe844c1",
   "metadata": {},
   "outputs": [],
   "source": [
    "from utils import *     # contains some useful helper functions \n",
    "from models import *    # toy models\n",
    "from solvers import *   # matrix completion solvers\n",
    "from methods import *"
   ]
  },
  {
   "cell_type": "code",
   "execution_count": 582,
   "id": "64a0e781",
   "metadata": {},
   "outputs": [],
   "source": [
    "# Some useful functions\n",
    "\n",
    "def get_scores(n, a=1, b=1, random_state=0):  \n",
    "    rng = np.random.default_rng(random_state)\n",
    "    scores = rng.beta(a, b, n)\n",
    "    return scores\n",
    "\n",
    "\n",
    "\n",
    "# Bonferroni\n",
    "def get_bon_st(scores, alpha):\n",
    "    st_scores = np.sort(scores)\n",
    "    alpha_corrected = alpha / 2\n",
    "    bon_st = np.quantile(st_scores, 1 - alpha_corrected, method=\"lower\")\n",
    "    return bon_st, st_scores\n",
    "\n",
    "\n",
    "\n",
    "def get_conformal_st(scores, alpha, pair_method):\n",
    "    if pair_method == \"indep\":\n",
    "        # pairs are picked at random\n",
    "        pairs = [[scores[2*i], scores[2*i+1]] for i in range(n//2)]\n",
    "        pair_scores = [np.max(p) for p in pairs]\n",
    "        \n",
    "    elif pair_method == \"pos_cor\":\n",
    "        # similar scores are grouped\n",
    "        st_scores = np.sort(scores)\n",
    "        pairs = [[st_scores[2*i], st_scores[2*i+1]] for i in range(n//2)]\n",
    "        pair_scores = [np.max(p) for p in pairs]\n",
    "    \n",
    "    elif pair_method == \"neg_cor\":\n",
    "        st_scores = np.sort(scores)\n",
    "        pairs = [[st_scores[i], st_scores[-(i+1)]] for i in range(n//2)]\n",
    "        pair_scores = [np.max(p) for p in pairs]\n",
    "        \n",
    "    st_pair_scores = np.sort(pair_scores)\n",
    "    conformal_st = np.quantile(st_pair_scores, 1 - alpha, method=\"lower\")\n",
    "    return st_pair_scores, conformal_st\n",
    "\n",
    "\n",
    "\n",
    "def plot_st(st_pair_scores, st_scores, conformal_st, bon_st, n, alpha):\n",
    "    fig, ax = plt.subplots(1, 2, figsize=(10, 4))\n",
    "    px = np.arange(1, n//2 + 1) / (n//2)\n",
    "    h_spacing = bon_st/50\n",
    "    v_spacing = alpha/5\n",
    "    \n",
    "    \n",
    "    ax[0].plot(st_pair_scores, px)\n",
    "    ax[0].axhline(y=1-alpha, color='red', linestyle='--')\n",
    "    ax[0].axvline(x=conformal_st, color='blue', linestyle='--')\n",
    "    ax[0].set_title(\"Paired scores cdf\")\n",
    "    ax[0].set_xlabel(\"Paired scores\")\n",
    "    ax[0].set_ylabel(\"Quantiles\")\n",
    "    ax[0].plot(conformal_st, 1-alpha, 'ro')\n",
    "    ax[0].annotate(f'threshold:{conformal_st:.4f}', (conformal_st-h_spacing, 0.01), fontsize=10, color='blue', ha='right')\n",
    "    ax[0].annotate(f'quantile:{1-alpha:.2f}', (conformal_st-h_spacing, 1-alpha+v_spacing), fontsize=10, color='red', ha='right')\n",
    "    \n",
    "    x = np.arange(1, n + 1) / n\n",
    "    ax[1].plot(st_scores, x)\n",
    "    ax[1].axhline(y=1-alpha/2, color='red', linestyle='--', label='Vertical Line')\n",
    "    ax[1].axvline(x=bon_st, color='blue', linestyle='--')\n",
    "    ax[1].set_title(\"Scores cdf\")\n",
    "    ax[1].set_xlabel(\"Scores\")\n",
    "    ax[1].set_ylabel(\"Quantiles\")\n",
    "    ax[1].plot(bon_st, 1-alpha/2, 'ro')\n",
    "    ax[1].annotate(f'threshold:{bon_st:.4f}', (bon_st-h_spacing, 0.01), fontsize=10, color='blue', ha='right')\n",
    "    ax[1].annotate(f'quantile:{1-alpha/2:.2f}', (bon_st-h_spacing, 1-alpha/2+v_spacing), fontsize=10, color='red', ha='right')\n",
    "    \n",
    "    print(\"Paired quantile is {}, Bonferroni quantile is {}\".format(conformal_st, bon_st))\n",
    "    print(\"Interval size ratio (Bonferroni/conformal) is {}\".format(bon_st/conformal_st))"
   ]
  },
  {
   "cell_type": "markdown",
   "id": "ec9dc12d",
   "metadata": {},
   "source": [
    "# Warm up experiments\n",
    "\n",
    "#### Consider the general setting where we have:\n",
    "- n conformity-scores generated from a specific distribution.\n",
    "- Method of picking the score pairs.\n",
    "- Conformity-scores of the pairs by taking the maximum over the score tuples.\n",
    "\n",
    "#### Then the confidence interval half-width are computed as following:\n",
    "- Conformal method: take the 1-alpha quantile of the scores for pairs.\n",
    "- Bonferroni: take the 1-alpha/2 quantile of the original scores.\n",
    "\n",
    "#### Metric\n",
    "Power gain over the Bonferroni correction is measure by the width ratio:\n",
    "- Bonferroni size / conformal size \n",
    "Larger ratio corresponds to higher power gain.\n",
    "\n",
    "#### Priliminary conclusion\n",
    "Ratio is affected by two factors:\n",
    "- Grouping method: if the two scores in the same pair shows high positive correlation, the power gain is more evident.\n",
    "- Score distribution: if the score cdf is concave, power gain is likely to be higher; and vice versa for covex cdfs.\n"
   ]
  },
  {
   "cell_type": "code",
   "execution_count": 596,
   "id": "90378eea",
   "metadata": {},
   "outputs": [],
   "source": [
    "n = 1000\n",
    "alpha = 0.1\n",
    "\n",
    "# Three toy grouping method:\n",
    "# \"pos_cor\" shows positive correlation, i.e, similar scores are grouped together\n",
    "# \"neg_cor\" shows negative correlation, i.e, small scores are grouped with large scores.\n",
    "# \"indep\" groups scores uniformly at random.\n",
    "pair_method = \"pos_cor\"\n",
    "\n",
    "# Here we generate the score cdf with beta(a,b) which controls the convexity.\n",
    "a,b = 1,100 \n",
    "seed = 1\n",
    "\n",
    "scores =  get_scores(n, a, b, random_state=seed)\n",
    "st_pair_scores, conformal_st = get_conformal_st(scores, alpha, pair_method)\n",
    "bon_st, st_scores = get_bon_st(scores, alpha)"
   ]
  },
  {
   "cell_type": "code",
   "execution_count": 597,
   "id": "f9ddb045",
   "metadata": {},
   "outputs": [
    {
     "name": "stdout",
     "output_type": "stream",
     "text": [
      "Paired quantile is 0.02355185887598642, Bonferroni quantile is 0.030270573835340403\n",
      "Interval size ratio (Bonferroni/conformal) is 1.2852732344708644\n"
     ]
    },
    {
     "data": {
      "image/png": "[encoded data removed]",
      "text/plain": [
       "<Figure size 1000x400 with 2 Axes>"
      ]
     },
     "metadata": {},
     "output_type": "display_data"
    }
   ],
   "source": [
    "plot_st(st_pair_scores, st_scores, conformal_st, bon_st, n, alpha)"
   ]
  },
  {
   "cell_type": "markdown",
   "id": "0470bfcf",
   "metadata": {},
   "source": [
    "# Experiment with the homogeneous-pairs model\n",
    "\n",
    "We artifically create matrix completion errors and check the tightness of the Bonferroni correction."
   ]
  },
  {
   "cell_type": "code",
   "execution_count": 605,
   "id": "df9129ed",
   "metadata": {},
   "outputs": [],
   "source": [
    "# Matrix shape and rank\n",
    "n1, n2 = 100,100\n",
    "r = 8\n",
    "prob_obs = 0.5\n",
    "random_state = 0\n",
    "allow_inf = False"
   ]
  },
  {
   "cell_type": "code",
   "execution_count": 606,
   "id": "402c43e9",
   "metadata": {},
   "outputs": [],
   "source": [
    "sampler = PairSampling(n1,n2)\n",
    "size_obs = n1 * n2 * prob_obs\n",
    "n_calib_pairs = int(size_obs//4)\n",
    "\n",
    "# Sample observation mask\n",
    "mask_obs = sampler.sample_submask(size_obs, random_state=random_state)\n",
    "mask_test = np.ones_like(mask_obs) - mask_obs\n",
    "\n",
    "# Sample calibration pairs following hpm\n",
    "mask_train, idxs_calib, mask_calib, mask_drop = sampler.sample_train_calib(mask_obs, n_calib_pairs, random_state)\n",
    "\n",
    "# Sample test pairs\n",
    "n_test_pairs = min(int((np.sum(mask_test)-n1)//2), 1000)\n",
    "_, idxs_test, _, _ = sampler.sample_train_calib(mask_test, n_test_pairs, random_state=random_state)"
   ]
  },
  {
   "cell_type": "code",
   "execution_count": 607,
   "id": "09e43d61",
   "metadata": {},
   "outputs": [],
   "source": [
    "# Generate a random true matrix \n",
    "RFM = RandomFactorizationModel(n1 ,n2, r)\n",
    "U, V, M = RFM.sample_noiseless(random_state)"
   ]
  },
  {
   "cell_type": "code",
   "execution_count": 609,
   "id": "2ccf8516",
   "metadata": {},
   "outputs": [
    {
     "data": {
      "image/png": "[encoded data removed]",
      "text/plain": [
       "<Figure size 1200x500 with 4 Axes>"
      ]
     },
     "metadata": {},
     "output_type": "display_data"
    },
    {
     "name": "stdout",
     "output_type": "stream",
     "text": [
      "Missing entries are masked in dark color.\n",
      "Observation size: 5000.0, training size: 2500.0, calib size: 2500.0, calib pairs: 1250\n"
     ]
    }
   ],
   "source": [
    "assert np.all(mask_train+mask_calib==mask_obs),'Sampling error!'\n",
    "vmin, vmax = np.min(M)-100, np.max(M)\n",
    "plot_before_after_mask(M, mask_obs, vmin, vmax)\n",
    "print(\"Missing entries are masked in dark color.\")\n",
    "print(\"Observation size: {}, training size: {}, calib size: {}, calib pairs: {}\"\n",
    "      .format(np.sum(mask_obs), np.sum(mask_train), np.sum(mask_calib), n_calib_pairs))"
   ]
  },
  {
   "cell_type": "code",
   "execution_count": 614,
   "id": "aa4a531c",
   "metadata": {},
   "outputs": [],
   "source": [
    "def noisy_oracle(M, a=1, b=1, gamma=0.9, random_state=0):\n",
    "    rng = np.random.default_rng(random_state)\n",
    "    \n",
    "    n1, n2 = M.shape\n",
    "    \n",
    "    # Generate noise with beta distribution, each row has the same residual \n",
    "    row_residual = rng.beta(a,b,n1)\n",
    "    residual = np.transpose(np.tile(row_residual, (n2,1)))\n",
    "    residual /= np.max(residual)     # normalize\n",
    "     \n",
    "    # Generate gaussian noise independent at each entry\n",
    "    noise = rng.normal(0,1,M.shape)\n",
    "    noise /= np.max(np.abs(noise))   # normalize\n",
    "    \n",
    "    # add a tunning parameter to control the correlation within entries in each row\n",
    "    Mhat = M + gamma*residual + (1-gamma)*noise\n",
    "    \n",
    "    return Mhat"
   ]
  },
  {
   "cell_type": "code",
   "execution_count": 633,
   "id": "639eb4f5",
   "metadata": {},
   "outputs": [],
   "source": [
    "# Toggle gamma to see the row wise correlation\n",
    "Mhat =  noisy_oracle(M, a=0.1, b=100, gamma=0.99, random_state=0)"
   ]
  },
  {
   "cell_type": "code",
   "execution_count": 634,
   "id": "0e938969",
   "metadata": {
    "scrolled": false
   },
   "outputs": [
    {
     "data": {
      "image/png": "[encoded data removed]",
      "text/plain": [
       "<Figure size 600x400 with 2 Axes>"
      ]
     },
     "metadata": {},
     "output_type": "display_data"
    }
   ],
   "source": [
    "# some rows have larger residuals\n",
    "error_heatmap(M, Mhat, mask_calib)"
   ]
  },
  {
   "cell_type": "code",
   "execution_count": 622,
   "id": "a2dd1b30",
   "metadata": {},
   "outputs": [],
   "source": [
    "methods = [\n",
    "    \"conformal\",      \n",
    "    \"naive\",          # Naive conformal assuming all pairs are exchangeable \n",
    "    \"bonferroni\",     \n",
    "    \"uncorrected\" \n",
    "]"
   ]
  },
  {
   "cell_type": "code",
   "execution_count": 621,
   "id": "1c6f5ee0",
   "metadata": {
    "scrolled": true
   },
   "outputs": [
    {
     "name": "stdout",
     "output_type": "stream",
     "text": [
      "Computing conformal prediction intervals for 1000 test pairs...\n"
     ]
    },
    {
     "name": "stderr",
     "output_type": "stream",
     "text": [
      "CI: 100%|█████████████████████████████████████████████████████████████████████████| 1000/1000 [00:08<00:00, 120.88it/s]"
     ]
    },
    {
     "name": "stdout",
     "output_type": "stream",
     "text": [
      "Done!\n",
      "Computing naive prediction intervals for 1000 test pairs...\n",
      "Done!\n",
      "Computing prediction intervals with Bonferroni correction with alpha 0.1 for 1000 test pairs...\n",
      "Done!\n",
      "Computing prediction intervals with Bonferroni correction with alpha 0.2 for 1000 test pairs...\n",
      "Done!\n"
     ]
    },
    {
     "name": "stderr",
     "output_type": "stream",
     "text": [
      "\n"
     ]
    }
   ],
   "source": [
    "res = pd.DataFrame({})\n",
    "\n",
    "for method in methods:\n",
    "    is_inf = np.zeros(n_test_pairs)\n",
    "    if method == \"conformal\":\n",
    "        ci_method = PairedCI_hpm(M, Mhat, mask_obs, idxs_calib)\n",
    "        lower, upper, is_inf, _ = ci_method.get_CI(idxs_test, alpha, allow_inf)\n",
    "    elif method == \"naive\":\n",
    "        ci_method = PairedCI_hpm(M, Mhat, mask_obs, idxs_calib)\n",
    "        lower, upper = ci_method.naive_CI(idxs_test, alpha)       \n",
    "    elif method == \"bonferroni\":\n",
    "        lower, upper = benchmark_CI(M, Mhat, idxs_calib, idxs_test, alpha)\n",
    "    else:\n",
    "        lower, upper = benchmark_CI(M, Mhat, idxs_calib, idxs_test, 2 * alpha)\n",
    "\n",
    "    res = pd.concat([res, evaluate_pairedCI(lower, upper, M, idxs_test, is_inf=is_inf, method=method)])\n",
    "    \n",
    "res['Calib_size'] = n_calib_pairs\n",
    "res['Train_size'] = np.sum(mask_train)\n",
    "res['Test_size'] = n_test_pairs"
   ]
  },
  {
   "cell_type": "code",
   "execution_count": 623,
   "id": "f30aade5",
   "metadata": {
    "scrolled": true
   },
   "outputs": [
    {
     "data": {
      "text/html": [
       "<div>\n",
       "<style scoped>\n",
       "    .dataframe tbody tr th:only-of-type {\n",
       "        vertical-align: middle;\n",
       "    }\n",
       "\n",
       "    .dataframe tbody tr th {\n",
       "        vertical-align: top;\n",
       "    }\n",
       "\n",
       "    .dataframe thead th {\n",
       "        text-align: right;\n",
       "    }\n",
       "</style>\n",
       "<table border=\"1\" class=\"dataframe\">\n",
       "  <thead>\n",
       "    <tr style=\"text-align: right;\">\n",
       "      <th></th>\n",
       "      <th>Pair_coverage</th>\n",
       "      <th>Coverage</th>\n",
       "      <th>Size</th>\n",
       "      <th>Inf_prop</th>\n",
       "      <th>Method</th>\n",
       "      <th>Calib_size</th>\n",
       "      <th>Train_size</th>\n",
       "      <th>Test_size</th>\n",
       "    </tr>\n",
       "  </thead>\n",
       "  <tbody>\n",
       "    <tr>\n",
       "      <th>0</th>\n",
       "      <td>0.897</td>\n",
       "      <td>0.900</td>\n",
       "      <td>0.310964</td>\n",
       "      <td>0.0</td>\n",
       "      <td>conformal</td>\n",
       "      <td>1250</td>\n",
       "      <td>2500.0</td>\n",
       "      <td>1000</td>\n",
       "    </tr>\n",
       "    <tr>\n",
       "      <th>0</th>\n",
       "      <td>0.897</td>\n",
       "      <td>0.900</td>\n",
       "      <td>0.310920</td>\n",
       "      <td>0.0</td>\n",
       "      <td>naive</td>\n",
       "      <td>1250</td>\n",
       "      <td>2500.0</td>\n",
       "      <td>1000</td>\n",
       "    </tr>\n",
       "    <tr>\n",
       "      <th>0</th>\n",
       "      <td>0.946</td>\n",
       "      <td>0.949</td>\n",
       "      <td>0.465283</td>\n",
       "      <td>0.0</td>\n",
       "      <td>bonferroni</td>\n",
       "      <td>1250</td>\n",
       "      <td>2500.0</td>\n",
       "      <td>1000</td>\n",
       "    </tr>\n",
       "    <tr>\n",
       "      <th>0</th>\n",
       "      <td>0.897</td>\n",
       "      <td>0.898</td>\n",
       "      <td>0.308447</td>\n",
       "      <td>0.0</td>\n",
       "      <td>uncorrected</td>\n",
       "      <td>1250</td>\n",
       "      <td>2500.0</td>\n",
       "      <td>1000</td>\n",
       "    </tr>\n",
       "  </tbody>\n",
       "</table>\n",
       "</div>"
      ],
      "text/plain": [
       "   Pair_coverage  Coverage      Size  Inf_prop       Method  Calib_size  \\\n",
       "0          0.897     0.900  0.310964       0.0    conformal        1250   \n",
       "0          0.897     0.900  0.310920       0.0        naive        1250   \n",
       "0          0.946     0.949  0.465283       0.0   bonferroni        1250   \n",
       "0          0.897     0.898  0.308447       0.0  uncorrected        1250   \n",
       "\n",
       "   Train_size  Test_size  \n",
       "0      2500.0       1000  \n",
       "0      2500.0       1000  \n",
       "0      2500.0       1000  \n",
       "0      2500.0       1000  "
      ]
     },
     "execution_count": 623,
     "metadata": {},
     "output_type": "execute_result"
    }
   ],
   "source": [
    "res"
   ]
  },
  {
   "cell_type": "code",
   "execution_count": 628,
   "id": "e60527c5",
   "metadata": {},
   "outputs": [],
   "source": [
    "st_pair_scores = ci_method.st_calib_scores\n",
    "conformal_st = np.quantile(st_pair_scores, 1 - alpha, method=\"lower\")\n",
    "\n",
    "scores = np.abs((M-Mhat)[np.where(mask_calib==1)])\n",
    "bon_st, st_scores = get_bon_st(scores, alpha)"
   ]
  },
  {
   "cell_type": "code",
   "execution_count": 629,
   "id": "55bfc26a",
   "metadata": {
    "scrolled": false
   },
   "outputs": [
    {
     "name": "stdout",
     "output_type": "stream",
     "text": [
      "Paired quantile is 0.15546024085552068, Bonferroni quantile is 0.23264139202606593\n",
      "Interval size ratio (Bonferroni/conformal) is 1.4964687481879995\n"
     ]
    },
    {
     "data": {
      "image/png": "[encoded data removed]",
      "text/plain": [
       "<Figure size 1000x400 with 2 Axes>"
      ]
     },
     "metadata": {},
     "output_type": "display_data"
    }
   ],
   "source": [
    "plot_st(st_pair_scores, st_scores, conformal_st, bon_st, len(st_scores), alpha)"
   ]
  },
  {
   "cell_type": "markdown",
   "id": "d4e888f4",
   "metadata": {},
   "source": [
    "## Repeated experiments\n",
    "\n",
    "We now examine the tightness of Bonferroni benchmark by changing:\n",
    "- Beta(a,b) which is the cdf of the residuals\n",
    "- gamma which controls the pair-wise correlation\n",
    "\n",
    "##### Note that the true matrix is fixed as the residual is artifically generated and does not depend on the true data matrix. "
   ]
  },
  {
   "cell_type": "code",
   "execution_count": 641,
   "id": "8265485e",
   "metadata": {},
   "outputs": [],
   "source": [
    "def run_experiment(M, a, b, gamma, random_state=0):\n",
    "    #------------------#\n",
    "    # Fixed parameters #\n",
    "    #------------------#\n",
    "    n1, n2 = M.shape\n",
    "    prob_obs = 0.5\n",
    "    allow_inf = False\n",
    "    \n",
    "    methods = [\n",
    "    \"conformal\",      \n",
    "    \"naive\",          # Naive conformal assuming all pairs are exchangeable \n",
    "    \"bonferroni\",     \n",
    "    \"uncorrected\" \n",
    "    ]\n",
    "    \n",
    "    #---------------------------------#\n",
    "    # Sample masks, calib, test pairs #\n",
    "    #---------------------------------#\n",
    "    sampler = PairSampling(n1,n2)\n",
    "    size_obs = n1 * n2 * prob_obs\n",
    "    n_calib_pairs = int(size_obs//4)\n",
    "\n",
    "    # Sample observation mask\n",
    "    mask_obs = sampler.sample_submask(size_obs, random_state=random_state)\n",
    "    mask_test = np.ones_like(mask_obs) - mask_obs\n",
    "\n",
    "    # Sample calibration pairs following hpm\n",
    "    mask_train, idxs_calib, mask_calib, mask_drop = sampler.sample_train_calib(mask_obs, n_calib_pairs, random_state)\n",
    "    \n",
    "    # Sample test pairs\n",
    "    n_test_pairs = min(int((np.sum(mask_test)-n1)//2), 1000)\n",
    "    _, idxs_test, _, _ = sampler.sample_train_calib(mask_test, n_test_pairs, random_state=random_state)\n",
    "    \n",
    "    \n",
    "    #---------------------#\n",
    "    # Generate estimation #\n",
    "    #---------------------#\n",
    "    Mhat =  noisy_oracle(M, a, b, gamma, random_state=0)\n",
    "    \n",
    "    \n",
    "    #------------------#\n",
    "    # Apply CI methods #\n",
    "    #------------------#\n",
    "    res = pd.DataFrame({})\n",
    "    \n",
    "    for method in methods:\n",
    "        is_inf = np.zeros(n_test_pairs)\n",
    "        if method == \"conformal\":\n",
    "            ci_method = PairedCI_hpm(M, Mhat, mask_obs, idxs_calib)\n",
    "            lower, upper, is_inf, _ = ci_method.get_CI(idxs_test, alpha, allow_inf) \n",
    "        elif method == \"naive\":\n",
    "            ci_method = PairedCI_hpm(M, Mhat, mask_obs, idxs_calib)\n",
    "            lower, upper = ci_method.naive_CI(idxs_test, alpha)       \n",
    "        elif method == \"bonferroni\":\n",
    "            lower, upper = benchmark_CI(M, Mhat, idxs_calib, idxs_test, alpha)\n",
    "        else:\n",
    "            lower, upper = benchmark_CI(M, Mhat, idxs_calib, idxs_test, 2 * alpha)\n",
    "\n",
    "        res = pd.concat([res, evaluate_pairedCI(lower, upper, M, idxs_test, is_inf=is_inf, method=method)])\n",
    "\n",
    "    \n",
    "    res['Calib_size'] = n_calib_pairs\n",
    "    res['Train_size'] = np.sum(mask_train)\n",
    "    res['Test_size'] = n_test_pairs\n",
    "    res['a'] = a\n",
    "    res['b'] = b\n",
    "    res['gamma'] = gamma\n",
    "    res['random_state'] = random_state\n",
    "    \n",
    "    return res"
   ]
  },
  {
   "cell_type": "markdown",
   "id": "18c7bf62",
   "metadata": {},
   "source": [
    "# Experiment 1\n",
    "Change a, fix b and gamma"
   ]
  },
  {
   "cell_type": "code",
   "execution_count": 653,
   "id": "e1e5530f",
   "metadata": {},
   "outputs": [],
   "source": [
    "# Experiment parameters\n",
    "a_list = [0.1, 0.3, 0.5, 0.7, 1, 10, 30]\n",
    "b=100\n",
    "gamma=0.99\n",
    "repetition=10"
   ]
  },
  {
   "cell_type": "code",
   "execution_count": 654,
   "id": "b6bd5bb5",
   "metadata": {
    "scrolled": true
   },
   "outputs": [
    {
     "name": "stdout",
     "output_type": "stream",
     "text": [
      "Computing conformal prediction intervals for 1000 test pairs...\n"
     ]
    },
    {
     "name": "stderr",
     "output_type": "stream",
     "text": [
      "CI: 100%|█████████████████████████████████████████████████████████████████████████| 1000/1000 [00:08<00:00, 121.39it/s]"
     ]
    },
    {
     "name": "stdout",
     "output_type": "stream",
     "text": [
      "Done!\n",
      "Computing naive prediction intervals for 1000 test pairs...\n"
     ]
    },
    {
     "name": "stderr",
     "output_type": "stream",
     "text": [
      "\n"
     ]
    },
    {
     "name": "stdout",
     "output_type": "stream",
     "text": [
      "Done!\n",
      "Computing prediction intervals with Bonferroni correction with alpha 0.1 for 1000 test pairs...\n",
      "Done!\n",
      "Computing prediction intervals with Bonferroni correction with alpha 0.2 for 1000 test pairs...\n",
      "Done!\n",
      "Computing conformal prediction intervals for 1000 test pairs...\n"
     ]
    },
    {
     "name": "stderr",
     "output_type": "stream",
     "text": [
      "CI: 100%|█████████████████████████████████████████████████████████████████████████| 1000/1000 [00:08<00:00, 122.59it/s]"
     ]
    },
    {
     "name": "stdout",
     "output_type": "stream",
     "text": [
      "Done!\n",
      "Computing naive prediction intervals for 1000 test pairs...\n",
      "Done!\n",
      "Computing prediction intervals with Bonferroni correction with alpha 0.1 for 1000 test pairs...\n"
     ]
    },
    {
     "name": "stderr",
     "output_type": "stream",
     "text": [
      "\n"
     ]
    },
    {
     "name": "stdout",
     "output_type": "stream",
     "text": [
      "Done!\n",
      "Computing prediction intervals with Bonferroni correction with alpha 0.2 for 1000 test pairs...\n",
      "Done!\n",
      "Computing conformal prediction intervals for 1000 test pairs...\n"
     ]
    },
    {
     "name": "stderr",
     "output_type": "stream",
     "text": [
      "CI: 100%|█████████████████████████████████████████████████████████████████████████| 1000/1000 [00:08<00:00, 121.67it/s]"
     ]
    },
    {
     "name": "stdout",
     "output_type": "stream",
     "text": [
      "Done!\n",
      "Computing naive prediction intervals for 1000 test pairs...\n"
     ]
    },
    {
     "name": "stderr",
     "output_type": "stream",
     "text": [
      "\n"
     ]
    },
    {
     "name": "stdout",
     "output_type": "stream",
     "text": [
      "Done!\n",
      "Computing prediction intervals with Bonferroni correction with alpha 0.1 for 1000 test pairs...\n",
      "Done!\n",
      "Computing prediction intervals with Bonferroni correction with alpha 0.2 for 1000 test pairs...\n",
      "Done!\n",
      "Computing conformal prediction intervals for 1000 test pairs...\n"
     ]
    },
    {
     "name": "stderr",
     "output_type": "stream",
     "text": [
      "CI: 100%|█████████████████████████████████████████████████████████████████████████| 1000/1000 [00:07<00:00, 125.21it/s]"
     ]
    },
    {
     "name": "stdout",
     "output_type": "stream",
     "text": [
      "Done!\n",
      "Computing naive prediction intervals for 1000 test pairs...\n",
      "Done!\n",
      "Computing prediction intervals with Bonferroni correction with alpha 0.1 for 1000 test pairs...\n"
     ]
    },
    {
     "name": "stderr",
     "output_type": "stream",
     "text": [
      "\n"
     ]
    },
    {
     "name": "stdout",
     "output_type": "stream",
     "text": [
      "Done!\n",
      "Computing prediction intervals with Bonferroni correction with alpha 0.2 for 1000 test pairs...\n",
      "Done!\n",
      "Computing conformal prediction intervals for 1000 test pairs...\n"
     ]
    },
    {
     "name": "stderr",
     "output_type": "stream",
     "text": [
      "CI: 100%|█████████████████████████████████████████████████████████████████████████| 1000/1000 [00:08<00:00, 123.23it/s]"
     ]
    },
    {
     "name": "stdout",
     "output_type": "stream",
     "text": [
      "Done!\n",
      "Computing naive prediction intervals for 1000 test pairs...\n",
      "Done!\n",
      "Computing prediction intervals with Bonferroni correction with alpha 0.1 for 1000 test pairs...\n",
      "Done!\n",
      "Computing prediction intervals with Bonferroni correction with alpha 0.2 for 1000 test pairs...\n",
      "Done!\n"
     ]
    },
    {
     "name": "stderr",
     "output_type": "stream",
     "text": [
      "\n"
     ]
    },
    {
     "name": "stdout",
     "output_type": "stream",
     "text": [
      "Computing conformal prediction intervals for 1000 test pairs...\n"
     ]
    },
    {
     "name": "stderr",
     "output_type": "stream",
     "text": [
      "CI: 100%|█████████████████████████████████████████████████████████████████████████| 1000/1000 [00:07<00:00, 127.95it/s]"
     ]
    },
    {
     "name": "stdout",
     "output_type": "stream",
     "text": [
      "Done!\n",
      "Computing naive prediction intervals for 1000 test pairs...\n",
      "Done!\n",
      "Computing prediction intervals with Bonferroni correction with alpha 0.1 for 1000 test pairs...\n",
      "Done!\n",
      "Computing prediction intervals with Bonferroni correction with alpha 0.2 for 1000 test pairs...\n",
      "Done!\n"
     ]
    },
    {
     "name": "stderr",
     "output_type": "stream",
     "text": [
      "\n"
     ]
    },
    {
     "name": "stdout",
     "output_type": "stream",
     "text": [
      "Computing conformal prediction intervals for 1000 test pairs...\n"
     ]
    },
    {
     "name": "stderr",
     "output_type": "stream",
     "text": [
      "CI: 100%|█████████████████████████████████████████████████████████████████████████| 1000/1000 [00:07<00:00, 127.68it/s]"
     ]
    },
    {
     "name": "stdout",
     "output_type": "stream",
     "text": [
      "Done!\n",
      "Computing naive prediction intervals for 1000 test pairs...\n"
     ]
    },
    {
     "name": "stderr",
     "output_type": "stream",
     "text": [
      "\n"
     ]
    },
    {
     "name": "stdout",
     "output_type": "stream",
     "text": [
      "Done!\n",
      "Computing prediction intervals with Bonferroni correction with alpha 0.1 for 1000 test pairs...\n",
      "Done!\n",
      "Computing prediction intervals with Bonferroni correction with alpha 0.2 for 1000 test pairs...\n",
      "Done!\n",
      "Computing conformal prediction intervals for 1000 test pairs...\n"
     ]
    },
    {
     "name": "stderr",
     "output_type": "stream",
     "text": [
      "CI: 100%|█████████████████████████████████████████████████████████████████████████| 1000/1000 [00:07<00:00, 127.34it/s]"
     ]
    },
    {
     "name": "stdout",
     "output_type": "stream",
     "text": [
      "Done!\n",
      "Computing naive prediction intervals for 1000 test pairs...\n"
     ]
    },
    {
     "name": "stderr",
     "output_type": "stream",
     "text": [
      "\n"
     ]
    },
    {
     "name": "stdout",
     "output_type": "stream",
     "text": [
      "Done!\n",
      "Computing prediction intervals with Bonferroni correction with alpha 0.1 for 1000 test pairs...\n",
      "Done!\n",
      "Computing prediction intervals with Bonferroni correction with alpha 0.2 for 1000 test pairs...\n",
      "Done!\n",
      "Computing conformal prediction intervals for 1000 test pairs...\n"
     ]
    },
    {
     "name": "stderr",
     "output_type": "stream",
     "text": [
      "CI: 100%|█████████████████████████████████████████████████████████████████████████| 1000/1000 [00:07<00:00, 127.23it/s]"
     ]
    },
    {
     "name": "stdout",
     "output_type": "stream",
     "text": [
      "Done!\n",
      "Computing naive prediction intervals for 1000 test pairs...\n",
      "Done!\n",
      "Computing prediction intervals with Bonferroni correction with alpha 0.1 for 1000 test pairs...\n",
      "Done!\n",
      "Computing prediction intervals with Bonferroni correction with alpha 0.2 for 1000 test pairs...\n",
      "Done!\n"
     ]
    },
    {
     "name": "stderr",
     "output_type": "stream",
     "text": [
      "\n"
     ]
    },
    {
     "name": "stdout",
     "output_type": "stream",
     "text": [
      "Computing conformal prediction intervals for 1000 test pairs...\n"
     ]
    },
    {
     "name": "stderr",
     "output_type": "stream",
     "text": [
      "CI: 100%|█████████████████████████████████████████████████████████████████████████| 1000/1000 [00:07<00:00, 127.03it/s]"
     ]
    },
    {
     "name": "stdout",
     "output_type": "stream",
     "text": [
      "Done!\n",
      "Computing naive prediction intervals for 1000 test pairs...\n",
      "Done!\n"
     ]
    },
    {
     "name": "stderr",
     "output_type": "stream",
     "text": [
      "\n"
     ]
    },
    {
     "name": "stdout",
     "output_type": "stream",
     "text": [
      "Computing prediction intervals with Bonferroni correction with alpha 0.1 for 1000 test pairs...\n",
      "Done!\n",
      "Computing prediction intervals with Bonferroni correction with alpha 0.2 for 1000 test pairs...\n",
      "Done!\n",
      "Computing conformal prediction intervals for 1000 test pairs...\n"
     ]
    },
    {
     "name": "stderr",
     "output_type": "stream",
     "text": [
      "CI: 100%|█████████████████████████████████████████████████████████████████████████| 1000/1000 [00:07<00:00, 127.24it/s]"
     ]
    },
    {
     "name": "stdout",
     "output_type": "stream",
     "text": [
      "Done!\n",
      "Computing naive prediction intervals for 1000 test pairs...\n",
      "Done!\n",
      "Computing prediction intervals with Bonferroni correction with alpha 0.1 for 1000 test pairs...\n",
      "Done!\n",
      "Computing prediction intervals with Bonferroni correction with alpha 0.2 for 1000 test pairs...\n",
      "Done!\n"
     ]
    },
    {
     "name": "stderr",
     "output_type": "stream",
     "text": [
      "\n"
     ]
    },
    {
     "name": "stdout",
     "output_type": "stream",
     "text": [
      "Computing conformal prediction intervals for 1000 test pairs...\n"
     ]
    },
    {
     "name": "stderr",
     "output_type": "stream",
     "text": [
      "CI: 100%|█████████████████████████████████████████████████████████████████████████| 1000/1000 [00:07<00:00, 128.13it/s]"
     ]
    },
    {
     "name": "stdout",
     "output_type": "stream",
     "text": [
      "Done!\n"
     ]
    },
    {
     "name": "stderr",
     "output_type": "stream",
     "text": [
      "\n"
     ]
    },
    {
     "name": "stdout",
     "output_type": "stream",
     "text": [
      "Computing naive prediction intervals for 1000 test pairs...\n",
      "Done!\n",
      "Computing prediction intervals with Bonferroni correction with alpha 0.1 for 1000 test pairs...\n",
      "Done!\n",
      "Computing prediction intervals with Bonferroni correction with alpha 0.2 for 1000 test pairs...\n",
      "Done!\n",
      "Computing conformal prediction intervals for 1000 test pairs...\n"
     ]
    },
    {
     "name": "stderr",
     "output_type": "stream",
     "text": [
      "CI: 100%|█████████████████████████████████████████████████████████████████████████| 1000/1000 [00:07<00:00, 127.83it/s]"
     ]
    },
    {
     "name": "stdout",
     "output_type": "stream",
     "text": [
      "Done!\n",
      "Computing naive prediction intervals for 1000 test pairs...\n"
     ]
    },
    {
     "name": "stderr",
     "output_type": "stream",
     "text": [
      "\n"
     ]
    },
    {
     "name": "stdout",
     "output_type": "stream",
     "text": [
      "Done!\n",
      "Computing prediction intervals with Bonferroni correction with alpha 0.1 for 1000 test pairs...\n",
      "Done!\n",
      "Computing prediction intervals with Bonferroni correction with alpha 0.2 for 1000 test pairs...\n",
      "Done!\n",
      "Computing conformal prediction intervals for 1000 test pairs...\n"
     ]
    },
    {
     "name": "stderr",
     "output_type": "stream",
     "text": [
      "CI: 100%|█████████████████████████████████████████████████████████████████████████| 1000/1000 [00:07<00:00, 127.72it/s]"
     ]
    },
    {
     "name": "stdout",
     "output_type": "stream",
     "text": [
      "Done!\n",
      "Computing naive prediction intervals for 1000 test pairs...\n",
      "Done!\n",
      "Computing prediction intervals with Bonferroni correction with alpha 0.1 for 1000 test pairs...\n",
      "Done!\n",
      "Computing prediction intervals with Bonferroni correction with alpha 0.2 for 1000 test pairs...\n",
      "Done!\n"
     ]
    },
    {
     "name": "stderr",
     "output_type": "stream",
     "text": [
      "\n"
     ]
    },
    {
     "name": "stdout",
     "output_type": "stream",
     "text": [
      "Computing conformal prediction intervals for 1000 test pairs...\n"
     ]
    },
    {
     "name": "stderr",
     "output_type": "stream",
     "text": [
      "CI: 100%|█████████████████████████████████████████████████████████████████████████| 1000/1000 [00:07<00:00, 126.86it/s]"
     ]
    },
    {
     "name": "stdout",
     "output_type": "stream",
     "text": [
      "Done!\n",
      "Computing naive prediction intervals for 1000 test pairs...\n"
     ]
    },
    {
     "name": "stderr",
     "output_type": "stream",
     "text": [
      "\n"
     ]
    },
    {
     "name": "stdout",
     "output_type": "stream",
     "text": [
      "Done!\n",
      "Computing prediction intervals with Bonferroni correction with alpha 0.1 for 1000 test pairs...\n",
      "Done!\n",
      "Computing prediction intervals with Bonferroni correction with alpha 0.2 for 1000 test pairs...\n",
      "Done!\n",
      "Computing conformal prediction intervals for 1000 test pairs...\n"
     ]
    },
    {
     "name": "stderr",
     "output_type": "stream",
     "text": [
      "CI: 100%|█████████████████████████████████████████████████████████████████████████| 1000/1000 [00:07<00:00, 129.50it/s]"
     ]
    },
    {
     "name": "stdout",
     "output_type": "stream",
     "text": [
      "Done!\n",
      "Computing naive prediction intervals for 1000 test pairs...\n",
      "Done!\n",
      "Computing prediction intervals with Bonferroni correction with alpha 0.1 for 1000 test pairs...\n"
     ]
    },
    {
     "name": "stderr",
     "output_type": "stream",
     "text": [
      "\n"
     ]
    },
    {
     "name": "stdout",
     "output_type": "stream",
     "text": [
      "Done!\n",
      "Computing prediction intervals with Bonferroni correction with alpha 0.2 for 1000 test pairs...\n",
      "Done!\n",
      "Computing conformal prediction intervals for 1000 test pairs...\n"
     ]
    },
    {
     "name": "stderr",
     "output_type": "stream",
     "text": [
      "CI: 100%|█████████████████████████████████████████████████████████████████████████| 1000/1000 [00:07<00:00, 127.65it/s]"
     ]
    },
    {
     "name": "stdout",
     "output_type": "stream",
     "text": [
      "Done!\n",
      "Computing naive prediction intervals for 1000 test pairs...\n",
      "Done!\n",
      "Computing prediction intervals with Bonferroni correction with alpha 0.1 for 1000 test pairs...\n",
      "Done!\n",
      "Computing prediction intervals with Bonferroni correction with alpha 0.2 for 1000 test pairs...\n",
      "Done!\n"
     ]
    },
    {
     "name": "stderr",
     "output_type": "stream",
     "text": [
      "\n"
     ]
    },
    {
     "name": "stdout",
     "output_type": "stream",
     "text": [
      "Computing conformal prediction intervals for 1000 test pairs...\n"
     ]
    },
    {
     "name": "stderr",
     "output_type": "stream",
     "text": [
      "CI: 100%|█████████████████████████████████████████████████████████████████████████| 1000/1000 [00:07<00:00, 128.47it/s]"
     ]
    },
    {
     "name": "stdout",
     "output_type": "stream",
     "text": [
      "Done!\n"
     ]
    },
    {
     "name": "stderr",
     "output_type": "stream",
     "text": [
      "\n"
     ]
    },
    {
     "name": "stdout",
     "output_type": "stream",
     "text": [
      "Computing naive prediction intervals for 1000 test pairs...\n",
      "Done!\n",
      "Computing prediction intervals with Bonferroni correction with alpha 0.1 for 1000 test pairs...\n",
      "Done!\n",
      "Computing prediction intervals with Bonferroni correction with alpha 0.2 for 1000 test pairs...\n",
      "Done!\n",
      "Computing conformal prediction intervals for 1000 test pairs...\n"
     ]
    },
    {
     "name": "stderr",
     "output_type": "stream",
     "text": [
      "CI: 100%|█████████████████████████████████████████████████████████████████████████| 1000/1000 [00:07<00:00, 128.29it/s]"
     ]
    },
    {
     "name": "stdout",
     "output_type": "stream",
     "text": [
      "Done!\n",
      "Computing naive prediction intervals for 1000 test pairs...\n"
     ]
    },
    {
     "name": "stderr",
     "output_type": "stream",
     "text": [
      "\n"
     ]
    },
    {
     "name": "stdout",
     "output_type": "stream",
     "text": [
      "Done!\n",
      "Computing prediction intervals with Bonferroni correction with alpha 0.1 for 1000 test pairs...\n",
      "Done!\n",
      "Computing prediction intervals with Bonferroni correction with alpha 0.2 for 1000 test pairs...\n",
      "Done!\n",
      "Computing conformal prediction intervals for 1000 test pairs...\n"
     ]
    },
    {
     "name": "stderr",
     "output_type": "stream",
     "text": [
      "CI: 100%|█████████████████████████████████████████████████████████████████████████| 1000/1000 [00:07<00:00, 127.24it/s]"
     ]
    },
    {
     "name": "stdout",
     "output_type": "stream",
     "text": [
      "Done!\n",
      "Computing naive prediction intervals for 1000 test pairs...\n"
     ]
    },
    {
     "name": "stderr",
     "output_type": "stream",
     "text": [
      "\n"
     ]
    },
    {
     "name": "stdout",
     "output_type": "stream",
     "text": [
      "Done!\n",
      "Computing prediction intervals with Bonferroni correction with alpha 0.1 for 1000 test pairs...\n",
      "Done!\n",
      "Computing prediction intervals with Bonferroni correction with alpha 0.2 for 1000 test pairs...\n",
      "Done!\n",
      "Computing conformal prediction intervals for 1000 test pairs...\n"
     ]
    },
    {
     "name": "stderr",
     "output_type": "stream",
     "text": [
      "CI: 100%|█████████████████████████████████████████████████████████████████████████| 1000/1000 [00:07<00:00, 128.76it/s]"
     ]
    },
    {
     "name": "stdout",
     "output_type": "stream",
     "text": [
      "Done!\n",
      "Computing naive prediction intervals for 1000 test pairs...\n",
      "Done!\n",
      "Computing prediction intervals with Bonferroni correction with alpha 0.1 for 1000 test pairs...\n"
     ]
    },
    {
     "name": "stderr",
     "output_type": "stream",
     "text": [
      "\n"
     ]
    },
    {
     "name": "stdout",
     "output_type": "stream",
     "text": [
      "Done!\n",
      "Computing prediction intervals with Bonferroni correction with alpha 0.2 for 1000 test pairs...\n",
      "Done!\n",
      "Computing conformal prediction intervals for 1000 test pairs...\n"
     ]
    },
    {
     "name": "stderr",
     "output_type": "stream",
     "text": [
      "CI: 100%|█████████████████████████████████████████████████████████████████████████| 1000/1000 [00:07<00:00, 129.59it/s]"
     ]
    },
    {
     "name": "stdout",
     "output_type": "stream",
     "text": [
      "Done!\n",
      "Computing naive prediction intervals for 1000 test pairs...\n",
      "Done!\n",
      "Computing prediction intervals with Bonferroni correction with alpha 0.1 for 1000 test pairs...\n",
      "Done!\n",
      "Computing prediction intervals with Bonferroni correction with alpha 0.2 for 1000 test pairs...\n",
      "Done!\n"
     ]
    },
    {
     "name": "stderr",
     "output_type": "stream",
     "text": [
      "\n"
     ]
    },
    {
     "name": "stdout",
     "output_type": "stream",
     "text": [
      "Computing conformal prediction intervals for 1000 test pairs...\n"
     ]
    },
    {
     "name": "stderr",
     "output_type": "stream",
     "text": [
      "CI: 100%|█████████████████████████████████████████████████████████████████████████| 1000/1000 [00:07<00:00, 127.40it/s]"
     ]
    },
    {
     "name": "stdout",
     "output_type": "stream",
     "text": [
      "Done!\n",
      "Computing naive prediction intervals for 1000 test pairs...\n",
      "Done!\n",
      "Computing prediction intervals with Bonferroni correction with alpha 0.1 for 1000 test pairs...\n",
      "Done!\n",
      "Computing prediction intervals with Bonferroni correction with alpha 0.2 for 1000 test pairs...\n",
      "Done!\n"
     ]
    },
    {
     "name": "stderr",
     "output_type": "stream",
     "text": [
      "\n"
     ]
    },
    {
     "name": "stdout",
     "output_type": "stream",
     "text": [
      "Computing conformal prediction intervals for 1000 test pairs...\n"
     ]
    },
    {
     "name": "stderr",
     "output_type": "stream",
     "text": [
      "CI: 100%|█████████████████████████████████████████████████████████████████████████| 1000/1000 [00:07<00:00, 129.12it/s]"
     ]
    },
    {
     "name": "stdout",
     "output_type": "stream",
     "text": [
      "Done!\n",
      "Computing naive prediction intervals for 1000 test pairs...\n",
      "Done!\n",
      "Computing prediction intervals with Bonferroni correction with alpha 0.1 for 1000 test pairs...\n",
      "Done!\n",
      "Computing prediction intervals with Bonferroni correction with alpha 0.2 for 1000 test pairs...\n",
      "Done!\n"
     ]
    },
    {
     "name": "stderr",
     "output_type": "stream",
     "text": [
      "\n"
     ]
    },
    {
     "name": "stdout",
     "output_type": "stream",
     "text": [
      "Computing conformal prediction intervals for 1000 test pairs...\n"
     ]
    },
    {
     "name": "stderr",
     "output_type": "stream",
     "text": [
      "CI: 100%|█████████████████████████████████████████████████████████████████████████| 1000/1000 [00:07<00:00, 127.94it/s]"
     ]
    },
    {
     "name": "stdout",
     "output_type": "stream",
     "text": [
      "Done!\n",
      "Computing naive prediction intervals for 1000 test pairs...\n",
      "Done!\n",
      "Computing prediction intervals with Bonferroni correction with alpha 0.1 for 1000 test pairs...\n",
      "Done!\n",
      "Computing prediction intervals with Bonferroni correction with alpha 0.2 for 1000 test pairs...\n",
      "Done!\n"
     ]
    },
    {
     "name": "stderr",
     "output_type": "stream",
     "text": [
      "\n"
     ]
    },
    {
     "name": "stdout",
     "output_type": "stream",
     "text": [
      "Computing conformal prediction intervals for 1000 test pairs...\n"
     ]
    },
    {
     "name": "stderr",
     "output_type": "stream",
     "text": [
      "CI: 100%|█████████████████████████████████████████████████████████████████████████| 1000/1000 [00:07<00:00, 128.20it/s]"
     ]
    },
    {
     "name": "stdout",
     "output_type": "stream",
     "text": [
      "Done!\n",
      "Computing naive prediction intervals for 1000 test pairs...\n",
      "Done!\n",
      "Computing prediction intervals with Bonferroni correction with alpha 0.1 for 1000 test pairs...\n",
      "Done!\n",
      "Computing prediction intervals with Bonferroni correction with alpha 0.2 for 1000 test pairs...\n"
     ]
    },
    {
     "name": "stderr",
     "output_type": "stream",
     "text": [
      "\n"
     ]
    },
    {
     "name": "stdout",
     "output_type": "stream",
     "text": [
      "Done!\n",
      "Computing conformal prediction intervals for 1000 test pairs...\n"
     ]
    },
    {
     "name": "stderr",
     "output_type": "stream",
     "text": [
      "CI: 100%|█████████████████████████████████████████████████████████████████████████| 1000/1000 [00:07<00:00, 127.99it/s]"
     ]
    },
    {
     "name": "stdout",
     "output_type": "stream",
     "text": [
      "Done!\n",
      "Computing naive prediction intervals for 1000 test pairs...\n",
      "Done!\n",
      "Computing prediction intervals with Bonferroni correction with alpha 0.1 for 1000 test pairs...\n",
      "Done!\n",
      "Computing prediction intervals with Bonferroni correction with alpha 0.2 for 1000 test pairs...\n",
      "Done!\n"
     ]
    },
    {
     "name": "stderr",
     "output_type": "stream",
     "text": [
      "\n"
     ]
    },
    {
     "name": "stdout",
     "output_type": "stream",
     "text": [
      "Computing conformal prediction intervals for 1000 test pairs...\n"
     ]
    },
    {
     "name": "stderr",
     "output_type": "stream",
     "text": [
      "CI: 100%|█████████████████████████████████████████████████████████████████████████| 1000/1000 [00:07<00:00, 128.39it/s]"
     ]
    },
    {
     "name": "stdout",
     "output_type": "stream",
     "text": [
      "Done!\n",
      "Computing naive prediction intervals for 1000 test pairs...\n",
      "Done!\n",
      "Computing prediction intervals with Bonferroni correction with alpha 0.1 for 1000 test pairs...\n",
      "Done!\n",
      "Computing prediction intervals with Bonferroni correction with alpha 0.2 for 1000 test pairs...\n",
      "Done!\n"
     ]
    },
    {
     "name": "stderr",
     "output_type": "stream",
     "text": [
      "\n"
     ]
    },
    {
     "name": "stdout",
     "output_type": "stream",
     "text": [
      "Computing conformal prediction intervals for 1000 test pairs...\n"
     ]
    },
    {
     "name": "stderr",
     "output_type": "stream",
     "text": [
      "CI: 100%|█████████████████████████████████████████████████████████████████████████| 1000/1000 [00:07<00:00, 128.89it/s]"
     ]
    },
    {
     "name": "stdout",
     "output_type": "stream",
     "text": [
      "Done!\n",
      "Computing naive prediction intervals for 1000 test pairs...\n",
      "Done!\n",
      "Computing prediction intervals with Bonferroni correction with alpha 0.1 for 1000 test pairs...\n",
      "Done!\n",
      "Computing prediction intervals with Bonferroni correction with alpha 0.2 for 1000 test pairs...\n",
      "Done!\n"
     ]
    },
    {
     "name": "stderr",
     "output_type": "stream",
     "text": [
      "\n"
     ]
    },
    {
     "name": "stdout",
     "output_type": "stream",
     "text": [
      "Computing conformal prediction intervals for 1000 test pairs...\n"
     ]
    },
    {
     "name": "stderr",
     "output_type": "stream",
     "text": [
      "CI: 100%|█████████████████████████████████████████████████████████████████████████| 1000/1000 [00:07<00:00, 127.86it/s]"
     ]
    },
    {
     "name": "stdout",
     "output_type": "stream",
     "text": [
      "Done!\n",
      "Computing naive prediction intervals for 1000 test pairs...\n",
      "Done!\n",
      "Computing prediction intervals with Bonferroni correction with alpha 0.1 for 1000 test pairs...\n",
      "Done!\n",
      "Computing prediction intervals with Bonferroni correction with alpha 0.2 for 1000 test pairs...\n",
      "Done!\n"
     ]
    },
    {
     "name": "stderr",
     "output_type": "stream",
     "text": [
      "\n"
     ]
    },
    {
     "name": "stdout",
     "output_type": "stream",
     "text": [
      "Computing conformal prediction intervals for 1000 test pairs...\n"
     ]
    },
    {
     "name": "stderr",
     "output_type": "stream",
     "text": [
      "CI: 100%|█████████████████████████████████████████████████████████████████████████| 1000/1000 [00:07<00:00, 129.29it/s]"
     ]
    },
    {
     "name": "stdout",
     "output_type": "stream",
     "text": [
      "Done!\n",
      "Computing naive prediction intervals for 1000 test pairs...\n",
      "Done!\n",
      "Computing prediction intervals with Bonferroni correction with alpha 0.1 for 1000 test pairs...\n",
      "Done!\n",
      "Computing prediction intervals with Bonferroni correction with alpha 0.2 for 1000 test pairs...\n",
      "Done!\n"
     ]
    },
    {
     "name": "stderr",
     "output_type": "stream",
     "text": [
      "\n"
     ]
    },
    {
     "name": "stdout",
     "output_type": "stream",
     "text": [
      "Computing conformal prediction intervals for 1000 test pairs...\n"
     ]
    },
    {
     "name": "stderr",
     "output_type": "stream",
     "text": [
      "CI: 100%|█████████████████████████████████████████████████████████████████████████| 1000/1000 [00:07<00:00, 129.46it/s]"
     ]
    },
    {
     "name": "stdout",
     "output_type": "stream",
     "text": [
      "Done!\n",
      "Computing naive prediction intervals for 1000 test pairs...\n",
      "Done!\n",
      "Computing prediction intervals with Bonferroni correction with alpha 0.1 for 1000 test pairs...\n",
      "Done!\n",
      "Computing prediction intervals with Bonferroni correction with alpha 0.2 for 1000 test pairs...\n",
      "Done!\n"
     ]
    },
    {
     "name": "stderr",
     "output_type": "stream",
     "text": [
      "\n"
     ]
    },
    {
     "name": "stdout",
     "output_type": "stream",
     "text": [
      "Computing conformal prediction intervals for 1000 test pairs...\n"
     ]
    },
    {
     "name": "stderr",
     "output_type": "stream",
     "text": [
      "CI: 100%|█████████████████████████████████████████████████████████████████████████| 1000/1000 [00:07<00:00, 128.63it/s]"
     ]
    },
    {
     "name": "stdout",
     "output_type": "stream",
     "text": [
      "Done!\n",
      "Computing naive prediction intervals for 1000 test pairs...\n",
      "Done!\n",
      "Computing prediction intervals with Bonferroni correction with alpha 0.1 for 1000 test pairs...\n",
      "Done!\n",
      "Computing prediction intervals with Bonferroni correction with alpha 0.2 for 1000 test pairs...\n",
      "Done!\n"
     ]
    },
    {
     "name": "stderr",
     "output_type": "stream",
     "text": [
      "\n"
     ]
    },
    {
     "name": "stdout",
     "output_type": "stream",
     "text": [
      "Computing conformal prediction intervals for 1000 test pairs...\n"
     ]
    },
    {
     "name": "stderr",
     "output_type": "stream",
     "text": [
      "CI: 100%|█████████████████████████████████████████████████████████████████████████| 1000/1000 [00:08<00:00, 122.18it/s]"
     ]
    },
    {
     "name": "stdout",
     "output_type": "stream",
     "text": [
      "Done!\n",
      "Computing naive prediction intervals for 1000 test pairs...\n"
     ]
    },
    {
     "name": "stderr",
     "output_type": "stream",
     "text": [
      "\n"
     ]
    },
    {
     "name": "stdout",
     "output_type": "stream",
     "text": [
      "Done!\n",
      "Computing prediction intervals with Bonferroni correction with alpha 0.1 for 1000 test pairs...\n",
      "Done!\n",
      "Computing prediction intervals with Bonferroni correction with alpha 0.2 for 1000 test pairs...\n",
      "Done!\n",
      "Computing conformal prediction intervals for 1000 test pairs...\n"
     ]
    },
    {
     "name": "stderr",
     "output_type": "stream",
     "text": [
      "CI: 100%|█████████████████████████████████████████████████████████████████████████| 1000/1000 [00:08<00:00, 120.35it/s]"
     ]
    },
    {
     "name": "stdout",
     "output_type": "stream",
     "text": [
      "Done!\n",
      "Computing naive prediction intervals for 1000 test pairs...\n",
      "Done!\n",
      "Computing prediction intervals with Bonferroni correction with alpha 0.1 for 1000 test pairs...\n",
      "Done!\n",
      "Computing prediction intervals with Bonferroni correction with alpha 0.2 for 1000 test pairs...\n",
      "Done!\n"
     ]
    },
    {
     "name": "stderr",
     "output_type": "stream",
     "text": [
      "\n"
     ]
    },
    {
     "name": "stdout",
     "output_type": "stream",
     "text": [
      "Computing conformal prediction intervals for 1000 test pairs...\n"
     ]
    },
    {
     "name": "stderr",
     "output_type": "stream",
     "text": [
      "CI: 100%|█████████████████████████████████████████████████████████████████████████| 1000/1000 [00:08<00:00, 124.70it/s]"
     ]
    },
    {
     "name": "stdout",
     "output_type": "stream",
     "text": [
      "Done!\n",
      "Computing naive prediction intervals for 1000 test pairs...\n",
      "Done!\n",
      "Computing prediction intervals with Bonferroni correction with alpha 0.1 for 1000 test pairs...\n",
      "Done!\n",
      "Computing prediction intervals with Bonferroni correction with alpha 0.2 for 1000 test pairs...\n",
      "Done!\n"
     ]
    },
    {
     "name": "stderr",
     "output_type": "stream",
     "text": [
      "\n"
     ]
    },
    {
     "name": "stdout",
     "output_type": "stream",
     "text": [
      "Computing conformal prediction intervals for 1000 test pairs...\n"
     ]
    },
    {
     "name": "stderr",
     "output_type": "stream",
     "text": [
      "CI: 100%|█████████████████████████████████████████████████████████████████████████| 1000/1000 [00:07<00:00, 125.95it/s]"
     ]
    },
    {
     "name": "stdout",
     "output_type": "stream",
     "text": [
      "Done!\n"
     ]
    },
    {
     "name": "stderr",
     "output_type": "stream",
     "text": [
      "\n"
     ]
    },
    {
     "name": "stdout",
     "output_type": "stream",
     "text": [
      "Computing naive prediction intervals for 1000 test pairs...\n",
      "Done!\n",
      "Computing prediction intervals with Bonferroni correction with alpha 0.1 for 1000 test pairs...\n",
      "Done!\n",
      "Computing prediction intervals with Bonferroni correction with alpha 0.2 for 1000 test pairs...\n",
      "Done!\n",
      "Computing conformal prediction intervals for 1000 test pairs...\n"
     ]
    },
    {
     "name": "stderr",
     "output_type": "stream",
     "text": [
      "CI: 100%|█████████████████████████████████████████████████████████████████████████| 1000/1000 [00:07<00:00, 128.44it/s]"
     ]
    },
    {
     "name": "stdout",
     "output_type": "stream",
     "text": [
      "Done!\n",
      "Computing naive prediction intervals for 1000 test pairs...\n"
     ]
    },
    {
     "name": "stderr",
     "output_type": "stream",
     "text": [
      "\n"
     ]
    },
    {
     "name": "stdout",
     "output_type": "stream",
     "text": [
      "Done!\n",
      "Computing prediction intervals with Bonferroni correction with alpha 0.1 for 1000 test pairs...\n",
      "Done!\n",
      "Computing prediction intervals with Bonferroni correction with alpha 0.2 for 1000 test pairs...\n",
      "Done!\n",
      "Computing conformal prediction intervals for 1000 test pairs...\n"
     ]
    },
    {
     "name": "stderr",
     "output_type": "stream",
     "text": [
      "CI: 100%|█████████████████████████████████████████████████████████████████████████| 1000/1000 [00:07<00:00, 128.44it/s]"
     ]
    },
    {
     "name": "stdout",
     "output_type": "stream",
     "text": [
      "Done!\n"
     ]
    },
    {
     "name": "stderr",
     "output_type": "stream",
     "text": [
      "\n"
     ]
    },
    {
     "name": "stdout",
     "output_type": "stream",
     "text": [
      "Computing naive prediction intervals for 1000 test pairs...\n",
      "Done!\n",
      "Computing prediction intervals with Bonferroni correction with alpha 0.1 for 1000 test pairs...\n",
      "Done!\n",
      "Computing prediction intervals with Bonferroni correction with alpha 0.2 for 1000 test pairs...\n",
      "Done!\n",
      "Computing conformal prediction intervals for 1000 test pairs...\n"
     ]
    },
    {
     "name": "stderr",
     "output_type": "stream",
     "text": [
      "CI: 100%|█████████████████████████████████████████████████████████████████████████| 1000/1000 [00:07<00:00, 128.17it/s]"
     ]
    },
    {
     "name": "stdout",
     "output_type": "stream",
     "text": [
      "Done!\n",
      "Computing naive prediction intervals for 1000 test pairs...\n",
      "Done!\n",
      "Computing prediction intervals with Bonferroni correction with alpha 0.1 for 1000 test pairs...\n",
      "Done!\n",
      "Computing prediction intervals with Bonferroni correction with alpha 0.2 for 1000 test pairs...\n",
      "Done!\n"
     ]
    },
    {
     "name": "stderr",
     "output_type": "stream",
     "text": [
      "\n"
     ]
    },
    {
     "name": "stdout",
     "output_type": "stream",
     "text": [
      "Computing conformal prediction intervals for 1000 test pairs...\n"
     ]
    },
    {
     "name": "stderr",
     "output_type": "stream",
     "text": [
      "CI: 100%|█████████████████████████████████████████████████████████████████████████| 1000/1000 [00:07<00:00, 128.45it/s]"
     ]
    },
    {
     "name": "stdout",
     "output_type": "stream",
     "text": [
      "Done!\n",
      "Computing naive prediction intervals for 1000 test pairs...\n"
     ]
    },
    {
     "name": "stderr",
     "output_type": "stream",
     "text": [
      "\n"
     ]
    },
    {
     "name": "stdout",
     "output_type": "stream",
     "text": [
      "Done!\n",
      "Computing prediction intervals with Bonferroni correction with alpha 0.1 for 1000 test pairs...\n",
      "Done!\n",
      "Computing prediction intervals with Bonferroni correction with alpha 0.2 for 1000 test pairs...\n",
      "Done!\n",
      "Computing conformal prediction intervals for 1000 test pairs...\n"
     ]
    },
    {
     "name": "stderr",
     "output_type": "stream",
     "text": [
      "CI: 100%|█████████████████████████████████████████████████████████████████████████| 1000/1000 [00:07<00:00, 128.63it/s]"
     ]
    },
    {
     "name": "stdout",
     "output_type": "stream",
     "text": [
      "Done!\n"
     ]
    },
    {
     "name": "stderr",
     "output_type": "stream",
     "text": [
      "\n"
     ]
    },
    {
     "name": "stdout",
     "output_type": "stream",
     "text": [
      "Computing naive prediction intervals for 1000 test pairs...\n",
      "Done!\n",
      "Computing prediction intervals with Bonferroni correction with alpha 0.1 for 1000 test pairs...\n",
      "Done!\n",
      "Computing prediction intervals with Bonferroni correction with alpha 0.2 for 1000 test pairs...\n",
      "Done!\n",
      "Computing conformal prediction intervals for 1000 test pairs...\n"
     ]
    },
    {
     "name": "stderr",
     "output_type": "stream",
     "text": [
      "CI: 100%|█████████████████████████████████████████████████████████████████████████| 1000/1000 [00:07<00:00, 128.71it/s]"
     ]
    },
    {
     "name": "stdout",
     "output_type": "stream",
     "text": [
      "Done!\n",
      "Computing naive prediction intervals for 1000 test pairs...\n",
      "Done!\n",
      "Computing prediction intervals with Bonferroni correction with alpha 0.1 for 1000 test pairs...\n",
      "Done!\n",
      "Computing prediction intervals with Bonferroni correction with alpha 0.2 for 1000 test pairs...\n",
      "Done!\n"
     ]
    },
    {
     "name": "stderr",
     "output_type": "stream",
     "text": [
      "\n"
     ]
    },
    {
     "name": "stdout",
     "output_type": "stream",
     "text": [
      "Computing conformal prediction intervals for 1000 test pairs...\n"
     ]
    },
    {
     "name": "stderr",
     "output_type": "stream",
     "text": [
      "CI: 100%|█████████████████████████████████████████████████████████████████████████| 1000/1000 [00:07<00:00, 127.82it/s]"
     ]
    },
    {
     "name": "stdout",
     "output_type": "stream",
     "text": [
      "Done!\n",
      "Computing naive prediction intervals for 1000 test pairs...\n"
     ]
    },
    {
     "name": "stderr",
     "output_type": "stream",
     "text": [
      "\n"
     ]
    },
    {
     "name": "stdout",
     "output_type": "stream",
     "text": [
      "Done!\n",
      "Computing prediction intervals with Bonferroni correction with alpha 0.1 for 1000 test pairs...\n",
      "Done!\n",
      "Computing prediction intervals with Bonferroni correction with alpha 0.2 for 1000 test pairs...\n",
      "Done!\n",
      "Computing conformal prediction intervals for 1000 test pairs...\n"
     ]
    },
    {
     "name": "stderr",
     "output_type": "stream",
     "text": [
      "CI: 100%|█████████████████████████████████████████████████████████████████████████| 1000/1000 [00:07<00:00, 126.91it/s]"
     ]
    },
    {
     "name": "stdout",
     "output_type": "stream",
     "text": [
      "Done!\n",
      "Computing naive prediction intervals for 1000 test pairs...\n",
      "Done!\n",
      "Computing prediction intervals with Bonferroni correction with alpha 0.1 for 1000 test pairs...\n",
      "Done!\n",
      "Computing prediction intervals with Bonferroni correction with alpha 0.2 for 1000 test pairs...\n",
      "Done!\n"
     ]
    },
    {
     "name": "stderr",
     "output_type": "stream",
     "text": [
      "\n"
     ]
    },
    {
     "name": "stdout",
     "output_type": "stream",
     "text": [
      "Computing conformal prediction intervals for 1000 test pairs...\n"
     ]
    },
    {
     "name": "stderr",
     "output_type": "stream",
     "text": [
      "CI: 100%|█████████████████████████████████████████████████████████████████████████| 1000/1000 [00:07<00:00, 129.06it/s]"
     ]
    },
    {
     "name": "stdout",
     "output_type": "stream",
     "text": [
      "Done!\n",
      "Computing naive prediction intervals for 1000 test pairs...\n",
      "Done!\n",
      "Computing prediction intervals with Bonferroni correction with alpha 0.1 for 1000 test pairs...\n",
      "Done!\n",
      "Computing prediction intervals with Bonferroni correction with alpha 0.2 for 1000 test pairs...\n",
      "Done!\n"
     ]
    },
    {
     "name": "stderr",
     "output_type": "stream",
     "text": [
      "\n"
     ]
    },
    {
     "name": "stdout",
     "output_type": "stream",
     "text": [
      "Computing conformal prediction intervals for 1000 test pairs...\n"
     ]
    },
    {
     "name": "stderr",
     "output_type": "stream",
     "text": [
      "CI: 100%|█████████████████████████████████████████████████████████████████████████| 1000/1000 [00:07<00:00, 127.09it/s]"
     ]
    },
    {
     "name": "stdout",
     "output_type": "stream",
     "text": [
      "Done!\n"
     ]
    },
    {
     "name": "stderr",
     "output_type": "stream",
     "text": [
      "\n"
     ]
    },
    {
     "name": "stdout",
     "output_type": "stream",
     "text": [
      "Computing naive prediction intervals for 1000 test pairs...\n",
      "Done!\n",
      "Computing prediction intervals with Bonferroni correction with alpha 0.1 for 1000 test pairs...\n",
      "Done!\n",
      "Computing prediction intervals with Bonferroni correction with alpha 0.2 for 1000 test pairs...\n",
      "Done!\n",
      "Computing conformal prediction intervals for 1000 test pairs...\n"
     ]
    },
    {
     "name": "stderr",
     "output_type": "stream",
     "text": [
      "CI: 100%|█████████████████████████████████████████████████████████████████████████| 1000/1000 [00:07<00:00, 128.56it/s]"
     ]
    },
    {
     "name": "stdout",
     "output_type": "stream",
     "text": [
      "Done!\n",
      "Computing naive prediction intervals for 1000 test pairs...\n",
      "Done!\n",
      "Computing prediction intervals with Bonferroni correction with alpha 0.1 for 1000 test pairs...\n"
     ]
    },
    {
     "name": "stderr",
     "output_type": "stream",
     "text": [
      "\n"
     ]
    },
    {
     "name": "stdout",
     "output_type": "stream",
     "text": [
      "Done!\n",
      "Computing prediction intervals with Bonferroni correction with alpha 0.2 for 1000 test pairs...\n",
      "Done!\n",
      "Computing conformal prediction intervals for 1000 test pairs...\n"
     ]
    },
    {
     "name": "stderr",
     "output_type": "stream",
     "text": [
      "CI: 100%|█████████████████████████████████████████████████████████████████████████| 1000/1000 [00:07<00:00, 129.63it/s]"
     ]
    },
    {
     "name": "stdout",
     "output_type": "stream",
     "text": [
      "Done!\n",
      "Computing naive prediction intervals for 1000 test pairs...\n",
      "Done!\n",
      "Computing prediction intervals with Bonferroni correction with alpha 0.1 for 1000 test pairs...\n",
      "Done!\n",
      "Computing prediction intervals with Bonferroni correction with alpha 0.2 for 1000 test pairs...\n",
      "Done!\n"
     ]
    },
    {
     "name": "stderr",
     "output_type": "stream",
     "text": [
      "\n"
     ]
    },
    {
     "name": "stdout",
     "output_type": "stream",
     "text": [
      "Computing conformal prediction intervals for 1000 test pairs...\n"
     ]
    },
    {
     "name": "stderr",
     "output_type": "stream",
     "text": [
      "CI: 100%|█████████████████████████████████████████████████████████████████████████| 1000/1000 [00:07<00:00, 127.46it/s]"
     ]
    },
    {
     "name": "stdout",
     "output_type": "stream",
     "text": [
      "Done!\n",
      "Computing naive prediction intervals for 1000 test pairs...\n",
      "Done!\n",
      "Computing prediction intervals with Bonferroni correction with alpha 0.1 for 1000 test pairs...\n",
      "Done!\n",
      "Computing prediction intervals with Bonferroni correction with alpha 0.2 for 1000 test pairs...\n",
      "Done!\n"
     ]
    },
    {
     "name": "stderr",
     "output_type": "stream",
     "text": [
      "\n"
     ]
    },
    {
     "name": "stdout",
     "output_type": "stream",
     "text": [
      "Computing conformal prediction intervals for 1000 test pairs...\n"
     ]
    },
    {
     "name": "stderr",
     "output_type": "stream",
     "text": [
      "CI: 100%|█████████████████████████████████████████████████████████████████████████| 1000/1000 [00:07<00:00, 127.86it/s]"
     ]
    },
    {
     "name": "stdout",
     "output_type": "stream",
     "text": [
      "Done!\n",
      "Computing naive prediction intervals for 1000 test pairs...\n",
      "Done!\n",
      "Computing prediction intervals with Bonferroni correction with alpha 0.1 for 1000 test pairs...\n",
      "Done!\n",
      "Computing prediction intervals with Bonferroni correction with alpha 0.2 for 1000 test pairs...\n",
      "Done!\n"
     ]
    },
    {
     "name": "stderr",
     "output_type": "stream",
     "text": [
      "\n"
     ]
    },
    {
     "name": "stdout",
     "output_type": "stream",
     "text": [
      "Computing conformal prediction intervals for 1000 test pairs...\n"
     ]
    },
    {
     "name": "stderr",
     "output_type": "stream",
     "text": [
      "CI: 100%|█████████████████████████████████████████████████████████████████████████| 1000/1000 [00:07<00:00, 129.58it/s]"
     ]
    },
    {
     "name": "stdout",
     "output_type": "stream",
     "text": [
      "Done!\n",
      "Computing naive prediction intervals for 1000 test pairs...\n",
      "Done!\n",
      "Computing prediction intervals with Bonferroni correction with alpha 0.1 for 1000 test pairs...\n",
      "Done!\n",
      "Computing prediction intervals with Bonferroni correction with alpha 0.2 for 1000 test pairs...\n",
      "Done!\n"
     ]
    },
    {
     "name": "stderr",
     "output_type": "stream",
     "text": [
      "\n"
     ]
    },
    {
     "name": "stdout",
     "output_type": "stream",
     "text": [
      "Computing conformal prediction intervals for 1000 test pairs...\n"
     ]
    },
    {
     "name": "stderr",
     "output_type": "stream",
     "text": [
      "CI: 100%|█████████████████████████████████████████████████████████████████████████| 1000/1000 [00:07<00:00, 128.14it/s]"
     ]
    },
    {
     "name": "stdout",
     "output_type": "stream",
     "text": [
      "Done!\n",
      "Computing naive prediction intervals for 1000 test pairs...\n"
     ]
    },
    {
     "name": "stderr",
     "output_type": "stream",
     "text": [
      "\n"
     ]
    },
    {
     "name": "stdout",
     "output_type": "stream",
     "text": [
      "Done!\n",
      "Computing prediction intervals with Bonferroni correction with alpha 0.1 for 1000 test pairs...\n",
      "Done!\n",
      "Computing prediction intervals with Bonferroni correction with alpha 0.2 for 1000 test pairs...\n",
      "Done!\n",
      "Computing conformal prediction intervals for 1000 test pairs...\n"
     ]
    },
    {
     "name": "stderr",
     "output_type": "stream",
     "text": [
      "CI: 100%|█████████████████████████████████████████████████████████████████████████| 1000/1000 [00:07<00:00, 128.45it/s]"
     ]
    },
    {
     "name": "stdout",
     "output_type": "stream",
     "text": [
      "Done!\n",
      "Computing naive prediction intervals for 1000 test pairs...\n",
      "Done!\n",
      "Computing prediction intervals with Bonferroni correction with alpha 0.1 for 1000 test pairs...\n",
      "Done!\n",
      "Computing prediction intervals with Bonferroni correction with alpha 0.2 for 1000 test pairs...\n",
      "Done!\n"
     ]
    },
    {
     "name": "stderr",
     "output_type": "stream",
     "text": [
      "\n"
     ]
    },
    {
     "name": "stdout",
     "output_type": "stream",
     "text": [
      "Computing conformal prediction intervals for 1000 test pairs...\n"
     ]
    },
    {
     "name": "stderr",
     "output_type": "stream",
     "text": [
      "CI: 100%|█████████████████████████████████████████████████████████████████████████| 1000/1000 [00:07<00:00, 127.24it/s]"
     ]
    },
    {
     "name": "stdout",
     "output_type": "stream",
     "text": [
      "Done!\n"
     ]
    },
    {
     "name": "stderr",
     "output_type": "stream",
     "text": [
      "\n"
     ]
    },
    {
     "name": "stdout",
     "output_type": "stream",
     "text": [
      "Computing naive prediction intervals for 1000 test pairs...\n",
      "Done!\n",
      "Computing prediction intervals with Bonferroni correction with alpha 0.1 for 1000 test pairs...\n",
      "Done!\n",
      "Computing prediction intervals with Bonferroni correction with alpha 0.2 for 1000 test pairs...\n",
      "Done!\n",
      "Computing conformal prediction intervals for 1000 test pairs...\n"
     ]
    },
    {
     "name": "stderr",
     "output_type": "stream",
     "text": [
      "CI: 100%|█████████████████████████████████████████████████████████████████████████| 1000/1000 [00:07<00:00, 128.19it/s]"
     ]
    },
    {
     "name": "stdout",
     "output_type": "stream",
     "text": [
      "Done!\n"
     ]
    },
    {
     "name": "stderr",
     "output_type": "stream",
     "text": [
      "\n"
     ]
    },
    {
     "name": "stdout",
     "output_type": "stream",
     "text": [
      "Computing naive prediction intervals for 1000 test pairs...\n",
      "Done!\n",
      "Computing prediction intervals with Bonferroni correction with alpha 0.1 for 1000 test pairs...\n",
      "Done!\n",
      "Computing prediction intervals with Bonferroni correction with alpha 0.2 for 1000 test pairs...\n",
      "Done!\n",
      "Computing conformal prediction intervals for 1000 test pairs...\n"
     ]
    },
    {
     "name": "stderr",
     "output_type": "stream",
     "text": [
      "CI: 100%|█████████████████████████████████████████████████████████████████████████| 1000/1000 [00:07<00:00, 127.77it/s]"
     ]
    },
    {
     "name": "stdout",
     "output_type": "stream",
     "text": [
      "Done!\n",
      "Computing naive prediction intervals for 1000 test pairs...\n"
     ]
    },
    {
     "name": "stderr",
     "output_type": "stream",
     "text": [
      "\n"
     ]
    },
    {
     "name": "stdout",
     "output_type": "stream",
     "text": [
      "Done!\n",
      "Computing prediction intervals with Bonferroni correction with alpha 0.1 for 1000 test pairs...\n",
      "Done!\n",
      "Computing prediction intervals with Bonferroni correction with alpha 0.2 for 1000 test pairs...\n",
      "Done!\n",
      "Computing conformal prediction intervals for 1000 test pairs...\n"
     ]
    },
    {
     "name": "stderr",
     "output_type": "stream",
     "text": [
      "CI: 100%|█████████████████████████████████████████████████████████████████████████| 1000/1000 [00:07<00:00, 127.81it/s]"
     ]
    },
    {
     "name": "stdout",
     "output_type": "stream",
     "text": [
      "Done!\n",
      "Computing naive prediction intervals for 1000 test pairs...\n",
      "Done!\n",
      "Computing prediction intervals with Bonferroni correction with alpha 0.1 for 1000 test pairs...\n",
      "Done!\n",
      "Computing prediction intervals with Bonferroni correction with alpha 0.2 for 1000 test pairs...\n"
     ]
    },
    {
     "name": "stderr",
     "output_type": "stream",
     "text": [
      "\n"
     ]
    },
    {
     "name": "stdout",
     "output_type": "stream",
     "text": [
      "Done!\n",
      "Computing conformal prediction intervals for 1000 test pairs...\n"
     ]
    },
    {
     "name": "stderr",
     "output_type": "stream",
     "text": [
      "CI: 100%|█████████████████████████████████████████████████████████████████████████| 1000/1000 [00:07<00:00, 128.17it/s]"
     ]
    },
    {
     "name": "stdout",
     "output_type": "stream",
     "text": [
      "Done!\n",
      "Computing naive prediction intervals for 1000 test pairs...\n",
      "Done!\n",
      "Computing prediction intervals with Bonferroni correction with alpha 0.1 for 1000 test pairs...\n"
     ]
    },
    {
     "name": "stderr",
     "output_type": "stream",
     "text": [
      "\n"
     ]
    },
    {
     "name": "stdout",
     "output_type": "stream",
     "text": [
      "Done!\n",
      "Computing prediction intervals with Bonferroni correction with alpha 0.2 for 1000 test pairs...\n",
      "Done!\n",
      "Computing conformal prediction intervals for 1000 test pairs...\n"
     ]
    },
    {
     "name": "stderr",
     "output_type": "stream",
     "text": [
      "CI: 100%|█████████████████████████████████████████████████████████████████████████| 1000/1000 [00:07<00:00, 126.57it/s]"
     ]
    },
    {
     "name": "stdout",
     "output_type": "stream",
     "text": [
      "Done!\n"
     ]
    },
    {
     "name": "stderr",
     "output_type": "stream",
     "text": [
      "\n"
     ]
    },
    {
     "name": "stdout",
     "output_type": "stream",
     "text": [
      "Computing naive prediction intervals for 1000 test pairs...\n",
      "Done!\n",
      "Computing prediction intervals with Bonferroni correction with alpha 0.1 for 1000 test pairs...\n",
      "Done!\n",
      "Computing prediction intervals with Bonferroni correction with alpha 0.2 for 1000 test pairs...\n",
      "Done!\n",
      "Computing conformal prediction intervals for 1000 test pairs...\n"
     ]
    },
    {
     "name": "stderr",
     "output_type": "stream",
     "text": [
      "CI: 100%|█████████████████████████████████████████████████████████████████████████| 1000/1000 [00:07<00:00, 129.53it/s]"
     ]
    },
    {
     "name": "stdout",
     "output_type": "stream",
     "text": [
      "Done!\n",
      "Computing naive prediction intervals for 1000 test pairs...\n",
      "Done!\n",
      "Computing prediction intervals with Bonferroni correction with alpha 0.1 for 1000 test pairs...\n",
      "Done!\n",
      "Computing prediction intervals with Bonferroni correction with alpha 0.2 for 1000 test pairs...\n"
     ]
    },
    {
     "name": "stderr",
     "output_type": "stream",
     "text": [
      "\n"
     ]
    },
    {
     "name": "stdout",
     "output_type": "stream",
     "text": [
      "Done!\n",
      "Computing conformal prediction intervals for 1000 test pairs...\n"
     ]
    },
    {
     "name": "stderr",
     "output_type": "stream",
     "text": [
      "CI: 100%|█████████████████████████████████████████████████████████████████████████| 1000/1000 [00:07<00:00, 129.74it/s]"
     ]
    },
    {
     "name": "stdout",
     "output_type": "stream",
     "text": [
      "Done!\n"
     ]
    },
    {
     "name": "stderr",
     "output_type": "stream",
     "text": [
      "\n"
     ]
    },
    {
     "name": "stdout",
     "output_type": "stream",
     "text": [
      "Computing naive prediction intervals for 1000 test pairs...\n",
      "Done!\n",
      "Computing prediction intervals with Bonferroni correction with alpha 0.1 for 1000 test pairs...\n",
      "Done!\n",
      "Computing prediction intervals with Bonferroni correction with alpha 0.2 for 1000 test pairs...\n",
      "Done!\n",
      "Computing conformal prediction intervals for 1000 test pairs...\n"
     ]
    },
    {
     "name": "stderr",
     "output_type": "stream",
     "text": [
      "CI: 100%|█████████████████████████████████████████████████████████████████████████| 1000/1000 [00:07<00:00, 128.80it/s]"
     ]
    },
    {
     "name": "stdout",
     "output_type": "stream",
     "text": [
      "Done!\n",
      "Computing naive prediction intervals for 1000 test pairs...\n"
     ]
    },
    {
     "name": "stderr",
     "output_type": "stream",
     "text": [
      "\n"
     ]
    },
    {
     "name": "stdout",
     "output_type": "stream",
     "text": [
      "Done!\n",
      "Computing prediction intervals with Bonferroni correction with alpha 0.1 for 1000 test pairs...\n",
      "Done!\n",
      "Computing prediction intervals with Bonferroni correction with alpha 0.2 for 1000 test pairs...\n",
      "Done!\n",
      "Computing conformal prediction intervals for 1000 test pairs...\n"
     ]
    },
    {
     "name": "stderr",
     "output_type": "stream",
     "text": [
      "CI: 100%|█████████████████████████████████████████████████████████████████████████| 1000/1000 [00:07<00:00, 128.66it/s]"
     ]
    },
    {
     "name": "stdout",
     "output_type": "stream",
     "text": [
      "Done!\n",
      "Computing naive prediction intervals for 1000 test pairs...\n"
     ]
    },
    {
     "name": "stderr",
     "output_type": "stream",
     "text": [
      "\n"
     ]
    },
    {
     "name": "stdout",
     "output_type": "stream",
     "text": [
      "Done!\n",
      "Computing prediction intervals with Bonferroni correction with alpha 0.1 for 1000 test pairs...\n",
      "Done!\n",
      "Computing prediction intervals with Bonferroni correction with alpha 0.2 for 1000 test pairs...\n",
      "Done!\n",
      "Computing conformal prediction intervals for 1000 test pairs...\n"
     ]
    },
    {
     "name": "stderr",
     "output_type": "stream",
     "text": [
      "CI: 100%|█████████████████████████████████████████████████████████████████████████| 1000/1000 [00:07<00:00, 127.97it/s]"
     ]
    },
    {
     "name": "stdout",
     "output_type": "stream",
     "text": [
      "Done!\n",
      "Computing naive prediction intervals for 1000 test pairs...\n",
      "Done!\n",
      "Computing prediction intervals with Bonferroni correction with alpha 0.1 for 1000 test pairs...\n",
      "Done!\n",
      "Computing prediction intervals with Bonferroni correction with alpha 0.2 for 1000 test pairs...\n",
      "Done!\n"
     ]
    },
    {
     "name": "stderr",
     "output_type": "stream",
     "text": [
      "\n"
     ]
    },
    {
     "name": "stdout",
     "output_type": "stream",
     "text": [
      "Computing conformal prediction intervals for 1000 test pairs...\n"
     ]
    },
    {
     "name": "stderr",
     "output_type": "stream",
     "text": [
      "CI: 100%|█████████████████████████████████████████████████████████████████████████| 1000/1000 [00:07<00:00, 128.68it/s]"
     ]
    },
    {
     "name": "stdout",
     "output_type": "stream",
     "text": [
      "Done!\n",
      "Computing naive prediction intervals for 1000 test pairs...\n",
      "Done!\n",
      "Computing prediction intervals with Bonferroni correction with alpha 0.1 for 1000 test pairs...\n",
      "Done!\n",
      "Computing prediction intervals with Bonferroni correction with alpha 0.2 for 1000 test pairs...\n",
      "Done!\n"
     ]
    },
    {
     "name": "stderr",
     "output_type": "stream",
     "text": [
      "\n"
     ]
    },
    {
     "name": "stdout",
     "output_type": "stream",
     "text": [
      "Computing conformal prediction intervals for 1000 test pairs...\n"
     ]
    },
    {
     "name": "stderr",
     "output_type": "stream",
     "text": [
      "CI: 100%|█████████████████████████████████████████████████████████████████████████| 1000/1000 [00:07<00:00, 128.32it/s]"
     ]
    },
    {
     "name": "stdout",
     "output_type": "stream",
     "text": [
      "Done!\n",
      "Computing naive prediction intervals for 1000 test pairs...\n",
      "Done!\n",
      "Computing prediction intervals with Bonferroni correction with alpha 0.1 for 1000 test pairs...\n"
     ]
    },
    {
     "name": "stderr",
     "output_type": "stream",
     "text": [
      "\n"
     ]
    },
    {
     "name": "stdout",
     "output_type": "stream",
     "text": [
      "Done!\n",
      "Computing prediction intervals with Bonferroni correction with alpha 0.2 for 1000 test pairs...\n",
      "Done!\n",
      "Computing conformal prediction intervals for 1000 test pairs...\n"
     ]
    },
    {
     "name": "stderr",
     "output_type": "stream",
     "text": [
      "CI: 100%|█████████████████████████████████████████████████████████████████████████| 1000/1000 [00:07<00:00, 128.71it/s]"
     ]
    },
    {
     "name": "stdout",
     "output_type": "stream",
     "text": [
      "Done!\n",
      "Computing naive prediction intervals for 1000 test pairs...\n",
      "Done!\n",
      "Computing prediction intervals with Bonferroni correction with alpha 0.1 for 1000 test pairs...\n",
      "Done!\n",
      "Computing prediction intervals with Bonferroni correction with alpha 0.2 for 1000 test pairs...\n"
     ]
    },
    {
     "name": "stderr",
     "output_type": "stream",
     "text": [
      "\n"
     ]
    },
    {
     "name": "stdout",
     "output_type": "stream",
     "text": [
      "Done!\n",
      "Computing conformal prediction intervals for 1000 test pairs...\n"
     ]
    },
    {
     "name": "stderr",
     "output_type": "stream",
     "text": [
      "CI: 100%|█████████████████████████████████████████████████████████████████████████| 1000/1000 [00:07<00:00, 129.15it/s]"
     ]
    },
    {
     "name": "stdout",
     "output_type": "stream",
     "text": [
      "Done!\n",
      "Computing naive prediction intervals for 1000 test pairs...\n",
      "Done!\n",
      "Computing prediction intervals with Bonferroni correction with alpha 0.1 for 1000 test pairs...\n",
      "Done!\n",
      "Computing prediction intervals with Bonferroni correction with alpha 0.2 for 1000 test pairs...\n",
      "Done!\n"
     ]
    },
    {
     "name": "stderr",
     "output_type": "stream",
     "text": [
      "\n"
     ]
    },
    {
     "name": "stdout",
     "output_type": "stream",
     "text": [
      "Computing conformal prediction intervals for 1000 test pairs...\n"
     ]
    },
    {
     "name": "stderr",
     "output_type": "stream",
     "text": [
      "CI: 100%|█████████████████████████████████████████████████████████████████████████| 1000/1000 [00:07<00:00, 127.50it/s]"
     ]
    },
    {
     "name": "stdout",
     "output_type": "stream",
     "text": [
      "Done!\n",
      "Computing naive prediction intervals for 1000 test pairs...\n",
      "Done!\n",
      "Computing prediction intervals with Bonferroni correction with alpha 0.1 for 1000 test pairs...\n",
      "Done!\n",
      "Computing prediction intervals with Bonferroni correction with alpha 0.2 for 1000 test pairs...\n",
      "Done!\n"
     ]
    },
    {
     "name": "stderr",
     "output_type": "stream",
     "text": [
      "\n"
     ]
    }
   ],
   "source": [
    "result = pd.DataFrame({})\n",
    "for a in a_list:\n",
    "    for i in range(repetition):\n",
    "        res = run_experiment(M, a, b, gamma, random_state=i)\n",
    "        result = pd.concat([result, res])"
   ]
  },
  {
   "cell_type": "code",
   "execution_count": 669,
   "id": "2e9c8d7d",
   "metadata": {},
   "outputs": [
    {
     "data": {
      "image/png": "[encoded data removed]",
      "text/plain": [
       "<Figure size 1000x400 with 2 Axes>"
      ]
     },
     "metadata": {},
     "output_type": "display_data"
    }
   ],
   "source": [
    "# Make plot\n",
    "fig, ax = plt.subplots(1, 2, figsize=(10, 4))\n",
    "\n",
    "sns.boxplot(data=res, x=\"a\", y=\"Size\", hue='Method', ax=ax[0])\n",
    "ax[0].legend(loc='upper center', title='Method')\n",
    "\n",
    "plt.show()"
   ]
  },
  {
   "cell_type": "code",
   "execution_count": 667,
   "id": "dcf631b3",
   "metadata": {},
   "outputs": [],
   "source": [
    "res = result[(result['Method']=='conformal') |(result['Method']=='bonferroni')]\n"
   ]
  },
  {
   "cell_type": "code",
   "execution_count": 664,
   "id": "97bce876",
   "metadata": {},
   "outputs": [
    {
     "data": {
      "text/html": [
       "<div>\n",
       "<style scoped>\n",
       "    .dataframe tbody tr th:only-of-type {\n",
       "        vertical-align: middle;\n",
       "    }\n",
       "\n",
       "    .dataframe tbody tr th {\n",
       "        vertical-align: top;\n",
       "    }\n",
       "\n",
       "    .dataframe thead th {\n",
       "        text-align: right;\n",
       "    }\n",
       "</style>\n",
       "<table border=\"1\" class=\"dataframe\">\n",
       "  <thead>\n",
       "    <tr style=\"text-align: right;\">\n",
       "      <th></th>\n",
       "      <th>Pair_coverage</th>\n",
       "      <th>Coverage</th>\n",
       "      <th>Size</th>\n",
       "      <th>Inf_prop</th>\n",
       "      <th>Method</th>\n",
       "      <th>Calib_size</th>\n",
       "      <th>Train_size</th>\n",
       "      <th>Test_size</th>\n",
       "      <th>a</th>\n",
       "      <th>b</th>\n",
       "      <th>gamma</th>\n",
       "      <th>random_state</th>\n",
       "    </tr>\n",
       "  </thead>\n",
       "  <tbody>\n",
       "    <tr>\n",
       "      <th>0</th>\n",
       "      <td>0.897</td>\n",
       "      <td>0.9000</td>\n",
       "      <td>0.310964</td>\n",
       "      <td>0.0</td>\n",
       "      <td>conformal</td>\n",
       "      <td>1250</td>\n",
       "      <td>2500.0</td>\n",
       "      <td>1000</td>\n",
       "      <td>0.1</td>\n",
       "      <td>100</td>\n",
       "      <td>0.99</td>\n",
       "      <td>0</td>\n",
       "    </tr>\n",
       "    <tr>\n",
       "      <th>0</th>\n",
       "      <td>0.946</td>\n",
       "      <td>0.9490</td>\n",
       "      <td>0.465283</td>\n",
       "      <td>0.0</td>\n",
       "      <td>bonferroni</td>\n",
       "      <td>1250</td>\n",
       "      <td>2500.0</td>\n",
       "      <td>1000</td>\n",
       "      <td>0.1</td>\n",
       "      <td>100</td>\n",
       "      <td>0.99</td>\n",
       "      <td>0</td>\n",
       "    </tr>\n",
       "    <tr>\n",
       "      <th>0</th>\n",
       "      <td>0.897</td>\n",
       "      <td>0.8990</td>\n",
       "      <td>0.311202</td>\n",
       "      <td>0.0</td>\n",
       "      <td>conformal</td>\n",
       "      <td>1250</td>\n",
       "      <td>2500.0</td>\n",
       "      <td>1000</td>\n",
       "      <td>0.1</td>\n",
       "      <td>100</td>\n",
       "      <td>0.99</td>\n",
       "      <td>1</td>\n",
       "    </tr>\n",
       "    <tr>\n",
       "      <th>0</th>\n",
       "      <td>0.953</td>\n",
       "      <td>0.9535</td>\n",
       "      <td>0.550396</td>\n",
       "      <td>0.0</td>\n",
       "      <td>bonferroni</td>\n",
       "      <td>1250</td>\n",
       "      <td>2500.0</td>\n",
       "      <td>1000</td>\n",
       "      <td>0.1</td>\n",
       "      <td>100</td>\n",
       "      <td>0.99</td>\n",
       "      <td>1</td>\n",
       "    </tr>\n",
       "    <tr>\n",
       "      <th>0</th>\n",
       "      <td>0.906</td>\n",
       "      <td>0.9070</td>\n",
       "      <td>0.265890</td>\n",
       "      <td>0.0</td>\n",
       "      <td>conformal</td>\n",
       "      <td>1250</td>\n",
       "      <td>2500.0</td>\n",
       "      <td>1000</td>\n",
       "      <td>0.1</td>\n",
       "      <td>100</td>\n",
       "      <td>0.99</td>\n",
       "      <td>2</td>\n",
       "    </tr>\n",
       "    <tr>\n",
       "      <th>...</th>\n",
       "      <td>...</td>\n",
       "      <td>...</td>\n",
       "      <td>...</td>\n",
       "      <td>...</td>\n",
       "      <td>...</td>\n",
       "      <td>...</td>\n",
       "      <td>...</td>\n",
       "      <td>...</td>\n",
       "      <td>...</td>\n",
       "      <td>...</td>\n",
       "      <td>...</td>\n",
       "      <td>...</td>\n",
       "    </tr>\n",
       "    <tr>\n",
       "      <th>0</th>\n",
       "      <td>0.949</td>\n",
       "      <td>0.9540</td>\n",
       "      <td>1.682177</td>\n",
       "      <td>0.0</td>\n",
       "      <td>bonferroni</td>\n",
       "      <td>1250</td>\n",
       "      <td>2500.0</td>\n",
       "      <td>1000</td>\n",
       "      <td>30.0</td>\n",
       "      <td>100</td>\n",
       "      <td>0.99</td>\n",
       "      <td>7</td>\n",
       "    </tr>\n",
       "    <tr>\n",
       "      <th>0</th>\n",
       "      <td>0.914</td>\n",
       "      <td>0.9175</td>\n",
       "      <td>1.635820</td>\n",
       "      <td>0.0</td>\n",
       "      <td>conformal</td>\n",
       "      <td>1250</td>\n",
       "      <td>2500.0</td>\n",
       "      <td>1000</td>\n",
       "      <td>30.0</td>\n",
       "      <td>100</td>\n",
       "      <td>0.99</td>\n",
       "      <td>8</td>\n",
       "    </tr>\n",
       "    <tr>\n",
       "      <th>0</th>\n",
       "      <td>0.950</td>\n",
       "      <td>0.9535</td>\n",
       "      <td>1.740809</td>\n",
       "      <td>0.0</td>\n",
       "      <td>bonferroni</td>\n",
       "      <td>1250</td>\n",
       "      <td>2500.0</td>\n",
       "      <td>1000</td>\n",
       "      <td>30.0</td>\n",
       "      <td>100</td>\n",
       "      <td>0.99</td>\n",
       "      <td>8</td>\n",
       "    </tr>\n",
       "    <tr>\n",
       "      <th>0</th>\n",
       "      <td>0.904</td>\n",
       "      <td>0.9065</td>\n",
       "      <td>1.620544</td>\n",
       "      <td>0.0</td>\n",
       "      <td>conformal</td>\n",
       "      <td>1250</td>\n",
       "      <td>2500.0</td>\n",
       "      <td>1000</td>\n",
       "      <td>30.0</td>\n",
       "      <td>100</td>\n",
       "      <td>0.99</td>\n",
       "      <td>9</td>\n",
       "    </tr>\n",
       "    <tr>\n",
       "      <th>0</th>\n",
       "      <td>0.949</td>\n",
       "      <td>0.9530</td>\n",
       "      <td>1.679366</td>\n",
       "      <td>0.0</td>\n",
       "      <td>bonferroni</td>\n",
       "      <td>1250</td>\n",
       "      <td>2500.0</td>\n",
       "      <td>1000</td>\n",
       "      <td>30.0</td>\n",
       "      <td>100</td>\n",
       "      <td>0.99</td>\n",
       "      <td>9</td>\n",
       "    </tr>\n",
       "  </tbody>\n",
       "</table>\n",
       "<p>140 rows × 12 columns</p>\n",
       "</div>"
      ],
      "text/plain": [
       "    Pair_coverage  Coverage      Size  Inf_prop      Method  Calib_size  \\\n",
       "0           0.897    0.9000  0.310964       0.0   conformal        1250   \n",
       "0           0.946    0.9490  0.465283       0.0  bonferroni        1250   \n",
       "0           0.897    0.8990  0.311202       0.0   conformal        1250   \n",
       "0           0.953    0.9535  0.550396       0.0  bonferroni        1250   \n",
       "0           0.906    0.9070  0.265890       0.0   conformal        1250   \n",
       "..            ...       ...       ...       ...         ...         ...   \n",
       "0           0.949    0.9540  1.682177       0.0  bonferroni        1250   \n",
       "0           0.914    0.9175  1.635820       0.0   conformal        1250   \n",
       "0           0.950    0.9535  1.740809       0.0  bonferroni        1250   \n",
       "0           0.904    0.9065  1.620544       0.0   conformal        1250   \n",
       "0           0.949    0.9530  1.679366       0.0  bonferroni        1250   \n",
       "\n",
       "    Train_size  Test_size     a    b  gamma  random_state  \n",
       "0       2500.0       1000   0.1  100   0.99             0  \n",
       "0       2500.0       1000   0.1  100   0.99             0  \n",
       "0       2500.0       1000   0.1  100   0.99             1  \n",
       "0       2500.0       1000   0.1  100   0.99             1  \n",
       "0       2500.0       1000   0.1  100   0.99             2  \n",
       "..         ...        ...   ...  ...    ...           ...  \n",
       "0       2500.0       1000  30.0  100   0.99             7  \n",
       "0       2500.0       1000  30.0  100   0.99             8  \n",
       "0       2500.0       1000  30.0  100   0.99             8  \n",
       "0       2500.0       1000  30.0  100   0.99             9  \n",
       "0       2500.0       1000  30.0  100   0.99             9  \n",
       "\n",
       "[140 rows x 12 columns]"
      ]
     },
     "execution_count": 664,
     "metadata": {},
     "output_type": "execute_result"
    }
   ],
   "source": [
    "selected_columns"
   ]
  },
  {
   "cell_type": "code",
   "execution_count": null,
   "id": "28112706",
   "metadata": {},
   "outputs": [],
   "source": []
  }
 ],
 "metadata": {
  "kernelspec": {
   "display_name": "Python 3 (ipykernel)",
   "language": "python",
   "name": "python3"
  },
  "language_info": {
   "codemirror_mode": {
    "name": "ipython",
    "version": 3
   },
   "file_extension": ".py",
   "mimetype": "text/x-python",
   "name": "python",
   "nbconvert_exporter": "python",
   "pygments_lexer": "ipython3",
   "version": "3.10.9"
  }
 },
 "nbformat": 4,
 "nbformat_minor": 5
}
