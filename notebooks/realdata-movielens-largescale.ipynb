{
 "cells": [
  {
   "cell_type": "code",
   "execution_count": 1,
   "id": "b05ddccc",
   "metadata": {},
   "outputs": [],
   "source": [
    "%matplotlib inline\n",
    "%load_ext autoreload\n",
    "%load_ext memory_profiler\n",
    "%autoreload 2\n",
    "\n",
    "import sys, os\n",
    "# sys.path.append('../largescale_smc/')\n",
    "# sys.path.append('../third_party')"
   ]
  },
  {
   "cell_type": "code",
   "execution_count": 3,
   "id": "d91c0ec0",
   "metadata": {
    "scrolled": true
   },
   "outputs": [],
   "source": [
    "import numpy as np   \n",
    "import pandas as pd\n",
    "import pdb\n",
    "import matplotlib.pyplot as plt\n",
    "import scipy.stats as stats\n",
    "import seaborn as sns\n",
    "from tqdm import tqdm\n",
    "import sys\n",
    "\n",
    "from time import time\n",
    "from largescale_smc.largescale_missingness import *\n",
    "from largescale_smc.largescale_utils import *\n",
    "from largescale_smc.largescale_method import *"
   ]
  },
  {
   "cell_type": "code",
   "execution_count": 4,
   "id": "1a653f2f",
   "metadata": {},
   "outputs": [],
   "source": [
    "from surprise import SVD\n",
    "from surprise import accuracy"
   ]
  },
  {
   "cell_type": "code",
   "execution_count": 5,
   "id": "bfece010",
   "metadata": {},
   "outputs": [
    {
     "name": "stderr",
     "output_type": "stream",
     "text": [
      "10000054it [00:14, 698209.62it/s]"
     ]
    },
    {
     "name": "stdout",
     "output_type": "stream",
     "text": [
      "Loaded 10000054 ratings from 69878 users and 10677 items.\n"
     ]
    },
    {
     "name": "stderr",
     "output_type": "stream",
     "text": [
      "\n",
      "100%|█████████████████████████████████████████████████████████████████████████████| 2000/2000 [00:03<00:00, 590.29it/s]\n"
     ]
    },
    {
     "name": "stdout",
     "output_type": "stream",
     "text": [
      "Elapsed time: 33.60444211959839 seconds\n",
      "peak memory: 2562.42 MiB, increment: 2401.51 MiB\n"
     ]
    }
   ],
   "source": [
    "%%memit\n",
    "start_time = time()\n",
    "#file_path = os.path.expanduser(\"../data/ml-100k/u.data\")\n",
    "file_path = os.path.expanduser(\"../data/ml-10m/ratings_no_timestamp.dat\")\n",
    "reader = DataReader(line_format=\"user item rating\", sep=\"::\")\n",
    "splitter = DataSplitter(file_path, reader)\n",
    "train_samples, calib_samples, missing_idxs = splitter.sample_train_calib(k=5)\n",
    "print(f\"Elapsed time: {time()-start_time} seconds\")"
   ]
  },
  {
   "cell_type": "code",
   "execution_count": 6,
   "id": "98636339",
   "metadata": {},
   "outputs": [
    {
     "name": "stdout",
     "output_type": "stream",
     "text": [
      "Processing epoch 0\n",
      "Processing epoch 1\n",
      "Processing epoch 2\n",
      "Processing epoch 3\n",
      "Processing epoch 4\n",
      "Processing epoch 5\n",
      "Processing epoch 6\n",
      "Processing epoch 7\n",
      "Processing epoch 8\n",
      "Processing epoch 9\n",
      "Fitting time: 74.14759016036987 seconds\n",
      "peak memory: 4036.02 MiB, increment: 1559.23 MiB\n"
     ]
    }
   ],
   "source": [
    "%%memit\n",
    "random_state=0\n",
    "start_time = time()\n",
    "trainset = construct_trainset(train_samples, reader.rating_scale)\n",
    "algo = SVD(n_factors=10, n_epochs=10, biased=False, verbose=True)\n",
    "algo.fit(trainset)\n",
    "print(f\"Fitting time: {time()-start_time} seconds\")\n",
    "\n",
    "# start_time = time()\n",
    "# # Then compute RMSE\n",
    "# predictions = algo.test(raw_testset)\n",
    "# accuracy.rmse(predictions)\n",
    "# print(f\"Testing time: {time()-start_time} seconds\")"
   ]
  },
  {
   "cell_type": "code",
   "execution_count": 7,
   "id": "9db6aa96-6bf5-461b-9a4d-98e3b2637c6d",
   "metadata": {},
   "outputs": [
    {
     "name": "stderr",
     "output_type": "stream",
     "text": [
      "100%|██████████████████████████████████████████████████████████████████████████████████| 30/30 [00:22<00:00,  1.34it/s]\n"
     ]
    },
    {
     "name": "stdout",
     "output_type": "stream",
     "text": [
      "Elapsed time: 61.350459575653076 seconds\n",
      "peak memory: 4666.21 MiB, increment: 779.15 MiB\n"
     ]
    }
   ],
   "source": [
    "%%memit\n",
    "start_time = time()\n",
    "w_obs=LogisticMFProbs(random_state=random_state)\n",
    "w_obs.fit(train_samples+calib_samples)\n",
    "print(f\"Elapsed time: {time()-start_time} seconds\")"
   ]
  },
  {
   "cell_type": "code",
   "execution_count": 8,
   "id": "0cc56c49-d8e0-445e-95c3-e73a4f3f5330",
   "metadata": {},
   "outputs": [
    {
     "name": "stdout",
     "output_type": "stream",
     "text": [
      "Elapsed time: 0.0416417121887207 seconds\n",
      "peak memory: 3906.58 MiB, increment: 1.09 MiB\n"
     ]
    }
   ],
   "source": [
    "%%memit\n",
    "start_time = time()\n",
    "k=5\n",
    "Mhat = create_batch_rating_predictor(algo)\n",
    "ci_method = SimulCI_ls(splitter.config, calib_samples, k, Mhat, w_obs)\n",
    "print(f\"Elapsed time: {time()-start_time} seconds\")"
   ]
  },
  {
   "cell_type": "code",
   "execution_count": 9,
   "id": "7b7ad6cc-53be-444e-9a5f-428607531500",
   "metadata": {},
   "outputs": [],
   "source": [
    "calib_idxs = [(u, i) for u,i,r in calib_samples]\n",
    "calib_ratings = [r for u,i,r in calib_samples]"
   ]
  },
  {
   "cell_type": "code",
   "execution_count": 13,
   "id": "b5340024-1a4d-4c70-a431-3d01b53603fd",
   "metadata": {},
   "outputs": [
    {
     "name": "stdout",
     "output_type": "stream",
     "text": [
      "Computing conformal prediction intervals for 1 test queries...\n",
      "Start computing universal quantities invariant to the test query...\n"
     ]
    },
    {
     "name": "stderr",
     "output_type": "stream",
     "text": [
      "Universal quantities: 100%|██████████████████████████████████████████████████████| 10677/10677 [23:08<00:00,  7.69it/s]\n"
     ]
    },
    {
     "name": "stdout",
     "output_type": "stream",
     "text": [
      "Done!\n"
     ]
    },
    {
     "name": "stderr",
     "output_type": "stream",
     "text": [
      "CI:   0%|                                                                                        | 0/1 [00:00<?, ?it/s]\n"
     ]
    },
    {
     "ename": "TypeError",
     "evalue": "'function' object is not subscriptable",
     "output_type": "error",
     "traceback": [
      "\u001b[1;31m---------------------------------------------------------------------------\u001b[0m",
      "\u001b[1;31mTypeError\u001b[0m                                 Traceback (most recent call last)",
      "Cell \u001b[1;32mIn[13], line 1\u001b[0m\n\u001b[1;32m----> 1\u001b[0m \u001b[43mget_ipython\u001b[49m\u001b[43m(\u001b[49m\u001b[43m)\u001b[49m\u001b[38;5;241;43m.\u001b[39;49m\u001b[43mrun_cell_magic\u001b[49m\u001b[43m(\u001b[49m\u001b[38;5;124;43m'\u001b[39;49m\u001b[38;5;124;43mmemit\u001b[39;49m\u001b[38;5;124;43m'\u001b[39;49m\u001b[43m,\u001b[49m\u001b[43m \u001b[49m\u001b[38;5;124;43m'\u001b[39;49m\u001b[38;5;124;43m'\u001b[39;49m\u001b[43m,\u001b[49m\u001b[43m \u001b[49m\u001b[38;5;124;43m'\u001b[39;49m\u001b[38;5;124;43mstart_time = time()\u001b[39;49m\u001b[38;5;130;43;01m\\n\u001b[39;49;00m\u001b[38;5;124;43malpha = 0.1\u001b[39;49m\u001b[38;5;130;43;01m\\n\u001b[39;49;00m\u001b[38;5;124;43mallow_inf= False\u001b[39;49m\u001b[38;5;130;43;01m\\n\u001b[39;49;00m\u001b[38;5;124;43mdf = ci_method.get_CI(calib_idxs[:k], alpha, allow_inf=allow_inf)\u001b[39;49m\u001b[38;5;130;43;01m\\n\u001b[39;49;00m\u001b[38;5;124;43mprint(f\u001b[39;49m\u001b[38;5;124;43m\"\u001b[39;49m\u001b[38;5;124;43mElapsed time: \u001b[39;49m\u001b[38;5;124;43m{\u001b[39;49m\u001b[38;5;124;43mtime()-start_time} seconds\u001b[39;49m\u001b[38;5;124;43m\"\u001b[39;49m\u001b[38;5;124;43m)\u001b[39;49m\u001b[38;5;130;43;01m\\n\u001b[39;49;00m\u001b[38;5;124;43m'\u001b[39;49m\u001b[43m)\u001b[49m\n",
      "File \u001b[1;32m~\\anaconda3\\envs\\scmc\\lib\\site-packages\\IPython\\core\\interactiveshell.py:2541\u001b[0m, in \u001b[0;36mInteractiveShell.run_cell_magic\u001b[1;34m(self, magic_name, line, cell)\u001b[0m\n\u001b[0;32m   2539\u001b[0m \u001b[38;5;28;01mwith\u001b[39;00m \u001b[38;5;28mself\u001b[39m\u001b[38;5;241m.\u001b[39mbuiltin_trap:\n\u001b[0;32m   2540\u001b[0m     args \u001b[38;5;241m=\u001b[39m (magic_arg_s, cell)\n\u001b[1;32m-> 2541\u001b[0m     result \u001b[38;5;241m=\u001b[39m fn(\u001b[38;5;241m*\u001b[39margs, \u001b[38;5;241m*\u001b[39m\u001b[38;5;241m*\u001b[39mkwargs)\n\u001b[0;32m   2543\u001b[0m \u001b[38;5;66;03m# The code below prevents the output from being displayed\u001b[39;00m\n\u001b[0;32m   2544\u001b[0m \u001b[38;5;66;03m# when using magics with decorator @output_can_be_silenced\u001b[39;00m\n\u001b[0;32m   2545\u001b[0m \u001b[38;5;66;03m# when the last Python token in the expression is a ';'.\u001b[39;00m\n\u001b[0;32m   2546\u001b[0m \u001b[38;5;28;01mif\u001b[39;00m \u001b[38;5;28mgetattr\u001b[39m(fn, magic\u001b[38;5;241m.\u001b[39mMAGIC_OUTPUT_CAN_BE_SILENCED, \u001b[38;5;28;01mFalse\u001b[39;00m):\n",
      "File \u001b[1;32m~\\anaconda3\\envs\\scmc\\lib\\site-packages\\memory_profiler.py:1113\u001b[0m, in \u001b[0;36mMemoryProfilerMagics.memit\u001b[1;34m(self, line, cell)\u001b[0m\n\u001b[0;32m   1111\u001b[0m \u001b[38;5;28;01mwhile\u001b[39;00m counter \u001b[38;5;241m<\u001b[39m repeat:\n\u001b[0;32m   1112\u001b[0m     counter \u001b[38;5;241m+\u001b[39m\u001b[38;5;241m=\u001b[39m \u001b[38;5;241m1\u001b[39m\n\u001b[1;32m-> 1113\u001b[0m     tmp \u001b[38;5;241m=\u001b[39m \u001b[43mmemory_usage\u001b[49m\u001b[43m(\u001b[49m\u001b[43m(\u001b[49m\u001b[43m_func_exec\u001b[49m\u001b[43m,\u001b[49m\u001b[43m \u001b[49m\u001b[43m(\u001b[49m\u001b[43mstmt\u001b[49m\u001b[43m,\u001b[49m\u001b[43m \u001b[49m\u001b[38;5;28;43mself\u001b[39;49m\u001b[38;5;241;43m.\u001b[39;49m\u001b[43mshell\u001b[49m\u001b[38;5;241;43m.\u001b[39;49m\u001b[43muser_ns\u001b[49m\u001b[43m)\u001b[49m\u001b[43m)\u001b[49m\u001b[43m,\u001b[49m\n\u001b[0;32m   1114\u001b[0m \u001b[43m                       \u001b[49m\u001b[43mtimeout\u001b[49m\u001b[38;5;241;43m=\u001b[39;49m\u001b[43mtimeout\u001b[49m\u001b[43m,\u001b[49m\u001b[43m \u001b[49m\u001b[43minterval\u001b[49m\u001b[38;5;241;43m=\u001b[39;49m\u001b[43minterval\u001b[49m\u001b[43m,\u001b[49m\n\u001b[0;32m   1115\u001b[0m \u001b[43m                       \u001b[49m\u001b[43mmax_usage\u001b[49m\u001b[38;5;241;43m=\u001b[39;49m\u001b[38;5;28;43;01mTrue\u001b[39;49;00m\u001b[43m,\u001b[49m\u001b[43m \u001b[49m\u001b[43mmax_iterations\u001b[49m\u001b[38;5;241;43m=\u001b[39;49m\u001b[38;5;241;43m1\u001b[39;49m\u001b[43m,\u001b[49m\n\u001b[0;32m   1116\u001b[0m \u001b[43m                       \u001b[49m\u001b[43minclude_children\u001b[49m\u001b[38;5;241;43m=\u001b[39;49m\u001b[43minclude_children\u001b[49m\u001b[43m)\u001b[49m\n\u001b[0;32m   1117\u001b[0m     mem_usage\u001b[38;5;241m.\u001b[39mappend(tmp)\n\u001b[0;32m   1119\u001b[0m result \u001b[38;5;241m=\u001b[39m MemitResult(mem_usage, baseline, repeat, timeout, interval,\n\u001b[0;32m   1120\u001b[0m                      include_children)\n",
      "File \u001b[1;32m~\\anaconda3\\envs\\scmc\\lib\\site-packages\\memory_profiler.py:379\u001b[0m, in \u001b[0;36mmemory_usage\u001b[1;34m(proc, interval, timeout, timestamps, include_children, multiprocess, max_usage, retval, stream, backend, max_iterations)\u001b[0m\n\u001b[0;32m    376\u001b[0m \u001b[38;5;66;03m# When there is an exception in the \"proc\" - the (spawned) monitoring processes don't get killed.\u001b[39;00m\n\u001b[0;32m    377\u001b[0m \u001b[38;5;66;03m# Therefore, the whole process hangs indefinitely. Here, we are ensuring that the process gets killed!\u001b[39;00m\n\u001b[0;32m    378\u001b[0m \u001b[38;5;28;01mtry\u001b[39;00m:\n\u001b[1;32m--> 379\u001b[0m     returned \u001b[38;5;241m=\u001b[39m f(\u001b[38;5;241m*\u001b[39margs, \u001b[38;5;241m*\u001b[39m\u001b[38;5;241m*\u001b[39mkw)\n\u001b[0;32m    380\u001b[0m     parent_conn\u001b[38;5;241m.\u001b[39msend(\u001b[38;5;241m0\u001b[39m)  \u001b[38;5;66;03m# finish timing\u001b[39;00m\n\u001b[0;32m    381\u001b[0m     ret \u001b[38;5;241m=\u001b[39m parent_conn\u001b[38;5;241m.\u001b[39mrecv()\n",
      "File \u001b[1;32m~\\anaconda3\\envs\\scmc\\lib\\site-packages\\memory_profiler.py:889\u001b[0m, in \u001b[0;36m_func_exec\u001b[1;34m(stmt, ns)\u001b[0m\n\u001b[0;32m    886\u001b[0m \u001b[38;5;28;01mdef\u001b[39;00m\u001b[38;5;250m \u001b[39m\u001b[38;5;21m_func_exec\u001b[39m(stmt, ns):\n\u001b[0;32m    887\u001b[0m     \u001b[38;5;66;03m# helper for magic_memit, just a function proxy for the exec\u001b[39;00m\n\u001b[0;32m    888\u001b[0m     \u001b[38;5;66;03m# statement\u001b[39;00m\n\u001b[1;32m--> 889\u001b[0m     \u001b[43mexec\u001b[49m\u001b[43m(\u001b[49m\u001b[43mstmt\u001b[49m\u001b[43m,\u001b[49m\u001b[43m \u001b[49m\u001b[43mns\u001b[49m\u001b[43m)\u001b[49m\n",
      "File \u001b[1;32m<string>:4\u001b[0m\n",
      "File \u001b[1;32m~\\Documents\\GitHub\\conformal-matrix-completion\\largescale_smc\\largescale_method.py:531\u001b[0m, in \u001b[0;36mSimulCI_ls.get_CI\u001b[1;34m(self, idxs_test, alpha, w_test, allow_inf, store_weights)\u001b[0m\n\u001b[0;32m    528\u001b[0m idx_test \u001b[38;5;241m=\u001b[39m idxs_test[\u001b[38;5;28mself\u001b[39m\u001b[38;5;241m.\u001b[39mk\u001b[38;5;241m*\u001b[39mi : \u001b[38;5;28mself\u001b[39m\u001b[38;5;241m.\u001b[39mk\u001b[38;5;241m*\u001b[39m(i\u001b[38;5;241m+\u001b[39m\u001b[38;5;241m1\u001b[39m)]\n\u001b[0;32m    529\u001b[0m key_test \u001b[38;5;241m=\u001b[39m idx_test[\u001b[38;5;241m0\u001b[39m][\u001b[38;5;28mself\u001b[39m\u001b[38;5;241m.\u001b[39mkey_dim]\n\u001b[1;32m--> 531\u001b[0m weights \u001b[38;5;241m=\u001b[39m \u001b[38;5;28;43mself\u001b[39;49m\u001b[38;5;241;43m.\u001b[39;49m\u001b[43m_weight_single\u001b[49m\u001b[43m(\u001b[49m\u001b[43midx_test\u001b[49m\u001b[43m,\u001b[49m\u001b[43m \u001b[49m\u001b[43mkey_test\u001b[49m\u001b[43m,\u001b[49m\u001b[43m \u001b[49m\u001b[43mw_test\u001b[49m\u001b[43m,\u001b[49m\u001b[43m \u001b[49m\u001b[43msr_prune\u001b[49m\u001b[43m,\u001b[49m\u001b[43m \u001b[49m\u001b[43msw_prune\u001b[49m\u001b[43m,\u001b[49m\u001b[43m \u001b[49m\u001b[43msr_miss\u001b[49m\u001b[43m,\u001b[49m\u001b[43m \u001b[49m\u001b[43mdelta\u001b[49m\u001b[43m,\u001b[49m\u001b[43m \u001b[49m\u001b[43mscale\u001b[49m\u001b[43m,\u001b[49m\u001b[43m \u001b[49m\u001b[43mstore_weights\u001b[49m\u001b[43m)\u001b[49m\n\u001b[0;32m    533\u001b[0m cweights \u001b[38;5;241m=\u001b[39m np\u001b[38;5;241m.\u001b[39mcumsum(weights[\u001b[38;5;28mself\u001b[39m\u001b[38;5;241m.\u001b[39mcalib_order])\n\u001b[0;32m    534\u001b[0m est, is_impossible_est \u001b[38;5;241m=\u001b[39m \u001b[38;5;28mself\u001b[39m\u001b[38;5;241m.\u001b[39mMhat(idx_test)\n",
      "File \u001b[1;32m~\\Documents\\GitHub\\conformal-matrix-completion\\largescale_smc\\largescale_method.py:411\u001b[0m, in \u001b[0;36mSimulCI_ls._weight_single\u001b[1;34m(self, idx_test, key_test, w_test, sr_prune, sw_prune, sr_miss, delta, scale, store_weights)\u001b[0m\n\u001b[0;32m    408\u001b[0m weights \u001b[38;5;241m=\u001b[39m np\u001b[38;5;241m.\u001b[39mones(\u001b[38;5;28mself\u001b[39m\u001b[38;5;241m.\u001b[39mn_calib_queries \u001b[38;5;241m+\u001b[39m \u001b[38;5;241m1\u001b[39m)\n\u001b[0;32m    410\u001b[0m \u001b[38;5;66;03m# Sum of test sampling weights for the test query\u001b[39;00m\n\u001b[1;32m--> 411\u001b[0m sw_test \u001b[38;5;241m=\u001b[39m np\u001b[38;5;241m.\u001b[39msum(\u001b[43mw_test\u001b[49m\u001b[43m[\u001b[49m\u001b[43midx_test\u001b[49m\u001b[43m]\u001b[49m)\n\u001b[0;32m    412\u001b[0m \u001b[38;5;66;03m# Sum of observation sampling weights for the test query\u001b[39;00m\n\u001b[0;32m    413\u001b[0m w_obs_test \u001b[38;5;241m=\u001b[39m \u001b[38;5;28mself\u001b[39m\u001b[38;5;241m.\u001b[39mw_obs[idx_test][\u001b[38;5;241m0\u001b[39m]\n",
      "\u001b[1;31mTypeError\u001b[0m: 'function' object is not subscriptable"
     ]
    }
   ],
   "source": [
    "%%memit\n",
    "start_time = time()\n",
    "alpha = 0.1\n",
    "allow_inf= False\n",
    "df = ci_method.get_CI(calib_idxs[:k], alpha, allow_inf=allow_inf)\n",
    "print(f\"Elapsed time: {time()-start_time} seconds\")"
   ]
  },
  {
   "cell_type": "code",
   "execution_count": null,
   "id": "9f95e896-cc59-47c9-a728-209f64bc4eba",
   "metadata": {},
   "outputs": [],
   "source": [
    "plt.hist(w_obs.mean_user_factor)"
   ]
  },
  {
   "cell_type": "code",
   "execution_count": null,
   "id": "9c3b5bfa-1538-4265-afe1-59e6ca103f2f",
   "metadata": {},
   "outputs": [],
   "source": [
    "plt.hist(w_obs.user_factors[1])"
   ]
  },
  {
   "cell_type": "code",
   "execution_count": null,
   "id": "7d0a9fad-a738-41b6-8263-36ecb45d7e96",
   "metadata": {},
   "outputs": [],
   "source": [
    "w_obs.user_factors[1]"
   ]
  },
  {
   "cell_type": "code",
   "execution_count": null,
   "id": "3163934f-4643-469c-9d04-9a5152da6796",
   "metadata": {},
   "outputs": [],
   "source": [
    "w_obs.mean_user_factor"
   ]
  },
  {
   "cell_type": "code",
   "execution_count": null,
   "id": "6b562474-cbb6-4100-906b-315f91b42c38",
   "metadata": {},
   "outputs": [],
   "source": [
    "alph = ['a', 'b', 'c']"
   ]
  },
  {
   "cell_type": "code",
   "execution_count": null,
   "id": "8bd571a4-0703-44f6-8d22-8fafbaa7b324",
   "metadata": {},
   "outputs": [],
   "source": [
    "num = [1,2,3]"
   ]
  },
  {
   "cell_type": "code",
   "execution_count": null,
   "id": "50e5b22a-2e84-48c1-affc-9d7e105807ed",
   "metadata": {},
   "outputs": [],
   "source": [
    "tt=list(zip(alph, num))"
   ]
  },
  {
   "cell_type": "code",
   "execution_count": null,
   "id": "519a3111-05da-4d8f-9c3b-bb4c3547b207",
   "metadata": {},
   "outputs": [],
   "source": [
    "tt[0][1]"
   ]
  },
  {
   "cell_type": "code",
   "execution_count": null,
   "id": "0dc7b827-81f3-4fa5-98f5-09f80ba7b399",
   "metadata": {},
   "outputs": [],
   "source": [
    "np.abs([1,2,4]-[0,1,1])"
   ]
  },
  {
   "cell_type": "code",
   "execution_count": null,
   "id": "6352a7b9-746d-4a87-8a4b-0692c9285b83",
   "metadata": {},
   "outputs": [],
   "source": [
    "import sys"
   ]
  },
  {
   "cell_type": "code",
   "execution_count": null,
   "id": "a8cd6938-55d7-4a00-9847-e380e43457b5",
   "metadata": {},
   "outputs": [],
   "source": [
    "sys.float_info.max"
   ]
  },
  {
   "cell_type": "code",
   "execution_count": null,
   "id": "4fed2bfa-e67c-4487-9579-aa2829972f6f",
   "metadata": {},
   "outputs": [],
   "source": [
    "ss=set([1,23,4,5,1])"
   ]
  },
  {
   "cell_type": "code",
   "execution_count": null,
   "id": "2fabb9f8-245f-419c-a95c-32cb87cdf449",
   "metadata": {},
   "outputs": [],
   "source": [
    "np.prod(np.array([1,23,4]))"
   ]
  },
  {
   "cell_type": "code",
   "execution_count": null,
   "id": "612a6c2d-7af8-4dd5-8847-eadd77f90502",
   "metadata": {},
   "outputs": [],
   "source": [
    "test= 1"
   ]
  },
  {
   "cell_type": "code",
   "execution_count": null,
   "id": "fcddc39b-3ced-4626-9464-a0748e3bc2c0",
   "metadata": {},
   "outputs": [],
   "source": [
    "test /= 1+1"
   ]
  },
  {
   "cell_type": "code",
   "execution_count": null,
   "id": "6c80f646-5bd6-454d-b50c-3177388db38d",
   "metadata": {},
   "outputs": [],
   "source": [
    "test"
   ]
  },
  {
   "cell_type": "code",
   "execution_count": null,
   "id": "8eb89c9c-cbfe-443c-ac8a-0e60f328eca8",
   "metadata": {},
   "outputs": [],
   "source": [
    "np.array([1,0,0]) | np.array([1,0,1])"
   ]
  },
  {
   "cell_type": "code",
   "execution_count": null,
   "id": "a379cdfa-cf3b-4f30-82e5-999b27a55344",
   "metadata": {},
   "outputs": [],
   "source": []
  }
 ],
 "metadata": {
  "kernelspec": {
   "display_name": "Python 3 (ipykernel)",
   "language": "python",
   "name": "python3"
  },
  "language_info": {
   "codemirror_mode": {
    "name": "ipython",
    "version": 3
   },
   "file_extension": ".py",
   "mimetype": "text/x-python",
   "name": "python",
   "nbconvert_exporter": "python",
   "pygments_lexer": "ipython3",
   "version": "3.10.18"
  }
 },
 "nbformat": 4,
 "nbformat_minor": 5
}
