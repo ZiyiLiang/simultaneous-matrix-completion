{
 "cells": [
  {
   "cell_type": "code",
   "execution_count": 1,
   "id": "b05ddccc",
   "metadata": {},
   "outputs": [],
   "source": [
    "%matplotlib inline\n",
    "%load_ext autoreload\n",
    "%load_ext memory_profiler\n",
    "%autoreload 2\n",
    "\n",
    "import sys, os\n",
    "# sys.path.append('../largescale_smc/')\n",
    "# sys.path.append('../third_party')"
   ]
  },
  {
   "cell_type": "code",
   "execution_count": 88,
   "id": "d91c0ec0",
   "metadata": {
    "scrolled": true
   },
   "outputs": [],
   "source": [
    "import numpy as np   \n",
    "import pandas as pd\n",
    "import pdb\n",
    "import matplotlib.pyplot as plt\n",
    "import scipy.stats as stats\n",
    "import seaborn as sns\n",
    "from tqdm import tqdm\n",
    "import sys\n",
    "\n",
    "from time import time\n",
    "from largescale_smc.largescale_missingness import *\n",
    "from largescale_smc.largescale_utils import *\n",
    "from largescale_smc.largescale_method import *"
   ]
  },
  {
   "cell_type": "code",
   "execution_count": 89,
   "id": "1a653f2f",
   "metadata": {},
   "outputs": [],
   "source": [
    "from surprise import SVD\n",
    "from surprise import accuracy"
   ]
  },
  {
   "cell_type": "code",
   "execution_count": 90,
   "id": "bfece010",
   "metadata": {},
   "outputs": [
    {
     "name": "stderr",
     "output_type": "stream",
     "text": [
      "10000054it [00:16, 619760.72it/s]"
     ]
    },
    {
     "name": "stdout",
     "output_type": "stream",
     "text": [
      "Loaded 10000054 ratings from 69878 users and 10677 items.\n"
     ]
    },
    {
     "name": "stderr",
     "output_type": "stream",
     "text": [
      "\n",
      "                                                                                                                       "
     ]
    },
    {
     "name": "stdout",
     "output_type": "stream",
     "text": [
      "Elapsed time: 40.97227096557617 seconds\n",
      "peak memory: 6169.39 MiB, increment: 2530.52 MiB\n"
     ]
    }
   ],
   "source": [
    "%%memit\n",
    "start_time = time()\n",
    "#file_path = os.path.expanduser(\"../data/ml-100k/u.data\")\n",
    "file_path = os.path.expanduser(\"../data/ml-10m/ratings_no_timestamp.dat\")\n",
    "reader = DataReader(line_format=\"user item rating\", sep=\"::\")\n",
    "splitter = DataSplitter(file_path, reader)\n",
    "train_samples, calib_samples, missing_idxs = splitter.sample_train_calib(k=5, random_state=0)\n",
    "print(f\"Elapsed time: {time()-start_time} seconds\")"
   ]
  },
  {
   "cell_type": "code",
   "execution_count": 5,
   "id": "98636339",
   "metadata": {},
   "outputs": [
    {
     "name": "stdout",
     "output_type": "stream",
     "text": [
      "Processing epoch 0\n",
      "Processing epoch 1\n",
      "Processing epoch 2\n",
      "Processing epoch 3\n",
      "Processing epoch 4\n",
      "Processing epoch 5\n",
      "Processing epoch 6\n",
      "Processing epoch 7\n",
      "Processing epoch 8\n",
      "Processing epoch 9\n",
      "Fitting time: 67.09283328056335 seconds\n",
      "peak memory: 4031.85 MiB, increment: 1555.52 MiB\n"
     ]
    }
   ],
   "source": [
    "%%memit\n",
    "random_state=0\n",
    "start_time = time()\n",
    "trainset = construct_trainset(train_samples, reader.rating_scale)\n",
    "algo = SVD(n_factors=10, n_epochs=10, biased=False, verbose=True)\n",
    "algo.fit(trainset)\n",
    "print(f\"Fitting time: {time()-start_time} seconds\")\n",
    "\n",
    "# start_time = time()\n",
    "# # Then compute RMSE\n",
    "# predictions = algo.test(raw_testset)\n",
    "# accuracy.rmse(predictions)\n",
    "# print(f\"Testing time: {time()-start_time} seconds\")"
   ]
  },
  {
   "cell_type": "code",
   "execution_count": 6,
   "id": "9db6aa96-6bf5-461b-9a4d-98e3b2637c6d",
   "metadata": {},
   "outputs": [
    {
     "name": "stderr",
     "output_type": "stream",
     "text": [
      "100%|██████████████████████████████████████████████████████████████████████████████████| 30/30 [00:21<00:00,  1.40it/s]\n"
     ]
    },
    {
     "name": "stdout",
     "output_type": "stream",
     "text": [
      "Elapsed time: 56.185293197631836 seconds\n",
      "peak memory: 4630.21 MiB, increment: 742.57 MiB\n"
     ]
    }
   ],
   "source": [
    "%%memit\n",
    "start_time = time()\n",
    "w_obs=LogisticMFProbs(random_state=random_state)\n",
    "w_obs.fit(train_samples+calib_samples)\n",
    "print(f\"Elapsed time: {time()-start_time} seconds\")"
   ]
  },
  {
   "cell_type": "code",
   "execution_count": 107,
   "id": "0cc56c49-d8e0-445e-95c3-e73a4f3f5330",
   "metadata": {},
   "outputs": [
    {
     "name": "stdout",
     "output_type": "stream",
     "text": [
      "Elapsed time: 0.07501602172851562 seconds\n",
      "peak memory: 5496.71 MiB, increment: 0.18 MiB\n"
     ]
    }
   ],
   "source": [
    "%%memit\n",
    "start_time = time()\n",
    "k=5\n",
    "Mhat = create_batch_rating_predictor(algo)\n",
    "ci_method = SimulCI_ls(splitter.config, calib_samples, k, Mhat, w_obs, num_workers=6)\n",
    "print(f\"Elapsed time: {time()-start_time} seconds\")"
   ]
  },
  {
   "cell_type": "code",
   "execution_count": 108,
   "id": "7b7ad6cc-53be-444e-9a5f-428607531500",
   "metadata": {},
   "outputs": [],
   "source": [
    "calib_idxs = [(u, i) for u,i,r in calib_samples]\n",
    "calib_ratings = [r for u,i,r in calib_samples]"
   ]
  },
  {
   "cell_type": "code",
   "execution_count": 110,
   "id": "b5340024-1a4d-4c70-a431-3d01b53603fd",
   "metadata": {},
   "outputs": [
    {
     "name": "stdout",
     "output_type": "stream",
     "text": [
      "Computing conformal prediction intervals for 2000 test queries...\n",
      "Start computing universal quantities invariant to the test query...\n",
      "Number of worker:6.\n"
     ]
    },
    {
     "name": "stderr",
     "output_type": "stream",
     "text": [
      "Universal quantities: 100%|██████████████████████████████████████████████████████| 10677/10677 [03:02<00:00, 58.65it/s]\n"
     ]
    },
    {
     "name": "stdout",
     "output_type": "stream",
     "text": [
      "Done!\n",
      "Elapsed time: 251.93575382232666 seconds\n"
     ]
    },
    {
     "name": "stderr",
     "output_type": "stream",
     "text": [
      "CI: 100%|██████████████████████████████████████████████████████████████████████████| 2000/2000 [03:10<00:00, 10.52it/s]"
     ]
    },
    {
     "name": "stdout",
     "output_type": "stream",
     "text": [
      "Done!\n",
      "Elapsed time: 442.12897753715515 seconds\n",
      "peak memory: 6264.12 MiB, increment: 768.01 MiB\n"
     ]
    },
    {
     "name": "stderr",
     "output_type": "stream",
     "text": [
      "\n"
     ]
    }
   ],
   "source": [
    "%%memit\n",
    "start_time = time()\n",
    "alpha = 0.1\n",
    "allow_inf= False\n",
    "df = ci_method.get_CI(calib_idxs, alpha, allow_inf=allow_inf)\n",
    "print(f\"Elapsed time: {time()-start_time} seconds\")"
   ]
  },
  {
   "cell_type": "code",
   "execution_count": 111,
   "id": "9f95e896-cc59-47c9-a728-209f64bc4eba",
   "metadata": {},
   "outputs": [],
   "source": [
    "lower, upper, is_inf, is_impossible = df.loc[0].lower, df.loc[0].upper, df.loc[0].is_inf, df.loc[0].is_impossible"
   ]
  },
  {
   "cell_type": "code",
   "execution_count": 112,
   "id": "9c3b5bfa-1538-4265-afe1-59e6ca103f2f",
   "metadata": {},
   "outputs": [],
   "source": [
    "def clip_intervals(lower, upper):\n",
    "    lower[lower <= 1] = 1\n",
    "    upper[upper >= 5] = 5\n",
    "    return lower, upper"
   ]
  },
  {
   "cell_type": "code",
   "execution_count": 113,
   "id": "7d0a9fad-a738-41b6-8263-36ecb45d7e96",
   "metadata": {},
   "outputs": [],
   "source": [
    "lower, upper = clip_intervals(lower, upper)"
   ]
  },
  {
   "cell_type": "code",
   "execution_count": 114,
   "id": "3163934f-4643-469c-9d04-9a5152da6796",
   "metadata": {},
   "outputs": [
    {
     "name": "stdout",
     "output_type": "stream",
     "text": [
      "Filtered out 0 impossible queries out of 2000 queries.\n",
      "Evaluating 2000 queries...\n",
      "Done!\n"
     ]
    }
   ],
   "source": [
    "res = evaluate_SCI_ls(lower, upper, k, calib_ratings, is_inf, is_impossible)"
   ]
  },
  {
   "cell_type": "code",
   "execution_count": 115,
   "id": "6b562474-cbb6-4100-906b-315f91b42c38",
   "metadata": {},
   "outputs": [
    {
     "data": {
      "text/html": [
       "<div>\n",
       "<style scoped>\n",
       "    .dataframe tbody tr th:only-of-type {\n",
       "        vertical-align: middle;\n",
       "    }\n",
       "\n",
       "    .dataframe tbody tr th {\n",
       "        vertical-align: top;\n",
       "    }\n",
       "\n",
       "    .dataframe thead th {\n",
       "        text-align: right;\n",
       "    }\n",
       "</style>\n",
       "<table border=\"1\" class=\"dataframe\">\n",
       "  <thead>\n",
       "    <tr style=\"text-align: right;\">\n",
       "      <th></th>\n",
       "      <th>Query_coverage</th>\n",
       "      <th>Coverage</th>\n",
       "      <th>Size</th>\n",
       "      <th>metric</th>\n",
       "      <th>Impossible_prop</th>\n",
       "      <th>Inf_prop</th>\n",
       "    </tr>\n",
       "  </thead>\n",
       "  <tbody>\n",
       "    <tr>\n",
       "      <th>0</th>\n",
       "      <td>0.91</td>\n",
       "      <td>0.9798</td>\n",
       "      <td>3.596397</td>\n",
       "      <td>mean</td>\n",
       "      <td>0.0</td>\n",
       "      <td>0.0</td>\n",
       "    </tr>\n",
       "  </tbody>\n",
       "</table>\n",
       "</div>"
      ],
      "text/plain": [
       "   Query_coverage  Coverage      Size metric  Impossible_prop  Inf_prop\n",
       "0            0.91    0.9798  3.596397   mean              0.0       0.0"
      ]
     },
     "execution_count": 115,
     "metadata": {},
     "output_type": "execute_result"
    }
   ],
   "source": [
    "res"
   ]
  },
  {
   "cell_type": "code",
   "execution_count": 122,
   "id": "8bd571a4-0703-44f6-8d22-8fafbaa7b324",
   "metadata": {},
   "outputs": [
    {
     "name": "stderr",
     "output_type": "stream",
     "text": [
      "                                                                                                                       "
     ]
    }
   ],
   "source": [
    "test_idxs =  splitter.sample_test(k, max_n_test=200, random_state=0)"
   ]
  },
  {
   "cell_type": "code",
   "execution_count": 123,
   "id": "0dc7b827-81f3-4fa5-98f5-09f80ba7b399",
   "metadata": {},
   "outputs": [
    {
     "name": "stdout",
     "output_type": "stream",
     "text": [
      "Computing conformal prediction intervals for 200 test queries...\n",
      "Skipping some duplicated computations: w_test is unchanged.\n"
     ]
    },
    {
     "name": "stderr",
     "output_type": "stream",
     "text": [
      "CI: 100%|████████████████████████████████████████████████████████████████████████████| 200/200 [00:22<00:00,  9.02it/s]"
     ]
    },
    {
     "name": "stdout",
     "output_type": "stream",
     "text": [
      "Done!\n"
     ]
    },
    {
     "name": "stderr",
     "output_type": "stream",
     "text": [
      "\n"
     ]
    }
   ],
   "source": [
    "df = ci_method.get_CI(test_idxs, alpha, allow_inf=allow_inf)"
   ]
  },
  {
   "cell_type": "code",
   "execution_count": 124,
   "id": "8eb89c9c-cbfe-443c-ac8a-0e60f328eca8",
   "metadata": {},
   "outputs": [],
   "source": [
    "lower, upper, is_inf, is_impossible = df.loc[0].lower, df.loc[0].upper, df.loc[0].is_inf, df.loc[0].is_impossible\n",
    "lower, upper = clip_intervals(lower, upper)"
   ]
  },
  {
   "cell_type": "code",
   "execution_count": 125,
   "id": "a379cdfa-cf3b-4f30-82e5-999b27a55344",
   "metadata": {},
   "outputs": [
    {
     "name": "stdout",
     "output_type": "stream",
     "text": [
      "Filtered out 0 impossible queries out of 200 queries.\n",
      "Evaluating 200 queries...\n",
      "Done!\n"
     ]
    }
   ],
   "source": [
    "res = evaluate_SCI_ls(lower, upper, k, np.zeros(len(test_idxs)), is_inf, is_impossible)"
   ]
  },
  {
   "cell_type": "code",
   "execution_count": 126,
   "id": "eadd6825-e52d-4393-99d4-88cfca2a611c",
   "metadata": {},
   "outputs": [
    {
     "data": {
      "text/html": [
       "<div>\n",
       "<style scoped>\n",
       "    .dataframe tbody tr th:only-of-type {\n",
       "        vertical-align: middle;\n",
       "    }\n",
       "\n",
       "    .dataframe tbody tr th {\n",
       "        vertical-align: top;\n",
       "    }\n",
       "\n",
       "    .dataframe thead th {\n",
       "        text-align: right;\n",
       "    }\n",
       "</style>\n",
       "<table border=\"1\" class=\"dataframe\">\n",
       "  <thead>\n",
       "    <tr style=\"text-align: right;\">\n",
       "      <th></th>\n",
       "      <th>Query_coverage</th>\n",
       "      <th>Coverage</th>\n",
       "      <th>Size</th>\n",
       "      <th>metric</th>\n",
       "      <th>Impossible_prop</th>\n",
       "      <th>Inf_prop</th>\n",
       "    </tr>\n",
       "  </thead>\n",
       "  <tbody>\n",
       "    <tr>\n",
       "      <th>0</th>\n",
       "      <td>0.0</td>\n",
       "      <td>0.0</td>\n",
       "      <td>3.651051</td>\n",
       "      <td>mean</td>\n",
       "      <td>0.0</td>\n",
       "      <td>0.04</td>\n",
       "    </tr>\n",
       "  </tbody>\n",
       "</table>\n",
       "</div>"
      ],
      "text/plain": [
       "   Query_coverage  Coverage      Size metric  Impossible_prop  Inf_prop\n",
       "0             0.0       0.0  3.651051   mean              0.0      0.04"
      ]
     },
     "execution_count": 126,
     "metadata": {},
     "output_type": "execute_result"
    }
   ],
   "source": [
    "res"
   ]
  },
  {
   "cell_type": "code",
   "execution_count": 129,
   "id": "3d330677-3de1-4b4f-89a5-e6aeedcd2e40",
   "metadata": {},
   "outputs": [
    {
     "data": {
      "text/plain": [
       "array([2, 3, 4, 5])"
      ]
     },
     "execution_count": 129,
     "metadata": {},
     "output_type": "execute_result"
    }
   ],
   "source": [
    "np.arange(2,6)"
   ]
  },
  {
   "cell_type": "code",
   "execution_count": null,
   "id": "d643ef09-f347-479b-906e-5dbcf5f51dcd",
   "metadata": {},
   "outputs": [],
   "source": []
  }
 ],
 "metadata": {
  "kernelspec": {
   "display_name": "Python 3 (ipykernel)",
   "language": "python",
   "name": "python3"
  },
  "language_info": {
   "codemirror_mode": {
    "name": "ipython",
    "version": 3
   },
   "file_extension": ".py",
   "mimetype": "text/x-python",
   "name": "python",
   "nbconvert_exporter": "python",
   "pygments_lexer": "ipython3",
   "version": "3.10.18"
  }
 },
 "nbformat": 4,
 "nbformat_minor": 5
}
