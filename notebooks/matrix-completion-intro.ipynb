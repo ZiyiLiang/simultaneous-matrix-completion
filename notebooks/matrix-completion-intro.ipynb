{
 "cells": [
  {
   "cell_type": "markdown",
   "id": "3a8a5342",
   "metadata": {},
   "source": [
    "\n",
    "# Matrix Completion\n",
    "\n",
    "This notebook tests some existing matrix completion algorithm including:\n",
    "\n",
    "Noiseless setting:\n",
    "*   Nuclear norm minimization, see reference paper by Candes and Recht (2008) https://arxiv.org/abs/0805.4471\n",
    "*   Singular Value Thresholding, see reference paper by Cai et al. (2008)\n",
    "https://arxiv.org/abs/0810.3286\n",
    "\n",
    "\n",
    "Reference Repo:\n",
    "https://github.com/TianyiPeng/matrix-completion"
   ]
  },
  {
   "cell_type": "code",
   "execution_count": 1,
   "id": "6b59cf88",
   "metadata": {},
   "outputs": [],
   "source": [
    "%matplotlib inline\n",
    "%load_ext autoreload\n",
    "%autoreload 2\n",
    "\n",
    "import sys, os\n",
    "sys.path.append('../cmc')"
   ]
  },
  {
   "cell_type": "code",
   "execution_count": 17,
   "id": "be014727",
   "metadata": {},
   "outputs": [],
   "source": [
    "import numpy as np   \n",
    "import pandas as pd\n",
    "import pdb\n",
    "import matplotlib.pyplot as plt\n",
    "import seaborn as sns\n",
    "from tqdm import tqdm"
   ]
  },
  {
   "cell_type": "code",
   "execution_count": 3,
   "id": "80d285b2",
   "metadata": {},
   "outputs": [
    {
     "name": "stdout",
     "output_type": "stream",
     "text": [
      "(CVXPY) Mar 01 07:24:05 PM: Encountered unexpected exception importing solver OSQP:\n",
      "ImportError('DLL load failed while importing qdldl: The specified module could not be found.')\n"
     ]
    }
   ],
   "source": [
    "from utils import *     # contains some useful helper functions \n",
    "from models import *    # toy models\n",
    "from solvers import *   # matrix completion solvers"
   ]
  },
  {
   "cell_type": "markdown",
   "id": "99264448",
   "metadata": {},
   "source": [
    "# Matrix Completion"
   ]
  },
  {
   "cell_type": "code",
   "execution_count": 4,
   "id": "199f3b48",
   "metadata": {},
   "outputs": [],
   "source": [
    "# Define experiment parameters\n",
    "m, n, r = 10,10,2\n",
    "prob_masked = 0.1\n",
    "random_state = 1"
   ]
  },
  {
   "cell_type": "code",
   "execution_count": 5,
   "id": "e69f4e23",
   "metadata": {},
   "outputs": [
    {
     "name": "stdout",
     "output_type": "stream",
     "text": [
      "Sampling from the noiseless random factorization model... \n",
      "\n"
     ]
    },
    {
     "data": {
      "image/png": "[encoded data removed]",
      "text/plain": [
       "<Figure size 800x400 with 2 Axes>"
      ]
     },
     "metadata": {},
     "output_type": "display_data"
    },
    {
     "name": "stdout",
     "output_type": "stream",
     "text": [
      "\n",
      "======================================================================\n",
      "\n",
      "Sampling from the noiseless random orthogonal model... \n",
      "\n"
     ]
    },
    {
     "data": {
      "image/png": "[encoded data removed]",
      "text/plain": [
       "<Figure size 800x400 with 2 Axes>"
      ]
     },
     "metadata": {},
     "output_type": "display_data"
    }
   ],
   "source": [
    "# Generate missing samples\n",
    "sampler = RandomSampling(m, n)\n",
    "mask = sampler.sample_observed(prob_masked, random_state=random_state)\n",
    "\n",
    "print('Sampling from the noiseless random factorization model... \\n')\n",
    "RFM = RandomFactorizationModel(m ,n, r)\n",
    "_, _ ,M_rfm = RFM.sample_noiseless(random_state)\n",
    "\n",
    "masked_M_rfm = mask * M_rfm\n",
    "vmin, vmax = np.min(M_rfm), np.max(M_rfm)\n",
    "plot_before_after_mask(M_rfm, mask, vmin, vmax)\n",
    "\n",
    "print('\\n'+'='*70+'\\n')\n",
    "\n",
    "print('Sampling from the noiseless random orthogonal model... \\n')\n",
    "ROM = RandomOrthogonalModel(m ,n, r)\n",
    "_,_,M_rom = ROM.sample_noiseless(random_state)\n",
    "\n",
    "masked_M_rom = mask * M_rom\n",
    "vmin, vmax = np.min(M_rom), np.max(M_rom)\n",
    "plot_before_after_mask(M_rom, mask, vmin, vmax)"
   ]
  },
  {
   "cell_type": "code",
   "execution_count": 6,
   "id": "23e9399e",
   "metadata": {},
   "outputs": [
    {
     "name": "stdout",
     "output_type": "stream",
     "text": [
      "The MSE of estimation solved by NNM is: 1.3954828100955872e-13\n"
     ]
    }
   ],
   "source": [
    "nnm_est = nnm_solve(M_rom,mask, verbose=False, random_state=random_state)\n",
    "nnm_mse = evaluate_mse(M_rom, nnm_est, 1-mask)\n",
    "print('The MSE of estimation solved by NNM is: {}'.format(nnm_mse))"
   ]
  },
  {
   "cell_type": "code",
   "execution_count": 7,
   "id": "a93e6cba",
   "metadata": {
    "scrolled": true
   },
   "outputs": [
    {
     "name": "stdout",
     "output_type": "stream",
     "text": [
      "Iteration: 1; Rel error: 1.0000\n",
      "Iteration: 11; Rel error: 0.0281\n",
      "Iteration: 21; Rel error: 0.0088\n",
      "Iteration: 31; Rel error: 0.0030\n",
      "Iteration: 41; Rel error: 0.0011\n",
      "Iteration: 51; Rel error: 0.0004\n",
      "Iteration: 61; Rel error: 0.0001\n",
      "Stopping criteria met, training terminated.\n",
      "The MSE of estimation solved by SVT is: 1.5455306392015827e-07\n"
     ]
    }
   ],
   "source": [
    "svt_est = svt_solve(M_rom, mask, random_state=random_state)\n",
    "svt_mse = evaluate_mse(M_rom, svt_est, 1-mask)\n",
    "print('The MSE of estimation solved by SVT is: {}'.format(svt_mse))"
   ]
  },
  {
   "cell_type": "markdown",
   "id": "de966830",
   "metadata": {},
   "source": [
    "## Conformal prediction"
   ]
  },
  {
   "cell_type": "markdown",
   "id": "cbddf4ae",
   "metadata": {},
   "source": [
    "### Conformalized matrix completion with marginal coverage\n",
    "\n",
    "We first consider the simplest case where we aim to achieve marginal coverage of the missing entries, that is, on average, the true labels of the missing ones are contained in the conformal intervals with high probability. To achive this goal, one need to first construct conformity scores, we will consider:\n",
    "\n",
    "- Estimation residual: most straightforward conformity scores which simply measures the euclidean distance of the estimation from the true label. \n",
    "  **Pros**: Easy to interpret and implement.\n",
    "  **Cons**: Might not be of optimal efficacy as it treats all the underlying data points as i.i.d, the matrix data structure is not         exploited. \n"
   ]
  },
  {
   "cell_type": "code",
   "execution_count": 8,
   "id": "46bb89fe",
   "metadata": {},
   "outputs": [],
   "source": [
    "def get_calib_scores(calib_mask, M, Mhat):\n",
    "    # use the absolute value of estimation residual as the conformity scores\n",
    "    calib_idx = np.where(calib_mask == 1)\n",
    "    return abs(M[calib_idx] - Mhat[calib_idx])\n",
    "\n",
    "def marginal_PI(calib_mask, test_mask, M, Mhat, alpha):\n",
    "    \"\"\"\n",
    "    Caculate conformal prediction interval with marginal coverage.\n",
    "    \n",
    "    Args:\n",
    "    ------\n",
    "    calib_mask:   Index set for the calibration data.\n",
    "    test_mask:    Index set for the test data.\n",
    "    M:            Matrix to be estimated.\n",
    "    Mhat:         Estimation of M.\n",
    "    alpha:        Desired confidence level.\n",
    "    \n",
    "    Return:\n",
    "    -------\n",
    "    pi:           Prediction interval(s) for the test point(s).  \n",
    "    \"\"\"\n",
    "    \n",
    "    test_idx = np.where(test_mask == 1)\n",
    "    calib_scores = get_calib_scores(calib_mask, M, Mhat)\n",
    "    n_calib = len(calib_scores)\n",
    "    \n",
    "    qhat = np.quantile(calib_scores, np.ceil((n_calib+1)*(1-alpha))/n_calib,\n",
    "                       method='higher')\n",
    "    \n",
    "    pi = [[est-qhat, est+qhat] for est in Mhat[test_idx]]\n",
    "    return pi\n",
    "\n",
    "\n",
    "def evaluate_PI(pi, x):\n",
    "    coverage = np.mean([x[i] >= pi[i][0] and x[i] <= pi[i][1] for i in range(len(x))])\n",
    "    size = np.mean([pi[i][1] - pi[i][0] for i in range(len(x))])\n",
    "    \n",
    "    results = pd.DataFrame({})\n",
    "    results[\"Coverage\"] = [coverage]\n",
    "    results[\"Size\"] = [size]\n",
    "    return results"
   ]
  },
  {
   "cell_type": "markdown",
   "id": "ea4004b7",
   "metadata": {},
   "source": [
    "## Experiments\n",
    "\n",
    "We conduct some experiments with the toy models and compute the conformal prediction intervals for test points with the simplest scores based on estimation residuals."
   ]
  },
  {
   "cell_type": "markdown",
   "id": "f494d839",
   "metadata": {},
   "source": [
    "### Experiment 1: Fixing M, resample train, test, calib sets"
   ]
  },
  {
   "cell_type": "code",
   "execution_count": 9,
   "id": "ac575699",
   "metadata": {},
   "outputs": [],
   "source": [
    "def run_single_experiment(M, train_mask, test_mask, calib_mask, alpha, r= None, verbose=True, random_state=0):\n",
    "    # Sanity check\n",
    "    assert all(((train_mask + test_mask + calib_mask) <= 1).flatten()),\\\n",
    "           'Found error in sampling process, make sure splitted sets are disjoint'\n",
    "        \n",
    "    Mhat = svt_solve(M, train_mask, verbose=verbose, random_state=random_state)\n",
    "    pi = marginal_PI(calib_mask, test_mask, M, Mhat, alpha)\n",
    "    calib_mse = evaluate_mse(M, Mhat, calib_mask)\n",
    "    \n",
    "    results = evaluate_PI(pi, M[np.where(test_mask == 1)])\n",
    "    results['Calib_MSE'] = [calib_mse]\n",
    "    results['Alpha'] = [alpha]\n",
    "    results['Seed'] = [random_state]\n",
    "    results['Calib_size'] = [np.sum(calib_mask)]\n",
    "    results['Train_size'] = [np.sum(train_mask)]\n",
    "    \n",
    "    # If the true rank or an estimation is given, approximate the minimal sufficient sample size \n",
    "    # for exact coverage.\n",
    "    if r:\n",
    "        results['Theory_size'] = [theoretical_bound(M.shape[0], M.shape[1], r, C=1)]\n",
    "    return results"
   ]
  },
  {
   "cell_type": "code",
   "execution_count": 41,
   "id": "216c6359",
   "metadata": {},
   "outputs": [],
   "source": [
    "# Define experiment parameters\n",
    "m, n, r = 100,100, 8\n",
    "prob_masked = 0.3\n",
    "alpha = 0.1\n",
    "repetition = 100"
   ]
  },
  {
   "cell_type": "code",
   "execution_count": 42,
   "id": "72b8586c",
   "metadata": {
    "scrolled": true
   },
   "outputs": [
    {
     "data": {
      "text/plain": [
       "11651.0"
      ]
     },
     "execution_count": 42,
     "metadata": {},
     "output_type": "execute_result"
    }
   ],
   "source": [
    "theoretical_bound(m, n, r, C=1)"
   ]
  },
  {
   "cell_type": "code",
   "execution_count": 43,
   "id": "d7d8a64d",
   "metadata": {
    "scrolled": false
   },
   "outputs": [
    {
     "name": "stdout",
     "output_type": "stream",
     "text": [
      "Fixing the ground truth matrix generated from the noiseless random orthogonal model.\n",
      "\n"
     ]
    },
    {
     "name": "stderr",
     "output_type": "stream",
     "text": [
      "100%|████████████████████████████████████████████████████████████████████████████████| 100/100 [19:49<00:00, 11.90s/it]\n"
     ]
    }
   ],
   "source": [
    "print('Fixing the ground truth matrix generated from the noiseless random orthogonal model.\\n')\n",
    "ROM = RandomOrthogonalModel(m ,n, r)\n",
    "U, V, M = ROM.sample_noiseless(random_state=0)\n",
    "results = pd.DataFrame({})\n",
    "\n",
    "for i in tqdm(range(repetition)):\n",
    "    random_state = i\n",
    "    # Generate missing samples\n",
    "    sampler = RandomSampling(m, n)\n",
    "    mask = sampler.sample_observed(prob_masked, random_state=random_state)\n",
    "    test_mask = np.ones_like(mask) - mask\n",
    "    train_mask, calib_mask = sampler.sample_train_calib(mask, prob_calib=0.5, \n",
    "                                                        random_state = random_state)\n",
    "    \n",
    "    res = run_single_experiment(M, train_mask, test_mask, calib_mask, \n",
    "                                alpha, r = r, verbose=False, random_state=random_state)\n",
    "    \n",
    "    results = pd.concat([results, res])\n"
   ]
  },
  {
   "cell_type": "code",
   "execution_count": 44,
   "id": "a73c5c09",
   "metadata": {},
   "outputs": [
    {
     "name": "stdout",
     "output_type": "stream",
     "text": [
      "Test size is 3000, calibration size is 3500, training size is 3500, theoretical minimum training size is 11651.0\n"
     ]
    },
    {
     "data": {
      "image/png": "[encoded data removed]",
      "text/plain": [
       "<Figure size 1000x400 with 2 Axes>"
      ]
     },
     "metadata": {},
     "output_type": "display_data"
    }
   ],
   "source": [
    "print('Test size is {}, calibration size is {}, training size is {}, theoretical minimum training size is {}'\\\n",
    "      .format(np.sum(test_mask), results['Calib_size'].iloc[0], \n",
    "              results['Train_size'].iloc[0], results['Theory_size'].iloc[0]))\n",
    "\n",
    "fig, (ax1, ax2) = plt.subplots(1,2, figsize=(10,4))\n",
    "sns.boxplot(y=\"Coverage\", data=results, ax=ax1)\n",
    "ax1.set(ylabel='Coverage')\n",
    "ax1.axhline(1-alpha, ls='--', color=\"red\")\n",
    "\n",
    "sns.boxplot(y=\"Size\", data=results, ax=ax2)\n",
    "ax2.set(ylabel='Size')\n",
    "plt.show()"
   ]
  },
  {
   "cell_type": "markdown",
   "id": "d8a973e1",
   "metadata": {},
   "source": [
    "### Experiment 2: Fixing M and test set, resample train, calib sets"
   ]
  },
  {
   "cell_type": "code",
   "execution_count": 45,
   "id": "304314c0",
   "metadata": {},
   "outputs": [],
   "source": [
    "# Define experiment parameters\n",
    "m, n, r = 100,100, 8\n",
    "prob_masked = 0.3\n",
    "alpha = 0.1\n",
    "repetition = 100"
   ]
  },
  {
   "cell_type": "code",
   "execution_count": 46,
   "id": "8c99fc0e",
   "metadata": {},
   "outputs": [
    {
     "name": "stdout",
     "output_type": "stream",
     "text": [
      "Fixing the ground truth matrix from ROM and test set.\n",
      "\n"
     ]
    },
    {
     "name": "stderr",
     "output_type": "stream",
     "text": [
      "100%|████████████████████████████████████████████████████████████████████████████████| 100/100 [17:29<00:00, 10.49s/it]\n"
     ]
    }
   ],
   "source": [
    "print('Fixing the ground truth matrix from ROM and test set.\\n')\n",
    "ROM = RandomOrthogonalModel(m ,n, r)\n",
    "U, V, M = ROM.sample_noiseless(random_state=0)\n",
    "results_exp2 = pd.DataFrame({})\n",
    "\n",
    "sampler = RandomSampling(m, n)\n",
    "mask = sampler.sample_observed(prob_masked, random_state=0)\n",
    "test_mask = np.ones_like(mask) - mask\n",
    "\n",
    "for i in tqdm(range(repetition)):\n",
    "    random_state = i\n",
    "    \n",
    "    # Generate training samples     \n",
    "    train_mask, calib_mask = sampler.sample_train_calib(mask, prob_calib=0.5, \n",
    "                                                        random_state = random_state)\n",
    "    \n",
    "    res = run_single_experiment(M, train_mask, test_mask, calib_mask, \n",
    "                                alpha, r = r, verbose=False, random_state=random_state)\n",
    "    \n",
    "    results_exp2 = pd.concat([results_exp2, res])\n"
   ]
  },
  {
   "cell_type": "code",
   "execution_count": 47,
   "id": "4763378d",
   "metadata": {},
   "outputs": [
    {
     "name": "stdout",
     "output_type": "stream",
     "text": [
      "Test size is 3000, calibration size is 3500, training size is 3500, theoretical minimum training size is 11651.0\n"
     ]
    },
    {
     "data": {
      "image/png": "[encoded data removed]",
      "text/plain": [
       "<Figure size 1000x400 with 2 Axes>"
      ]
     },
     "metadata": {},
     "output_type": "display_data"
    }
   ],
   "source": [
    "print('Test size is {}, calibration size is {}, training size is {}, theoretical minimum training size is {}'\\\n",
    "      .format(np.sum(test_mask), results['Calib_size'].iloc[0], \n",
    "              results_exp2['Train_size'].iloc[0], results_exp2['Theory_size'].iloc[0]))\n",
    "\n",
    "fig, (ax1, ax2) = plt.subplots(1,2, figsize=(10,4))\n",
    "sns.boxplot(y=\"Coverage\", data=results_exp2, ax=ax1)\n",
    "ax1.set(ylabel='Coverage')\n",
    "ax1.axhline(1-alpha, ls='--', color=\"red\")\n",
    "\n",
    "sns.boxplot(y=\"Size\", data=results_exp2, ax=ax2)\n",
    "ax2.set(ylabel='Size')\n",
    "plt.show()"
   ]
  },
  {
   "cell_type": "code",
   "execution_count": null,
   "id": "d9c7c8af",
   "metadata": {},
   "outputs": [],
   "source": []
  }
 ],
 "metadata": {
  "kernelspec": {
   "display_name": "Python 3 (ipykernel)",
   "language": "python",
   "name": "python3"
  },
  "language_info": {
   "codemirror_mode": {
    "name": "ipython",
    "version": 3
   },
   "file_extension": ".py",
   "mimetype": "text/x-python",
   "name": "python",
   "nbconvert_exporter": "python",
   "pygments_lexer": "ipython3",
   "version": "3.10.9"
  }
 },
 "nbformat": 4,
 "nbformat_minor": 5
}
