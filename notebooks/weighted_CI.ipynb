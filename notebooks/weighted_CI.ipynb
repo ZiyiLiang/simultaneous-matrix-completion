{
 "cells": [
  {
   "cell_type": "markdown",
   "id": "149ebf25",
   "metadata": {},
   "source": [
    "# Conformal matrix completion with weighted sampling\n",
    "\n",
    "This notebook investigates conformal matrix completion with weighted sampling. The goal is to:\n",
    "1. Define a reasonable way to construct weight functions to sample the observation sets. Show the standard conformal prediction set fails to achieve the marginal covetage under the weighted sampling model. \n",
    "2. Show by experiments that weighted conformal prediction intervals are robust to covariate shift in the sense that they provide valid marginal coverage for the biased sampling scheme. "
   ]
  },
  {
   "cell_type": "code",
   "execution_count": 1,
   "id": "2960718b",
   "metadata": {},
   "outputs": [],
   "source": [
    "%matplotlib inline\n",
    "%load_ext autoreload\n",
    "%autoreload 2\n",
    "\n",
    "import sys, os\n",
    "sys.path.append('../cmc')"
   ]
  },
  {
   "cell_type": "code",
   "execution_count": 2,
   "id": "96146b74",
   "metadata": {},
   "outputs": [],
   "source": [
    "import numpy as np   \n",
    "import pandas as pd\n",
    "import pdb\n",
    "import matplotlib.pyplot as plt\n",
    "import seaborn as sns\n",
    "import scipy \n",
    "from tqdm import tqdm"
   ]
  },
  {
   "cell_type": "code",
   "execution_count": 3,
   "id": "6b2110ce",
   "metadata": {},
   "outputs": [
    {
     "name": "stdout",
     "output_type": "stream",
     "text": [
      "(CVXPY) May 01 02:00:54 PM: Encountered unexpected exception importing solver OSQP:\n",
      "ImportError('DLL load failed while importing qdldl: The specified module could not be found.')\n"
     ]
    }
   ],
   "source": [
    "from utils import *     # contains some useful helper functions \n",
    "from models import *    # toy models\n",
    "from solvers import *   # matrix completion solvers\n",
    "from methods import *  "
   ]
  },
  {
   "cell_type": "code",
   "execution_count": 4,
   "id": "83750bc0",
   "metadata": {},
   "outputs": [],
   "source": [
    "import math\n",
    "from tqdm import tqdm\n",
    "import pdb\n",
    "\n",
    "class Conformal_PI():\n",
    "    def __init__(self, M, Mhat, train_mask, calib_mask, \n",
    "                 verbose=True, progress=True):\n",
    "        # Flatten all the matrices to avoid format inconsistency in the following computations\n",
    "        self.M = M.flatten(order='C')\n",
    "        self.Mhat = Mhat.flatten(order='C')\n",
    "        self.train_mask = train_mask.flatten(order='C')\n",
    "        self.calib_mask = calib_mask.flatten(order='C')\n",
    "        self.verbose = verbose\n",
    "        self.progress = progress\n",
    "        \n",
    "        self.mw = mwnchypg(verbose=False)\n",
    "        self.scores = np.abs(self.M - self.Mhat)\n",
    "        self.calib_scores = self.scores[self.calib_mask==1]\n",
    "        self.calib_order = np.argsort(self.calib_scores)\n",
    "        self.st_calib_scores = self.calib_scores[self.calib_order]\n",
    "        \n",
    "    def _weights_single(self, calib_idxs, test_idx, w1, w2, log_base):\n",
    "        \"\"\" Fix a test point, compute the weights for conformity scores of the given test point and\n",
    "            all calibration points\n",
    "\n",
    "        Args:\n",
    "        ---------\n",
    "        calib_idx:   \n",
    "        test_idx:    \n",
    "        w1:          Flattened normalized sampling weights(odds) for the calibration points.\n",
    "        w2:          Flattened normalized sampling weights(odds) for the test point.\n",
    "\n",
    "        Return:\n",
    "        ---------\n",
    "        \"\"\"\n",
    "        n_calib = len(calib_idxs)\n",
    "        weights = np.zeros(n_calib+1)\n",
    "        idxs = list(calib_idxs) + [test_idx]\n",
    "        \n",
    "        for i, idx in enumerate(idxs):\n",
    "            s = idxs[:i] + idxs[i+1:]\n",
    "            weights[i] = self.mw.laplace_approx(w1, s, log_base=log_base)\n",
    "            \n",
    "            \n",
    "            if not w2[idx]:\n",
    "                if i == n_calib:\n",
    "                    raise Exception( \"Probability of observing the given test point must be positive!\")\n",
    "                weights[i] = -np.inf if log_base else 0\n",
    "            else:\n",
    "                if log_base:\n",
    "                    weights[i] += np.emath.logn(log_base, w2[idx] / (1 - sum(w2[s])))\n",
    "                else:\n",
    "                    weights[i] *= w2[idx] / (1 - sum(w2[s]))\n",
    "            \n",
    "        # normalize the weights\n",
    "        if log_base:\n",
    "            ln0 = np.max(weights)\n",
    "            weights = np.power(log_base, weights-ln0)\n",
    "        weights /= np.sum(weights)\n",
    "                 \n",
    "        return weights\n",
    "    \n",
    "    \n",
    "    def wPI(self, test_idxs, w1, w2, alpha, allow_inf=True, log_base=\"auto\"):\n",
    "        n_test = len(test_idxs)\n",
    "        calib_idxs = np.where(self.calib_mask == 1)[0]\n",
    "        pi = [[]]* n_test\n",
    "        \n",
    "        if log_base == \"auto\":\n",
    "            log_base = len(self.M)\n",
    "        \n",
    "        if self.verbose: \n",
    "            print(\"Computing weighted prediction intervals for {} test points...\".format(n_test))\n",
    "        \n",
    "        \n",
    "        # re-standardize w1, w2 by exclude training sampling odds\n",
    "        w1 = w1 / (1 - np.sum(w1[self.train_mask==1]))\n",
    "        w2 = w2 / (1 - np.sum(w2[self.train_mask==1]))\n",
    "        \n",
    "        for i in tqdm(range(n_test), disable = not self.progress):\n",
    "            weights = self._weights_single(calib_idxs, test_idxs[i], w1, w2, log_base)\n",
    "            cweights = np.cumsum(weights[self.calib_order])\n",
    "            est = self.Mhat[test_idxs[i]]\n",
    "            \n",
    "            if cweights[-2] < 1-alpha:\n",
    "                pi[i] = [-np.inf, np.inf] if allow_inf else \\\n",
    "                        [est - self.st_calib_scores[-2], est + self.st_calib_scores[-2]]\n",
    "            else:\n",
    "                idx = np.argmax(cweights >= 1-alpha)\n",
    "                pi[i] = [est - self.st_calib_scores[idx], est + self.st_calib_scores[idx]]\n",
    "        \n",
    "        return pi\n",
    "    \n",
    "    \n",
    "    def mPI(self, test_idxs, alpha):\n",
    "        \"\"\"\n",
    "        Caculate conformal prediction interval with marginal coverage.\n",
    "        \"\"\"\n",
    "        n_test = len(test_idxs)\n",
    "        n_calib = len(self.calib_scores)\n",
    "        pi = [[]]* n_test\n",
    "        \n",
    "        if self.verbose: \n",
    "            print(\"Computing standard marginal prediction intervals for {} test points...\".format(n_test))\n",
    "            \n",
    "        qhat = np.quantile(self.calib_scores, np.ceil((n_calib+1)*(1-alpha))/n_calib,\n",
    "                            method='higher')\n",
    "        #pdb.set_trace()\n",
    "        for i in tqdm(range(n_test), disable = not self.progress):\n",
    "            est = self.Mhat[test_idxs[i]]\n",
    "            pi[i] = [est-qhat, est+qhat]\n",
    "            \n",
    "        return pi"
   ]
  },
  {
   "cell_type": "markdown",
   "id": "b88ce953",
   "metadata": {},
   "source": [
    "## Weighted model 1\n",
    "For the model outline and method details, refer to Section 5.3 in the CMC Overleaf draft.\n",
    "In this setting, we consider $w_1(I_i) = \\frac{i}{N}$ where $N$ is the total number of entries in the matrix, and $w_2(I_i)=\\frac{1}{n_{\\text{test}}}$. Roughly speaking, observations are sampled with a probability proportional to the index value and test points are uniformly sampled from the missing entries."
   ]
  },
  {
   "cell_type": "code",
   "execution_count": 16,
   "id": "33198f32",
   "metadata": {},
   "outputs": [],
   "source": [
    "# Define experiment parameters\n",
    "m, n, r = 50,50,3\n",
    "prop_obs = 0.5\n",
    "alpha = 0.1\n",
    "random_state = 0"
   ]
  },
  {
   "cell_type": "code",
   "execution_count": 17,
   "id": "a9db70c7",
   "metadata": {},
   "outputs": [],
   "source": [
    "# define the weights\n",
    "# spatially determined weights, lower half of the indexes are more likely to\n",
    "# be observed, for instance, a database with data ranked from oldest to newest\n",
    "# and newer data are comprehensive. \n",
    "scale = 1.2\n",
    "w = np.arange(1, m*n+1)**scale/(m*n)\n",
    "w = w/sum(w)"
   ]
  },
  {
   "cell_type": "code",
   "execution_count": 18,
   "id": "9f5dc0d6",
   "metadata": {},
   "outputs": [
    {
     "name": "stdout",
     "output_type": "stream",
     "text": [
      "Sampling with weight from the noiseless random factorization model... \n",
      "\n",
      "Dark spots indicating the missing entries.\n"
     ]
    },
    {
     "data": {
      "image/png": "[encoded data removed]",
      "text/plain": [
       "<Figure size 1200x500 with 4 Axes>"
      ]
     },
     "metadata": {},
     "output_type": "display_data"
    },
    {
     "name": "stdout",
     "output_type": "stream",
     "text": [
      "Observation size: 1250, training size: 1000, calib size: 250\n"
     ]
    }
   ],
   "source": [
    "RFM = RandomFactorizationModel(m ,n, r)\n",
    "U, V, M = RFM.sample_noiseless(random_state)\n",
    "\n",
    "print('Sampling with weight from the noiseless random factorization model... \\n')\n",
    "print('Dark spots indicating the missing entries.')\n",
    "sampler = RandomSampling(m, n)\n",
    "obs = sampler.sample_observed(prop_obs, w=w, random_state=10)\n",
    "test = np.ones_like(obs) - obs\n",
    "train, calib = sampler.sample_train_calib(obs, prob_calib=0.2, \n",
    "                                            random_state = random_state)\n",
    "assert np.sum(train+calib==obs) == m*n,'Sampling error!'\n",
    "vmin, vmax = np.min(M)-10, np.max(M)\n",
    "plot_before_after_mask(M, obs, vmin, vmax)\n",
    "print(\"Observation size: {}, training size: {}, calib size: {}\"\n",
    "      .format(np.sum(obs), np.sum(train), np.sum(calib)))"
   ]
  },
  {
   "cell_type": "code",
   "execution_count": 19,
   "id": "1746de9b",
   "metadata": {
    "scrolled": true
   },
   "outputs": [
    {
     "name": "stdout",
     "output_type": "stream",
     "text": [
      "Weighted sampling\n",
      "-------------------------\n",
      "Solving matrix completion with PMF...\n",
      "train MSE: 2.9456585614230565e-06, calib MSE: 0.0054348997715530185, test MSE: 0.42767090959376475\n"
     ]
    }
   ],
   "source": [
    "print(\"Weighted sampling\\n\"+\"-\"*25)\n",
    "print('Solving matrix completion with PMF...')\n",
    "Mhat, U, VT = pmf_solve(M, train, k=r, random_state=random_state, verbose=False)\n",
    "test_mse = evaluate_mse(M, Mhat, test)\n",
    "train_mse = evaluate_mse(M, Mhat, train)\n",
    "calib_mse = evaluate_mse(M, Mhat, calib)\n",
    "print('train MSE: {}, calib MSE: {}, test MSE: {}'\n",
    "      .format(train_mse, calib_mse, test_mse))"
   ]
  },
  {
   "cell_type": "code",
   "execution_count": 20,
   "id": "370b0d77",
   "metadata": {},
   "outputs": [
    {
     "name": "stdout",
     "output_type": "stream",
     "text": [
      "Weighted sampling\n",
      "-------------------------\n"
     ]
    },
    {
     "data": {
      "image/png": "[encoded data removed]",
      "text/plain": [
       "<Figure size 600x400 with 2 Axes>"
      ]
     },
     "metadata": {},
     "output_type": "display_data"
    }
   ],
   "source": [
    "print(\"Weighted sampling\\n\"+\"-\"*25)\n",
    "error_heatmap(M, Mhat, test)\n",
    "#residual_hist(M, Mhat, train, calib, test)"
   ]
  },
  {
   "cell_type": "code",
   "execution_count": 21,
   "id": "a0a197aa",
   "metadata": {},
   "outputs": [],
   "source": [
    "cpi = Conformal_PI(M, Mhat, train, calib, progress=True)"
   ]
  },
  {
   "cell_type": "code",
   "execution_count": 22,
   "id": "03d29cbc",
   "metadata": {
    "scrolled": true
   },
   "outputs": [],
   "source": [
    "test_idxs=np.where(test.flatten(order='C')==1)[0]"
   ]
  },
  {
   "cell_type": "code",
   "execution_count": 23,
   "id": "0a3067c9",
   "metadata": {},
   "outputs": [
    {
     "name": "stdout",
     "output_type": "stream",
     "text": [
      "Computing standard marginal prediction intervals for 1250 test points...\n"
     ]
    },
    {
     "name": "stderr",
     "output_type": "stream",
     "text": [
      "100%|█████████████████████████████████████████████████████████████████████████| 1250/1250 [00:00<00:00, 1215881.26it/s]\n"
     ]
    }
   ],
   "source": [
    "mpi = cpi.mPI(test_idxs, alpha)"
   ]
  },
  {
   "cell_type": "code",
   "execution_count": 24,
   "id": "cd8d288a",
   "metadata": {},
   "outputs": [
    {
     "data": {
      "text/html": [
       "<div>\n",
       "<style scoped>\n",
       "    .dataframe tbody tr th:only-of-type {\n",
       "        vertical-align: middle;\n",
       "    }\n",
       "\n",
       "    .dataframe tbody tr th {\n",
       "        vertical-align: top;\n",
       "    }\n",
       "\n",
       "    .dataframe thead th {\n",
       "        text-align: right;\n",
       "    }\n",
       "</style>\n",
       "<table border=\"1\" class=\"dataframe\">\n",
       "  <thead>\n",
       "    <tr style=\"text-align: right;\">\n",
       "      <th></th>\n",
       "      <th>Coverage</th>\n",
       "      <th>Size</th>\n",
       "    </tr>\n",
       "  </thead>\n",
       "  <tbody>\n",
       "    <tr>\n",
       "      <th>0</th>\n",
       "      <td>0.7288</td>\n",
       "      <td>0.007935</td>\n",
       "    </tr>\n",
       "  </tbody>\n",
       "</table>\n",
       "</div>"
      ],
      "text/plain": [
       "   Coverage      Size\n",
       "0    0.7288  0.007935"
      ]
     },
     "execution_count": 24,
     "metadata": {},
     "output_type": "execute_result"
    }
   ],
   "source": [
    "evaluate_PI(mpi, M[test==1])"
   ]
  },
  {
   "cell_type": "code",
   "execution_count": 35,
   "id": "866fb5f7",
   "metadata": {},
   "outputs": [],
   "source": [
    "w2 = np.ones(m*n)\n",
    "w2 /= np.sum(w2)"
   ]
  },
  {
   "cell_type": "code",
   "execution_count": 36,
   "id": "ccf25955",
   "metadata": {},
   "outputs": [],
   "source": [
    "test_sub_unif = np.random.choice(test_idxs, size=50)"
   ]
  },
  {
   "cell_type": "code",
   "execution_count": 46,
   "id": "eda4a612",
   "metadata": {
    "scrolled": true
   },
   "outputs": [
    {
     "name": "stdout",
     "output_type": "stream",
     "text": [
      "Computing weighted prediction intervals for 50 test points...\n"
     ]
    },
    {
     "name": "stderr",
     "output_type": "stream",
     "text": [
      "100%|██████████████████████████████████████████████████████████████████████████████████| 50/50 [13:24<00:00, 16.09s/it]\n"
     ]
    }
   ],
   "source": [
    "wpi=cpi.wPI(test_sub_unif, w, w2, alpha, allow_inf=False, log_base=\"auto\")"
   ]
  },
  {
   "cell_type": "code",
   "execution_count": 49,
   "id": "9348bf82",
   "metadata": {},
   "outputs": [
    {
     "data": {
      "text/html": [
       "<div>\n",
       "<style scoped>\n",
       "    .dataframe tbody tr th:only-of-type {\n",
       "        vertical-align: middle;\n",
       "    }\n",
       "\n",
       "    .dataframe tbody tr th {\n",
       "        vertical-align: top;\n",
       "    }\n",
       "\n",
       "    .dataframe thead th {\n",
       "        text-align: right;\n",
       "    }\n",
       "</style>\n",
       "<table border=\"1\" class=\"dataframe\">\n",
       "  <thead>\n",
       "    <tr style=\"text-align: right;\">\n",
       "      <th></th>\n",
       "      <th>Coverage</th>\n",
       "      <th>Size</th>\n",
       "    </tr>\n",
       "  </thead>\n",
       "  <tbody>\n",
       "    <tr>\n",
       "      <th>0</th>\n",
       "      <td>0.8</td>\n",
       "      <td>0.018732</td>\n",
       "    </tr>\n",
       "  </tbody>\n",
       "</table>\n",
       "</div>"
      ],
      "text/plain": [
       "   Coverage      Size\n",
       "0       0.8  0.018732"
      ]
     },
     "execution_count": 49,
     "metadata": {},
     "output_type": "execute_result"
    }
   ],
   "source": [
    "evaluate_PI(wpi, M.flatten(order=\"C\")[test_sub_unif])"
   ]
  },
  {
   "cell_type": "code",
   "execution_count": 48,
   "id": "734991ec",
   "metadata": {
    "scrolled": true
   },
   "outputs": [
    {
     "name": "stdout",
     "output_type": "stream",
     "text": [
      "Computing weighted prediction intervals for 50 test points...\n"
     ]
    },
    {
     "name": "stderr",
     "output_type": "stream",
     "text": [
      "100%|██████████████████████████████████████████████████████████████████████████████████| 50/50 [13:55<00:00, 16.71s/it]\n"
     ]
    }
   ],
   "source": [
    "wpi_inf=cpi.wPI(test_sub_unif, w, w2, alpha, allow_inf=True, log_base=\"auto\")"
   ]
  },
  {
   "cell_type": "code",
   "execution_count": 50,
   "id": "612e4f28",
   "metadata": {},
   "outputs": [
    {
     "data": {
      "text/html": [
       "<div>\n",
       "<style scoped>\n",
       "    .dataframe tbody tr th:only-of-type {\n",
       "        vertical-align: middle;\n",
       "    }\n",
       "\n",
       "    .dataframe tbody tr th {\n",
       "        vertical-align: top;\n",
       "    }\n",
       "\n",
       "    .dataframe thead th {\n",
       "        text-align: right;\n",
       "    }\n",
       "</style>\n",
       "<table border=\"1\" class=\"dataframe\">\n",
       "  <thead>\n",
       "    <tr style=\"text-align: right;\">\n",
       "      <th></th>\n",
       "      <th>Coverage</th>\n",
       "      <th>Size</th>\n",
       "    </tr>\n",
       "  </thead>\n",
       "  <tbody>\n",
       "    <tr>\n",
       "      <th>0</th>\n",
       "      <td>0.9</td>\n",
       "      <td>inf</td>\n",
       "    </tr>\n",
       "  </tbody>\n",
       "</table>\n",
       "</div>"
      ],
      "text/plain": [
       "   Coverage  Size\n",
       "0       0.9   inf"
      ]
     },
     "execution_count": 50,
     "metadata": {},
     "output_type": "execute_result"
    }
   ],
   "source": [
    "evaluate_PI(wpi_inf, M.flatten(order=\"C\")[test_sub_unif])"
   ]
  },
  {
   "cell_type": "code",
   "execution_count": 87,
   "id": "368a7c38",
   "metadata": {},
   "outputs": [],
   "source": [
    "non_inf= [i  for i in range(len(wpi_inf)) if wpi_inf[i]!=[-np.inf, np.inf]]"
   ]
  },
  {
   "cell_type": "code",
   "execution_count": 88,
   "id": "8d28268d",
   "metadata": {},
   "outputs": [
    {
     "data": {
      "text/html": [
       "<div>\n",
       "<style scoped>\n",
       "    .dataframe tbody tr th:only-of-type {\n",
       "        vertical-align: middle;\n",
       "    }\n",
       "\n",
       "    .dataframe tbody tr th {\n",
       "        vertical-align: top;\n",
       "    }\n",
       "\n",
       "    .dataframe thead th {\n",
       "        text-align: right;\n",
       "    }\n",
       "</style>\n",
       "<table border=\"1\" class=\"dataframe\">\n",
       "  <thead>\n",
       "    <tr style=\"text-align: right;\">\n",
       "      <th></th>\n",
       "      <th>Coverage</th>\n",
       "      <th>Size</th>\n",
       "    </tr>\n",
       "  </thead>\n",
       "  <tbody>\n",
       "    <tr>\n",
       "      <th>0</th>\n",
       "      <td>0.888889</td>\n",
       "      <td>0.018158</td>\n",
       "    </tr>\n",
       "  </tbody>\n",
       "</table>\n",
       "</div>"
      ],
      "text/plain": [
       "   Coverage      Size\n",
       "0  0.888889  0.018158"
      ]
     },
     "execution_count": 88,
     "metadata": {},
     "output_type": "execute_result"
    }
   ],
   "source": [
    "evaluate_PI(np.array(wpi_inf)[non_inf], M.flatten(order=\"C\")[test_sub_unif][non_inf])"
   ]
  },
  {
   "cell_type": "markdown",
   "id": "0a07862c",
   "metadata": {},
   "source": [
    "## Experiments\n",
    "\n",
    "We conduct some experiments with the toy models and compute the conformal prediction intervals for test points with the simplest scores based on estimation residuals for both exchangeble settings and covariate shift settings."
   ]
  },
  {
   "cell_type": "markdown",
   "id": "6d615080",
   "metadata": {},
   "source": [
    "### Experiment 1: Fixing M, resample train, test, calib sets"
   ]
  },
  {
   "cell_type": "code",
   "execution_count": 35,
   "id": "bd4b34e8",
   "metadata": {},
   "outputs": [],
   "source": [
    "def run_single_experiment(M, train_mask, test_mask, calib_mask, alpha, r= None, verbose=True, random_state=0):\n",
    "    # Sanity check\n",
    "    assert all(((train_mask + test_mask + calib_mask) <= 1).flatten()),\\\n",
    "           'Found error in sampling process, make sure splitted sets are disjoint'\n",
    "        \n",
    "    Mhat, U, VT = pmf_solve(M, train_mask, k=r, verbose=verbose, random_state=random_state)\n",
    "    cpi = Conformal_PI()\n",
    "    PI = cpi.marginal_PI(calib_mask, test_mask, M, Mhat, alpha)\n",
    "    calib_mse = evaluate_mse(M, Mhat, calib_mask)\n",
    "    train_mse = evaluate_mse(M, Mhat, train_mask)\n",
    "    test_mse = evaluate_mse(M, Mhat, test_mask)\n",
    "    \n",
    "    results = evaluate_PI(PI, M[np.where(test_mask == 1)])\n",
    "    results['Calib_MSE'] = [calib_mse]\n",
    "    results['Train_MSE'] = [train_mse]\n",
    "    results['Test_MSE'] = [test_mse]\n",
    "    results['Alpha'] = [alpha]\n",
    "    results['Seed'] = [random_state]\n",
    "    results['Calib_size'] = [np.sum(calib_mask)]\n",
    "    results['Train_size'] = [np.sum(train_mask)]\n",
    "    \n",
    "    # If the true rank or an estimation is given, approximate the minimal sufficient sample size \n",
    "    # for exact coverage.\n",
    "    if r:\n",
    "        results['Theory_size'] = [theoretical_bound(M.shape[0], M.shape[1], r, C=1)]\n",
    "    return results"
   ]
  },
  {
   "cell_type": "code",
   "execution_count": 36,
   "id": "7f40cfe8",
   "metadata": {},
   "outputs": [],
   "source": [
    "# Define experiment parameters\n",
    "m, n, r = 100,100,8\n",
    "prop_obs = 0.6\n",
    "alpha = 0.1\n",
    "repetition = 1"
   ]
  },
  {
   "cell_type": "code",
   "execution_count": 37,
   "id": "5cd02393",
   "metadata": {},
   "outputs": [
    {
     "data": {
      "text/plain": [
       "11651.0"
      ]
     },
     "execution_count": 37,
     "metadata": {},
     "output_type": "execute_result"
    }
   ],
   "source": [
    "theoretical_bound(m, n, r, C=1)"
   ]
  },
  {
   "cell_type": "code",
   "execution_count": 38,
   "id": "c28fcdd1",
   "metadata": {},
   "outputs": [
    {
     "name": "stdout",
     "output_type": "stream",
     "text": [
      "Fixing the ground truth matrix generated from the noiseless random orthogonal model.\n",
      "\n"
     ]
    },
    {
     "name": "stderr",
     "output_type": "stream",
     "text": [
      "100%|████████████████████████████████████████████████████████████████████████████████████| 1/1 [00:00<00:00, 12.07it/s]\n"
     ]
    }
   ],
   "source": [
    "print('Fixing the ground truth matrix generated from the noiseless random orthogonal model.\\n')\n",
    "RFM = RandomFactorizationModel(m ,n, r)\n",
    "U, V, M = RFM.sample_noiseless(random_state)\n",
    "results = pd.DataFrame({})\n",
    "\n",
    "for i in tqdm(range(repetition)):\n",
    "    random_state = i\n",
    "    # Generate missing samples\n",
    "    sampler = RandomSampling(m, n)\n",
    "    obs = sampler.sample_observed(prop_obs, random_state=random_state)\n",
    "    test = np.ones_like(obs) - obs\n",
    "    train, calib = sampler.sample_train_calib(obs, prob_calib=0.2, \n",
    "                                            random_state = random_state)\n",
    "    assert np.sum(train+calib==obs) == m*n,'Sampling error!'\n",
    "    \n",
    "    res = run_single_experiment(M, train, test, calib, \n",
    "                                alpha, r = r, verbose=False, random_state=random_state)\n",
    "    \n",
    "    results = pd.concat([results, res])"
   ]
  },
  {
   "cell_type": "code",
   "execution_count": 39,
   "id": "5c126574",
   "metadata": {},
   "outputs": [
    {
     "name": "stdout",
     "output_type": "stream",
     "text": [
      "Uniform sampling\n",
      "-------------------------\n",
      "Test size is 4000, calibration size is 1200, training size is 4800, theoretical minimum training size is 11651.0\n"
     ]
    },
    {
     "data": {
      "image/png": "[encoded data removed]",
      "text/plain": [
       "<Figure size 1000x400 with 2 Axes>"
      ]
     },
     "metadata": {},
     "output_type": "display_data"
    }
   ],
   "source": [
    "print(\"Uniform sampling\\n\"+\"-\"*25)\n",
    "print('Test size is {}, calibration size is {}, training size is {}, theoretical minimum training size is {}'\\\n",
    "      .format(np.sum(test), results['Calib_size'].iloc[0], \n",
    "              results['Train_size'].iloc[0], results['Theory_size'].iloc[0]))\n",
    "\n",
    "fig, (ax1, ax2) = plt.subplots(1,2, figsize=(10,4))\n",
    "sns.boxplot(y=\"Coverage\", data=results, ax=ax1)\n",
    "ax1.set(ylabel='Coverage')\n",
    "ax1.axhline(1-alpha, ls='--', color=\"red\")\n",
    "\n",
    "sns.boxplot(y=\"Size\", data=results, ax=ax2)\n",
    "ax2.set(ylabel='Size')\n",
    "plt.show()"
   ]
  },
  {
   "cell_type": "code",
   "execution_count": 1,
   "id": "bc3e574a",
   "metadata": {},
   "outputs": [
    {
     "ename": "NameError",
     "evalue": "name 'np' is not defined",
     "output_type": "error",
     "traceback": [
      "\u001b[1;31m---------------------------------------------------------------------------\u001b[0m",
      "\u001b[1;31mNameError\u001b[0m                                 Traceback (most recent call last)",
      "Cell \u001b[1;32mIn[1], line 6\u001b[0m\n\u001b[0;32m      1\u001b[0m \u001b[38;5;66;03m# define the weights\u001b[39;00m\n\u001b[0;32m      2\u001b[0m \u001b[38;5;66;03m# spatially determined weights, lower half of the indexes are more likely to\u001b[39;00m\n\u001b[0;32m      3\u001b[0m \u001b[38;5;66;03m# be observed, for instance, a database with data ranked from oldest to newest\u001b[39;00m\n\u001b[0;32m      4\u001b[0m \u001b[38;5;66;03m# and newer data are comprehensive. \u001b[39;00m\n\u001b[0;32m      5\u001b[0m scale \u001b[38;5;241m=\u001b[39m \u001b[38;5;241m1.2\u001b[39m\n\u001b[1;32m----> 6\u001b[0m w \u001b[38;5;241m=\u001b[39m \u001b[43mnp\u001b[49m\u001b[38;5;241m.\u001b[39marange(\u001b[38;5;241m1\u001b[39m, m\u001b[38;5;241m*\u001b[39mn\u001b[38;5;241m+\u001b[39m\u001b[38;5;241m1\u001b[39m)\u001b[38;5;241m*\u001b[39m\u001b[38;5;241m*\u001b[39mscale\u001b[38;5;241m/\u001b[39m(m\u001b[38;5;241m*\u001b[39mn)\n\u001b[0;32m      7\u001b[0m w \u001b[38;5;241m=\u001b[39m w\u001b[38;5;241m/\u001b[39m\u001b[38;5;28mmax\u001b[39m(w)\n\u001b[0;32m      8\u001b[0m \u001b[38;5;28;01massert\u001b[39;00m \u001b[38;5;28mall\u001b[39m(w \u001b[38;5;241m>\u001b[39m\u001b[38;5;241m=\u001b[39m \u001b[38;5;241m0\u001b[39m), \u001b[38;5;124m'\u001b[39m\u001b[38;5;124mError in weights generation!\u001b[39m\u001b[38;5;124m'\u001b[39m\n",
      "\u001b[1;31mNameError\u001b[0m: name 'np' is not defined"
     ]
    }
   ],
   "source": [
    "# define the weights\n",
    "# spatially determined weights, lower half of the indexes are more likely to\n",
    "# be observed, for instance, a database with data ranked from oldest to newest\n",
    "# and newer data are comprehensive. \n",
    "scale = 1.2\n",
    "w = np.arange(1, m*n+1)**scale/(m*n)\n",
    "w = w/max(w)\n",
    "assert all(w >= 0), 'Error in weights generation!'"
   ]
  },
  {
   "cell_type": "code",
   "execution_count": 41,
   "id": "d99948e1",
   "metadata": {},
   "outputs": [
    {
     "name": "stderr",
     "output_type": "stream",
     "text": [
      "100%|████████████████████████████████████████████████████████████████████████████████████| 1/1 [00:00<00:00,  8.98it/s]\n"
     ]
    }
   ],
   "source": [
    "results_w = pd.DataFrame({})\n",
    "\n",
    "for i in tqdm(range(repetition)):\n",
    "    random_state = i\n",
    "    \n",
    "    # Generate missing samples\n",
    "    sampler = RandomSampling(m, n)\n",
    "    obs = sampler.sample_observed(prop_obs, w=w, random_state=random_state)\n",
    "    test = np.ones_like(obs) - obs\n",
    "    train, calib = sampler.sample_train_calib(obs, prob_calib=0.2, \n",
    "                                                random_state = random_state)\n",
    "    assert np.sum(train+calib==obs) == m*n,'Sampling error!'\n",
    "    \n",
    "    res = run_single_experiment(M, train, test, calib, \n",
    "                                alpha, r = r, verbose=False, random_state=random_state)\n",
    "    \n",
    "    results_w = pd.concat([results_w, res])"
   ]
  },
  {
   "cell_type": "code",
   "execution_count": 42,
   "id": "bd375403",
   "metadata": {},
   "outputs": [
    {
     "name": "stdout",
     "output_type": "stream",
     "text": [
      "Weighted sampling\n",
      "-------------------------\n",
      "Test size is 4000, calibration size is 1200, training size is 4800, theoretical minimum training size is 11651.0\n"
     ]
    },
    {
     "data": {
      "image/png": "[encoded data removed]",
      "text/plain": [
       "<Figure size 1000x400 with 2 Axes>"
      ]
     },
     "metadata": {},
     "output_type": "display_data"
    }
   ],
   "source": [
    "print(\"Weighted sampling\\n\"+\"-\"*25)\n",
    "print('Test size is {}, calibration size is {}, training size is {}, theoretical minimum training size is {}'\\\n",
    "      .format(np.sum(test), results_w['Calib_size'].iloc[0], \n",
    "              results_w['Train_size'].iloc[0], results_w['Theory_size'].iloc[0]))\n",
    "\n",
    "fig, (ax1, ax2) = plt.subplots(1,2, figsize=(10,4))\n",
    "sns.boxplot(y=\"Coverage\", data=results_w, ax=ax1)\n",
    "ax1.set(ylabel='Coverage')\n",
    "ax1.axhline(1-alpha, ls='--', color=\"red\")\n",
    "\n",
    "sns.boxplot(y=\"Size\", data=results_w, ax=ax2)\n",
    "ax2.set(ylabel='Size')\n",
    "plt.show()"
   ]
  },
  {
   "cell_type": "code",
   "execution_count": 43,
   "id": "afd4886e",
   "metadata": {},
   "outputs": [
    {
     "data": {
      "text/html": [
       "<div>\n",
       "<style scoped>\n",
       "    .dataframe tbody tr th:only-of-type {\n",
       "        vertical-align: middle;\n",
       "    }\n",
       "\n",
       "    .dataframe tbody tr th {\n",
       "        vertical-align: top;\n",
       "    }\n",
       "\n",
       "    .dataframe thead th {\n",
       "        text-align: right;\n",
       "    }\n",
       "</style>\n",
       "<table border=\"1\" class=\"dataframe\">\n",
       "  <thead>\n",
       "    <tr style=\"text-align: right;\">\n",
       "      <th></th>\n",
       "      <th>Coverage</th>\n",
       "      <th>Size</th>\n",
       "      <th>Calib_MSE</th>\n",
       "      <th>Train_MSE</th>\n",
       "      <th>Test_MSE</th>\n",
       "      <th>Alpha</th>\n",
       "      <th>Seed</th>\n",
       "      <th>Calib_size</th>\n",
       "      <th>Train_size</th>\n",
       "      <th>Theory_size</th>\n",
       "    </tr>\n",
       "  </thead>\n",
       "  <tbody>\n",
       "    <tr>\n",
       "      <th>0</th>\n",
       "      <td>0.6295</td>\n",
       "      <td>0.005094</td>\n",
       "      <td>0.017938</td>\n",
       "      <td>0.000004</td>\n",
       "      <td>0.680328</td>\n",
       "      <td>0.1</td>\n",
       "      <td>0</td>\n",
       "      <td>1200</td>\n",
       "      <td>4800</td>\n",
       "      <td>11651.0</td>\n",
       "    </tr>\n",
       "  </tbody>\n",
       "</table>\n",
       "</div>"
      ],
      "text/plain": [
       "   Coverage      Size  Calib_MSE  Train_MSE  Test_MSE  Alpha  Seed  \\\n",
       "0    0.6295  0.005094   0.017938   0.000004  0.680328    0.1     0   \n",
       "\n",
       "   Calib_size  Train_size  Theory_size  \n",
       "0        1200        4800      11651.0  "
      ]
     },
     "execution_count": 43,
     "metadata": {},
     "output_type": "execute_result"
    }
   ],
   "source": [
    "results_w"
   ]
  },
  {
   "cell_type": "code",
   "execution_count": 44,
   "id": "a6a88ec4",
   "metadata": {},
   "outputs": [
    {
     "data": {
      "text/html": [
       "<div>\n",
       "<style scoped>\n",
       "    .dataframe tbody tr th:only-of-type {\n",
       "        vertical-align: middle;\n",
       "    }\n",
       "\n",
       "    .dataframe tbody tr th {\n",
       "        vertical-align: top;\n",
       "    }\n",
       "\n",
       "    .dataframe thead th {\n",
       "        text-align: right;\n",
       "    }\n",
       "</style>\n",
       "<table border=\"1\" class=\"dataframe\">\n",
       "  <thead>\n",
       "    <tr style=\"text-align: right;\">\n",
       "      <th></th>\n",
       "      <th>Coverage</th>\n",
       "      <th>Size</th>\n",
       "      <th>Calib_MSE</th>\n",
       "      <th>Train_MSE</th>\n",
       "      <th>Test_MSE</th>\n",
       "      <th>Alpha</th>\n",
       "      <th>Seed</th>\n",
       "      <th>Calib_size</th>\n",
       "      <th>Train_size</th>\n",
       "      <th>Theory_size</th>\n",
       "    </tr>\n",
       "  </thead>\n",
       "  <tbody>\n",
       "    <tr>\n",
       "      <th>0</th>\n",
       "      <td>0.888</td>\n",
       "      <td>0.003361</td>\n",
       "      <td>0.000001</td>\n",
       "      <td>4.592818e-07</td>\n",
       "      <td>0.000001</td>\n",
       "      <td>0.1</td>\n",
       "      <td>0</td>\n",
       "      <td>1200</td>\n",
       "      <td>4800</td>\n",
       "      <td>11651.0</td>\n",
       "    </tr>\n",
       "  </tbody>\n",
       "</table>\n",
       "</div>"
      ],
      "text/plain": [
       "   Coverage      Size  Calib_MSE     Train_MSE  Test_MSE  Alpha  Seed  \\\n",
       "0     0.888  0.003361   0.000001  4.592818e-07  0.000001    0.1     0   \n",
       "\n",
       "   Calib_size  Train_size  Theory_size  \n",
       "0        1200        4800      11651.0  "
      ]
     },
     "execution_count": 44,
     "metadata": {},
     "output_type": "execute_result"
    }
   ],
   "source": [
    "results"
   ]
  },
  {
   "cell_type": "code",
   "execution_count": 22,
   "id": "4f19f2fb",
   "metadata": {},
   "outputs": [
    {
     "data": {
      "text/plain": [
       "3.141592653589793"
      ]
     },
     "execution_count": 22,
     "metadata": {},
     "output_type": "execute_result"
    }
   ],
   "source": [
    "pi"
   ]
  },
  {
   "cell_type": "code",
   "execution_count": 23,
   "id": "8cd92a2f",
   "metadata": {},
   "outputs": [
    {
     "data": {
      "text/plain": [
       "array([[-2.31604583e+00,  1.73086983e+00,  4.38901823e+00, ...,\n",
       "        -7.57477625e-01,  4.77323622e-01,  6.99327997e-01],\n",
       "       [ 4.63597714e+00, -1.81767364e+00, -4.22699855e+00, ...,\n",
       "         7.92808645e-02, -9.65623223e-01, -3.49146943e+00],\n",
       "       [-2.55494784e+00,  2.27018941e+00,  3.24836754e+00, ...,\n",
       "        -1.29311355e+00,  1.54582001e+00,  4.19514550e+00],\n",
       "       ...,\n",
       "       [-2.37784070e+00, -1.54603636e+00, -3.19085817e-01, ...,\n",
       "         1.52083556e+00,  1.69431206e-01, -2.37578154e+00],\n",
       "       [ 8.25615910e-01, -1.56191716e+00, -1.74540872e+00, ...,\n",
       "         1.65648662e-01, -1.96658456e+00, -9.38872595e-01],\n",
       "       [ 3.57050932e+00,  4.76401516e-04, -4.01477644e-01, ...,\n",
       "        -1.20371930e+00, -1.87739472e+00, -1.34023006e+00]])"
      ]
     },
     "execution_count": 23,
     "metadata": {},
     "output_type": "execute_result"
    }
   ],
   "source": [
    "Mhat"
   ]
  },
  {
   "cell_type": "code",
   "execution_count": null,
   "id": "f7258688",
   "metadata": {},
   "outputs": [],
   "source": []
  }
 ],
 "metadata": {
  "kernelspec": {
   "display_name": "Python 3 (ipykernel)",
   "language": "python",
   "name": "python3"
  },
  "language_info": {
   "codemirror_mode": {
    "name": "ipython",
    "version": 3
   },
   "file_extension": ".py",
   "mimetype": "text/x-python",
   "name": "python",
   "nbconvert_exporter": "python",
   "pygments_lexer": "ipython3",
   "version": "3.10.9"
  }
 },
 "nbformat": 4,
 "nbformat_minor": 5
}
