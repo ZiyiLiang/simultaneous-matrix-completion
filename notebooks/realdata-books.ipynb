{
 "cells": [
  {
   "cell_type": "code",
   "execution_count": 1,
   "id": "b05ddccc",
   "metadata": {},
   "outputs": [],
   "source": [
    "%matplotlib inline\n",
    "%load_ext autoreload\n",
    "%autoreload 2\n",
    "\n",
    "import sys, os\n",
    "sys.path.append('../smc')\n",
    "sys.path.append('../third_party')"
   ]
  },
  {
   "cell_type": "code",
   "execution_count": 45,
   "id": "d91c0ec0",
   "metadata": {
    "scrolled": false
   },
   "outputs": [],
   "source": [
    "import numpy as np   \n",
    "import pandas as pd\n",
    "import pdb\n",
    "import matplotlib.pyplot as plt\n",
    "import scipy.stats as stats\n",
    "import seaborn as sns\n",
    "from tqdm import tqdm\n",
    "import sys\n",
    "import time\n",
    "\n",
    "from utils import *     # contains some useful helper functions \n",
    "from utils_data import *\n",
    "from models import *    # toy models\n",
    "from solvers import *   # matrix completion solvers\n",
    "from methods import *\n",
    "from wsc import *\n",
    "from missingness_estimation import *"
   ]
  },
  {
   "cell_type": "code",
   "execution_count": 28,
   "id": "f8bf4a92",
   "metadata": {},
   "outputs": [],
   "source": [
    "M, mask_avail, mask_miss = load_data(\"../data\", \"books\", -1, 2500)"
   ]
  },
  {
   "cell_type": "code",
   "execution_count": 40,
   "id": "b576718a",
   "metadata": {},
   "outputs": [],
   "source": [
    "# Matrix shape and rank\n",
    "n1, n2 = M.shape\n",
    "k = 4\n",
    "r = 5\n",
    "prop_train = 0.90\n",
    "allow_inf = False\n",
    "alpha = 0.1\n",
    "random_state=0"
   ]
  },
  {
   "cell_type": "code",
   "execution_count": 41,
   "id": "0df6bbaf",
   "metadata": {},
   "outputs": [
    {
     "data": {
      "text/plain": [
       "1.7057291666666665"
      ]
     },
     "execution_count": 41,
     "metadata": {},
     "output_type": "execute_result"
    }
   ],
   "source": [
    "n1*n2/1200/800"
   ]
  },
  {
   "cell_type": "code",
   "execution_count": 42,
   "id": "632d867f",
   "metadata": {},
   "outputs": [],
   "source": [
    "max_test_queries = 100\n",
    "sampler = QuerySampling(n1,n2)\n",
    "\n",
    "# Randomly split the observed set into test set and training set\n",
    "mask_obs, mask_test = sampler.sample_submask(mask=mask_avail, sub_size=prop_train, random_state=random_state)\n",
    "\n",
    "# Sample test queries\n",
    "n_test_queries = min(np.sum(np.sum(mask_test, axis=1) // k), max_test_queries)\n",
    "_, idxs_test, _ = sampler.sample_train_calib(mask_test, k, calib_size=n_test_queries, random_state=random_state)"
   ]
  },
  {
   "cell_type": "code",
   "execution_count": 43,
   "id": "68076528",
   "metadata": {},
   "outputs": [
    {
     "name": "stdout",
     "output_type": "stream",
     "text": [
      "Observation size: 26181, training size: 22981,  calib queries: 800, test queries: 100\n"
     ]
    }
   ],
   "source": [
    "max_calib_queries = 800\n",
    "n_calib_queries = min(int(0.5 * np.sum(np.sum(mask_obs, axis=1) // k)), max_calib_queries)\n",
    "mask_train, idxs_calib, mask_calib = sampler.sample_train_calib(mask_obs, k, \n",
    "                                        calib_size=n_calib_queries, random_state=random_state)\n",
    "\n",
    "print(\"Observation size: {}, training size: {},  calib queries: {}, test queries: {}\"\n",
    "      .format(np.sum(mask_obs), np.sum(mask_train), int(np.sum(mask_calib)//k), len(idxs_test[0])//k))"
   ]
  },
  {
   "cell_type": "code",
   "execution_count": 44,
   "id": "050c3af1",
   "metadata": {
    "scrolled": true
   },
   "outputs": [
    {
     "name": "stdout",
     "output_type": "stream",
     "text": [
      "Iteration: 1; Mean diff: 0.0089\n",
      "Iteration: 2; Mean diff: 0.0062\n",
      "Iteration: 3; Mean diff: 0.0053\n",
      "Iteration: 4; Mean diff: 0.0032\n",
      "Iteration: 5; Mean diff: 0.0015\n",
      "Iteration: 6; Mean diff: 0.0007\n",
      "Iteration: 7; Mean diff: 0.0005\n",
      "Iteration: 8; Mean diff: 0.0004\n",
      "Iteration: 9; Mean diff: 0.0003\n",
      "Iteration: 10; Mean diff: 0.0003\n"
     ]
    }
   ],
   "source": [
    "# Train matrix completion model\n",
    "Mhat, _, _ = pmf_solve(M, mask_train, k=r, max_iteration=10, random_state=random_state)"
   ]
  },
  {
   "cell_type": "code",
   "execution_count": 46,
   "id": "25c9a845",
   "metadata": {
    "scrolled": true
   },
   "outputs": [
    {
     "name": "stdout",
     "output_type": "stream",
     "text": [
      "iter: 1\n",
      "iter: 2\n",
      "iter: 3\n",
      "iter: 4\n",
      "iter: 5\n",
      "iter: 6\n",
      "iter: 7\n",
      "iter: 8\n",
      "iter: 9\n",
      "iter: 10\n",
      "iter: 11\n",
      "Function value changing by less than progTol\n"
     ]
    }
   ],
   "source": [
    "w_obs=estimate_P(mask_train, prop_train, r=5)"
   ]
  },
  {
   "cell_type": "code",
   "execution_count": 47,
   "id": "0c6cd199",
   "metadata": {},
   "outputs": [
    {
     "name": "stdout",
     "output_type": "stream",
     "text": [
      "Computing conformal prediction intervals for 100 test queries...\n"
     ]
    },
    {
     "name": "stderr",
     "output_type": "stream",
     "text": [
      "CI: 100%|████████████████████████████████████████████████████████████████████████████| 100/100 [00:03<00:00, 26.82it/s]"
     ]
    },
    {
     "name": "stdout",
     "output_type": "stream",
     "text": [
      "Done!\n"
     ]
    },
    {
     "name": "stderr",
     "output_type": "stream",
     "text": [
      "\n"
     ]
    }
   ],
   "source": [
    "ci_method = SimulCI(M, Mhat, mask_obs, idxs_calib, k, w_obs=w_obs)\n",
    "df = ci_method.get_CI(idxs_test, alpha, allow_inf=allow_inf)\n",
    "lower, upper, is_inf= df.loc[0].lower, df.loc[0].upper, df.loc[0].is_inf\n",
    "lower[lower <= 0] = 0\n",
    "upper[upper >= 5] = 5\n",
    "res = evaluate_SCI(lower, upper, k, M, idxs_test, is_inf=is_inf, method=\"SMC\")"
   ]
  },
  {
   "cell_type": "code",
   "execution_count": 48,
   "id": "aea8fa51",
   "metadata": {},
   "outputs": [
    {
     "name": "stdout",
     "output_type": "stream",
     "text": [
      "Observation size: 26181, training size: 22981, calib size: 3200, test queries: 100\n"
     ]
    }
   ],
   "source": [
    "mask_train, idxs_calib, mask_calib = sampler.sample_train_calib(mask_obs, 1, \n",
    "                                        calib_size=n_calib_queries*k, random_state=random_state)\n",
    "\n",
    "print(\"Observation size: {}, training size: {}, calib size: {}, test queries: {}\"\n",
    "      .format(np.sum(mask_obs), np.sum(mask_train), np.sum(mask_calib), len(idxs_test[0])//k))"
   ]
  },
  {
   "cell_type": "code",
   "execution_count": 49,
   "id": "fd7e2e49",
   "metadata": {
    "scrolled": true
   },
   "outputs": [
    {
     "name": "stdout",
     "output_type": "stream",
     "text": [
      "Iteration: 1; Mean diff: 0.0077\n",
      "Iteration: 2; Mean diff: 0.0053\n",
      "Iteration: 3; Mean diff: 0.0055\n",
      "Iteration: 4; Mean diff: 0.0037\n",
      "Iteration: 5; Mean diff: 0.0017\n",
      "Iteration: 6; Mean diff: 0.0008\n",
      "Iteration: 7; Mean diff: 0.0005\n",
      "Iteration: 8; Mean diff: 0.0004\n",
      "Iteration: 9; Mean diff: 0.0003\n",
      "Iteration: 10; Mean diff: 0.0003\n",
      "706.5517158508301\n"
     ]
    }
   ],
   "source": [
    "start=time.time()\n",
    "# Train matrix completion model\n",
    "Mhat, _, _ = pmf_solve(M, mask_train, k=r, max_iteration=10, random_state=random_state)\n",
    "print(time.time()-start)"
   ]
  },
  {
   "cell_type": "code",
   "execution_count": 50,
   "id": "6b3e7904",
   "metadata": {},
   "outputs": [
    {
     "name": "stdout",
     "output_type": "stream",
     "text": [
      "Computing Bonferroni-style intervals for 100 test queries...\n"
     ]
    },
    {
     "name": "stderr",
     "output_type": "stream",
     "text": [
      "CI: 100%|████████████████████████████████████████████████████████████████████████████| 400/400 [00:37<00:00, 10.70it/s]"
     ]
    },
    {
     "name": "stdout",
     "output_type": "stream",
     "text": [
      "Done!\n"
     ]
    },
    {
     "name": "stderr",
     "output_type": "stream",
     "text": [
      "\n"
     ]
    }
   ],
   "source": [
    "a_list = [alpha, alpha * k]\n",
    "ci_method = Bonf_benchmark(M, Mhat, mask_obs, idxs_calib, k, w_obs=w_obs)\n",
    "df = ci_method.get_CI(idxs_test, a_list, allow_inf=allow_inf)\n",
    "for i, m in enumerate([\"Bonferroni\", \"Uncorrected\"]):\n",
    "    lower, upper, is_inf= df.loc[i].lower, df.loc[i].upper, df.loc[i].is_inf\n",
    "    lower[lower <= 0] = 0\n",
    "    upper[upper >= 5] = 5\n",
    "    res = pd.concat([res, evaluate_SCI(lower, upper, k, M, idxs_test, is_inf=is_inf, method=m)])"
   ]
  },
  {
   "cell_type": "code",
   "execution_count": 51,
   "id": "5855bb0e",
   "metadata": {},
   "outputs": [
    {
     "data": {
      "text/html": [
       "<div>\n",
       "<style scoped>\n",
       "    .dataframe tbody tr th:only-of-type {\n",
       "        vertical-align: middle;\n",
       "    }\n",
       "\n",
       "    .dataframe tbody tr th {\n",
       "        vertical-align: top;\n",
       "    }\n",
       "\n",
       "    .dataframe thead th {\n",
       "        text-align: right;\n",
       "    }\n",
       "</style>\n",
       "<table border=\"1\" class=\"dataframe\">\n",
       "  <thead>\n",
       "    <tr style=\"text-align: right;\">\n",
       "      <th></th>\n",
       "      <th>Query_coverage</th>\n",
       "      <th>Coverage</th>\n",
       "      <th>Size</th>\n",
       "      <th>Inf_prop</th>\n",
       "      <th>Method</th>\n",
       "    </tr>\n",
       "  </thead>\n",
       "  <tbody>\n",
       "    <tr>\n",
       "      <th>0</th>\n",
       "      <td>0.83</td>\n",
       "      <td>0.9425</td>\n",
       "      <td>4.008431</td>\n",
       "      <td>0.0</td>\n",
       "      <td>SMC</td>\n",
       "    </tr>\n",
       "    <tr>\n",
       "      <th>0</th>\n",
       "      <td>0.97</td>\n",
       "      <td>0.9900</td>\n",
       "      <td>4.891472</td>\n",
       "      <td>0.0</td>\n",
       "      <td>Bonferroni</td>\n",
       "    </tr>\n",
       "    <tr>\n",
       "      <th>0</th>\n",
       "      <td>0.81</td>\n",
       "      <td>0.9375</td>\n",
       "      <td>3.684268</td>\n",
       "      <td>0.0</td>\n",
       "      <td>Uncorrected</td>\n",
       "    </tr>\n",
       "  </tbody>\n",
       "</table>\n",
       "</div>"
      ],
      "text/plain": [
       "   Query_coverage  Coverage      Size  Inf_prop       Method\n",
       "0            0.83    0.9425  4.008431       0.0          SMC\n",
       "0            0.97    0.9900  4.891472       0.0   Bonferroni\n",
       "0            0.81    0.9375  3.684268       0.0  Uncorrected"
      ]
     },
     "execution_count": 51,
     "metadata": {},
     "output_type": "execute_result"
    }
   ],
   "source": [
    "res"
   ]
  },
  {
   "cell_type": "code",
   "execution_count": null,
   "id": "5d054750",
   "metadata": {},
   "outputs": [],
   "source": []
  }
 ],
 "metadata": {
  "kernelspec": {
   "display_name": "Python 3 (ipykernel)",
   "language": "python",
   "name": "python3"
  },
  "language_info": {
   "codemirror_mode": {
    "name": "ipython",
    "version": 3
   },
   "file_extension": ".py",
   "mimetype": "text/x-python",
   "name": "python",
   "nbconvert_exporter": "python",
   "pygments_lexer": "ipython3",
   "version": "3.10.9"
  }
 },
 "nbformat": 4,
 "nbformat_minor": 5
}
