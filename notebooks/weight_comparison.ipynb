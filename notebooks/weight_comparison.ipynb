{
 "cells": [
  {
   "cell_type": "code",
   "execution_count": 142,
   "id": "fde02e4e",
   "metadata": {},
   "outputs": [
    {
     "name": "stdout",
     "output_type": "stream",
     "text": [
      "The autoreload extension is already loaded. To reload it, use:\n",
      "  %reload_ext autoreload\n"
     ]
    }
   ],
   "source": [
    "%matplotlib inline\n",
    "%load_ext autoreload\n",
    "%autoreload 2\n",
    "\n",
    "import sys, os\n",
    "sys.path.append('../cmc')\n",
    "sys.path.append('../third_party')"
   ]
  },
  {
   "cell_type": "code",
   "execution_count": 143,
   "id": "82472563",
   "metadata": {},
   "outputs": [],
   "source": [
    "import numpy as np   \n",
    "import pandas as pd\n",
    "import pdb\n",
    "import math\n",
    "import matplotlib.pyplot as plt\n",
    "import seaborn as sns\n",
    "import scipy \n",
    "from tqdm import tqdm\n",
    "from time import time"
   ]
  },
  {
   "cell_type": "code",
   "execution_count": 144,
   "id": "a9c9be63",
   "metadata": {},
   "outputs": [],
   "source": [
    "from utils import *     # contains some useful helper functions \n",
    "from models import *    # toy models\n",
    "from solvers import *   # matrix completion solvers\n",
    "from methods import *  \n",
    "from wsc import *\n",
    "\n",
    "# load third_party functions \n",
    "from noisy_CI import *\n",
    "\n",
    "from gcimpute.gaussian_copula import GaussianCopula\n",
    "from gcimpute.low_rank_gaussian_copula import LowRankGaussianCopula"
   ]
  },
  {
   "cell_type": "code",
   "execution_count": 169,
   "id": "4db7c8b7",
   "metadata": {},
   "outputs": [],
   "source": [
    "def gen_P(d1, d2, het, pr):\n",
    "    # missingness pattern\n",
    "    if het=='rank1':\n",
    "        # rank-1 structure\n",
    "        lo_p = 0.3\n",
    "        up_p = 0.9\n",
    "        u = np.random.uniform(lo_p,up_p,d1).reshape((d1,1))\n",
    "        v = np.random.uniform(lo_p,up_p,d2).reshape((d2,1))\n",
    "        P = u @ v.T\n",
    "    elif het == 'logis1':\n",
    "        L = 0.5\n",
    "        k_p = 5\n",
    "        u = L*np.random.uniform(0,2,d1*k_p).reshape((d1,k_p))\n",
    "        v = L*np.random.uniform(-1,1,d2*k_p).reshape((d2,k_p))\n",
    "        AA = u @ v.T\n",
    "        P = 1/(1+np.exp(-AA))\n",
    "    elif het == 'logis2':\n",
    "        L = 0.5\n",
    "        k_l = 1\n",
    "        u = L*np.random.uniform(0,2,d1*k_l).reshape((d1,k_l))\n",
    "        v = L*np.random.uniform(-1,1,d2*k_l).reshape((d2,k_l))\n",
    "        AA = u@v.T\n",
    "        P = 1/(1+np.exp(-AA))\n",
    "    elif het == 'homo':\n",
    "        P = pr * np.ones((d1,d2))\n",
    "    return P"
   ]
  },
  {
   "cell_type": "code",
   "execution_count": 281,
   "id": "67800f1f",
   "metadata": {},
   "outputs": [],
   "source": [
    "def get_weights(p, calib_mask, test_mask):\n",
    "    calib_idxs = np.where(calib_mask.flatten(order='C')== 1)[0]\n",
    "    test_idxs = np.where(test_mask.flatten(order='C')== 1)[0]\n",
    "    n_test = len(test_idxs)\n",
    "    \n",
    "    p = p.flatten(order='C')\n",
    "    odd_ratio = (1-p)/p\n",
    "    \n",
    "    weights = np.tile(odd_ratio[calib_idxs], (n_test, 1))\n",
    "    weights = np.concatenate([weights, odd_ratio[test_idxs].reshape(n_test,1)], axis=1)\n",
    "    weights /= np.sum(weights,axis=1).reshape((n_test,1))\n",
    "    \n",
    "    return weights\n",
    "\n",
    "def get_ci(M, Mhat, p, calib_mask, test_mask,alpha, allow_inf=True):\n",
    "    M = M.flatten(order='C')\n",
    "    Mhat = Mhat.flatten(order='C')\n",
    "    calib_idxs = np.where(calib_mask.flatten(order='C')== 1)[0]\n",
    "    test_idxs = np.where(test_mask.flatten(order='C')== 1)[0]\n",
    "    n_test = len(test_idxs)\n",
    "    \n",
    "    scores = np.abs(M - Mhat)\n",
    "    calib_scores = scores[calib_idxs]\n",
    "    calib_order = np.argsort(calib_scores)\n",
    "    st_calib_scores = calib_scores[calib_order] \n",
    "    \n",
    "    p = p.flatten(order='C')\n",
    "    odd_ratio = (1-p)/p\n",
    "    \n",
    "    weight_list = np.tile(odd_ratio[calib_idxs], (n_test, 1))\n",
    "    weight_list = np.concatenate([weight_list, odd_ratio[test_idxs].reshape(n_test,1)], axis=1)\n",
    "    weight_list /= np.sum(weight_list,axis=1).reshape((n_test,1))\n",
    "    weight_list = weight_list[:,:-1]\n",
    "    \n",
    "    upper = np.zeros(len(M))    # upper confidence bound\n",
    "    lower = np.zeros(len(M))    # lower confidence bound\n",
    "    inf_mask = np.zeros(len(M)) # positions where interval length is infinity\n",
    "    \n",
    "    for i in tqdm(range(n_test)):\n",
    "        weights = weight_list[i]\n",
    "        cweights = np.cumsum(weights[calib_order])\n",
    "        est = Mhat[test_idxs[i]]\n",
    "\n",
    "        if cweights[-1] < 1-alpha:\n",
    "            inf_mask[test_idxs[i]] = 1\n",
    "            if allow_inf:\n",
    "                lower[test_idxs[i]], upper[test_idxs[i]] = -np.inf, np.inf\n",
    "            else:\n",
    "                lower[test_idxs[i]] = est - st_calib_scores[-1]\n",
    "                upper[test_idxs[i]] = est + st_calib_scores[-1]\n",
    "        else:\n",
    "            idx = np.argmax(cweights >= 1-alpha)\n",
    "            lower[test_idxs[i]] = est - st_calib_scores[idx]\n",
    "            upper[test_idxs[i]] = est + st_calib_scores[idx]\n",
    "        \n",
    "    return lower.reshape(test_mask.shape), upper.reshape(test_mask.shape), inf_mask.reshape(test_mask.shape), weight_list\n",
    "    \n",
    "def get_ci_relaxed(M, Mhat, p, calib_mask, test_mask, alpha, allow_inf=True):\n",
    "    M = M.flatten(order='C')\n",
    "    Mhat = Mhat.flatten(order='C')\n",
    "    calib_idxs = np.where(calib_mask.flatten(order='C')== 1)[0]\n",
    "    test_idxs = np.where(test_mask.flatten(order='C')== 1)[0]\n",
    "    n_test = len(test_idxs)\n",
    "    \n",
    "    scores = np.abs(M - Mhat)\n",
    "    calib_scores = scores[calib_idxs]\n",
    "    calib_order = np.argsort(calib_scores)\n",
    "    st_calib_scores = calib_scores[calib_order]\n",
    "    \n",
    "    p = p.flatten(order='C')\n",
    "    odd_ratio = (1-p)/p\n",
    "    \n",
    "    w_max = np.max(odd_ratio[test_idxs])\n",
    "    weights = np.concatenate([odd_ratio[calib_idxs], [w_max]])\n",
    "    weights /= np.sum(weights)\n",
    "    weights = weights[:-1]\n",
    "    \n",
    "    upper = np.zeros(len(M))    # upper confidence bound\n",
    "    lower = np.zeros(len(M))    # lower confidence bound\n",
    "    inf_mask = np.zeros(len(M)) # positions where interval length is infinity\n",
    "    \n",
    "    for i in tqdm(range(n_test)):\n",
    "        cweights = np.cumsum(weights[calib_order])\n",
    "        est = Mhat[test_idxs[i]]\n",
    "\n",
    "        if cweights[-1] < 1-alpha:\n",
    "            inf_mask[test_idxs[i]] = 1\n",
    "            if allow_inf:\n",
    "                lower[test_idxs[i]], upper[test_idxs[i]] = -np.inf, np.inf\n",
    "            else:\n",
    "                lower[test_idxs[i]] = est - st_calib_scores[-1]\n",
    "                upper[test_idxs[i]] = est + st_calib_scores[-1]\n",
    "        else:\n",
    "            idx = np.argmax(cweights >= 1-alpha)\n",
    "            lower[test_idxs[i]] = est - st_calib_scores[idx]\n",
    "            upper[test_idxs[i]] = est + st_calib_scores[idx]\n",
    "    \n",
    "        \n",
    "    return lower.reshape(test_mask.shape), upper.reshape(test_mask.shape), inf_mask.reshape(test_mask.shape), weights"
   ]
  },
  {
   "cell_type": "code",
   "execution_count": 282,
   "id": "1c8bd2ab",
   "metadata": {},
   "outputs": [],
   "source": [
    "# Define experiment parameters\n",
    "m, n, r = 100,100,3\n",
    "prop_obs = 0.2\n",
    "alpha = 0.1\n",
    "repetition = 1\n",
    "test_size = int(np.min([5000, m*n*(1-prop_obs)]))\n",
    "random_state = 0"
   ]
  },
  {
   "cell_type": "code",
   "execution_count": 317,
   "id": "172ffdf2",
   "metadata": {},
   "outputs": [
    {
     "name": "stdout",
     "output_type": "stream",
     "text": [
      "Fixing the ground truth matrix generated from the noiseless random orthogonal model.\n",
      "\n"
     ]
    }
   ],
   "source": [
    "print('Fixing the ground truth matrix generated from the noiseless random orthogonal model.\\n')\n",
    "RFM = RandomFactorizationModel(m ,n, r)\n",
    "U, V, M = RFM.sample_noiseless(random_state)\n",
    "\n",
    "# define the weights\n",
    "# spatially determined weights, lower half of the indexes are more likely to\n",
    "# be observed, for instance, a database with data ranked from oldest to newest\n",
    "# and newer data are comprehensive. \n",
    "\n",
    "# scale = 1.1\n",
    "# biasmodel = SamplingBias(m,n)\n",
    "# w_obs = biasmodel.inc_weights(scale=scale)\n",
    "\n",
    "np.random.seed(random_state)\n",
    "w_obs=gen_P(m,n,het=\"logis1\", pr=0.5)\n",
    "\n",
    "\n",
    "w_test = biasmodel.unif_weights()"
   ]
  },
  {
   "cell_type": "code",
   "execution_count": 318,
   "id": "9fa0c17d",
   "metadata": {},
   "outputs": [
    {
     "name": "stdout",
     "output_type": "stream",
     "text": [
      "Training size:1600.0, calib size: 400, test size: 5000.0\n"
     ]
    }
   ],
   "source": [
    "#-------Generate masks----------#\n",
    "sampler = RandomSampling(m, n)\n",
    "obs = sampler.sample_submask(sub_size=int(m*n*prop_obs), w=w_obs, random_state=random_state)\n",
    "missing = np.ones_like(obs) - obs\n",
    "# Uniformly select a few missing points to be test set\n",
    "test = sampler.sample_submask(sub_size=test_size, mask=missing, w=None, random_state=random_state)\n",
    "\n",
    "n_calib = np.min([4000, int(0.2*np.sum(obs))])\n",
    "train, calib = sampler.sample_train_calib(obs, calib_size=n_calib, random_state = random_state)\n",
    "print(\"Training size:{}, calib size: {}, test size: {}\".format(np.sum(train), np.sum(calib), np.sum(test)))"
   ]
  },
  {
   "cell_type": "code",
   "execution_count": 319,
   "id": "9ec142d3",
   "metadata": {},
   "outputs": [
    {
     "name": "stdout",
     "output_type": "stream",
     "text": [
      "Running matrix completion algorithm on the splitted training set...\n",
      "Iteration: 1; Mean diff: 0.0000\n",
      "Iteration: 2; Mean diff: 0.0000\n",
      "Iteration: 3; Mean diff: 0.0000\n",
      "Iteration: 4; Mean diff: 0.0000\n",
      "Iteration: 5; Mean diff: 0.0000\n",
      "Iteration: 6; Mean diff: 0.0000\n",
      "Iteration: 7; Mean diff: 0.0000\n",
      "Stopping criteria met, training terminated.\n",
      "Done training!\n",
      "Computing weighted prediction intervals for 5000 test points...\n"
     ]
    },
    {
     "name": "stderr",
     "output_type": "stream",
     "text": [
      "WPI: 100%|███████████████████████████████████████████████████████████████████████| 5000/5000 [00:00<00:00, 5543.84it/s]\n"
     ]
    }
   ],
   "source": [
    "#------Conformal methods---------#\n",
    "print(\"Running matrix completion algorithm on the splitted training set...\")\n",
    "Mhat_split, Uhat_split, Vhat_split = pmf_solve(M, train, k=r, verbose=True, random_state=random_state)\n",
    "print(\"Done training!\")  \n",
    "\n",
    "cpi = Conformal_PI(M*obs, Mhat_split, train, calib)\n",
    "wpi_lower, wpi_upper, inf_mask, weights = cpi.weighted_PI(test, w_obs, w_test, alpha, allow_inf=True)"
   ]
  },
  {
   "cell_type": "code",
   "execution_count": 336,
   "id": "c5232e6c",
   "metadata": {},
   "outputs": [
    {
     "data": {
      "text/html": [
       "<div>\n",
       "<style scoped>\n",
       "    .dataframe tbody tr th:only-of-type {\n",
       "        vertical-align: middle;\n",
       "    }\n",
       "\n",
       "    .dataframe tbody tr th {\n",
       "        vertical-align: top;\n",
       "    }\n",
       "\n",
       "    .dataframe thead th {\n",
       "        text-align: right;\n",
       "    }\n",
       "</style>\n",
       "<table border=\"1\" class=\"dataframe\">\n",
       "  <thead>\n",
       "    <tr style=\"text-align: right;\">\n",
       "      <th></th>\n",
       "      <th>cmc_Coverage</th>\n",
       "      <th>cmc_Size</th>\n",
       "    </tr>\n",
       "  </thead>\n",
       "  <tbody>\n",
       "    <tr>\n",
       "      <th>0</th>\n",
       "      <td>0.892</td>\n",
       "      <td>0.012441</td>\n",
       "    </tr>\n",
       "  </tbody>\n",
       "</table>\n",
       "</div>"
      ],
      "text/plain": [
       "   cmc_Coverage  cmc_Size\n",
       "0         0.892  0.012441"
      ]
     },
     "execution_count": 336,
     "metadata": {},
     "output_type": "execute_result"
    }
   ],
   "source": [
    "evaluate_PI(wpi_lower, wpi_upper, M, test, label='cmc')"
   ]
  },
  {
   "cell_type": "code",
   "execution_count": 328,
   "id": "4ae24917",
   "metadata": {},
   "outputs": [],
   "source": [
    "weights_bm = get_weights(w_obs, calib, test)[1, :-1]"
   ]
  },
  {
   "cell_type": "code",
   "execution_count": 333,
   "id": "820ddd13",
   "metadata": {},
   "outputs": [
    {
     "data": {
      "text/plain": [
       "<matplotlib.legend.Legend at 0x246e45c81f0>"
      ]
     },
     "execution_count": 333,
     "metadata": {},
     "output_type": "execute_result"
    },
    {
     "data": {
      "image/png": "[encoded data removed]",
      "text/plain": [
       "<Figure size 432x288 with 1 Axes>"
      ]
     },
     "metadata": {
      "needs_background": "light"
     },
     "output_type": "display_data"
    }
   ],
   "source": [
    "plt.plot(weights_bm, label=\"benchmark\")\n",
    "plt.plot(weights[1], c='red', label=\"our method\")\n",
    "plt.title(\"weight comparison\")\n",
    "plt.legend()"
   ]
  },
  {
   "cell_type": "code",
   "execution_count": 323,
   "id": "095e6575",
   "metadata": {},
   "outputs": [
    {
     "name": "stdout",
     "output_type": "stream",
     "text": [
      "The average difference of the weights is:  0.00030114145064996385\n"
     ]
    }
   ],
   "source": [
    "diff = np.sum(np.abs(weights_bm[:,:-1] - weights))\n",
    "avg_diff = diff/(len(weights)*len(weights[0]))\n",
    "print('The average difference of the weights is: ', avg_diff)"
   ]
  },
  {
   "cell_type": "code",
   "execution_count": 324,
   "id": "c3a40b19",
   "metadata": {},
   "outputs": [
    {
     "name": "stderr",
     "output_type": "stream",
     "text": [
      "100%|██████████████████████████████████████████████████████████████████████████| 5000/5000 [00:00<00:00, 147314.33it/s]\n"
     ]
    }
   ],
   "source": [
    "bm_lower, bm_upper, bm_inf_mask, bm_weights = get_ci(M, Mhat_split, w_obs, calib, test, alpha)"
   ]
  },
  {
   "cell_type": "code",
   "execution_count": 334,
   "id": "3b3c3cba",
   "metadata": {},
   "outputs": [
    {
     "data": {
      "text/html": [
       "<div>\n",
       "<style scoped>\n",
       "    .dataframe tbody tr th:only-of-type {\n",
       "        vertical-align: middle;\n",
       "    }\n",
       "\n",
       "    .dataframe tbody tr th {\n",
       "        vertical-align: top;\n",
       "    }\n",
       "\n",
       "    .dataframe thead th {\n",
       "        text-align: right;\n",
       "    }\n",
       "</style>\n",
       "<table border=\"1\" class=\"dataframe\">\n",
       "  <thead>\n",
       "    <tr style=\"text-align: right;\">\n",
       "      <th></th>\n",
       "      <th>benchmark_Coverage</th>\n",
       "      <th>benchmark_Size</th>\n",
       "    </tr>\n",
       "  </thead>\n",
       "  <tbody>\n",
       "    <tr>\n",
       "      <th>0</th>\n",
       "      <td>0.8964</td>\n",
       "      <td>0.012757</td>\n",
       "    </tr>\n",
       "  </tbody>\n",
       "</table>\n",
       "</div>"
      ],
      "text/plain": [
       "   benchmark_Coverage  benchmark_Size\n",
       "0              0.8964        0.012757"
      ]
     },
     "execution_count": 334,
     "metadata": {},
     "output_type": "execute_result"
    }
   ],
   "source": [
    "evaluate_PI(bm_lower, bm_upper, M, test, label='benchmark')"
   ]
  },
  {
   "cell_type": "code",
   "execution_count": 326,
   "id": "a33d269b",
   "metadata": {},
   "outputs": [
    {
     "name": "stderr",
     "output_type": "stream",
     "text": [
      "100%|██████████████████████████████████████████████████████████████████████████| 5000/5000 [00:00<00:00, 133822.04it/s]\n"
     ]
    }
   ],
   "source": [
    "rbm_lower, rbm_upper, rbm_inf_mask, rbm_weights = get_ci_relaxed(M, Mhat_split, w_obs, calib, test, alpha)"
   ]
  },
  {
   "cell_type": "code",
   "execution_count": 335,
   "id": "7720b469",
   "metadata": {},
   "outputs": [
    {
     "data": {
      "text/html": [
       "<div>\n",
       "<style scoped>\n",
       "    .dataframe tbody tr th:only-of-type {\n",
       "        vertical-align: middle;\n",
       "    }\n",
       "\n",
       "    .dataframe tbody tr th {\n",
       "        vertical-align: top;\n",
       "    }\n",
       "\n",
       "    .dataframe thead th {\n",
       "        text-align: right;\n",
       "    }\n",
       "</style>\n",
       "<table border=\"1\" class=\"dataframe\">\n",
       "  <thead>\n",
       "    <tr style=\"text-align: right;\">\n",
       "      <th></th>\n",
       "      <th>conservative_Coverage</th>\n",
       "      <th>conservative_Size</th>\n",
       "    </tr>\n",
       "  </thead>\n",
       "  <tbody>\n",
       "    <tr>\n",
       "      <th>0</th>\n",
       "      <td>0.902</td>\n",
       "      <td>0.013388</td>\n",
       "    </tr>\n",
       "  </tbody>\n",
       "</table>\n",
       "</div>"
      ],
      "text/plain": [
       "   conservative_Coverage  conservative_Size\n",
       "0                  0.902           0.013388"
      ]
     },
     "execution_count": 335,
     "metadata": {},
     "output_type": "execute_result"
    }
   ],
   "source": [
    "evaluate_PI(rbm_lower, rbm_upper, M, test, label='conservative')"
   ]
  },
  {
   "cell_type": "code",
   "execution_count": null,
   "id": "0918da5d",
   "metadata": {},
   "outputs": [],
   "source": []
  }
 ],
 "metadata": {
  "kernelspec": {
   "display_name": "Python 3 (ipykernel)",
   "language": "python",
   "name": "python3"
  },
  "language_info": {
   "codemirror_mode": {
    "name": "ipython",
    "version": 3
   },
   "file_extension": ".py",
   "mimetype": "text/x-python",
   "name": "python",
   "nbconvert_exporter": "python",
   "pygments_lexer": "ipython3",
   "version": "3.9.12"
  }
 },
 "nbformat": 4,
 "nbformat_minor": 5
}
